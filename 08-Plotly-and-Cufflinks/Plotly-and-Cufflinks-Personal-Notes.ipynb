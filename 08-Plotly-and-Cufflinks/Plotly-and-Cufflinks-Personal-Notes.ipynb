{
 "cells": [
  {
   "cell_type": "markdown",
   "id": "c65dcf4f",
   "metadata": {},
   "source": [
    "# Plotly and Cufflinks"
   ]
  },
  {
   "cell_type": "code",
   "execution_count": 17,
   "id": "9151dce7",
   "metadata": {},
   "outputs": [],
   "source": [
    "import pandas as pd\n",
    "import numpy as np\n",
    "%matplotlib inline"
   ]
  },
  {
   "cell_type": "code",
   "execution_count": 2,
   "id": "45a33805",
   "metadata": {},
   "outputs": [],
   "source": [
    "from plotly import __version__"
   ]
  },
  {
   "cell_type": "code",
   "execution_count": 3,
   "id": "f5e7f9e9",
   "metadata": {},
   "outputs": [
    {
     "name": "stdout",
     "output_type": "stream",
     "text": [
      "5.4.0\n"
     ]
    }
   ],
   "source": [
    "print(__version__)"
   ]
  },
  {
   "cell_type": "code",
   "execution_count": 4,
   "id": "a56f84ee",
   "metadata": {},
   "outputs": [],
   "source": [
    "import cufflinks as cf"
   ]
  },
  {
   "cell_type": "code",
   "execution_count": 5,
   "id": "3d33d13b",
   "metadata": {},
   "outputs": [],
   "source": [
    "from plotly.offline import download_plotlyjs, init_notebook_mode,plot,iplot"
   ]
  },
  {
   "cell_type": "code",
   "execution_count": 6,
   "id": "68f51034",
   "metadata": {},
   "outputs": [
    {
     "data": {
      "text/html": [
       "        <script type=\"text/javascript\">\n",
       "        window.PlotlyConfig = {MathJaxConfig: 'local'};\n",
       "        if (window.MathJax) {MathJax.Hub.Config({SVG: {font: \"STIX-Web\"}});}\n",
       "        if (typeof require !== 'undefined') {\n",
       "        require.undef(\"plotly\");\n",
       "        requirejs.config({\n",
       "            paths: {\n",
       "                'plotly': ['https://cdn.plot.ly/plotly-2.6.3.min']\n",
       "            }\n",
       "        });\n",
       "        require(['plotly'], function(Plotly) {\n",
       "            window._Plotly = Plotly;\n",
       "        });\n",
       "        }\n",
       "        </script>\n",
       "        "
      ]
     },
     "metadata": {},
     "output_type": "display_data"
    }
   ],
   "source": [
    "init_notebook_mode(connected=True)"
   ]
  },
  {
   "cell_type": "code",
   "execution_count": 7,
   "id": "8823938b",
   "metadata": {},
   "outputs": [
    {
     "data": {
      "text/html": [
       "        <script type=\"text/javascript\">\n",
       "        window.PlotlyConfig = {MathJaxConfig: 'local'};\n",
       "        if (window.MathJax) {MathJax.Hub.Config({SVG: {font: \"STIX-Web\"}});}\n",
       "        if (typeof require !== 'undefined') {\n",
       "        require.undef(\"plotly\");\n",
       "        requirejs.config({\n",
       "            paths: {\n",
       "                'plotly': ['https://cdn.plot.ly/plotly-2.6.3.min']\n",
       "            }\n",
       "        });\n",
       "        require(['plotly'], function(Plotly) {\n",
       "            window._Plotly = Plotly;\n",
       "        });\n",
       "        }\n",
       "        </script>\n",
       "        "
      ]
     },
     "metadata": {},
     "output_type": "display_data"
    }
   ],
   "source": [
    "cf.go_offline()"
   ]
  },
  {
   "cell_type": "code",
   "execution_count": 13,
   "id": "0b0c7ce8",
   "metadata": {},
   "outputs": [],
   "source": [
    "df1 = pd.DataFrame(np.random.randn(100,4),columns='A B C D'.split())"
   ]
  },
  {
   "cell_type": "code",
   "execution_count": 14,
   "id": "3ee1b2eb",
   "metadata": {},
   "outputs": [
    {
     "data": {
      "text/html": [
       "<div>\n",
       "<style scoped>\n",
       "    .dataframe tbody tr th:only-of-type {\n",
       "        vertical-align: middle;\n",
       "    }\n",
       "\n",
       "    .dataframe tbody tr th {\n",
       "        vertical-align: top;\n",
       "    }\n",
       "\n",
       "    .dataframe thead th {\n",
       "        text-align: right;\n",
       "    }\n",
       "</style>\n",
       "<table border=\"1\" class=\"dataframe\">\n",
       "  <thead>\n",
       "    <tr style=\"text-align: right;\">\n",
       "      <th></th>\n",
       "      <th>A</th>\n",
       "      <th>B</th>\n",
       "      <th>C</th>\n",
       "      <th>D</th>\n",
       "    </tr>\n",
       "  </thead>\n",
       "  <tbody>\n",
       "    <tr>\n",
       "      <th>0</th>\n",
       "      <td>-2.017918</td>\n",
       "      <td>2.395950</td>\n",
       "      <td>-0.697633</td>\n",
       "      <td>0.367554</td>\n",
       "    </tr>\n",
       "    <tr>\n",
       "      <th>1</th>\n",
       "      <td>0.923380</td>\n",
       "      <td>0.401167</td>\n",
       "      <td>0.442723</td>\n",
       "      <td>1.586663</td>\n",
       "    </tr>\n",
       "    <tr>\n",
       "      <th>2</th>\n",
       "      <td>1.022292</td>\n",
       "      <td>-0.505239</td>\n",
       "      <td>-0.527885</td>\n",
       "      <td>-0.001688</td>\n",
       "    </tr>\n",
       "    <tr>\n",
       "      <th>3</th>\n",
       "      <td>-1.542708</td>\n",
       "      <td>-0.394237</td>\n",
       "      <td>0.083577</td>\n",
       "      <td>0.304815</td>\n",
       "    </tr>\n",
       "    <tr>\n",
       "      <th>4</th>\n",
       "      <td>0.953468</td>\n",
       "      <td>-0.213643</td>\n",
       "      <td>0.298564</td>\n",
       "      <td>-1.146058</td>\n",
       "    </tr>\n",
       "  </tbody>\n",
       "</table>\n",
       "</div>"
      ],
      "text/plain": [
       "          A         B         C         D\n",
       "0 -2.017918  2.395950 -0.697633  0.367554\n",
       "1  0.923380  0.401167  0.442723  1.586663\n",
       "2  1.022292 -0.505239 -0.527885 -0.001688\n",
       "3 -1.542708 -0.394237  0.083577  0.304815\n",
       "4  0.953468 -0.213643  0.298564 -1.146058"
      ]
     },
     "execution_count": 14,
     "metadata": {},
     "output_type": "execute_result"
    }
   ],
   "source": [
    "df1.head()"
   ]
  },
  {
   "cell_type": "code",
   "execution_count": 15,
   "id": "7534ea38",
   "metadata": {},
   "outputs": [],
   "source": [
    "df2 = pd.DataFrame({'Category':['A','B','C'],'Values':[32,43,50]})"
   ]
  },
  {
   "cell_type": "code",
   "execution_count": 16,
   "id": "3a0f3359",
   "metadata": {},
   "outputs": [
    {
     "data": {
      "text/html": [
       "<div>\n",
       "<style scoped>\n",
       "    .dataframe tbody tr th:only-of-type {\n",
       "        vertical-align: middle;\n",
       "    }\n",
       "\n",
       "    .dataframe tbody tr th {\n",
       "        vertical-align: top;\n",
       "    }\n",
       "\n",
       "    .dataframe thead th {\n",
       "        text-align: right;\n",
       "    }\n",
       "</style>\n",
       "<table border=\"1\" class=\"dataframe\">\n",
       "  <thead>\n",
       "    <tr style=\"text-align: right;\">\n",
       "      <th></th>\n",
       "      <th>Category</th>\n",
       "      <th>Values</th>\n",
       "    </tr>\n",
       "  </thead>\n",
       "  <tbody>\n",
       "    <tr>\n",
       "      <th>0</th>\n",
       "      <td>A</td>\n",
       "      <td>32</td>\n",
       "    </tr>\n",
       "    <tr>\n",
       "      <th>1</th>\n",
       "      <td>B</td>\n",
       "      <td>43</td>\n",
       "    </tr>\n",
       "    <tr>\n",
       "      <th>2</th>\n",
       "      <td>C</td>\n",
       "      <td>50</td>\n",
       "    </tr>\n",
       "  </tbody>\n",
       "</table>\n",
       "</div>"
      ],
      "text/plain": [
       "  Category  Values\n",
       "0        A      32\n",
       "1        B      43\n",
       "2        C      50"
      ]
     },
     "execution_count": 16,
     "metadata": {},
     "output_type": "execute_result"
    }
   ],
   "source": [
    "df2.head()"
   ]
  },
  {
   "cell_type": "code",
   "execution_count": 19,
   "id": "08e7112d",
   "metadata": {},
   "outputs": [
    {
     "data": {
      "text/plain": [
       "<AxesSubplot:>"
      ]
     },
     "execution_count": 19,
     "metadata": {},
     "output_type": "execute_result"
    },
    {
     "data": {
      "image/png": "[encoded data removed]",
      "text/plain": [
       "<Figure size 432x288 with 1 Axes>"
      ]
     },
     "metadata": {
      "needs_background": "light"
     },
     "output_type": "display_data"
    }
   ],
   "source": [
    "df.plot()"
   ]
  },
  {
   "cell_type": "code",
   "execution_count": 20,
   "id": "00d1fd69",
   "metadata": {},
   "outputs": [
    {
     "data": {
      "application/vnd.plotly.v1+json": {
       "config": {
        "linkText": "Export to plot.ly",
        "plotlyServerURL": "https://plot.ly",
        "showLink": true
       },
       "data": [
        {
         "line": {
          "color": "rgba(255, 153, 51, 1.0)",
          "dash": "solid",
          "shape": "linear",
          "width": 1.3
         },
         "mode": "lines",
         "name": "A",
         "text": "",
         "type": "scatter",
         "x": [
          0,
          1,
          2,
          3,
          4,
          5,
          6,
          7,
          8,
          9,
          10,
          11,
          12,
          13,
          14,
          15,
          16,
          17,
          18,
          19,
          20,
          21,
          22,
          23,
          24,
          25,
          26,
          27,
          28,
          29,
          30,
          31,
          32,
          33,
          34,
          35,
          36,
          37,
          38,
          39,
          40,
          41,
          42,
          43,
          44,
          45,
          46,
          47,
          48,
          49,
          50,
          51,
          52,
          53,
          54,
          55,
          56,
          57,
          58,
          59,
          60,
          61,
          62,
          63,
          64,
          65,
          66,
          67,
          68,
          69,
          70,
          71,
          72,
          73,
          74,
          75,
          76,
          77,
          78,
          79,
          80,
          81,
          82,
          83,
          84,
          85,
          86,
          87,
          88,
          89,
          90,
          91,
          92,
          93,
          94,
          95,
          96,
          97,
          98,
          99
         ],
         "y": [
          -0.29792637723830706,
          -0.8923819296462833,
          1.7234105293049453,
          1.1902856556990573,
          -0.8971157565602627,
          1.9016718722180468,
          2.1981831744181273,
          1.6152737096444651,
          0.6630607606857006,
          0.1787979525329411,
          -3.239738292524836,
          -0.53315562551175,
          0.0883147667036451,
          0.5128570247460148,
          -1.4245673129546816,
          -0.8829566104004147,
          -0.23576010869289576,
          -1.4893491280250946,
          -0.11930770415481325,
          0.039321849199490506,
          3.391647838952632,
          0.5476353876974875,
          -0.2534666095410885,
          -0.08182300855229281,
          -0.5947906651081367,
          -0.44406107899545727,
          -1.1766935412205732,
          0.04724334034912506,
          -1.1282197637211864,
          -1.3633191991566411,
          0.08931042262251068,
          -1.6514931206316124,
          0.2573064197241399,
          -0.09618157240552419,
          -0.2821640899252809,
          2.072639145670152,
          -1.3064183793637834,
          0.5666643360549753,
          2.167983667887979,
          -1.7997094591822478,
          -1.3984258918281744,
          0.7923508493361261,
          1.0019900793334853,
          0.7547858757415697,
          -1.1657783774034458,
          0.6040869922836244,
          -0.9089129838599386,
          -0.49326283550143907,
          1.0235749881903948,
          -0.567917478431189,
          1.0205085705734438,
          0.0535796934923246,
          0.9393152685735218,
          1.9030809579995547,
          0.3672883715619356,
          0.23494199881016803,
          0.4914009582895803,
          0.5176997332721902,
          -1.4966314130443783,
          0.22303127391633099,
          -1.502849907548389,
          2.475067453641193,
          0.9674539658108846,
          -0.9049278695125385,
          1.0021395031158833,
          -0.660208091026908,
          -0.5951734240824909,
          0.21899055285269242,
          0.6246983479993481,
          0.987855773396582,
          -1.8460665089932002,
          0.6976000379232323,
          0.7247707889465178,
          -0.5816330634150041,
          -1.5150489632409443,
          -0.9992632308133234,
          0.44752893121426174,
          0.18263204541538194,
          -1.3981717858694003,
          -0.6356891039393294,
          1.500070809321363,
          -0.3808477889680422,
          -0.6915358182250247,
          1.6803152829172159,
          -0.07072625552412308,
          0.8434747706058304,
          -0.4239789000407887,
          0.31369768093824313,
          -0.8467382980279881,
          1.2274022943467247,
          -0.12250938725284559,
          0.8942354663369965,
          1.414113279962558,
          -0.5856272477798551,
          0.36394686169407825,
          0.7249424887515578,
          -0.46950443180630724,
          0.4729936694292356,
          -0.8485760051455363,
          0.35291365328940083
         ]
        },
        {
         "line": {
          "color": "rgba(55, 128, 191, 1.0)",
          "dash": "solid",
          "shape": "linear",
          "width": 1.3
         },
         "mode": "lines",
         "name": "B",
         "text": "",
         "type": "scatter",
         "x": [
          0,
          1,
          2,
          3,
          4,
          5,
          6,
          7,
          8,
          9,
          10,
          11,
          12,
          13,
          14,
          15,
          16,
          17,
          18,
          19,
          20,
          21,
          22,
          23,
          24,
          25,
          26,
          27,
          28,
          29,
          30,
          31,
          32,
          33,
          34,
          35,
          36,
          37,
          38,
          39,
          40,
          41,
          42,
          43,
          44,
          45,
          46,
          47,
          48,
          49,
          50,
          51,
          52,
          53,
          54,
          55,
          56,
          57,
          58,
          59,
          60,
          61,
          62,
          63,
          64,
          65,
          66,
          67,
          68,
          69,
          70,
          71,
          72,
          73,
          74,
          75,
          76,
          77,
          78,
          79,
          80,
          81,
          82,
          83,
          84,
          85,
          86,
          87,
          88,
          89,
          90,
          91,
          92,
          93,
          94,
          95,
          96,
          97,
          98,
          99
         ],
         "y": [
          -0.27890638144659863,
          0.2564283115044753,
          2.0174188936129314,
          0.17884187654629052,
          0.6276306885511054,
          0.25517644080451013,
          0.5508572027297509,
          1.392780435627884,
          1.3853327824907755,
          -0.801103842810928,
          -0.001601404928749617,
          -0.9475761194186775,
          0.572154179249944,
          -0.6324681659779058,
          0.8598698255239071,
          -0.7783369908541763,
          1.3818341271063763,
          -2.2080389329280288,
          1.5073674499577574,
          -0.1019930982510935,
          0.43317859963726907,
          0.46339848888440005,
          0.6556941971116744,
          -1.4774390391999683,
          -0.08247343631477118,
          0.9318408562822978,
          -0.2437630237208761,
          0.709745135347247,
          -1.1980141538049263,
          -1.230084516882016,
          -0.4306773799810202,
          -0.698266606290243,
          -0.7188133783350102,
          2.568073428264933,
          -0.11660377208094476,
          -0.3862154841965922,
          -0.22468792258072193,
          -1.6692365366552586,
          -0.3907611496422901,
          0.8472486833608247,
          -0.1542379734459378,
          0.5428076346628236,
          0.9163169167747229,
          0.7479248109497993,
          -0.4599167283229178,
          -0.4158595238788836,
          1.4755177836228144,
          -0.3454801694148016,
          -0.4296188382525576,
          1.7840817951609869,
          0.6790872482049964,
          0.008471450166828386,
          1.175802937100522,
          -2.155095030872273,
          -1.338652866595385,
          3.5320652854346632,
          0.15039743192536045,
          -0.7595581411619825,
          -1.5497698692887814,
          -1.7579991728730961,
          0.6429642387933477,
          0.03707849420466005,
          -0.5048458961042922,
          1.0543952677595512,
          1.685256962282488,
          -0.126171706516759,
          -1.929411529416697,
          -0.5848888872214338,
          1.1706676637370832,
          0.18320626733244844,
          -0.8135662236959479,
          -0.28285989529840444,
          0.28366750169729643,
          0.32613455837936983,
          -0.7507228209579063,
          -0.7723323531299727,
          -0.17435743889643146,
          -0.3213401177857931,
          -0.4720057893827924,
          0.30594456898809574,
          -0.16812017886134412,
          -1.26457624790978,
          0.12876796266339094,
          0.6237170016964371,
          -0.43451931186664317,
          0.961503849615867,
          -0.999094324696313,
          0.33875229400625106,
          -0.20213887711847134,
          0.9615983571900286,
          -1.2623271153107787,
          0.07274658982509276,
          1.2673817361870017,
          0.21102180058163456,
          -0.07096262606609763,
          0.07472500119163265,
          -1.5094809420943585,
          -0.5869569407152632,
          -0.1565115901911661,
          0.5896397894956978
         ]
        },
        {
         "line": {
          "color": "rgba(50, 171, 96, 1.0)",
          "dash": "solid",
          "shape": "linear",
          "width": 1.3
         },
         "mode": "lines",
         "name": "C",
         "text": "",
         "type": "scatter",
         "x": [
          0,
          1,
          2,
          3,
          4,
          5,
          6,
          7,
          8,
          9,
          10,
          11,
          12,
          13,
          14,
          15,
          16,
          17,
          18,
          19,
          20,
          21,
          22,
          23,
          24,
          25,
          26,
          27,
          28,
          29,
          30,
          31,
          32,
          33,
          34,
          35,
          36,
          37,
          38,
          39,
          40,
          41,
          42,
          43,
          44,
          45,
          46,
          47,
          48,
          49,
          50,
          51,
          52,
          53,
          54,
          55,
          56,
          57,
          58,
          59,
          60,
          61,
          62,
          63,
          64,
          65,
          66,
          67,
          68,
          69,
          70,
          71,
          72,
          73,
          74,
          75,
          76,
          77,
          78,
          79,
          80,
          81,
          82,
          83,
          84,
          85,
          86,
          87,
          88,
          89,
          90,
          91,
          92,
          93,
          94,
          95,
          96,
          97,
          98,
          99
         ],
         "y": [
          -0.3785691111731062,
          -0.7242606799489422,
          -0.8246824544778133,
          0.12176258517926665,
          -1.8209540589873685,
          0.46128111661448634,
          0.1874022421505698,
          -1.4166422190833579,
          -0.1686237403577767,
          0.8001116694671396,
          -0.3417497471814735,
          0.8440560848938881,
          -0.2286047600167654,
          1.1264076795672544,
          0.32079246298034836,
          0.18279746079482334,
          -0.18778211442920031,
          1.3567008752391332,
          0.9818481024885953,
          -1.749818217975851,
          -1.0464537583707538,
          2.161484180041195,
          1.1080794904568458,
          0.29940969860150335,
          -0.8528292247025747,
          0.6280866562659139,
          0.5717851373411995,
          0.09246821502313514,
          -0.3663757148257401,
          -0.3109981420638087,
          -1.0498136201897923,
          -2.078452973036622,
          -1.242069364104504,
          -0.3431840837328187,
          0.3627171922088302,
          0.8751786216816618,
          0.2762706814341793,
          -0.8167072925620203,
          -0.869991091024823,
          0.9672911353718907,
          2.1982360060658497,
          -1.2033618917988724,
          -0.23137721827526123,
          0.1327482407913947,
          -1.7450334629355664,
          -0.9811842562973468,
          -0.9436885689405635,
          -0.9037535342749619,
          -0.16286771261622673,
          -0.8424165186723047,
          1.4500116738286102,
          -0.4507918846772054,
          0.6045573655551328,
          0.5169490362806466,
          -1.3351261155988685,
          -1.1538394322643417,
          0.29553629133925213,
          -0.2694914763554259,
          -0.062356154250450144,
          1.1230391269542197,
          -1.5276138210714818,
          -1.1232276132692494,
          0.4032086587150684,
          0.41340603007271615,
          -0.29499490089037717,
          -0.3210479257614936,
          -1.0141289971793972,
          1.4301376664831027,
          -0.7330080431564663,
          0.19255395145044876,
          -1.1192304434140368,
          -0.08203194087607818,
          -0.6525722731658269,
          0.20045124035306083,
          -0.6578939325296489,
          0.47395918241664,
          0.5087683826564047,
          -0.577972035659476,
          0.22682541960159422,
          -0.36844251573616893,
          1.8885518897132345,
          0.06041515316320473,
          -0.054318849545448245,
          -1.567397042067696,
          -1.9159042155115766,
          1.0304857124752407,
          1.241856513792774,
          -0.893051278204358,
          0.16434454522939915,
          -0.1916036977137557,
          -0.5552844312316504,
          0.4766575722722776,
          -0.1931394811813765,
          -0.22147850256335302,
          -0.7807521337472044,
          0.3966263098104934,
          -1.8427515554863239,
          1.4503132806468664,
          0.5431622523250105,
          1.8979945297948053
         ]
        },
        {
         "line": {
          "color": "rgba(128, 0, 128, 1.0)",
          "dash": "solid",
          "shape": "linear",
          "width": 1.3
         },
         "mode": "lines",
         "name": "D",
         "text": "",
         "type": "scatter",
         "x": [
          0,
          1,
          2,
          3,
          4,
          5,
          6,
          7,
          8,
          9,
          10,
          11,
          12,
          13,
          14,
          15,
          16,
          17,
          18,
          19,
          20,
          21,
          22,
          23,
          24,
          25,
          26,
          27,
          28,
          29,
          30,
          31,
          32,
          33,
          34,
          35,
          36,
          37,
          38,
          39,
          40,
          41,
          42,
          43,
          44,
          45,
          46,
          47,
          48,
          49,
          50,
          51,
          52,
          53,
          54,
          55,
          56,
          57,
          58,
          59,
          60,
          61,
          62,
          63,
          64,
          65,
          66,
          67,
          68,
          69,
          70,
          71,
          72,
          73,
          74,
          75,
          76,
          77,
          78,
          79,
          80,
          81,
          82,
          83,
          84,
          85,
          86,
          87,
          88,
          89,
          90,
          91,
          92,
          93,
          94,
          95,
          96,
          97,
          98,
          99
         ],
         "y": [
          -0.8842383995523002,
          -0.17629593626785142,
          -0.4975338282277956,
          -0.7109229619561235,
          -1.6584045264816911,
          -2.4316872578239628,
          -0.4802808125432007,
          0.8096465158767452,
          0.19888573412697225,
          -0.44819929383560814,
          -1.4182251631943419,
          -0.41523986539319263,
          -1.3321645945944733,
          -0.5687875820312259,
          -0.26055870247807883,
          0.04921278974274074,
          0.6991608372296295,
          0.6631473199098205,
          -1.0146969930756897,
          0.516788444056948,
          -1.0930627496776706,
          0.24219163864636473,
          -4.483337055579498,
          0.8116945954884472,
          0.7748562722522722,
          -0.04527452450408996,
          -0.7314012206071417,
          -0.3337603203593094,
          -0.0800542745165681,
          0.5657106411327537,
          0.10446378428358027,
          -0.6021488784730553,
          1.1437530048281432,
          -1.7439372596470002,
          -0.46044752043652726,
          -0.7778445195929558,
          -0.58320458665028,
          0.6795349043316672,
          -0.6692435986890042,
          -0.46276584257472103,
          -1.1967470701508698,
          -1.2125155009118211,
          0.26018386733426413,
          -0.9331001108671975,
          0.14762408442279343,
          -0.05896538345903155,
          1.4001481180545106,
          -0.781751263104596,
          -0.174486270641486,
          -0.24425945612346736,
          -1.5201642547547567,
          0.22586875533618506,
          0.09109335689985622,
          -0.4452682100838056,
          1.7847833638640727,
          -0.33102112176875625,
          -0.14820747440658494,
          -0.7493860625632108,
          -0.5634795684099666,
          -0.4737439207138368,
          0.24182926572346936,
          0.44516094081231833,
          -1.148982469450897,
          0.33898462752670516,
          0.4947570206657606,
          2.50405129400578,
          -1.3650258184479247,
          0.6016584566492543,
          1.4212280313056396,
          1.1027534990198042,
          -1.1258762610113484,
          1.9668243979914881,
          -0.25617395416996497,
          0.9342146226831707,
          0.9601257206324195,
          -0.8953809323186507,
          -0.5002216880282215,
          -0.26701971273404096,
          -0.834332157269281,
          -1.1796312241805635,
          0.04162626319635676,
          1.1299629547028678,
          0.536644991582972,
          -0.8506749416163251,
          -0.06503415034829214,
          3.0948686720038556,
          1.2360392020275743,
          0.7744542232796331,
          0.7992448767723157,
          -0.4820473780647872,
          0.7193653749808341,
          0.2321862239783296,
          0.5539762358611967,
          -0.3295310915509749,
          -0.13303171235497005,
          0.32097122603712935,
          0.480914490270042,
          -2.2126006977617214,
          0.5849414195909188,
          0.42778559225066504
         ]
        }
       ],
       "layout": {
        "legend": {
         "bgcolor": "#F5F6F9",
         "font": {
          "color": "#4D5663"
         }
        },
        "paper_bgcolor": "#F5F6F9",
        "plot_bgcolor": "#F5F6F9",
        "template": {
         "data": {
          "bar": [
           {
            "error_x": {
             "color": "#2a3f5f"
            },
            "error_y": {
             "color": "#2a3f5f"
            },
            "marker": {
             "line": {
              "color": "#E5ECF6",
              "width": 0.5
             },
             "pattern": {
              "fillmode": "overlay",
              "size": 10,
              "solidity": 0.2
             }
            },
            "type": "bar"
           }
          ],
          "barpolar": [
           {
            "marker": {
             "line": {
              "color": "#E5ECF6",
              "width": 0.5
             },
             "pattern": {
              "fillmode": "overlay",
              "size": 10,
              "solidity": 0.2
             }
            },
            "type": "barpolar"
           }
          ],
          "carpet": [
           {
            "aaxis": {
             "endlinecolor": "#2a3f5f",
             "gridcolor": "white",
             "linecolor": "white",
             "minorgridcolor": "white",
             "startlinecolor": "#2a3f5f"
            },
            "baxis": {
             "endlinecolor": "#2a3f5f",
             "gridcolor": "white",
             "linecolor": "white",
             "minorgridcolor": "white",
             "startlinecolor": "#2a3f5f"
            },
            "type": "carpet"
           }
          ],
          "choropleth": [
           {
            "colorbar": {
             "outlinewidth": 0,
             "ticks": ""
            },
            "type": "choropleth"
           }
          ],
          "contour": [
           {
            "colorbar": {
             "outlinewidth": 0,
             "ticks": ""
            },
            "colorscale": [
             [
              0,
              "#0d0887"
             ],
             [
              0.1111111111111111,
              "#46039f"
             ],
             [
              0.2222222222222222,
              "#7201a8"
             ],
             [
              0.3333333333333333,
              "#9c179e"
             ],
             [
              0.4444444444444444,
              "#bd3786"
             ],
             [
              0.5555555555555556,
              "#d8576b"
             ],
             [
              0.6666666666666666,
              "#ed7953"
             ],
             [
              0.7777777777777778,
              "#fb9f3a"
             ],
             [
              0.8888888888888888,
              "#fdca26"
             ],
             [
              1,
              "#f0f921"
             ]
            ],
            "type": "contour"
           }
          ],
          "contourcarpet": [
           {
            "colorbar": {
             "outlinewidth": 0,
             "ticks": ""
            },
            "type": "contourcarpet"
           }
          ],
          "heatmap": [
           {
            "colorbar": {
             "outlinewidth": 0,
             "ticks": ""
            },
            "colorscale": [
             [
              0,
              "#0d0887"
             ],
             [
              0.1111111111111111,
              "#46039f"
             ],
             [
              0.2222222222222222,
              "#7201a8"
             ],
             [
              0.3333333333333333,
              "#9c179e"
             ],
             [
              0.4444444444444444,
              "#bd3786"
             ],
             [
              0.5555555555555556,
              "#d8576b"
             ],
             [
              0.6666666666666666,
              "#ed7953"
             ],
             [
              0.7777777777777778,
              "#fb9f3a"
             ],
             [
              0.8888888888888888,
              "#fdca26"
             ],
             [
              1,
              "#f0f921"
             ]
            ],
            "type": "heatmap"
           }
          ],
          "heatmapgl": [
           {
            "colorbar": {
             "outlinewidth": 0,
             "ticks": ""
            },
            "colorscale": [
             [
              0,
              "#0d0887"
             ],
             [
              0.1111111111111111,
              "#46039f"
             ],
             [
              0.2222222222222222,
              "#7201a8"
             ],
             [
              0.3333333333333333,
              "#9c179e"
             ],
             [
              0.4444444444444444,
              "#bd3786"
             ],
             [
              0.5555555555555556,
              "#d8576b"
             ],
             [
              0.6666666666666666,
              "#ed7953"
             ],
             [
              0.7777777777777778,
              "#fb9f3a"
             ],
             [
              0.8888888888888888,
              "#fdca26"
             ],
             [
              1,
              "#f0f921"
             ]
            ],
            "type": "heatmapgl"
           }
          ],
          "histogram": [
           {
            "marker": {
             "pattern": {
              "fillmode": "overlay",
              "size": 10,
              "solidity": 0.2
             }
            },
            "type": "histogram"
           }
          ],
          "histogram2d": [
           {
            "colorbar": {
             "outlinewidth": 0,
             "ticks": ""
            },
            "colorscale": [
             [
              0,
              "#0d0887"
             ],
             [
              0.1111111111111111,
              "#46039f"
             ],
             [
              0.2222222222222222,
              "#7201a8"
             ],
             [
              0.3333333333333333,
              "#9c179e"
             ],
             [
              0.4444444444444444,
              "#bd3786"
             ],
             [
              0.5555555555555556,
              "#d8576b"
             ],
             [
              0.6666666666666666,
              "#ed7953"
             ],
             [
              0.7777777777777778,
              "#fb9f3a"
             ],
             [
              0.8888888888888888,
              "#fdca26"
             ],
             [
              1,
              "#f0f921"
             ]
            ],
            "type": "histogram2d"
           }
          ],
          "histogram2dcontour": [
           {
            "colorbar": {
             "outlinewidth": 0,
             "ticks": ""
            },
            "colorscale": [
             [
              0,
              "#0d0887"
             ],
             [
              0.1111111111111111,
              "#46039f"
             ],
             [
              0.2222222222222222,
              "#7201a8"
             ],
             [
              0.3333333333333333,
              "#9c179e"
             ],
             [
              0.4444444444444444,
              "#bd3786"
             ],
             [
              0.5555555555555556,
              "#d8576b"
             ],
             [
              0.6666666666666666,
              "#ed7953"
             ],
             [
              0.7777777777777778,
              "#fb9f3a"
             ],
             [
              0.8888888888888888,
              "#fdca26"
             ],
             [
              1,
              "#f0f921"
             ]
            ],
            "type": "histogram2dcontour"
           }
          ],
          "mesh3d": [
           {
            "colorbar": {
             "outlinewidth": 0,
             "ticks": ""
            },
            "type": "mesh3d"
           }
          ],
          "parcoords": [
           {
            "line": {
             "colorbar": {
              "outlinewidth": 0,
              "ticks": ""
             }
            },
            "type": "parcoords"
           }
          ],
          "pie": [
           {
            "automargin": true,
            "type": "pie"
           }
          ],
          "scatter": [
           {
            "marker": {
             "colorbar": {
              "outlinewidth": 0,
              "ticks": ""
             }
            },
            "type": "scatter"
           }
          ],
          "scatter3d": [
           {
            "line": {
             "colorbar": {
              "outlinewidth": 0,
              "ticks": ""
             }
            },
            "marker": {
             "colorbar": {
              "outlinewidth": 0,
              "ticks": ""
             }
            },
            "type": "scatter3d"
           }
          ],
          "scattercarpet": [
           {
            "marker": {
             "colorbar": {
              "outlinewidth": 0,
              "ticks": ""
             }
            },
            "type": "scattercarpet"
           }
          ],
          "scattergeo": [
           {
            "marker": {
             "colorbar": {
              "outlinewidth": 0,
              "ticks": ""
             }
            },
            "type": "scattergeo"
           }
          ],
          "scattergl": [
           {
            "marker": {
             "colorbar": {
              "outlinewidth": 0,
              "ticks": ""
             }
            },
            "type": "scattergl"
           }
          ],
          "scattermapbox": [
           {
            "marker": {
             "colorbar": {
              "outlinewidth": 0,
              "ticks": ""
             }
            },
            "type": "scattermapbox"
           }
          ],
          "scatterpolar": [
           {
            "marker": {
             "colorbar": {
              "outlinewidth": 0,
              "ticks": ""
             }
            },
            "type": "scatterpolar"
           }
          ],
          "scatterpolargl": [
           {
            "marker": {
             "colorbar": {
              "outlinewidth": 0,
              "ticks": ""
             }
            },
            "type": "scatterpolargl"
           }
          ],
          "scatterternary": [
           {
            "marker": {
             "colorbar": {
              "outlinewidth": 0,
              "ticks": ""
             }
            },
            "type": "scatterternary"
           }
          ],
          "surface": [
           {
            "colorbar": {
             "outlinewidth": 0,
             "ticks": ""
            },
            "colorscale": [
             [
              0,
              "#0d0887"
             ],
             [
              0.1111111111111111,
              "#46039f"
             ],
             [
              0.2222222222222222,
              "#7201a8"
             ],
             [
              0.3333333333333333,
              "#9c179e"
             ],
             [
              0.4444444444444444,
              "#bd3786"
             ],
             [
              0.5555555555555556,
              "#d8576b"
             ],
             [
              0.6666666666666666,
              "#ed7953"
             ],
             [
              0.7777777777777778,
              "#fb9f3a"
             ],
             [
              0.8888888888888888,
              "#fdca26"
             ],
             [
              1,
              "#f0f921"
             ]
            ],
            "type": "surface"
           }
          ],
          "table": [
           {
            "cells": {
             "fill": {
              "color": "#EBF0F8"
             },
             "line": {
              "color": "white"
             }
            },
            "header": {
             "fill": {
              "color": "#C8D4E3"
             },
             "line": {
              "color": "white"
             }
            },
            "type": "table"
           }
          ]
         },
         "layout": {
          "annotationdefaults": {
           "arrowcolor": "#2a3f5f",
           "arrowhead": 0,
           "arrowwidth": 1
          },
          "autotypenumbers": "strict",
          "coloraxis": {
           "colorbar": {
            "outlinewidth": 0,
            "ticks": ""
           }
          },
          "colorscale": {
           "diverging": [
            [
             0,
             "#8e0152"
            ],
            [
             0.1,
             "#c51b7d"
            ],
            [
             0.2,
             "#de77ae"
            ],
            [
             0.3,
             "#f1b6da"
            ],
            [
             0.4,
             "#fde0ef"
            ],
            [
             0.5,
             "#f7f7f7"
            ],
            [
             0.6,
             "#e6f5d0"
            ],
            [
             0.7,
             "#b8e186"
            ],
            [
             0.8,
             "#7fbc41"
            ],
            [
             0.9,
             "#4d9221"
            ],
            [
             1,
             "#276419"
            ]
           ],
           "sequential": [
            [
             0,
             "#0d0887"
            ],
            [
             0.1111111111111111,
             "#46039f"
            ],
            [
             0.2222222222222222,
             "#7201a8"
            ],
            [
             0.3333333333333333,
             "#9c179e"
            ],
            [
             0.4444444444444444,
             "#bd3786"
            ],
            [
             0.5555555555555556,
             "#d8576b"
            ],
            [
             0.6666666666666666,
             "#ed7953"
            ],
            [
             0.7777777777777778,
             "#fb9f3a"
            ],
            [
             0.8888888888888888,
             "#fdca26"
            ],
            [
             1,
             "#f0f921"
            ]
           ],
           "sequentialminus": [
            [
             0,
             "#0d0887"
            ],
            [
             0.1111111111111111,
             "#46039f"
            ],
            [
             0.2222222222222222,
             "#7201a8"
            ],
            [
             0.3333333333333333,
             "#9c179e"
            ],
            [
             0.4444444444444444,
             "#bd3786"
            ],
            [
             0.5555555555555556,
             "#d8576b"
            ],
            [
             0.6666666666666666,
             "#ed7953"
            ],
            [
             0.7777777777777778,
             "#fb9f3a"
            ],
            [
             0.8888888888888888,
             "#fdca26"
            ],
            [
             1,
             "#f0f921"
            ]
           ]
          },
          "colorway": [
           "#636efa",
           "#EF553B",
           "#00cc96",
           "#ab63fa",
           "#FFA15A",
           "#19d3f3",
           "#FF6692",
           "#B6E880",
           "#FF97FF",
           "#FECB52"
          ],
          "font": {
           "color": "#2a3f5f"
          },
          "geo": {
           "bgcolor": "white",
           "lakecolor": "white",
           "landcolor": "#E5ECF6",
           "showlakes": true,
           "showland": true,
           "subunitcolor": "white"
          },
          "hoverlabel": {
           "align": "left"
          },
          "hovermode": "closest",
          "mapbox": {
           "style": "light"
          },
          "paper_bgcolor": "white",
          "plot_bgcolor": "#E5ECF6",
          "polar": {
           "angularaxis": {
            "gridcolor": "white",
            "linecolor": "white",
            "ticks": ""
           },
           "bgcolor": "#E5ECF6",
           "radialaxis": {
            "gridcolor": "white",
            "linecolor": "white",
            "ticks": ""
           }
          },
          "scene": {
           "xaxis": {
            "backgroundcolor": "#E5ECF6",
            "gridcolor": "white",
            "gridwidth": 2,
            "linecolor": "white",
            "showbackground": true,
            "ticks": "",
            "zerolinecolor": "white"
           },
           "yaxis": {
            "backgroundcolor": "#E5ECF6",
            "gridcolor": "white",
            "gridwidth": 2,
            "linecolor": "white",
            "showbackground": true,
            "ticks": "",
            "zerolinecolor": "white"
           },
           "zaxis": {
            "backgroundcolor": "#E5ECF6",
            "gridcolor": "white",
            "gridwidth": 2,
            "linecolor": "white",
            "showbackground": true,
            "ticks": "",
            "zerolinecolor": "white"
           }
          },
          "shapedefaults": {
           "line": {
            "color": "#2a3f5f"
           }
          },
          "ternary": {
           "aaxis": {
            "gridcolor": "white",
            "linecolor": "white",
            "ticks": ""
           },
           "baxis": {
            "gridcolor": "white",
            "linecolor": "white",
            "ticks": ""
           },
           "bgcolor": "#E5ECF6",
           "caxis": {
            "gridcolor": "white",
            "linecolor": "white",
            "ticks": ""
           }
          },
          "title": {
           "x": 0.05
          },
          "xaxis": {
           "automargin": true,
           "gridcolor": "white",
           "linecolor": "white",
           "ticks": "",
           "title": {
            "standoff": 15
           },
           "zerolinecolor": "white",
           "zerolinewidth": 2
          },
          "yaxis": {
           "automargin": true,
           "gridcolor": "white",
           "linecolor": "white",
           "ticks": "",
           "title": {
            "standoff": 15
           },
           "zerolinecolor": "white",
           "zerolinewidth": 2
          }
         }
        },
        "title": {
         "font": {
          "color": "#4D5663"
         }
        },
        "xaxis": {
         "gridcolor": "#E1E5ED",
         "showgrid": true,
         "tickfont": {
          "color": "#4D5663"
         },
         "title": {
          "font": {
           "color": "#4D5663"
          },
          "text": ""
         },
         "zerolinecolor": "#E1E5ED"
        },
        "yaxis": {
         "gridcolor": "#E1E5ED",
         "showgrid": true,
         "tickfont": {
          "color": "#4D5663"
         },
         "title": {
          "font": {
           "color": "#4D5663"
          },
          "text": ""
         },
         "zerolinecolor": "#E1E5ED"
        }
       }
      },
      "text/html": [
       "<div>                            <div id=\"098e11ca-4f0d-4a78-b4f3-96f62b3f141d\" class=\"plotly-graph-div\" style=\"height:525px; width:100%;\"></div>            <script type=\"text/javascript\">                require([\"plotly\"], function(Plotly) {                    window.PLOTLYENV=window.PLOTLYENV || {};\n",
       "                    window.PLOTLYENV.BASE_URL='https://plot.ly';                                    if (document.getElementById(\"098e11ca-4f0d-4a78-b4f3-96f62b3f141d\")) {                    Plotly.newPlot(                        \"098e11ca-4f0d-4a78-b4f3-96f62b3f141d\",                        [{\"line\":{\"color\":\"rgba(255, 153, 51, 1.0)\",\"dash\":\"solid\",\"shape\":\"linear\",\"width\":1.3},\"mode\":\"lines\",\"name\":\"A\",\"text\":\"\",\"x\":[0,1,2,3,4,5,6,7,8,9,10,11,12,13,14,15,16,17,18,19,20,21,22,23,24,25,26,27,28,29,30,31,32,33,34,35,36,37,38,39,40,41,42,43,44,45,46,47,48,49,50,51,52,53,54,55,56,57,58,59,60,61,62,63,64,65,66,67,68,69,70,71,72,73,74,75,76,77,78,79,80,81,82,83,84,85,86,87,88,89,90,91,92,93,94,95,96,97,98,99],\"y\":[-0.29792637723830706,-0.8923819296462833,1.7234105293049453,1.1902856556990573,-0.8971157565602627,1.9016718722180468,2.1981831744181273,1.6152737096444651,0.6630607606857006,0.1787979525329411,-3.239738292524836,-0.53315562551175,0.0883147667036451,0.5128570247460148,-1.4245673129546816,-0.8829566104004147,-0.23576010869289576,-1.4893491280250946,-0.11930770415481325,0.039321849199490506,3.391647838952632,0.5476353876974875,-0.2534666095410885,-0.08182300855229281,-0.5947906651081367,-0.44406107899545727,-1.1766935412205732,0.04724334034912506,-1.1282197637211864,-1.3633191991566411,0.08931042262251068,-1.6514931206316124,0.2573064197241399,-0.09618157240552419,-0.2821640899252809,2.072639145670152,-1.3064183793637834,0.5666643360549753,2.167983667887979,-1.7997094591822478,-1.3984258918281744,0.7923508493361261,1.0019900793334853,0.7547858757415697,-1.1657783774034458,0.6040869922836244,-0.9089129838599386,-0.49326283550143907,1.0235749881903948,-0.567917478431189,1.0205085705734438,0.0535796934923246,0.9393152685735218,1.9030809579995547,0.3672883715619356,0.23494199881016803,0.4914009582895803,0.5176997332721902,-1.4966314130443783,0.22303127391633099,-1.502849907548389,2.475067453641193,0.9674539658108846,-0.9049278695125385,1.0021395031158833,-0.660208091026908,-0.5951734240824909,0.21899055285269242,0.6246983479993481,0.987855773396582,-1.8460665089932002,0.6976000379232323,0.7247707889465178,-0.5816330634150041,-1.5150489632409443,-0.9992632308133234,0.44752893121426174,0.18263204541538194,-1.3981717858694003,-0.6356891039393294,1.500070809321363,-0.3808477889680422,-0.6915358182250247,1.6803152829172159,-0.07072625552412308,0.8434747706058304,-0.4239789000407887,0.31369768093824313,-0.8467382980279881,1.2274022943467247,-0.12250938725284559,0.8942354663369965,1.414113279962558,-0.5856272477798551,0.36394686169407825,0.7249424887515578,-0.46950443180630724,0.4729936694292356,-0.8485760051455363,0.35291365328940083],\"type\":\"scatter\"},{\"line\":{\"color\":\"rgba(55, 128, 191, 1.0)\",\"dash\":\"solid\",\"shape\":\"linear\",\"width\":1.3},\"mode\":\"lines\",\"name\":\"B\",\"text\":\"\",\"x\":[0,1,2,3,4,5,6,7,8,9,10,11,12,13,14,15,16,17,18,19,20,21,22,23,24,25,26,27,28,29,30,31,32,33,34,35,36,37,38,39,40,41,42,43,44,45,46,47,48,49,50,51,52,53,54,55,56,57,58,59,60,61,62,63,64,65,66,67,68,69,70,71,72,73,74,75,76,77,78,79,80,81,82,83,84,85,86,87,88,89,90,91,92,93,94,95,96,97,98,99],\"y\":[-0.27890638144659863,0.2564283115044753,2.0174188936129314,0.17884187654629052,0.6276306885511054,0.25517644080451013,0.5508572027297509,1.392780435627884,1.3853327824907755,-0.801103842810928,-0.001601404928749617,-0.9475761194186775,0.572154179249944,-0.6324681659779058,0.8598698255239071,-0.7783369908541763,1.3818341271063763,-2.2080389329280288,1.5073674499577574,-0.1019930982510935,0.43317859963726907,0.46339848888440005,0.6556941971116744,-1.4774390391999683,-0.08247343631477118,0.9318408562822978,-0.2437630237208761,0.709745135347247,-1.1980141538049263,-1.230084516882016,-0.4306773799810202,-0.698266606290243,-0.7188133783350102,2.568073428264933,-0.11660377208094476,-0.3862154841965922,-0.22468792258072193,-1.6692365366552586,-0.3907611496422901,0.8472486833608247,-0.1542379734459378,0.5428076346628236,0.9163169167747229,0.7479248109497993,-0.4599167283229178,-0.4158595238788836,1.4755177836228144,-0.3454801694148016,-0.4296188382525576,1.7840817951609869,0.6790872482049964,0.008471450166828386,1.175802937100522,-2.155095030872273,-1.338652866595385,3.5320652854346632,0.15039743192536045,-0.7595581411619825,-1.5497698692887814,-1.7579991728730961,0.6429642387933477,0.03707849420466005,-0.5048458961042922,1.0543952677595512,1.685256962282488,-0.126171706516759,-1.929411529416697,-0.5848888872214338,1.1706676637370832,0.18320626733244844,-0.8135662236959479,-0.28285989529840444,0.28366750169729643,0.32613455837936983,-0.7507228209579063,-0.7723323531299727,-0.17435743889643146,-0.3213401177857931,-0.4720057893827924,0.30594456898809574,-0.16812017886134412,-1.26457624790978,0.12876796266339094,0.6237170016964371,-0.43451931186664317,0.961503849615867,-0.999094324696313,0.33875229400625106,-0.20213887711847134,0.9615983571900286,-1.2623271153107787,0.07274658982509276,1.2673817361870017,0.21102180058163456,-0.07096262606609763,0.07472500119163265,-1.5094809420943585,-0.5869569407152632,-0.1565115901911661,0.5896397894956978],\"type\":\"scatter\"},{\"line\":{\"color\":\"rgba(50, 171, 96, 1.0)\",\"dash\":\"solid\",\"shape\":\"linear\",\"width\":1.3},\"mode\":\"lines\",\"name\":\"C\",\"text\":\"\",\"x\":[0,1,2,3,4,5,6,7,8,9,10,11,12,13,14,15,16,17,18,19,20,21,22,23,24,25,26,27,28,29,30,31,32,33,34,35,36,37,38,39,40,41,42,43,44,45,46,47,48,49,50,51,52,53,54,55,56,57,58,59,60,61,62,63,64,65,66,67,68,69,70,71,72,73,74,75,76,77,78,79,80,81,82,83,84,85,86,87,88,89,90,91,92,93,94,95,96,97,98,99],\"y\":[-0.3785691111731062,-0.7242606799489422,-0.8246824544778133,0.12176258517926665,-1.8209540589873685,0.46128111661448634,0.1874022421505698,-1.4166422190833579,-0.1686237403577767,0.8001116694671396,-0.3417497471814735,0.8440560848938881,-0.2286047600167654,1.1264076795672544,0.32079246298034836,0.18279746079482334,-0.18778211442920031,1.3567008752391332,0.9818481024885953,-1.749818217975851,-1.0464537583707538,2.161484180041195,1.1080794904568458,0.29940969860150335,-0.8528292247025747,0.6280866562659139,0.5717851373411995,0.09246821502313514,-0.3663757148257401,-0.3109981420638087,-1.0498136201897923,-2.078452973036622,-1.242069364104504,-0.3431840837328187,0.3627171922088302,0.8751786216816618,0.2762706814341793,-0.8167072925620203,-0.869991091024823,0.9672911353718907,2.1982360060658497,-1.2033618917988724,-0.23137721827526123,0.1327482407913947,-1.7450334629355664,-0.9811842562973468,-0.9436885689405635,-0.9037535342749619,-0.16286771261622673,-0.8424165186723047,1.4500116738286102,-0.4507918846772054,0.6045573655551328,0.5169490362806466,-1.3351261155988685,-1.1538394322643417,0.29553629133925213,-0.2694914763554259,-0.062356154250450144,1.1230391269542197,-1.5276138210714818,-1.1232276132692494,0.4032086587150684,0.41340603007271615,-0.29499490089037717,-0.3210479257614936,-1.0141289971793972,1.4301376664831027,-0.7330080431564663,0.19255395145044876,-1.1192304434140368,-0.08203194087607818,-0.6525722731658269,0.20045124035306083,-0.6578939325296489,0.47395918241664,0.5087683826564047,-0.577972035659476,0.22682541960159422,-0.36844251573616893,1.8885518897132345,0.06041515316320473,-0.054318849545448245,-1.567397042067696,-1.9159042155115766,1.0304857124752407,1.241856513792774,-0.893051278204358,0.16434454522939915,-0.1916036977137557,-0.5552844312316504,0.4766575722722776,-0.1931394811813765,-0.22147850256335302,-0.7807521337472044,0.3966263098104934,-1.8427515554863239,1.4503132806468664,0.5431622523250105,1.8979945297948053],\"type\":\"scatter\"},{\"line\":{\"color\":\"rgba(128, 0, 128, 1.0)\",\"dash\":\"solid\",\"shape\":\"linear\",\"width\":1.3},\"mode\":\"lines\",\"name\":\"D\",\"text\":\"\",\"x\":[0,1,2,3,4,5,6,7,8,9,10,11,12,13,14,15,16,17,18,19,20,21,22,23,24,25,26,27,28,29,30,31,32,33,34,35,36,37,38,39,40,41,42,43,44,45,46,47,48,49,50,51,52,53,54,55,56,57,58,59,60,61,62,63,64,65,66,67,68,69,70,71,72,73,74,75,76,77,78,79,80,81,82,83,84,85,86,87,88,89,90,91,92,93,94,95,96,97,98,99],\"y\":[-0.8842383995523002,-0.17629593626785142,-0.4975338282277956,-0.7109229619561235,-1.6584045264816911,-2.4316872578239628,-0.4802808125432007,0.8096465158767452,0.19888573412697225,-0.44819929383560814,-1.4182251631943419,-0.41523986539319263,-1.3321645945944733,-0.5687875820312259,-0.26055870247807883,0.04921278974274074,0.6991608372296295,0.6631473199098205,-1.0146969930756897,0.516788444056948,-1.0930627496776706,0.24219163864636473,-4.483337055579498,0.8116945954884472,0.7748562722522722,-0.04527452450408996,-0.7314012206071417,-0.3337603203593094,-0.0800542745165681,0.5657106411327537,0.10446378428358027,-0.6021488784730553,1.1437530048281432,-1.7439372596470002,-0.46044752043652726,-0.7778445195929558,-0.58320458665028,0.6795349043316672,-0.6692435986890042,-0.46276584257472103,-1.1967470701508698,-1.2125155009118211,0.26018386733426413,-0.9331001108671975,0.14762408442279343,-0.05896538345903155,1.4001481180545106,-0.781751263104596,-0.174486270641486,-0.24425945612346736,-1.5201642547547567,0.22586875533618506,0.09109335689985622,-0.4452682100838056,1.7847833638640727,-0.33102112176875625,-0.14820747440658494,-0.7493860625632108,-0.5634795684099666,-0.4737439207138368,0.24182926572346936,0.44516094081231833,-1.148982469450897,0.33898462752670516,0.4947570206657606,2.50405129400578,-1.3650258184479247,0.6016584566492543,1.4212280313056396,1.1027534990198042,-1.1258762610113484,1.9668243979914881,-0.25617395416996497,0.9342146226831707,0.9601257206324195,-0.8953809323186507,-0.5002216880282215,-0.26701971273404096,-0.834332157269281,-1.1796312241805635,0.04162626319635676,1.1299629547028678,0.536644991582972,-0.8506749416163251,-0.06503415034829214,3.0948686720038556,1.2360392020275743,0.7744542232796331,0.7992448767723157,-0.4820473780647872,0.7193653749808341,0.2321862239783296,0.5539762358611967,-0.3295310915509749,-0.13303171235497005,0.32097122603712935,0.480914490270042,-2.2126006977617214,0.5849414195909188,0.42778559225066504],\"type\":\"scatter\"}],                        {\"legend\":{\"bgcolor\":\"#F5F6F9\",\"font\":{\"color\":\"#4D5663\"}},\"paper_bgcolor\":\"#F5F6F9\",\"plot_bgcolor\":\"#F5F6F9\",\"template\":{\"data\":{\"barpolar\":[{\"marker\":{\"line\":{\"color\":\"#E5ECF6\",\"width\":0.5},\"pattern\":{\"fillmode\":\"overlay\",\"size\":10,\"solidity\":0.2}},\"type\":\"barpolar\"}],\"bar\":[{\"error_x\":{\"color\":\"#2a3f5f\"},\"error_y\":{\"color\":\"#2a3f5f\"},\"marker\":{\"line\":{\"color\":\"#E5ECF6\",\"width\":0.5},\"pattern\":{\"fillmode\":\"overlay\",\"size\":10,\"solidity\":0.2}},\"type\":\"bar\"}],\"carpet\":[{\"aaxis\":{\"endlinecolor\":\"#2a3f5f\",\"gridcolor\":\"white\",\"linecolor\":\"white\",\"minorgridcolor\":\"white\",\"startlinecolor\":\"#2a3f5f\"},\"baxis\":{\"endlinecolor\":\"#2a3f5f\",\"gridcolor\":\"white\",\"linecolor\":\"white\",\"minorgridcolor\":\"white\",\"startlinecolor\":\"#2a3f5f\"},\"type\":\"carpet\"}],\"choropleth\":[{\"colorbar\":{\"outlinewidth\":0,\"ticks\":\"\"},\"type\":\"choropleth\"}],\"contourcarpet\":[{\"colorbar\":{\"outlinewidth\":0,\"ticks\":\"\"},\"type\":\"contourcarpet\"}],\"contour\":[{\"colorbar\":{\"outlinewidth\":0,\"ticks\":\"\"},\"colorscale\":[[0.0,\"#0d0887\"],[0.1111111111111111,\"#46039f\"],[0.2222222222222222,\"#7201a8\"],[0.3333333333333333,\"#9c179e\"],[0.4444444444444444,\"#bd3786\"],[0.5555555555555556,\"#d8576b\"],[0.6666666666666666,\"#ed7953\"],[0.7777777777777778,\"#fb9f3a\"],[0.8888888888888888,\"#fdca26\"],[1.0,\"#f0f921\"]],\"type\":\"contour\"}],\"heatmapgl\":[{\"colorbar\":{\"outlinewidth\":0,\"ticks\":\"\"},\"colorscale\":[[0.0,\"#0d0887\"],[0.1111111111111111,\"#46039f\"],[0.2222222222222222,\"#7201a8\"],[0.3333333333333333,\"#9c179e\"],[0.4444444444444444,\"#bd3786\"],[0.5555555555555556,\"#d8576b\"],[0.6666666666666666,\"#ed7953\"],[0.7777777777777778,\"#fb9f3a\"],[0.8888888888888888,\"#fdca26\"],[1.0,\"#f0f921\"]],\"type\":\"heatmapgl\"}],\"heatmap\":[{\"colorbar\":{\"outlinewidth\":0,\"ticks\":\"\"},\"colorscale\":[[0.0,\"#0d0887\"],[0.1111111111111111,\"#46039f\"],[0.2222222222222222,\"#7201a8\"],[0.3333333333333333,\"#9c179e\"],[0.4444444444444444,\"#bd3786\"],[0.5555555555555556,\"#d8576b\"],[0.6666666666666666,\"#ed7953\"],[0.7777777777777778,\"#fb9f3a\"],[0.8888888888888888,\"#fdca26\"],[1.0,\"#f0f921\"]],\"type\":\"heatmap\"}],\"histogram2dcontour\":[{\"colorbar\":{\"outlinewidth\":0,\"ticks\":\"\"},\"colorscale\":[[0.0,\"#0d0887\"],[0.1111111111111111,\"#46039f\"],[0.2222222222222222,\"#7201a8\"],[0.3333333333333333,\"#9c179e\"],[0.4444444444444444,\"#bd3786\"],[0.5555555555555556,\"#d8576b\"],[0.6666666666666666,\"#ed7953\"],[0.7777777777777778,\"#fb9f3a\"],[0.8888888888888888,\"#fdca26\"],[1.0,\"#f0f921\"]],\"type\":\"histogram2dcontour\"}],\"histogram2d\":[{\"colorbar\":{\"outlinewidth\":0,\"ticks\":\"\"},\"colorscale\":[[0.0,\"#0d0887\"],[0.1111111111111111,\"#46039f\"],[0.2222222222222222,\"#7201a8\"],[0.3333333333333333,\"#9c179e\"],[0.4444444444444444,\"#bd3786\"],[0.5555555555555556,\"#d8576b\"],[0.6666666666666666,\"#ed7953\"],[0.7777777777777778,\"#fb9f3a\"],[0.8888888888888888,\"#fdca26\"],[1.0,\"#f0f921\"]],\"type\":\"histogram2d\"}],\"histogram\":[{\"marker\":{\"pattern\":{\"fillmode\":\"overlay\",\"size\":10,\"solidity\":0.2}},\"type\":\"histogram\"}],\"mesh3d\":[{\"colorbar\":{\"outlinewidth\":0,\"ticks\":\"\"},\"type\":\"mesh3d\"}],\"parcoords\":[{\"line\":{\"colorbar\":{\"outlinewidth\":0,\"ticks\":\"\"}},\"type\":\"parcoords\"}],\"pie\":[{\"automargin\":true,\"type\":\"pie\"}],\"scatter3d\":[{\"line\":{\"colorbar\":{\"outlinewidth\":0,\"ticks\":\"\"}},\"marker\":{\"colorbar\":{\"outlinewidth\":0,\"ticks\":\"\"}},\"type\":\"scatter3d\"}],\"scattercarpet\":[{\"marker\":{\"colorbar\":{\"outlinewidth\":0,\"ticks\":\"\"}},\"type\":\"scattercarpet\"}],\"scattergeo\":[{\"marker\":{\"colorbar\":{\"outlinewidth\":0,\"ticks\":\"\"}},\"type\":\"scattergeo\"}],\"scattergl\":[{\"marker\":{\"colorbar\":{\"outlinewidth\":0,\"ticks\":\"\"}},\"type\":\"scattergl\"}],\"scattermapbox\":[{\"marker\":{\"colorbar\":{\"outlinewidth\":0,\"ticks\":\"\"}},\"type\":\"scattermapbox\"}],\"scatterpolargl\":[{\"marker\":{\"colorbar\":{\"outlinewidth\":0,\"ticks\":\"\"}},\"type\":\"scatterpolargl\"}],\"scatterpolar\":[{\"marker\":{\"colorbar\":{\"outlinewidth\":0,\"ticks\":\"\"}},\"type\":\"scatterpolar\"}],\"scatter\":[{\"marker\":{\"colorbar\":{\"outlinewidth\":0,\"ticks\":\"\"}},\"type\":\"scatter\"}],\"scatterternary\":[{\"marker\":{\"colorbar\":{\"outlinewidth\":0,\"ticks\":\"\"}},\"type\":\"scatterternary\"}],\"surface\":[{\"colorbar\":{\"outlinewidth\":0,\"ticks\":\"\"},\"colorscale\":[[0.0,\"#0d0887\"],[0.1111111111111111,\"#46039f\"],[0.2222222222222222,\"#7201a8\"],[0.3333333333333333,\"#9c179e\"],[0.4444444444444444,\"#bd3786\"],[0.5555555555555556,\"#d8576b\"],[0.6666666666666666,\"#ed7953\"],[0.7777777777777778,\"#fb9f3a\"],[0.8888888888888888,\"#fdca26\"],[1.0,\"#f0f921\"]],\"type\":\"surface\"}],\"table\":[{\"cells\":{\"fill\":{\"color\":\"#EBF0F8\"},\"line\":{\"color\":\"white\"}},\"header\":{\"fill\":{\"color\":\"#C8D4E3\"},\"line\":{\"color\":\"white\"}},\"type\":\"table\"}]},\"layout\":{\"annotationdefaults\":{\"arrowcolor\":\"#2a3f5f\",\"arrowhead\":0,\"arrowwidth\":1},\"autotypenumbers\":\"strict\",\"coloraxis\":{\"colorbar\":{\"outlinewidth\":0,\"ticks\":\"\"}},\"colorscale\":{\"diverging\":[[0,\"#8e0152\"],[0.1,\"#c51b7d\"],[0.2,\"#de77ae\"],[0.3,\"#f1b6da\"],[0.4,\"#fde0ef\"],[0.5,\"#f7f7f7\"],[0.6,\"#e6f5d0\"],[0.7,\"#b8e186\"],[0.8,\"#7fbc41\"],[0.9,\"#4d9221\"],[1,\"#276419\"]],\"sequential\":[[0.0,\"#0d0887\"],[0.1111111111111111,\"#46039f\"],[0.2222222222222222,\"#7201a8\"],[0.3333333333333333,\"#9c179e\"],[0.4444444444444444,\"#bd3786\"],[0.5555555555555556,\"#d8576b\"],[0.6666666666666666,\"#ed7953\"],[0.7777777777777778,\"#fb9f3a\"],[0.8888888888888888,\"#fdca26\"],[1.0,\"#f0f921\"]],\"sequentialminus\":[[0.0,\"#0d0887\"],[0.1111111111111111,\"#46039f\"],[0.2222222222222222,\"#7201a8\"],[0.3333333333333333,\"#9c179e\"],[0.4444444444444444,\"#bd3786\"],[0.5555555555555556,\"#d8576b\"],[0.6666666666666666,\"#ed7953\"],[0.7777777777777778,\"#fb9f3a\"],[0.8888888888888888,\"#fdca26\"],[1.0,\"#f0f921\"]]},\"colorway\":[\"#636efa\",\"#EF553B\",\"#00cc96\",\"#ab63fa\",\"#FFA15A\",\"#19d3f3\",\"#FF6692\",\"#B6E880\",\"#FF97FF\",\"#FECB52\"],\"font\":{\"color\":\"#2a3f5f\"},\"geo\":{\"bgcolor\":\"white\",\"lakecolor\":\"white\",\"landcolor\":\"#E5ECF6\",\"showlakes\":true,\"showland\":true,\"subunitcolor\":\"white\"},\"hoverlabel\":{\"align\":\"left\"},\"hovermode\":\"closest\",\"mapbox\":{\"style\":\"light\"},\"paper_bgcolor\":\"white\",\"plot_bgcolor\":\"#E5ECF6\",\"polar\":{\"angularaxis\":{\"gridcolor\":\"white\",\"linecolor\":\"white\",\"ticks\":\"\"},\"bgcolor\":\"#E5ECF6\",\"radialaxis\":{\"gridcolor\":\"white\",\"linecolor\":\"white\",\"ticks\":\"\"}},\"scene\":{\"xaxis\":{\"backgroundcolor\":\"#E5ECF6\",\"gridcolor\":\"white\",\"gridwidth\":2,\"linecolor\":\"white\",\"showbackground\":true,\"ticks\":\"\",\"zerolinecolor\":\"white\"},\"yaxis\":{\"backgroundcolor\":\"#E5ECF6\",\"gridcolor\":\"white\",\"gridwidth\":2,\"linecolor\":\"white\",\"showbackground\":true,\"ticks\":\"\",\"zerolinecolor\":\"white\"},\"zaxis\":{\"backgroundcolor\":\"#E5ECF6\",\"gridcolor\":\"white\",\"gridwidth\":2,\"linecolor\":\"white\",\"showbackground\":true,\"ticks\":\"\",\"zerolinecolor\":\"white\"}},\"shapedefaults\":{\"line\":{\"color\":\"#2a3f5f\"}},\"ternary\":{\"aaxis\":{\"gridcolor\":\"white\",\"linecolor\":\"white\",\"ticks\":\"\"},\"baxis\":{\"gridcolor\":\"white\",\"linecolor\":\"white\",\"ticks\":\"\"},\"bgcolor\":\"#E5ECF6\",\"caxis\":{\"gridcolor\":\"white\",\"linecolor\":\"white\",\"ticks\":\"\"}},\"title\":{\"x\":0.05},\"xaxis\":{\"automargin\":true,\"gridcolor\":\"white\",\"linecolor\":\"white\",\"ticks\":\"\",\"title\":{\"standoff\":15},\"zerolinecolor\":\"white\",\"zerolinewidth\":2},\"yaxis\":{\"automargin\":true,\"gridcolor\":\"white\",\"linecolor\":\"white\",\"ticks\":\"\",\"title\":{\"standoff\":15},\"zerolinecolor\":\"white\",\"zerolinewidth\":2}}},\"title\":{\"font\":{\"color\":\"#4D5663\"}},\"xaxis\":{\"gridcolor\":\"#E1E5ED\",\"showgrid\":true,\"tickfont\":{\"color\":\"#4D5663\"},\"title\":{\"font\":{\"color\":\"#4D5663\"},\"text\":\"\"},\"zerolinecolor\":\"#E1E5ED\"},\"yaxis\":{\"gridcolor\":\"#E1E5ED\",\"showgrid\":true,\"tickfont\":{\"color\":\"#4D5663\"},\"title\":{\"font\":{\"color\":\"#4D5663\"},\"text\":\"\"},\"zerolinecolor\":\"#E1E5ED\"}},                        {\"showLink\": true, \"linkText\": \"Export to plot.ly\", \"plotlyServerURL\": \"https://plot.ly\", \"responsive\": true}                    ).then(function(){\n",
       "                            \n",
       "var gd = document.getElementById('098e11ca-4f0d-4a78-b4f3-96f62b3f141d');\n",
       "var x = new MutationObserver(function (mutations, observer) {{\n",
       "        var display = window.getComputedStyle(gd).display;\n",
       "        if (!display || display === 'none') {{\n",
       "            console.log([gd, 'removed!']);\n",
       "            Plotly.purge(gd);\n",
       "            observer.disconnect();\n",
       "        }}\n",
       "}});\n",
       "\n",
       "// Listen for the removal of the full notebook cells\n",
       "var notebookContainer = gd.closest('#notebook-container');\n",
       "if (notebookContainer) {{\n",
       "    x.observe(notebookContainer, {childList: true});\n",
       "}}\n",
       "\n",
       "// Listen for the clearing of the current output cell\n",
       "var outputEl = gd.closest('.output');\n",
       "if (outputEl) {{\n",
       "    x.observe(outputEl, {childList: true});\n",
       "}}\n",
       "\n",
       "                        })                };                });            </script>        </div>"
      ]
     },
     "metadata": {},
     "output_type": "display_data"
    }
   ],
   "source": [
    "df.iplot()"
   ]
  },
  {
   "cell_type": "code",
   "execution_count": 23,
   "id": "4569040a",
   "metadata": {},
   "outputs": [
    {
     "data": {
      "application/vnd.plotly.v1+json": {
       "config": {
        "linkText": "Export to plot.ly",
        "plotlyServerURL": "https://plot.ly",
        "showLink": true
       },
       "data": [
        {
         "line": {
          "color": "rgba(255, 153, 51, 1.0)",
          "dash": "solid",
          "shape": "linear",
          "width": 1.3
         },
         "marker": {
          "size": 100,
          "symbol": "circle"
         },
         "mode": "markers",
         "name": "B",
         "text": "",
         "type": "scatter",
         "x": [
          -0.29792637723830706,
          -0.8923819296462833,
          1.7234105293049453,
          1.1902856556990573,
          -0.8971157565602627,
          1.9016718722180468,
          2.1981831744181273,
          1.6152737096444651,
          0.6630607606857006,
          0.1787979525329411,
          -3.239738292524836,
          -0.53315562551175,
          0.0883147667036451,
          0.5128570247460148,
          -1.4245673129546816,
          -0.8829566104004147,
          -0.23576010869289576,
          -1.4893491280250946,
          -0.11930770415481325,
          0.039321849199490506,
          3.391647838952632,
          0.5476353876974875,
          -0.2534666095410885,
          -0.08182300855229281,
          -0.5947906651081367,
          -0.44406107899545727,
          -1.1766935412205732,
          0.04724334034912506,
          -1.1282197637211864,
          -1.3633191991566411,
          0.08931042262251068,
          -1.6514931206316124,
          0.2573064197241399,
          -0.09618157240552419,
          -0.2821640899252809,
          2.072639145670152,
          -1.3064183793637834,
          0.5666643360549753,
          2.167983667887979,
          -1.7997094591822478,
          -1.3984258918281744,
          0.7923508493361261,
          1.0019900793334853,
          0.7547858757415697,
          -1.1657783774034458,
          0.6040869922836244,
          -0.9089129838599386,
          -0.49326283550143907,
          1.0235749881903948,
          -0.567917478431189,
          1.0205085705734438,
          0.0535796934923246,
          0.9393152685735218,
          1.9030809579995547,
          0.3672883715619356,
          0.23494199881016803,
          0.4914009582895803,
          0.5176997332721902,
          -1.4966314130443783,
          0.22303127391633099,
          -1.502849907548389,
          2.475067453641193,
          0.9674539658108846,
          -0.9049278695125385,
          1.0021395031158833,
          -0.660208091026908,
          -0.5951734240824909,
          0.21899055285269242,
          0.6246983479993481,
          0.987855773396582,
          -1.8460665089932002,
          0.6976000379232323,
          0.7247707889465178,
          -0.5816330634150041,
          -1.5150489632409443,
          -0.9992632308133234,
          0.44752893121426174,
          0.18263204541538194,
          -1.3981717858694003,
          -0.6356891039393294,
          1.500070809321363,
          -0.3808477889680422,
          -0.6915358182250247,
          1.6803152829172159,
          -0.07072625552412308,
          0.8434747706058304,
          -0.4239789000407887,
          0.31369768093824313,
          -0.8467382980279881,
          1.2274022943467247,
          -0.12250938725284559,
          0.8942354663369965,
          1.414113279962558,
          -0.5856272477798551,
          0.36394686169407825,
          0.7249424887515578,
          -0.46950443180630724,
          0.4729936694292356,
          -0.8485760051455363,
          0.35291365328940083
         ],
         "y": [
          -0.27890638144659863,
          0.2564283115044753,
          2.0174188936129314,
          0.17884187654629052,
          0.6276306885511054,
          0.25517644080451013,
          0.5508572027297509,
          1.392780435627884,
          1.3853327824907755,
          -0.801103842810928,
          -0.001601404928749617,
          -0.9475761194186775,
          0.572154179249944,
          -0.6324681659779058,
          0.8598698255239071,
          -0.7783369908541763,
          1.3818341271063763,
          -2.2080389329280288,
          1.5073674499577574,
          -0.1019930982510935,
          0.43317859963726907,
          0.46339848888440005,
          0.6556941971116744,
          -1.4774390391999683,
          -0.08247343631477118,
          0.9318408562822978,
          -0.2437630237208761,
          0.709745135347247,
          -1.1980141538049263,
          -1.230084516882016,
          -0.4306773799810202,
          -0.698266606290243,
          -0.7188133783350102,
          2.568073428264933,
          -0.11660377208094476,
          -0.3862154841965922,
          -0.22468792258072193,
          -1.6692365366552586,
          -0.3907611496422901,
          0.8472486833608247,
          -0.1542379734459378,
          0.5428076346628236,
          0.9163169167747229,
          0.7479248109497993,
          -0.4599167283229178,
          -0.4158595238788836,
          1.4755177836228144,
          -0.3454801694148016,
          -0.4296188382525576,
          1.7840817951609869,
          0.6790872482049964,
          0.008471450166828386,
          1.175802937100522,
          -2.155095030872273,
          -1.338652866595385,
          3.5320652854346632,
          0.15039743192536045,
          -0.7595581411619825,
          -1.5497698692887814,
          -1.7579991728730961,
          0.6429642387933477,
          0.03707849420466005,
          -0.5048458961042922,
          1.0543952677595512,
          1.685256962282488,
          -0.126171706516759,
          -1.929411529416697,
          -0.5848888872214338,
          1.1706676637370832,
          0.18320626733244844,
          -0.8135662236959479,
          -0.28285989529840444,
          0.28366750169729643,
          0.32613455837936983,
          -0.7507228209579063,
          -0.7723323531299727,
          -0.17435743889643146,
          -0.3213401177857931,
          -0.4720057893827924,
          0.30594456898809574,
          -0.16812017886134412,
          -1.26457624790978,
          0.12876796266339094,
          0.6237170016964371,
          -0.43451931186664317,
          0.961503849615867,
          -0.999094324696313,
          0.33875229400625106,
          -0.20213887711847134,
          0.9615983571900286,
          -1.2623271153107787,
          0.07274658982509276,
          1.2673817361870017,
          0.21102180058163456,
          -0.07096262606609763,
          0.07472500119163265,
          -1.5094809420943585,
          -0.5869569407152632,
          -0.1565115901911661,
          0.5896397894956978
         ]
        }
       ],
       "layout": {
        "legend": {
         "bgcolor": "#F5F6F9",
         "font": {
          "color": "#4D5663"
         }
        },
        "paper_bgcolor": "#F5F6F9",
        "plot_bgcolor": "#F5F6F9",
        "template": {
         "data": {
          "bar": [
           {
            "error_x": {
             "color": "#2a3f5f"
            },
            "error_y": {
             "color": "#2a3f5f"
            },
            "marker": {
             "line": {
              "color": "#E5ECF6",
              "width": 0.5
             },
             "pattern": {
              "fillmode": "overlay",
              "size": 10,
              "solidity": 0.2
             }
            },
            "type": "bar"
           }
          ],
          "barpolar": [
           {
            "marker": {
             "line": {
              "color": "#E5ECF6",
              "width": 0.5
             },
             "pattern": {
              "fillmode": "overlay",
              "size": 10,
              "solidity": 0.2
             }
            },
            "type": "barpolar"
           }
          ],
          "carpet": [
           {
            "aaxis": {
             "endlinecolor": "#2a3f5f",
             "gridcolor": "white",
             "linecolor": "white",
             "minorgridcolor": "white",
             "startlinecolor": "#2a3f5f"
            },
            "baxis": {
             "endlinecolor": "#2a3f5f",
             "gridcolor": "white",
             "linecolor": "white",
             "minorgridcolor": "white",
             "startlinecolor": "#2a3f5f"
            },
            "type": "carpet"
           }
          ],
          "choropleth": [
           {
            "colorbar": {
             "outlinewidth": 0,
             "ticks": ""
            },
            "type": "choropleth"
           }
          ],
          "contour": [
           {
            "colorbar": {
             "outlinewidth": 0,
             "ticks": ""
            },
            "colorscale": [
             [
              0,
              "#0d0887"
             ],
             [
              0.1111111111111111,
              "#46039f"
             ],
             [
              0.2222222222222222,
              "#7201a8"
             ],
             [
              0.3333333333333333,
              "#9c179e"
             ],
             [
              0.4444444444444444,
              "#bd3786"
             ],
             [
              0.5555555555555556,
              "#d8576b"
             ],
             [
              0.6666666666666666,
              "#ed7953"
             ],
             [
              0.7777777777777778,
              "#fb9f3a"
             ],
             [
              0.8888888888888888,
              "#fdca26"
             ],
             [
              1,
              "#f0f921"
             ]
            ],
            "type": "contour"
           }
          ],
          "contourcarpet": [
           {
            "colorbar": {
             "outlinewidth": 0,
             "ticks": ""
            },
            "type": "contourcarpet"
           }
          ],
          "heatmap": [
           {
            "colorbar": {
             "outlinewidth": 0,
             "ticks": ""
            },
            "colorscale": [
             [
              0,
              "#0d0887"
             ],
             [
              0.1111111111111111,
              "#46039f"
             ],
             [
              0.2222222222222222,
              "#7201a8"
             ],
             [
              0.3333333333333333,
              "#9c179e"
             ],
             [
              0.4444444444444444,
              "#bd3786"
             ],
             [
              0.5555555555555556,
              "#d8576b"
             ],
             [
              0.6666666666666666,
              "#ed7953"
             ],
             [
              0.7777777777777778,
              "#fb9f3a"
             ],
             [
              0.8888888888888888,
              "#fdca26"
             ],
             [
              1,
              "#f0f921"
             ]
            ],
            "type": "heatmap"
           }
          ],
          "heatmapgl": [
           {
            "colorbar": {
             "outlinewidth": 0,
             "ticks": ""
            },
            "colorscale": [
             [
              0,
              "#0d0887"
             ],
             [
              0.1111111111111111,
              "#46039f"
             ],
             [
              0.2222222222222222,
              "#7201a8"
             ],
             [
              0.3333333333333333,
              "#9c179e"
             ],
             [
              0.4444444444444444,
              "#bd3786"
             ],
             [
              0.5555555555555556,
              "#d8576b"
             ],
             [
              0.6666666666666666,
              "#ed7953"
             ],
             [
              0.7777777777777778,
              "#fb9f3a"
             ],
             [
              0.8888888888888888,
              "#fdca26"
             ],
             [
              1,
              "#f0f921"
             ]
            ],
            "type": "heatmapgl"
           }
          ],
          "histogram": [
           {
            "marker": {
             "pattern": {
              "fillmode": "overlay",
              "size": 10,
              "solidity": 0.2
             }
            },
            "type": "histogram"
           }
          ],
          "histogram2d": [
           {
            "colorbar": {
             "outlinewidth": 0,
             "ticks": ""
            },
            "colorscale": [
             [
              0,
              "#0d0887"
             ],
             [
              0.1111111111111111,
              "#46039f"
             ],
             [
              0.2222222222222222,
              "#7201a8"
             ],
             [
              0.3333333333333333,
              "#9c179e"
             ],
             [
              0.4444444444444444,
              "#bd3786"
             ],
             [
              0.5555555555555556,
              "#d8576b"
             ],
             [
              0.6666666666666666,
              "#ed7953"
             ],
             [
              0.7777777777777778,
              "#fb9f3a"
             ],
             [
              0.8888888888888888,
              "#fdca26"
             ],
             [
              1,
              "#f0f921"
             ]
            ],
            "type": "histogram2d"
           }
          ],
          "histogram2dcontour": [
           {
            "colorbar": {
             "outlinewidth": 0,
             "ticks": ""
            },
            "colorscale": [
             [
              0,
              "#0d0887"
             ],
             [
              0.1111111111111111,
              "#46039f"
             ],
             [
              0.2222222222222222,
              "#7201a8"
             ],
             [
              0.3333333333333333,
              "#9c179e"
             ],
             [
              0.4444444444444444,
              "#bd3786"
             ],
             [
              0.5555555555555556,
              "#d8576b"
             ],
             [
              0.6666666666666666,
              "#ed7953"
             ],
             [
              0.7777777777777778,
              "#fb9f3a"
             ],
             [
              0.8888888888888888,
              "#fdca26"
             ],
             [
              1,
              "#f0f921"
             ]
            ],
            "type": "histogram2dcontour"
           }
          ],
          "mesh3d": [
           {
            "colorbar": {
             "outlinewidth": 0,
             "ticks": ""
            },
            "type": "mesh3d"
           }
          ],
          "parcoords": [
           {
            "line": {
             "colorbar": {
              "outlinewidth": 0,
              "ticks": ""
             }
            },
            "type": "parcoords"
           }
          ],
          "pie": [
           {
            "automargin": true,
            "type": "pie"
           }
          ],
          "scatter": [
           {
            "marker": {
             "colorbar": {
              "outlinewidth": 0,
              "ticks": ""
             }
            },
            "type": "scatter"
           }
          ],
          "scatter3d": [
           {
            "line": {
             "colorbar": {
              "outlinewidth": 0,
              "ticks": ""
             }
            },
            "marker": {
             "colorbar": {
              "outlinewidth": 0,
              "ticks": ""
             }
            },
            "type": "scatter3d"
           }
          ],
          "scattercarpet": [
           {
            "marker": {
             "colorbar": {
              "outlinewidth": 0,
              "ticks": ""
             }
            },
            "type": "scattercarpet"
           }
          ],
          "scattergeo": [
           {
            "marker": {
             "colorbar": {
              "outlinewidth": 0,
              "ticks": ""
             }
            },
            "type": "scattergeo"
           }
          ],
          "scattergl": [
           {
            "marker": {
             "colorbar": {
              "outlinewidth": 0,
              "ticks": ""
             }
            },
            "type": "scattergl"
           }
          ],
          "scattermapbox": [
           {
            "marker": {
             "colorbar": {
              "outlinewidth": 0,
              "ticks": ""
             }
            },
            "type": "scattermapbox"
           }
          ],
          "scatterpolar": [
           {
            "marker": {
             "colorbar": {
              "outlinewidth": 0,
              "ticks": ""
             }
            },
            "type": "scatterpolar"
           }
          ],
          "scatterpolargl": [
           {
            "marker": {
             "colorbar": {
              "outlinewidth": 0,
              "ticks": ""
             }
            },
            "type": "scatterpolargl"
           }
          ],
          "scatterternary": [
           {
            "marker": {
             "colorbar": {
              "outlinewidth": 0,
              "ticks": ""
             }
            },
            "type": "scatterternary"
           }
          ],
          "surface": [
           {
            "colorbar": {
             "outlinewidth": 0,
             "ticks": ""
            },
            "colorscale": [
             [
              0,
              "#0d0887"
             ],
             [
              0.1111111111111111,
              "#46039f"
             ],
             [
              0.2222222222222222,
              "#7201a8"
             ],
             [
              0.3333333333333333,
              "#9c179e"
             ],
             [
              0.4444444444444444,
              "#bd3786"
             ],
             [
              0.5555555555555556,
              "#d8576b"
             ],
             [
              0.6666666666666666,
              "#ed7953"
             ],
             [
              0.7777777777777778,
              "#fb9f3a"
             ],
             [
              0.8888888888888888,
              "#fdca26"
             ],
             [
              1,
              "#f0f921"
             ]
            ],
            "type": "surface"
           }
          ],
          "table": [
           {
            "cells": {
             "fill": {
              "color": "#EBF0F8"
             },
             "line": {
              "color": "white"
             }
            },
            "header": {
             "fill": {
              "color": "#C8D4E3"
             },
             "line": {
              "color": "white"
             }
            },
            "type": "table"
           }
          ]
         },
         "layout": {
          "annotationdefaults": {
           "arrowcolor": "#2a3f5f",
           "arrowhead": 0,
           "arrowwidth": 1
          },
          "autotypenumbers": "strict",
          "coloraxis": {
           "colorbar": {
            "outlinewidth": 0,
            "ticks": ""
           }
          },
          "colorscale": {
           "diverging": [
            [
             0,
             "#8e0152"
            ],
            [
             0.1,
             "#c51b7d"
            ],
            [
             0.2,
             "#de77ae"
            ],
            [
             0.3,
             "#f1b6da"
            ],
            [
             0.4,
             "#fde0ef"
            ],
            [
             0.5,
             "#f7f7f7"
            ],
            [
             0.6,
             "#e6f5d0"
            ],
            [
             0.7,
             "#b8e186"
            ],
            [
             0.8,
             "#7fbc41"
            ],
            [
             0.9,
             "#4d9221"
            ],
            [
             1,
             "#276419"
            ]
           ],
           "sequential": [
            [
             0,
             "#0d0887"
            ],
            [
             0.1111111111111111,
             "#46039f"
            ],
            [
             0.2222222222222222,
             "#7201a8"
            ],
            [
             0.3333333333333333,
             "#9c179e"
            ],
            [
             0.4444444444444444,
             "#bd3786"
            ],
            [
             0.5555555555555556,
             "#d8576b"
            ],
            [
             0.6666666666666666,
             "#ed7953"
            ],
            [
             0.7777777777777778,
             "#fb9f3a"
            ],
            [
             0.8888888888888888,
             "#fdca26"
            ],
            [
             1,
             "#f0f921"
            ]
           ],
           "sequentialminus": [
            [
             0,
             "#0d0887"
            ],
            [
             0.1111111111111111,
             "#46039f"
            ],
            [
             0.2222222222222222,
             "#7201a8"
            ],
            [
             0.3333333333333333,
             "#9c179e"
            ],
            [
             0.4444444444444444,
             "#bd3786"
            ],
            [
             0.5555555555555556,
             "#d8576b"
            ],
            [
             0.6666666666666666,
             "#ed7953"
            ],
            [
             0.7777777777777778,
             "#fb9f3a"
            ],
            [
             0.8888888888888888,
             "#fdca26"
            ],
            [
             1,
             "#f0f921"
            ]
           ]
          },
          "colorway": [
           "#636efa",
           "#EF553B",
           "#00cc96",
           "#ab63fa",
           "#FFA15A",
           "#19d3f3",
           "#FF6692",
           "#B6E880",
           "#FF97FF",
           "#FECB52"
          ],
          "font": {
           "color": "#2a3f5f"
          },
          "geo": {
           "bgcolor": "white",
           "lakecolor": "white",
           "landcolor": "#E5ECF6",
           "showlakes": true,
           "showland": true,
           "subunitcolor": "white"
          },
          "hoverlabel": {
           "align": "left"
          },
          "hovermode": "closest",
          "mapbox": {
           "style": "light"
          },
          "paper_bgcolor": "white",
          "plot_bgcolor": "#E5ECF6",
          "polar": {
           "angularaxis": {
            "gridcolor": "white",
            "linecolor": "white",
            "ticks": ""
           },
           "bgcolor": "#E5ECF6",
           "radialaxis": {
            "gridcolor": "white",
            "linecolor": "white",
            "ticks": ""
           }
          },
          "scene": {
           "xaxis": {
            "backgroundcolor": "#E5ECF6",
            "gridcolor": "white",
            "gridwidth": 2,
            "linecolor": "white",
            "showbackground": true,
            "ticks": "",
            "zerolinecolor": "white"
           },
           "yaxis": {
            "backgroundcolor": "#E5ECF6",
            "gridcolor": "white",
            "gridwidth": 2,
            "linecolor": "white",
            "showbackground": true,
            "ticks": "",
            "zerolinecolor": "white"
           },
           "zaxis": {
            "backgroundcolor": "#E5ECF6",
            "gridcolor": "white",
            "gridwidth": 2,
            "linecolor": "white",
            "showbackground": true,
            "ticks": "",
            "zerolinecolor": "white"
           }
          },
          "shapedefaults": {
           "line": {
            "color": "#2a3f5f"
           }
          },
          "ternary": {
           "aaxis": {
            "gridcolor": "white",
            "linecolor": "white",
            "ticks": ""
           },
           "baxis": {
            "gridcolor": "white",
            "linecolor": "white",
            "ticks": ""
           },
           "bgcolor": "#E5ECF6",
           "caxis": {
            "gridcolor": "white",
            "linecolor": "white",
            "ticks": ""
           }
          },
          "title": {
           "x": 0.05
          },
          "xaxis": {
           "automargin": true,
           "gridcolor": "white",
           "linecolor": "white",
           "ticks": "",
           "title": {
            "standoff": 15
           },
           "zerolinecolor": "white",
           "zerolinewidth": 2
          },
          "yaxis": {
           "automargin": true,
           "gridcolor": "white",
           "linecolor": "white",
           "ticks": "",
           "title": {
            "standoff": 15
           },
           "zerolinecolor": "white",
           "zerolinewidth": 2
          }
         }
        },
        "title": {
         "font": {
          "color": "#4D5663"
         }
        },
        "xaxis": {
         "gridcolor": "#E1E5ED",
         "showgrid": true,
         "tickfont": {
          "color": "#4D5663"
         },
         "title": {
          "font": {
           "color": "#4D5663"
          },
          "text": ""
         },
         "zerolinecolor": "#E1E5ED"
        },
        "yaxis": {
         "gridcolor": "#E1E5ED",
         "showgrid": true,
         "tickfont": {
          "color": "#4D5663"
         },
         "title": {
          "font": {
           "color": "#4D5663"
          },
          "text": ""
         },
         "zerolinecolor": "#E1E5ED"
        }
       }
      },
      "text/html": [
       "<div>                            <div id=\"957a3351-dde2-4501-ad81-6a7d24d00b1a\" class=\"plotly-graph-div\" style=\"height:525px; width:100%;\"></div>            <script type=\"text/javascript\">                require([\"plotly\"], function(Plotly) {                    window.PLOTLYENV=window.PLOTLYENV || {};\n",
       "                    window.PLOTLYENV.BASE_URL='https://plot.ly';                                    if (document.getElementById(\"957a3351-dde2-4501-ad81-6a7d24d00b1a\")) {                    Plotly.newPlot(                        \"957a3351-dde2-4501-ad81-6a7d24d00b1a\",                        [{\"line\":{\"color\":\"rgba(255, 153, 51, 1.0)\",\"dash\":\"solid\",\"shape\":\"linear\",\"width\":1.3},\"marker\":{\"size\":100,\"symbol\":\"circle\"},\"mode\":\"markers\",\"name\":\"B\",\"text\":\"\",\"x\":[-0.29792637723830706,-0.8923819296462833,1.7234105293049453,1.1902856556990573,-0.8971157565602627,1.9016718722180468,2.1981831744181273,1.6152737096444651,0.6630607606857006,0.1787979525329411,-3.239738292524836,-0.53315562551175,0.0883147667036451,0.5128570247460148,-1.4245673129546816,-0.8829566104004147,-0.23576010869289576,-1.4893491280250946,-0.11930770415481325,0.039321849199490506,3.391647838952632,0.5476353876974875,-0.2534666095410885,-0.08182300855229281,-0.5947906651081367,-0.44406107899545727,-1.1766935412205732,0.04724334034912506,-1.1282197637211864,-1.3633191991566411,0.08931042262251068,-1.6514931206316124,0.2573064197241399,-0.09618157240552419,-0.2821640899252809,2.072639145670152,-1.3064183793637834,0.5666643360549753,2.167983667887979,-1.7997094591822478,-1.3984258918281744,0.7923508493361261,1.0019900793334853,0.7547858757415697,-1.1657783774034458,0.6040869922836244,-0.9089129838599386,-0.49326283550143907,1.0235749881903948,-0.567917478431189,1.0205085705734438,0.0535796934923246,0.9393152685735218,1.9030809579995547,0.3672883715619356,0.23494199881016803,0.4914009582895803,0.5176997332721902,-1.4966314130443783,0.22303127391633099,-1.502849907548389,2.475067453641193,0.9674539658108846,-0.9049278695125385,1.0021395031158833,-0.660208091026908,-0.5951734240824909,0.21899055285269242,0.6246983479993481,0.987855773396582,-1.8460665089932002,0.6976000379232323,0.7247707889465178,-0.5816330634150041,-1.5150489632409443,-0.9992632308133234,0.44752893121426174,0.18263204541538194,-1.3981717858694003,-0.6356891039393294,1.500070809321363,-0.3808477889680422,-0.6915358182250247,1.6803152829172159,-0.07072625552412308,0.8434747706058304,-0.4239789000407887,0.31369768093824313,-0.8467382980279881,1.2274022943467247,-0.12250938725284559,0.8942354663369965,1.414113279962558,-0.5856272477798551,0.36394686169407825,0.7249424887515578,-0.46950443180630724,0.4729936694292356,-0.8485760051455363,0.35291365328940083],\"y\":[-0.27890638144659863,0.2564283115044753,2.0174188936129314,0.17884187654629052,0.6276306885511054,0.25517644080451013,0.5508572027297509,1.392780435627884,1.3853327824907755,-0.801103842810928,-0.001601404928749617,-0.9475761194186775,0.572154179249944,-0.6324681659779058,0.8598698255239071,-0.7783369908541763,1.3818341271063763,-2.2080389329280288,1.5073674499577574,-0.1019930982510935,0.43317859963726907,0.46339848888440005,0.6556941971116744,-1.4774390391999683,-0.08247343631477118,0.9318408562822978,-0.2437630237208761,0.709745135347247,-1.1980141538049263,-1.230084516882016,-0.4306773799810202,-0.698266606290243,-0.7188133783350102,2.568073428264933,-0.11660377208094476,-0.3862154841965922,-0.22468792258072193,-1.6692365366552586,-0.3907611496422901,0.8472486833608247,-0.1542379734459378,0.5428076346628236,0.9163169167747229,0.7479248109497993,-0.4599167283229178,-0.4158595238788836,1.4755177836228144,-0.3454801694148016,-0.4296188382525576,1.7840817951609869,0.6790872482049964,0.008471450166828386,1.175802937100522,-2.155095030872273,-1.338652866595385,3.5320652854346632,0.15039743192536045,-0.7595581411619825,-1.5497698692887814,-1.7579991728730961,0.6429642387933477,0.03707849420466005,-0.5048458961042922,1.0543952677595512,1.685256962282488,-0.126171706516759,-1.929411529416697,-0.5848888872214338,1.1706676637370832,0.18320626733244844,-0.8135662236959479,-0.28285989529840444,0.28366750169729643,0.32613455837936983,-0.7507228209579063,-0.7723323531299727,-0.17435743889643146,-0.3213401177857931,-0.4720057893827924,0.30594456898809574,-0.16812017886134412,-1.26457624790978,0.12876796266339094,0.6237170016964371,-0.43451931186664317,0.961503849615867,-0.999094324696313,0.33875229400625106,-0.20213887711847134,0.9615983571900286,-1.2623271153107787,0.07274658982509276,1.2673817361870017,0.21102180058163456,-0.07096262606609763,0.07472500119163265,-1.5094809420943585,-0.5869569407152632,-0.1565115901911661,0.5896397894956978],\"type\":\"scatter\"}],                        {\"legend\":{\"bgcolor\":\"#F5F6F9\",\"font\":{\"color\":\"#4D5663\"}},\"paper_bgcolor\":\"#F5F6F9\",\"plot_bgcolor\":\"#F5F6F9\",\"template\":{\"data\":{\"barpolar\":[{\"marker\":{\"line\":{\"color\":\"#E5ECF6\",\"width\":0.5},\"pattern\":{\"fillmode\":\"overlay\",\"size\":10,\"solidity\":0.2}},\"type\":\"barpolar\"}],\"bar\":[{\"error_x\":{\"color\":\"#2a3f5f\"},\"error_y\":{\"color\":\"#2a3f5f\"},\"marker\":{\"line\":{\"color\":\"#E5ECF6\",\"width\":0.5},\"pattern\":{\"fillmode\":\"overlay\",\"size\":10,\"solidity\":0.2}},\"type\":\"bar\"}],\"carpet\":[{\"aaxis\":{\"endlinecolor\":\"#2a3f5f\",\"gridcolor\":\"white\",\"linecolor\":\"white\",\"minorgridcolor\":\"white\",\"startlinecolor\":\"#2a3f5f\"},\"baxis\":{\"endlinecolor\":\"#2a3f5f\",\"gridcolor\":\"white\",\"linecolor\":\"white\",\"minorgridcolor\":\"white\",\"startlinecolor\":\"#2a3f5f\"},\"type\":\"carpet\"}],\"choropleth\":[{\"colorbar\":{\"outlinewidth\":0,\"ticks\":\"\"},\"type\":\"choropleth\"}],\"contourcarpet\":[{\"colorbar\":{\"outlinewidth\":0,\"ticks\":\"\"},\"type\":\"contourcarpet\"}],\"contour\":[{\"colorbar\":{\"outlinewidth\":0,\"ticks\":\"\"},\"colorscale\":[[0.0,\"#0d0887\"],[0.1111111111111111,\"#46039f\"],[0.2222222222222222,\"#7201a8\"],[0.3333333333333333,\"#9c179e\"],[0.4444444444444444,\"#bd3786\"],[0.5555555555555556,\"#d8576b\"],[0.6666666666666666,\"#ed7953\"],[0.7777777777777778,\"#fb9f3a\"],[0.8888888888888888,\"#fdca26\"],[1.0,\"#f0f921\"]],\"type\":\"contour\"}],\"heatmapgl\":[{\"colorbar\":{\"outlinewidth\":0,\"ticks\":\"\"},\"colorscale\":[[0.0,\"#0d0887\"],[0.1111111111111111,\"#46039f\"],[0.2222222222222222,\"#7201a8\"],[0.3333333333333333,\"#9c179e\"],[0.4444444444444444,\"#bd3786\"],[0.5555555555555556,\"#d8576b\"],[0.6666666666666666,\"#ed7953\"],[0.7777777777777778,\"#fb9f3a\"],[0.8888888888888888,\"#fdca26\"],[1.0,\"#f0f921\"]],\"type\":\"heatmapgl\"}],\"heatmap\":[{\"colorbar\":{\"outlinewidth\":0,\"ticks\":\"\"},\"colorscale\":[[0.0,\"#0d0887\"],[0.1111111111111111,\"#46039f\"],[0.2222222222222222,\"#7201a8\"],[0.3333333333333333,\"#9c179e\"],[0.4444444444444444,\"#bd3786\"],[0.5555555555555556,\"#d8576b\"],[0.6666666666666666,\"#ed7953\"],[0.7777777777777778,\"#fb9f3a\"],[0.8888888888888888,\"#fdca26\"],[1.0,\"#f0f921\"]],\"type\":\"heatmap\"}],\"histogram2dcontour\":[{\"colorbar\":{\"outlinewidth\":0,\"ticks\":\"\"},\"colorscale\":[[0.0,\"#0d0887\"],[0.1111111111111111,\"#46039f\"],[0.2222222222222222,\"#7201a8\"],[0.3333333333333333,\"#9c179e\"],[0.4444444444444444,\"#bd3786\"],[0.5555555555555556,\"#d8576b\"],[0.6666666666666666,\"#ed7953\"],[0.7777777777777778,\"#fb9f3a\"],[0.8888888888888888,\"#fdca26\"],[1.0,\"#f0f921\"]],\"type\":\"histogram2dcontour\"}],\"histogram2d\":[{\"colorbar\":{\"outlinewidth\":0,\"ticks\":\"\"},\"colorscale\":[[0.0,\"#0d0887\"],[0.1111111111111111,\"#46039f\"],[0.2222222222222222,\"#7201a8\"],[0.3333333333333333,\"#9c179e\"],[0.4444444444444444,\"#bd3786\"],[0.5555555555555556,\"#d8576b\"],[0.6666666666666666,\"#ed7953\"],[0.7777777777777778,\"#fb9f3a\"],[0.8888888888888888,\"#fdca26\"],[1.0,\"#f0f921\"]],\"type\":\"histogram2d\"}],\"histogram\":[{\"marker\":{\"pattern\":{\"fillmode\":\"overlay\",\"size\":10,\"solidity\":0.2}},\"type\":\"histogram\"}],\"mesh3d\":[{\"colorbar\":{\"outlinewidth\":0,\"ticks\":\"\"},\"type\":\"mesh3d\"}],\"parcoords\":[{\"line\":{\"colorbar\":{\"outlinewidth\":0,\"ticks\":\"\"}},\"type\":\"parcoords\"}],\"pie\":[{\"automargin\":true,\"type\":\"pie\"}],\"scatter3d\":[{\"line\":{\"colorbar\":{\"outlinewidth\":0,\"ticks\":\"\"}},\"marker\":{\"colorbar\":{\"outlinewidth\":0,\"ticks\":\"\"}},\"type\":\"scatter3d\"}],\"scattercarpet\":[{\"marker\":{\"colorbar\":{\"outlinewidth\":0,\"ticks\":\"\"}},\"type\":\"scattercarpet\"}],\"scattergeo\":[{\"marker\":{\"colorbar\":{\"outlinewidth\":0,\"ticks\":\"\"}},\"type\":\"scattergeo\"}],\"scattergl\":[{\"marker\":{\"colorbar\":{\"outlinewidth\":0,\"ticks\":\"\"}},\"type\":\"scattergl\"}],\"scattermapbox\":[{\"marker\":{\"colorbar\":{\"outlinewidth\":0,\"ticks\":\"\"}},\"type\":\"scattermapbox\"}],\"scatterpolargl\":[{\"marker\":{\"colorbar\":{\"outlinewidth\":0,\"ticks\":\"\"}},\"type\":\"scatterpolargl\"}],\"scatterpolar\":[{\"marker\":{\"colorbar\":{\"outlinewidth\":0,\"ticks\":\"\"}},\"type\":\"scatterpolar\"}],\"scatter\":[{\"marker\":{\"colorbar\":{\"outlinewidth\":0,\"ticks\":\"\"}},\"type\":\"scatter\"}],\"scatterternary\":[{\"marker\":{\"colorbar\":{\"outlinewidth\":0,\"ticks\":\"\"}},\"type\":\"scatterternary\"}],\"surface\":[{\"colorbar\":{\"outlinewidth\":0,\"ticks\":\"\"},\"colorscale\":[[0.0,\"#0d0887\"],[0.1111111111111111,\"#46039f\"],[0.2222222222222222,\"#7201a8\"],[0.3333333333333333,\"#9c179e\"],[0.4444444444444444,\"#bd3786\"],[0.5555555555555556,\"#d8576b\"],[0.6666666666666666,\"#ed7953\"],[0.7777777777777778,\"#fb9f3a\"],[0.8888888888888888,\"#fdca26\"],[1.0,\"#f0f921\"]],\"type\":\"surface\"}],\"table\":[{\"cells\":{\"fill\":{\"color\":\"#EBF0F8\"},\"line\":{\"color\":\"white\"}},\"header\":{\"fill\":{\"color\":\"#C8D4E3\"},\"line\":{\"color\":\"white\"}},\"type\":\"table\"}]},\"layout\":{\"annotationdefaults\":{\"arrowcolor\":\"#2a3f5f\",\"arrowhead\":0,\"arrowwidth\":1},\"autotypenumbers\":\"strict\",\"coloraxis\":{\"colorbar\":{\"outlinewidth\":0,\"ticks\":\"\"}},\"colorscale\":{\"diverging\":[[0,\"#8e0152\"],[0.1,\"#c51b7d\"],[0.2,\"#de77ae\"],[0.3,\"#f1b6da\"],[0.4,\"#fde0ef\"],[0.5,\"#f7f7f7\"],[0.6,\"#e6f5d0\"],[0.7,\"#b8e186\"],[0.8,\"#7fbc41\"],[0.9,\"#4d9221\"],[1,\"#276419\"]],\"sequential\":[[0.0,\"#0d0887\"],[0.1111111111111111,\"#46039f\"],[0.2222222222222222,\"#7201a8\"],[0.3333333333333333,\"#9c179e\"],[0.4444444444444444,\"#bd3786\"],[0.5555555555555556,\"#d8576b\"],[0.6666666666666666,\"#ed7953\"],[0.7777777777777778,\"#fb9f3a\"],[0.8888888888888888,\"#fdca26\"],[1.0,\"#f0f921\"]],\"sequentialminus\":[[0.0,\"#0d0887\"],[0.1111111111111111,\"#46039f\"],[0.2222222222222222,\"#7201a8\"],[0.3333333333333333,\"#9c179e\"],[0.4444444444444444,\"#bd3786\"],[0.5555555555555556,\"#d8576b\"],[0.6666666666666666,\"#ed7953\"],[0.7777777777777778,\"#fb9f3a\"],[0.8888888888888888,\"#fdca26\"],[1.0,\"#f0f921\"]]},\"colorway\":[\"#636efa\",\"#EF553B\",\"#00cc96\",\"#ab63fa\",\"#FFA15A\",\"#19d3f3\",\"#FF6692\",\"#B6E880\",\"#FF97FF\",\"#FECB52\"],\"font\":{\"color\":\"#2a3f5f\"},\"geo\":{\"bgcolor\":\"white\",\"lakecolor\":\"white\",\"landcolor\":\"#E5ECF6\",\"showlakes\":true,\"showland\":true,\"subunitcolor\":\"white\"},\"hoverlabel\":{\"align\":\"left\"},\"hovermode\":\"closest\",\"mapbox\":{\"style\":\"light\"},\"paper_bgcolor\":\"white\",\"plot_bgcolor\":\"#E5ECF6\",\"polar\":{\"angularaxis\":{\"gridcolor\":\"white\",\"linecolor\":\"white\",\"ticks\":\"\"},\"bgcolor\":\"#E5ECF6\",\"radialaxis\":{\"gridcolor\":\"white\",\"linecolor\":\"white\",\"ticks\":\"\"}},\"scene\":{\"xaxis\":{\"backgroundcolor\":\"#E5ECF6\",\"gridcolor\":\"white\",\"gridwidth\":2,\"linecolor\":\"white\",\"showbackground\":true,\"ticks\":\"\",\"zerolinecolor\":\"white\"},\"yaxis\":{\"backgroundcolor\":\"#E5ECF6\",\"gridcolor\":\"white\",\"gridwidth\":2,\"linecolor\":\"white\",\"showbackground\":true,\"ticks\":\"\",\"zerolinecolor\":\"white\"},\"zaxis\":{\"backgroundcolor\":\"#E5ECF6\",\"gridcolor\":\"white\",\"gridwidth\":2,\"linecolor\":\"white\",\"showbackground\":true,\"ticks\":\"\",\"zerolinecolor\":\"white\"}},\"shapedefaults\":{\"line\":{\"color\":\"#2a3f5f\"}},\"ternary\":{\"aaxis\":{\"gridcolor\":\"white\",\"linecolor\":\"white\",\"ticks\":\"\"},\"baxis\":{\"gridcolor\":\"white\",\"linecolor\":\"white\",\"ticks\":\"\"},\"bgcolor\":\"#E5ECF6\",\"caxis\":{\"gridcolor\":\"white\",\"linecolor\":\"white\",\"ticks\":\"\"}},\"title\":{\"x\":0.05},\"xaxis\":{\"automargin\":true,\"gridcolor\":\"white\",\"linecolor\":\"white\",\"ticks\":\"\",\"title\":{\"standoff\":15},\"zerolinecolor\":\"white\",\"zerolinewidth\":2},\"yaxis\":{\"automargin\":true,\"gridcolor\":\"white\",\"linecolor\":\"white\",\"ticks\":\"\",\"title\":{\"standoff\":15},\"zerolinecolor\":\"white\",\"zerolinewidth\":2}}},\"title\":{\"font\":{\"color\":\"#4D5663\"}},\"xaxis\":{\"gridcolor\":\"#E1E5ED\",\"showgrid\":true,\"tickfont\":{\"color\":\"#4D5663\"},\"title\":{\"font\":{\"color\":\"#4D5663\"},\"text\":\"\"},\"zerolinecolor\":\"#E1E5ED\"},\"yaxis\":{\"gridcolor\":\"#E1E5ED\",\"showgrid\":true,\"tickfont\":{\"color\":\"#4D5663\"},\"title\":{\"font\":{\"color\":\"#4D5663\"},\"text\":\"\"},\"zerolinecolor\":\"#E1E5ED\"}},                        {\"showLink\": true, \"linkText\": \"Export to plot.ly\", \"plotlyServerURL\": \"https://plot.ly\", \"responsive\": true}                    ).then(function(){\n",
       "                            \n",
       "var gd = document.getElementById('957a3351-dde2-4501-ad81-6a7d24d00b1a');\n",
       "var x = new MutationObserver(function (mutations, observer) {{\n",
       "        var display = window.getComputedStyle(gd).display;\n",
       "        if (!display || display === 'none') {{\n",
       "            console.log([gd, 'removed!']);\n",
       "            Plotly.purge(gd);\n",
       "            observer.disconnect();\n",
       "        }}\n",
       "}});\n",
       "\n",
       "// Listen for the removal of the full notebook cells\n",
       "var notebookContainer = gd.closest('#notebook-container');\n",
       "if (notebookContainer) {{\n",
       "    x.observe(notebookContainer, {childList: true});\n",
       "}}\n",
       "\n",
       "// Listen for the clearing of the current output cell\n",
       "var outputEl = gd.closest('.output');\n",
       "if (outputEl) {{\n",
       "    x.observe(outputEl, {childList: true});\n",
       "}}\n",
       "\n",
       "                        })                };                });            </script>        </div>"
      ]
     },
     "metadata": {},
     "output_type": "display_data"
    }
   ],
   "source": [
    "df.iplot(kind='scatter',x='A',y='B',mode='markers',size=100)"
   ]
  },
  {
   "cell_type": "code",
   "execution_count": 24,
   "id": "208d0ff2",
   "metadata": {},
   "outputs": [
    {
     "data": {
      "application/vnd.plotly.v1+json": {
       "config": {
        "linkText": "Export to plot.ly",
        "plotlyServerURL": "https://plot.ly",
        "showLink": true
       },
       "data": [
        {
         "marker": {
          "color": "rgba(255, 153, 51, 0.6)",
          "line": {
           "color": "rgba(255, 153, 51, 1.0)",
           "width": 1
          }
         },
         "name": "Values",
         "orientation": "v",
         "text": "",
         "type": "bar",
         "x": [
          "A",
          "B",
          "C"
         ],
         "y": [
          32,
          43,
          50
         ]
        }
       ],
       "layout": {
        "legend": {
         "bgcolor": "#F5F6F9",
         "font": {
          "color": "#4D5663"
         }
        },
        "paper_bgcolor": "#F5F6F9",
        "plot_bgcolor": "#F5F6F9",
        "template": {
         "data": {
          "bar": [
           {
            "error_x": {
             "color": "#2a3f5f"
            },
            "error_y": {
             "color": "#2a3f5f"
            },
            "marker": {
             "line": {
              "color": "#E5ECF6",
              "width": 0.5
             },
             "pattern": {
              "fillmode": "overlay",
              "size": 10,
              "solidity": 0.2
             }
            },
            "type": "bar"
           }
          ],
          "barpolar": [
           {
            "marker": {
             "line": {
              "color": "#E5ECF6",
              "width": 0.5
             },
             "pattern": {
              "fillmode": "overlay",
              "size": 10,
              "solidity": 0.2
             }
            },
            "type": "barpolar"
           }
          ],
          "carpet": [
           {
            "aaxis": {
             "endlinecolor": "#2a3f5f",
             "gridcolor": "white",
             "linecolor": "white",
             "minorgridcolor": "white",
             "startlinecolor": "#2a3f5f"
            },
            "baxis": {
             "endlinecolor": "#2a3f5f",
             "gridcolor": "white",
             "linecolor": "white",
             "minorgridcolor": "white",
             "startlinecolor": "#2a3f5f"
            },
            "type": "carpet"
           }
          ],
          "choropleth": [
           {
            "colorbar": {
             "outlinewidth": 0,
             "ticks": ""
            },
            "type": "choropleth"
           }
          ],
          "contour": [
           {
            "colorbar": {
             "outlinewidth": 0,
             "ticks": ""
            },
            "colorscale": [
             [
              0,
              "#0d0887"
             ],
             [
              0.1111111111111111,
              "#46039f"
             ],
             [
              0.2222222222222222,
              "#7201a8"
             ],
             [
              0.3333333333333333,
              "#9c179e"
             ],
             [
              0.4444444444444444,
              "#bd3786"
             ],
             [
              0.5555555555555556,
              "#d8576b"
             ],
             [
              0.6666666666666666,
              "#ed7953"
             ],
             [
              0.7777777777777778,
              "#fb9f3a"
             ],
             [
              0.8888888888888888,
              "#fdca26"
             ],
             [
              1,
              "#f0f921"
             ]
            ],
            "type": "contour"
           }
          ],
          "contourcarpet": [
           {
            "colorbar": {
             "outlinewidth": 0,
             "ticks": ""
            },
            "type": "contourcarpet"
           }
          ],
          "heatmap": [
           {
            "colorbar": {
             "outlinewidth": 0,
             "ticks": ""
            },
            "colorscale": [
             [
              0,
              "#0d0887"
             ],
             [
              0.1111111111111111,
              "#46039f"
             ],
             [
              0.2222222222222222,
              "#7201a8"
             ],
             [
              0.3333333333333333,
              "#9c179e"
             ],
             [
              0.4444444444444444,
              "#bd3786"
             ],
             [
              0.5555555555555556,
              "#d8576b"
             ],
             [
              0.6666666666666666,
              "#ed7953"
             ],
             [
              0.7777777777777778,
              "#fb9f3a"
             ],
             [
              0.8888888888888888,
              "#fdca26"
             ],
             [
              1,
              "#f0f921"
             ]
            ],
            "type": "heatmap"
           }
          ],
          "heatmapgl": [
           {
            "colorbar": {
             "outlinewidth": 0,
             "ticks": ""
            },
            "colorscale": [
             [
              0,
              "#0d0887"
             ],
             [
              0.1111111111111111,
              "#46039f"
             ],
             [
              0.2222222222222222,
              "#7201a8"
             ],
             [
              0.3333333333333333,
              "#9c179e"
             ],
             [
              0.4444444444444444,
              "#bd3786"
             ],
             [
              0.5555555555555556,
              "#d8576b"
             ],
             [
              0.6666666666666666,
              "#ed7953"
             ],
             [
              0.7777777777777778,
              "#fb9f3a"
             ],
             [
              0.8888888888888888,
              "#fdca26"
             ],
             [
              1,
              "#f0f921"
             ]
            ],
            "type": "heatmapgl"
           }
          ],
          "histogram": [
           {
            "marker": {
             "pattern": {
              "fillmode": "overlay",
              "size": 10,
              "solidity": 0.2
             }
            },
            "type": "histogram"
           }
          ],
          "histogram2d": [
           {
            "colorbar": {
             "outlinewidth": 0,
             "ticks": ""
            },
            "colorscale": [
             [
              0,
              "#0d0887"
             ],
             [
              0.1111111111111111,
              "#46039f"
             ],
             [
              0.2222222222222222,
              "#7201a8"
             ],
             [
              0.3333333333333333,
              "#9c179e"
             ],
             [
              0.4444444444444444,
              "#bd3786"
             ],
             [
              0.5555555555555556,
              "#d8576b"
             ],
             [
              0.6666666666666666,
              "#ed7953"
             ],
             [
              0.7777777777777778,
              "#fb9f3a"
             ],
             [
              0.8888888888888888,
              "#fdca26"
             ],
             [
              1,
              "#f0f921"
             ]
            ],
            "type": "histogram2d"
           }
          ],
          "histogram2dcontour": [
           {
            "colorbar": {
             "outlinewidth": 0,
             "ticks": ""
            },
            "colorscale": [
             [
              0,
              "#0d0887"
             ],
             [
              0.1111111111111111,
              "#46039f"
             ],
             [
              0.2222222222222222,
              "#7201a8"
             ],
             [
              0.3333333333333333,
              "#9c179e"
             ],
             [
              0.4444444444444444,
              "#bd3786"
             ],
             [
              0.5555555555555556,
              "#d8576b"
             ],
             [
              0.6666666666666666,
              "#ed7953"
             ],
             [
              0.7777777777777778,
              "#fb9f3a"
             ],
             [
              0.8888888888888888,
              "#fdca26"
             ],
             [
              1,
              "#f0f921"
             ]
            ],
            "type": "histogram2dcontour"
           }
          ],
          "mesh3d": [
           {
            "colorbar": {
             "outlinewidth": 0,
             "ticks": ""
            },
            "type": "mesh3d"
           }
          ],
          "parcoords": [
           {
            "line": {
             "colorbar": {
              "outlinewidth": 0,
              "ticks": ""
             }
            },
            "type": "parcoords"
           }
          ],
          "pie": [
           {
            "automargin": true,
            "type": "pie"
           }
          ],
          "scatter": [
           {
            "marker": {
             "colorbar": {
              "outlinewidth": 0,
              "ticks": ""
             }
            },
            "type": "scatter"
           }
          ],
          "scatter3d": [
           {
            "line": {
             "colorbar": {
              "outlinewidth": 0,
              "ticks": ""
             }
            },
            "marker": {
             "colorbar": {
              "outlinewidth": 0,
              "ticks": ""
             }
            },
            "type": "scatter3d"
           }
          ],
          "scattercarpet": [
           {
            "marker": {
             "colorbar": {
              "outlinewidth": 0,
              "ticks": ""
             }
            },
            "type": "scattercarpet"
           }
          ],
          "scattergeo": [
           {
            "marker": {
             "colorbar": {
              "outlinewidth": 0,
              "ticks": ""
             }
            },
            "type": "scattergeo"
           }
          ],
          "scattergl": [
           {
            "marker": {
             "colorbar": {
              "outlinewidth": 0,
              "ticks": ""
             }
            },
            "type": "scattergl"
           }
          ],
          "scattermapbox": [
           {
            "marker": {
             "colorbar": {
              "outlinewidth": 0,
              "ticks": ""
             }
            },
            "type": "scattermapbox"
           }
          ],
          "scatterpolar": [
           {
            "marker": {
             "colorbar": {
              "outlinewidth": 0,
              "ticks": ""
             }
            },
            "type": "scatterpolar"
           }
          ],
          "scatterpolargl": [
           {
            "marker": {
             "colorbar": {
              "outlinewidth": 0,
              "ticks": ""
             }
            },
            "type": "scatterpolargl"
           }
          ],
          "scatterternary": [
           {
            "marker": {
             "colorbar": {
              "outlinewidth": 0,
              "ticks": ""
             }
            },
            "type": "scatterternary"
           }
          ],
          "surface": [
           {
            "colorbar": {
             "outlinewidth": 0,
             "ticks": ""
            },
            "colorscale": [
             [
              0,
              "#0d0887"
             ],
             [
              0.1111111111111111,
              "#46039f"
             ],
             [
              0.2222222222222222,
              "#7201a8"
             ],
             [
              0.3333333333333333,
              "#9c179e"
             ],
             [
              0.4444444444444444,
              "#bd3786"
             ],
             [
              0.5555555555555556,
              "#d8576b"
             ],
             [
              0.6666666666666666,
              "#ed7953"
             ],
             [
              0.7777777777777778,
              "#fb9f3a"
             ],
             [
              0.8888888888888888,
              "#fdca26"
             ],
             [
              1,
              "#f0f921"
             ]
            ],
            "type": "surface"
           }
          ],
          "table": [
           {
            "cells": {
             "fill": {
              "color": "#EBF0F8"
             },
             "line": {
              "color": "white"
             }
            },
            "header": {
             "fill": {
              "color": "#C8D4E3"
             },
             "line": {
              "color": "white"
             }
            },
            "type": "table"
           }
          ]
         },
         "layout": {
          "annotationdefaults": {
           "arrowcolor": "#2a3f5f",
           "arrowhead": 0,
           "arrowwidth": 1
          },
          "autotypenumbers": "strict",
          "coloraxis": {
           "colorbar": {
            "outlinewidth": 0,
            "ticks": ""
           }
          },
          "colorscale": {
           "diverging": [
            [
             0,
             "#8e0152"
            ],
            [
             0.1,
             "#c51b7d"
            ],
            [
             0.2,
             "#de77ae"
            ],
            [
             0.3,
             "#f1b6da"
            ],
            [
             0.4,
             "#fde0ef"
            ],
            [
             0.5,
             "#f7f7f7"
            ],
            [
             0.6,
             "#e6f5d0"
            ],
            [
             0.7,
             "#b8e186"
            ],
            [
             0.8,
             "#7fbc41"
            ],
            [
             0.9,
             "#4d9221"
            ],
            [
             1,
             "#276419"
            ]
           ],
           "sequential": [
            [
             0,
             "#0d0887"
            ],
            [
             0.1111111111111111,
             "#46039f"
            ],
            [
             0.2222222222222222,
             "#7201a8"
            ],
            [
             0.3333333333333333,
             "#9c179e"
            ],
            [
             0.4444444444444444,
             "#bd3786"
            ],
            [
             0.5555555555555556,
             "#d8576b"
            ],
            [
             0.6666666666666666,
             "#ed7953"
            ],
            [
             0.7777777777777778,
             "#fb9f3a"
            ],
            [
             0.8888888888888888,
             "#fdca26"
            ],
            [
             1,
             "#f0f921"
            ]
           ],
           "sequentialminus": [
            [
             0,
             "#0d0887"
            ],
            [
             0.1111111111111111,
             "#46039f"
            ],
            [
             0.2222222222222222,
             "#7201a8"
            ],
            [
             0.3333333333333333,
             "#9c179e"
            ],
            [
             0.4444444444444444,
             "#bd3786"
            ],
            [
             0.5555555555555556,
             "#d8576b"
            ],
            [
             0.6666666666666666,
             "#ed7953"
            ],
            [
             0.7777777777777778,
             "#fb9f3a"
            ],
            [
             0.8888888888888888,
             "#fdca26"
            ],
            [
             1,
             "#f0f921"
            ]
           ]
          },
          "colorway": [
           "#636efa",
           "#EF553B",
           "#00cc96",
           "#ab63fa",
           "#FFA15A",
           "#19d3f3",
           "#FF6692",
           "#B6E880",
           "#FF97FF",
           "#FECB52"
          ],
          "font": {
           "color": "#2a3f5f"
          },
          "geo": {
           "bgcolor": "white",
           "lakecolor": "white",
           "landcolor": "#E5ECF6",
           "showlakes": true,
           "showland": true,
           "subunitcolor": "white"
          },
          "hoverlabel": {
           "align": "left"
          },
          "hovermode": "closest",
          "mapbox": {
           "style": "light"
          },
          "paper_bgcolor": "white",
          "plot_bgcolor": "#E5ECF6",
          "polar": {
           "angularaxis": {
            "gridcolor": "white",
            "linecolor": "white",
            "ticks": ""
           },
           "bgcolor": "#E5ECF6",
           "radialaxis": {
            "gridcolor": "white",
            "linecolor": "white",
            "ticks": ""
           }
          },
          "scene": {
           "xaxis": {
            "backgroundcolor": "#E5ECF6",
            "gridcolor": "white",
            "gridwidth": 2,
            "linecolor": "white",
            "showbackground": true,
            "ticks": "",
            "zerolinecolor": "white"
           },
           "yaxis": {
            "backgroundcolor": "#E5ECF6",
            "gridcolor": "white",
            "gridwidth": 2,
            "linecolor": "white",
            "showbackground": true,
            "ticks": "",
            "zerolinecolor": "white"
           },
           "zaxis": {
            "backgroundcolor": "#E5ECF6",
            "gridcolor": "white",
            "gridwidth": 2,
            "linecolor": "white",
            "showbackground": true,
            "ticks": "",
            "zerolinecolor": "white"
           }
          },
          "shapedefaults": {
           "line": {
            "color": "#2a3f5f"
           }
          },
          "ternary": {
           "aaxis": {
            "gridcolor": "white",
            "linecolor": "white",
            "ticks": ""
           },
           "baxis": {
            "gridcolor": "white",
            "linecolor": "white",
            "ticks": ""
           },
           "bgcolor": "#E5ECF6",
           "caxis": {
            "gridcolor": "white",
            "linecolor": "white",
            "ticks": ""
           }
          },
          "title": {
           "x": 0.05
          },
          "xaxis": {
           "automargin": true,
           "gridcolor": "white",
           "linecolor": "white",
           "ticks": "",
           "title": {
            "standoff": 15
           },
           "zerolinecolor": "white",
           "zerolinewidth": 2
          },
          "yaxis": {
           "automargin": true,
           "gridcolor": "white",
           "linecolor": "white",
           "ticks": "",
           "title": {
            "standoff": 15
           },
           "zerolinecolor": "white",
           "zerolinewidth": 2
          }
         }
        },
        "title": {
         "font": {
          "color": "#4D5663"
         }
        },
        "xaxis": {
         "gridcolor": "#E1E5ED",
         "showgrid": true,
         "tickfont": {
          "color": "#4D5663"
         },
         "title": {
          "font": {
           "color": "#4D5663"
          },
          "text": ""
         },
         "zerolinecolor": "#E1E5ED"
        },
        "yaxis": {
         "gridcolor": "#E1E5ED",
         "showgrid": true,
         "tickfont": {
          "color": "#4D5663"
         },
         "title": {
          "font": {
           "color": "#4D5663"
          },
          "text": ""
         },
         "zerolinecolor": "#E1E5ED"
        }
       }
      },
      "text/html": [
       "<div>                            <div id=\"a76db7d7-6cc2-48fe-9c38-37ed5d38f96e\" class=\"plotly-graph-div\" style=\"height:525px; width:100%;\"></div>            <script type=\"text/javascript\">                require([\"plotly\"], function(Plotly) {                    window.PLOTLYENV=window.PLOTLYENV || {};\n",
       "                    window.PLOTLYENV.BASE_URL='https://plot.ly';                                    if (document.getElementById(\"a76db7d7-6cc2-48fe-9c38-37ed5d38f96e\")) {                    Plotly.newPlot(                        \"a76db7d7-6cc2-48fe-9c38-37ed5d38f96e\",                        [{\"marker\":{\"color\":\"rgba(255, 153, 51, 0.6)\",\"line\":{\"color\":\"rgba(255, 153, 51, 1.0)\",\"width\":1}},\"name\":\"Values\",\"orientation\":\"v\",\"text\":\"\",\"x\":[\"A\",\"B\",\"C\"],\"y\":[32,43,50],\"type\":\"bar\"}],                        {\"legend\":{\"bgcolor\":\"#F5F6F9\",\"font\":{\"color\":\"#4D5663\"}},\"paper_bgcolor\":\"#F5F6F9\",\"plot_bgcolor\":\"#F5F6F9\",\"template\":{\"data\":{\"barpolar\":[{\"marker\":{\"line\":{\"color\":\"#E5ECF6\",\"width\":0.5},\"pattern\":{\"fillmode\":\"overlay\",\"size\":10,\"solidity\":0.2}},\"type\":\"barpolar\"}],\"bar\":[{\"error_x\":{\"color\":\"#2a3f5f\"},\"error_y\":{\"color\":\"#2a3f5f\"},\"marker\":{\"line\":{\"color\":\"#E5ECF6\",\"width\":0.5},\"pattern\":{\"fillmode\":\"overlay\",\"size\":10,\"solidity\":0.2}},\"type\":\"bar\"}],\"carpet\":[{\"aaxis\":{\"endlinecolor\":\"#2a3f5f\",\"gridcolor\":\"white\",\"linecolor\":\"white\",\"minorgridcolor\":\"white\",\"startlinecolor\":\"#2a3f5f\"},\"baxis\":{\"endlinecolor\":\"#2a3f5f\",\"gridcolor\":\"white\",\"linecolor\":\"white\",\"minorgridcolor\":\"white\",\"startlinecolor\":\"#2a3f5f\"},\"type\":\"carpet\"}],\"choropleth\":[{\"colorbar\":{\"outlinewidth\":0,\"ticks\":\"\"},\"type\":\"choropleth\"}],\"contourcarpet\":[{\"colorbar\":{\"outlinewidth\":0,\"ticks\":\"\"},\"type\":\"contourcarpet\"}],\"contour\":[{\"colorbar\":{\"outlinewidth\":0,\"ticks\":\"\"},\"colorscale\":[[0.0,\"#0d0887\"],[0.1111111111111111,\"#46039f\"],[0.2222222222222222,\"#7201a8\"],[0.3333333333333333,\"#9c179e\"],[0.4444444444444444,\"#bd3786\"],[0.5555555555555556,\"#d8576b\"],[0.6666666666666666,\"#ed7953\"],[0.7777777777777778,\"#fb9f3a\"],[0.8888888888888888,\"#fdca26\"],[1.0,\"#f0f921\"]],\"type\":\"contour\"}],\"heatmapgl\":[{\"colorbar\":{\"outlinewidth\":0,\"ticks\":\"\"},\"colorscale\":[[0.0,\"#0d0887\"],[0.1111111111111111,\"#46039f\"],[0.2222222222222222,\"#7201a8\"],[0.3333333333333333,\"#9c179e\"],[0.4444444444444444,\"#bd3786\"],[0.5555555555555556,\"#d8576b\"],[0.6666666666666666,\"#ed7953\"],[0.7777777777777778,\"#fb9f3a\"],[0.8888888888888888,\"#fdca26\"],[1.0,\"#f0f921\"]],\"type\":\"heatmapgl\"}],\"heatmap\":[{\"colorbar\":{\"outlinewidth\":0,\"ticks\":\"\"},\"colorscale\":[[0.0,\"#0d0887\"],[0.1111111111111111,\"#46039f\"],[0.2222222222222222,\"#7201a8\"],[0.3333333333333333,\"#9c179e\"],[0.4444444444444444,\"#bd3786\"],[0.5555555555555556,\"#d8576b\"],[0.6666666666666666,\"#ed7953\"],[0.7777777777777778,\"#fb9f3a\"],[0.8888888888888888,\"#fdca26\"],[1.0,\"#f0f921\"]],\"type\":\"heatmap\"}],\"histogram2dcontour\":[{\"colorbar\":{\"outlinewidth\":0,\"ticks\":\"\"},\"colorscale\":[[0.0,\"#0d0887\"],[0.1111111111111111,\"#46039f\"],[0.2222222222222222,\"#7201a8\"],[0.3333333333333333,\"#9c179e\"],[0.4444444444444444,\"#bd3786\"],[0.5555555555555556,\"#d8576b\"],[0.6666666666666666,\"#ed7953\"],[0.7777777777777778,\"#fb9f3a\"],[0.8888888888888888,\"#fdca26\"],[1.0,\"#f0f921\"]],\"type\":\"histogram2dcontour\"}],\"histogram2d\":[{\"colorbar\":{\"outlinewidth\":0,\"ticks\":\"\"},\"colorscale\":[[0.0,\"#0d0887\"],[0.1111111111111111,\"#46039f\"],[0.2222222222222222,\"#7201a8\"],[0.3333333333333333,\"#9c179e\"],[0.4444444444444444,\"#bd3786\"],[0.5555555555555556,\"#d8576b\"],[0.6666666666666666,\"#ed7953\"],[0.7777777777777778,\"#fb9f3a\"],[0.8888888888888888,\"#fdca26\"],[1.0,\"#f0f921\"]],\"type\":\"histogram2d\"}],\"histogram\":[{\"marker\":{\"pattern\":{\"fillmode\":\"overlay\",\"size\":10,\"solidity\":0.2}},\"type\":\"histogram\"}],\"mesh3d\":[{\"colorbar\":{\"outlinewidth\":0,\"ticks\":\"\"},\"type\":\"mesh3d\"}],\"parcoords\":[{\"line\":{\"colorbar\":{\"outlinewidth\":0,\"ticks\":\"\"}},\"type\":\"parcoords\"}],\"pie\":[{\"automargin\":true,\"type\":\"pie\"}],\"scatter3d\":[{\"line\":{\"colorbar\":{\"outlinewidth\":0,\"ticks\":\"\"}},\"marker\":{\"colorbar\":{\"outlinewidth\":0,\"ticks\":\"\"}},\"type\":\"scatter3d\"}],\"scattercarpet\":[{\"marker\":{\"colorbar\":{\"outlinewidth\":0,\"ticks\":\"\"}},\"type\":\"scattercarpet\"}],\"scattergeo\":[{\"marker\":{\"colorbar\":{\"outlinewidth\":0,\"ticks\":\"\"}},\"type\":\"scattergeo\"}],\"scattergl\":[{\"marker\":{\"colorbar\":{\"outlinewidth\":0,\"ticks\":\"\"}},\"type\":\"scattergl\"}],\"scattermapbox\":[{\"marker\":{\"colorbar\":{\"outlinewidth\":0,\"ticks\":\"\"}},\"type\":\"scattermapbox\"}],\"scatterpolargl\":[{\"marker\":{\"colorbar\":{\"outlinewidth\":0,\"ticks\":\"\"}},\"type\":\"scatterpolargl\"}],\"scatterpolar\":[{\"marker\":{\"colorbar\":{\"outlinewidth\":0,\"ticks\":\"\"}},\"type\":\"scatterpolar\"}],\"scatter\":[{\"marker\":{\"colorbar\":{\"outlinewidth\":0,\"ticks\":\"\"}},\"type\":\"scatter\"}],\"scatterternary\":[{\"marker\":{\"colorbar\":{\"outlinewidth\":0,\"ticks\":\"\"}},\"type\":\"scatterternary\"}],\"surface\":[{\"colorbar\":{\"outlinewidth\":0,\"ticks\":\"\"},\"colorscale\":[[0.0,\"#0d0887\"],[0.1111111111111111,\"#46039f\"],[0.2222222222222222,\"#7201a8\"],[0.3333333333333333,\"#9c179e\"],[0.4444444444444444,\"#bd3786\"],[0.5555555555555556,\"#d8576b\"],[0.6666666666666666,\"#ed7953\"],[0.7777777777777778,\"#fb9f3a\"],[0.8888888888888888,\"#fdca26\"],[1.0,\"#f0f921\"]],\"type\":\"surface\"}],\"table\":[{\"cells\":{\"fill\":{\"color\":\"#EBF0F8\"},\"line\":{\"color\":\"white\"}},\"header\":{\"fill\":{\"color\":\"#C8D4E3\"},\"line\":{\"color\":\"white\"}},\"type\":\"table\"}]},\"layout\":{\"annotationdefaults\":{\"arrowcolor\":\"#2a3f5f\",\"arrowhead\":0,\"arrowwidth\":1},\"autotypenumbers\":\"strict\",\"coloraxis\":{\"colorbar\":{\"outlinewidth\":0,\"ticks\":\"\"}},\"colorscale\":{\"diverging\":[[0,\"#8e0152\"],[0.1,\"#c51b7d\"],[0.2,\"#de77ae\"],[0.3,\"#f1b6da\"],[0.4,\"#fde0ef\"],[0.5,\"#f7f7f7\"],[0.6,\"#e6f5d0\"],[0.7,\"#b8e186\"],[0.8,\"#7fbc41\"],[0.9,\"#4d9221\"],[1,\"#276419\"]],\"sequential\":[[0.0,\"#0d0887\"],[0.1111111111111111,\"#46039f\"],[0.2222222222222222,\"#7201a8\"],[0.3333333333333333,\"#9c179e\"],[0.4444444444444444,\"#bd3786\"],[0.5555555555555556,\"#d8576b\"],[0.6666666666666666,\"#ed7953\"],[0.7777777777777778,\"#fb9f3a\"],[0.8888888888888888,\"#fdca26\"],[1.0,\"#f0f921\"]],\"sequentialminus\":[[0.0,\"#0d0887\"],[0.1111111111111111,\"#46039f\"],[0.2222222222222222,\"#7201a8\"],[0.3333333333333333,\"#9c179e\"],[0.4444444444444444,\"#bd3786\"],[0.5555555555555556,\"#d8576b\"],[0.6666666666666666,\"#ed7953\"],[0.7777777777777778,\"#fb9f3a\"],[0.8888888888888888,\"#fdca26\"],[1.0,\"#f0f921\"]]},\"colorway\":[\"#636efa\",\"#EF553B\",\"#00cc96\",\"#ab63fa\",\"#FFA15A\",\"#19d3f3\",\"#FF6692\",\"#B6E880\",\"#FF97FF\",\"#FECB52\"],\"font\":{\"color\":\"#2a3f5f\"},\"geo\":{\"bgcolor\":\"white\",\"lakecolor\":\"white\",\"landcolor\":\"#E5ECF6\",\"showlakes\":true,\"showland\":true,\"subunitcolor\":\"white\"},\"hoverlabel\":{\"align\":\"left\"},\"hovermode\":\"closest\",\"mapbox\":{\"style\":\"light\"},\"paper_bgcolor\":\"white\",\"plot_bgcolor\":\"#E5ECF6\",\"polar\":{\"angularaxis\":{\"gridcolor\":\"white\",\"linecolor\":\"white\",\"ticks\":\"\"},\"bgcolor\":\"#E5ECF6\",\"radialaxis\":{\"gridcolor\":\"white\",\"linecolor\":\"white\",\"ticks\":\"\"}},\"scene\":{\"xaxis\":{\"backgroundcolor\":\"#E5ECF6\",\"gridcolor\":\"white\",\"gridwidth\":2,\"linecolor\":\"white\",\"showbackground\":true,\"ticks\":\"\",\"zerolinecolor\":\"white\"},\"yaxis\":{\"backgroundcolor\":\"#E5ECF6\",\"gridcolor\":\"white\",\"gridwidth\":2,\"linecolor\":\"white\",\"showbackground\":true,\"ticks\":\"\",\"zerolinecolor\":\"white\"},\"zaxis\":{\"backgroundcolor\":\"#E5ECF6\",\"gridcolor\":\"white\",\"gridwidth\":2,\"linecolor\":\"white\",\"showbackground\":true,\"ticks\":\"\",\"zerolinecolor\":\"white\"}},\"shapedefaults\":{\"line\":{\"color\":\"#2a3f5f\"}},\"ternary\":{\"aaxis\":{\"gridcolor\":\"white\",\"linecolor\":\"white\",\"ticks\":\"\"},\"baxis\":{\"gridcolor\":\"white\",\"linecolor\":\"white\",\"ticks\":\"\"},\"bgcolor\":\"#E5ECF6\",\"caxis\":{\"gridcolor\":\"white\",\"linecolor\":\"white\",\"ticks\":\"\"}},\"title\":{\"x\":0.05},\"xaxis\":{\"automargin\":true,\"gridcolor\":\"white\",\"linecolor\":\"white\",\"ticks\":\"\",\"title\":{\"standoff\":15},\"zerolinecolor\":\"white\",\"zerolinewidth\":2},\"yaxis\":{\"automargin\":true,\"gridcolor\":\"white\",\"linecolor\":\"white\",\"ticks\":\"\",\"title\":{\"standoff\":15},\"zerolinecolor\":\"white\",\"zerolinewidth\":2}}},\"title\":{\"font\":{\"color\":\"#4D5663\"}},\"xaxis\":{\"gridcolor\":\"#E1E5ED\",\"showgrid\":true,\"tickfont\":{\"color\":\"#4D5663\"},\"title\":{\"font\":{\"color\":\"#4D5663\"},\"text\":\"\"},\"zerolinecolor\":\"#E1E5ED\"},\"yaxis\":{\"gridcolor\":\"#E1E5ED\",\"showgrid\":true,\"tickfont\":{\"color\":\"#4D5663\"},\"title\":{\"font\":{\"color\":\"#4D5663\"},\"text\":\"\"},\"zerolinecolor\":\"#E1E5ED\"}},                        {\"showLink\": true, \"linkText\": \"Export to plot.ly\", \"plotlyServerURL\": \"https://plot.ly\", \"responsive\": true}                    ).then(function(){\n",
       "                            \n",
       "var gd = document.getElementById('a76db7d7-6cc2-48fe-9c38-37ed5d38f96e');\n",
       "var x = new MutationObserver(function (mutations, observer) {{\n",
       "        var display = window.getComputedStyle(gd).display;\n",
       "        if (!display || display === 'none') {{\n",
       "            console.log([gd, 'removed!']);\n",
       "            Plotly.purge(gd);\n",
       "            observer.disconnect();\n",
       "        }}\n",
       "}});\n",
       "\n",
       "// Listen for the removal of the full notebook cells\n",
       "var notebookContainer = gd.closest('#notebook-container');\n",
       "if (notebookContainer) {{\n",
       "    x.observe(notebookContainer, {childList: true});\n",
       "}}\n",
       "\n",
       "// Listen for the clearing of the current output cell\n",
       "var outputEl = gd.closest('.output');\n",
       "if (outputEl) {{\n",
       "    x.observe(outputEl, {childList: true});\n",
       "}}\n",
       "\n",
       "                        })                };                });            </script>        </div>"
      ]
     },
     "metadata": {},
     "output_type": "display_data"
    }
   ],
   "source": [
    "df2.iplot(kind='bar',x='Category',y='Values')"
   ]
  },
  {
   "cell_type": "code",
   "execution_count": 25,
   "id": "e628935a",
   "metadata": {},
   "outputs": [
    {
     "data": {
      "application/vnd.plotly.v1+json": {
       "config": {
        "linkText": "Export to plot.ly",
        "plotlyServerURL": "https://plot.ly",
        "showLink": true
       },
       "data": [
        {
         "marker": {
          "color": "rgba(255, 153, 51, 0.6)",
          "line": {
           "color": "rgba(255, 153, 51, 1.0)",
           "width": 1
          }
         },
         "name": "None",
         "orientation": "v",
         "text": "",
         "type": "bar",
         "x": [
          "A",
          "B",
          "C",
          "D"
         ],
         "y": [
          10.765790078970422,
          0.05755523278494479,
          -9.410742187819018,
          -6.696177000331913
         ]
        }
       ],
       "layout": {
        "legend": {
         "bgcolor": "#F5F6F9",
         "font": {
          "color": "#4D5663"
         }
        },
        "paper_bgcolor": "#F5F6F9",
        "plot_bgcolor": "#F5F6F9",
        "template": {
         "data": {
          "bar": [
           {
            "error_x": {
             "color": "#2a3f5f"
            },
            "error_y": {
             "color": "#2a3f5f"
            },
            "marker": {
             "line": {
              "color": "#E5ECF6",
              "width": 0.5
             },
             "pattern": {
              "fillmode": "overlay",
              "size": 10,
              "solidity": 0.2
             }
            },
            "type": "bar"
           }
          ],
          "barpolar": [
           {
            "marker": {
             "line": {
              "color": "#E5ECF6",
              "width": 0.5
             },
             "pattern": {
              "fillmode": "overlay",
              "size": 10,
              "solidity": 0.2
             }
            },
            "type": "barpolar"
           }
          ],
          "carpet": [
           {
            "aaxis": {
             "endlinecolor": "#2a3f5f",
             "gridcolor": "white",
             "linecolor": "white",
             "minorgridcolor": "white",
             "startlinecolor": "#2a3f5f"
            },
            "baxis": {
             "endlinecolor": "#2a3f5f",
             "gridcolor": "white",
             "linecolor": "white",
             "minorgridcolor": "white",
             "startlinecolor": "#2a3f5f"
            },
            "type": "carpet"
           }
          ],
          "choropleth": [
           {
            "colorbar": {
             "outlinewidth": 0,
             "ticks": ""
            },
            "type": "choropleth"
           }
          ],
          "contour": [
           {
            "colorbar": {
             "outlinewidth": 0,
             "ticks": ""
            },
            "colorscale": [
             [
              0,
              "#0d0887"
             ],
             [
              0.1111111111111111,
              "#46039f"
             ],
             [
              0.2222222222222222,
              "#7201a8"
             ],
             [
              0.3333333333333333,
              "#9c179e"
             ],
             [
              0.4444444444444444,
              "#bd3786"
             ],
             [
              0.5555555555555556,
              "#d8576b"
             ],
             [
              0.6666666666666666,
              "#ed7953"
             ],
             [
              0.7777777777777778,
              "#fb9f3a"
             ],
             [
              0.8888888888888888,
              "#fdca26"
             ],
             [
              1,
              "#f0f921"
             ]
            ],
            "type": "contour"
           }
          ],
          "contourcarpet": [
           {
            "colorbar": {
             "outlinewidth": 0,
             "ticks": ""
            },
            "type": "contourcarpet"
           }
          ],
          "heatmap": [
           {
            "colorbar": {
             "outlinewidth": 0,
             "ticks": ""
            },
            "colorscale": [
             [
              0,
              "#0d0887"
             ],
             [
              0.1111111111111111,
              "#46039f"
             ],
             [
              0.2222222222222222,
              "#7201a8"
             ],
             [
              0.3333333333333333,
              "#9c179e"
             ],
             [
              0.4444444444444444,
              "#bd3786"
             ],
             [
              0.5555555555555556,
              "#d8576b"
             ],
             [
              0.6666666666666666,
              "#ed7953"
             ],
             [
              0.7777777777777778,
              "#fb9f3a"
             ],
             [
              0.8888888888888888,
              "#fdca26"
             ],
             [
              1,
              "#f0f921"
             ]
            ],
            "type": "heatmap"
           }
          ],
          "heatmapgl": [
           {
            "colorbar": {
             "outlinewidth": 0,
             "ticks": ""
            },
            "colorscale": [
             [
              0,
              "#0d0887"
             ],
             [
              0.1111111111111111,
              "#46039f"
             ],
             [
              0.2222222222222222,
              "#7201a8"
             ],
             [
              0.3333333333333333,
              "#9c179e"
             ],
             [
              0.4444444444444444,
              "#bd3786"
             ],
             [
              0.5555555555555556,
              "#d8576b"
             ],
             [
              0.6666666666666666,
              "#ed7953"
             ],
             [
              0.7777777777777778,
              "#fb9f3a"
             ],
             [
              0.8888888888888888,
              "#fdca26"
             ],
             [
              1,
              "#f0f921"
             ]
            ],
            "type": "heatmapgl"
           }
          ],
          "histogram": [
           {
            "marker": {
             "pattern": {
              "fillmode": "overlay",
              "size": 10,
              "solidity": 0.2
             }
            },
            "type": "histogram"
           }
          ],
          "histogram2d": [
           {
            "colorbar": {
             "outlinewidth": 0,
             "ticks": ""
            },
            "colorscale": [
             [
              0,
              "#0d0887"
             ],
             [
              0.1111111111111111,
              "#46039f"
             ],
             [
              0.2222222222222222,
              "#7201a8"
             ],
             [
              0.3333333333333333,
              "#9c179e"
             ],
             [
              0.4444444444444444,
              "#bd3786"
             ],
             [
              0.5555555555555556,
              "#d8576b"
             ],
             [
              0.6666666666666666,
              "#ed7953"
             ],
             [
              0.7777777777777778,
              "#fb9f3a"
             ],
             [
              0.8888888888888888,
              "#fdca26"
             ],
             [
              1,
              "#f0f921"
             ]
            ],
            "type": "histogram2d"
           }
          ],
          "histogram2dcontour": [
           {
            "colorbar": {
             "outlinewidth": 0,
             "ticks": ""
            },
            "colorscale": [
             [
              0,
              "#0d0887"
             ],
             [
              0.1111111111111111,
              "#46039f"
             ],
             [
              0.2222222222222222,
              "#7201a8"
             ],
             [
              0.3333333333333333,
              "#9c179e"
             ],
             [
              0.4444444444444444,
              "#bd3786"
             ],
             [
              0.5555555555555556,
              "#d8576b"
             ],
             [
              0.6666666666666666,
              "#ed7953"
             ],
             [
              0.7777777777777778,
              "#fb9f3a"
             ],
             [
              0.8888888888888888,
              "#fdca26"
             ],
             [
              1,
              "#f0f921"
             ]
            ],
            "type": "histogram2dcontour"
           }
          ],
          "mesh3d": [
           {
            "colorbar": {
             "outlinewidth": 0,
             "ticks": ""
            },
            "type": "mesh3d"
           }
          ],
          "parcoords": [
           {
            "line": {
             "colorbar": {
              "outlinewidth": 0,
              "ticks": ""
             }
            },
            "type": "parcoords"
           }
          ],
          "pie": [
           {
            "automargin": true,
            "type": "pie"
           }
          ],
          "scatter": [
           {
            "marker": {
             "colorbar": {
              "outlinewidth": 0,
              "ticks": ""
             }
            },
            "type": "scatter"
           }
          ],
          "scatter3d": [
           {
            "line": {
             "colorbar": {
              "outlinewidth": 0,
              "ticks": ""
             }
            },
            "marker": {
             "colorbar": {
              "outlinewidth": 0,
              "ticks": ""
             }
            },
            "type": "scatter3d"
           }
          ],
          "scattercarpet": [
           {
            "marker": {
             "colorbar": {
              "outlinewidth": 0,
              "ticks": ""
             }
            },
            "type": "scattercarpet"
           }
          ],
          "scattergeo": [
           {
            "marker": {
             "colorbar": {
              "outlinewidth": 0,
              "ticks": ""
             }
            },
            "type": "scattergeo"
           }
          ],
          "scattergl": [
           {
            "marker": {
             "colorbar": {
              "outlinewidth": 0,
              "ticks": ""
             }
            },
            "type": "scattergl"
           }
          ],
          "scattermapbox": [
           {
            "marker": {
             "colorbar": {
              "outlinewidth": 0,
              "ticks": ""
             }
            },
            "type": "scattermapbox"
           }
          ],
          "scatterpolar": [
           {
            "marker": {
             "colorbar": {
              "outlinewidth": 0,
              "ticks": ""
             }
            },
            "type": "scatterpolar"
           }
          ],
          "scatterpolargl": [
           {
            "marker": {
             "colorbar": {
              "outlinewidth": 0,
              "ticks": ""
             }
            },
            "type": "scatterpolargl"
           }
          ],
          "scatterternary": [
           {
            "marker": {
             "colorbar": {
              "outlinewidth": 0,
              "ticks": ""
             }
            },
            "type": "scatterternary"
           }
          ],
          "surface": [
           {
            "colorbar": {
             "outlinewidth": 0,
             "ticks": ""
            },
            "colorscale": [
             [
              0,
              "#0d0887"
             ],
             [
              0.1111111111111111,
              "#46039f"
             ],
             [
              0.2222222222222222,
              "#7201a8"
             ],
             [
              0.3333333333333333,
              "#9c179e"
             ],
             [
              0.4444444444444444,
              "#bd3786"
             ],
             [
              0.5555555555555556,
              "#d8576b"
             ],
             [
              0.6666666666666666,
              "#ed7953"
             ],
             [
              0.7777777777777778,
              "#fb9f3a"
             ],
             [
              0.8888888888888888,
              "#fdca26"
             ],
             [
              1,
              "#f0f921"
             ]
            ],
            "type": "surface"
           }
          ],
          "table": [
           {
            "cells": {
             "fill": {
              "color": "#EBF0F8"
             },
             "line": {
              "color": "white"
             }
            },
            "header": {
             "fill": {
              "color": "#C8D4E3"
             },
             "line": {
              "color": "white"
             }
            },
            "type": "table"
           }
          ]
         },
         "layout": {
          "annotationdefaults": {
           "arrowcolor": "#2a3f5f",
           "arrowhead": 0,
           "arrowwidth": 1
          },
          "autotypenumbers": "strict",
          "coloraxis": {
           "colorbar": {
            "outlinewidth": 0,
            "ticks": ""
           }
          },
          "colorscale": {
           "diverging": [
            [
             0,
             "#8e0152"
            ],
            [
             0.1,
             "#c51b7d"
            ],
            [
             0.2,
             "#de77ae"
            ],
            [
             0.3,
             "#f1b6da"
            ],
            [
             0.4,
             "#fde0ef"
            ],
            [
             0.5,
             "#f7f7f7"
            ],
            [
             0.6,
             "#e6f5d0"
            ],
            [
             0.7,
             "#b8e186"
            ],
            [
             0.8,
             "#7fbc41"
            ],
            [
             0.9,
             "#4d9221"
            ],
            [
             1,
             "#276419"
            ]
           ],
           "sequential": [
            [
             0,
             "#0d0887"
            ],
            [
             0.1111111111111111,
             "#46039f"
            ],
            [
             0.2222222222222222,
             "#7201a8"
            ],
            [
             0.3333333333333333,
             "#9c179e"
            ],
            [
             0.4444444444444444,
             "#bd3786"
            ],
            [
             0.5555555555555556,
             "#d8576b"
            ],
            [
             0.6666666666666666,
             "#ed7953"
            ],
            [
             0.7777777777777778,
             "#fb9f3a"
            ],
            [
             0.8888888888888888,
             "#fdca26"
            ],
            [
             1,
             "#f0f921"
            ]
           ],
           "sequentialminus": [
            [
             0,
             "#0d0887"
            ],
            [
             0.1111111111111111,
             "#46039f"
            ],
            [
             0.2222222222222222,
             "#7201a8"
            ],
            [
             0.3333333333333333,
             "#9c179e"
            ],
            [
             0.4444444444444444,
             "#bd3786"
            ],
            [
             0.5555555555555556,
             "#d8576b"
            ],
            [
             0.6666666666666666,
             "#ed7953"
            ],
            [
             0.7777777777777778,
             "#fb9f3a"
            ],
            [
             0.8888888888888888,
             "#fdca26"
            ],
            [
             1,
             "#f0f921"
            ]
           ]
          },
          "colorway": [
           "#636efa",
           "#EF553B",
           "#00cc96",
           "#ab63fa",
           "#FFA15A",
           "#19d3f3",
           "#FF6692",
           "#B6E880",
           "#FF97FF",
           "#FECB52"
          ],
          "font": {
           "color": "#2a3f5f"
          },
          "geo": {
           "bgcolor": "white",
           "lakecolor": "white",
           "landcolor": "#E5ECF6",
           "showlakes": true,
           "showland": true,
           "subunitcolor": "white"
          },
          "hoverlabel": {
           "align": "left"
          },
          "hovermode": "closest",
          "mapbox": {
           "style": "light"
          },
          "paper_bgcolor": "white",
          "plot_bgcolor": "#E5ECF6",
          "polar": {
           "angularaxis": {
            "gridcolor": "white",
            "linecolor": "white",
            "ticks": ""
           },
           "bgcolor": "#E5ECF6",
           "radialaxis": {
            "gridcolor": "white",
            "linecolor": "white",
            "ticks": ""
           }
          },
          "scene": {
           "xaxis": {
            "backgroundcolor": "#E5ECF6",
            "gridcolor": "white",
            "gridwidth": 2,
            "linecolor": "white",
            "showbackground": true,
            "ticks": "",
            "zerolinecolor": "white"
           },
           "yaxis": {
            "backgroundcolor": "#E5ECF6",
            "gridcolor": "white",
            "gridwidth": 2,
            "linecolor": "white",
            "showbackground": true,
            "ticks": "",
            "zerolinecolor": "white"
           },
           "zaxis": {
            "backgroundcolor": "#E5ECF6",
            "gridcolor": "white",
            "gridwidth": 2,
            "linecolor": "white",
            "showbackground": true,
            "ticks": "",
            "zerolinecolor": "white"
           }
          },
          "shapedefaults": {
           "line": {
            "color": "#2a3f5f"
           }
          },
          "ternary": {
           "aaxis": {
            "gridcolor": "white",
            "linecolor": "white",
            "ticks": ""
           },
           "baxis": {
            "gridcolor": "white",
            "linecolor": "white",
            "ticks": ""
           },
           "bgcolor": "#E5ECF6",
           "caxis": {
            "gridcolor": "white",
            "linecolor": "white",
            "ticks": ""
           }
          },
          "title": {
           "x": 0.05
          },
          "xaxis": {
           "automargin": true,
           "gridcolor": "white",
           "linecolor": "white",
           "ticks": "",
           "title": {
            "standoff": 15
           },
           "zerolinecolor": "white",
           "zerolinewidth": 2
          },
          "yaxis": {
           "automargin": true,
           "gridcolor": "white",
           "linecolor": "white",
           "ticks": "",
           "title": {
            "standoff": 15
           },
           "zerolinecolor": "white",
           "zerolinewidth": 2
          }
         }
        },
        "title": {
         "font": {
          "color": "#4D5663"
         }
        },
        "xaxis": {
         "gridcolor": "#E1E5ED",
         "showgrid": true,
         "tickfont": {
          "color": "#4D5663"
         },
         "title": {
          "font": {
           "color": "#4D5663"
          },
          "text": ""
         },
         "zerolinecolor": "#E1E5ED"
        },
        "yaxis": {
         "gridcolor": "#E1E5ED",
         "showgrid": true,
         "tickfont": {
          "color": "#4D5663"
         },
         "title": {
          "font": {
           "color": "#4D5663"
          },
          "text": ""
         },
         "zerolinecolor": "#E1E5ED"
        }
       }
      },
      "text/html": [
       "<div>                            <div id=\"778d193f-0f07-4270-aca6-7d43e2acb974\" class=\"plotly-graph-div\" style=\"height:525px; width:100%;\"></div>            <script type=\"text/javascript\">                require([\"plotly\"], function(Plotly) {                    window.PLOTLYENV=window.PLOTLYENV || {};\n",
       "                    window.PLOTLYENV.BASE_URL='https://plot.ly';                                    if (document.getElementById(\"778d193f-0f07-4270-aca6-7d43e2acb974\")) {                    Plotly.newPlot(                        \"778d193f-0f07-4270-aca6-7d43e2acb974\",                        [{\"marker\":{\"color\":\"rgba(255, 153, 51, 0.6)\",\"line\":{\"color\":\"rgba(255, 153, 51, 1.0)\",\"width\":1}},\"name\":\"None\",\"orientation\":\"v\",\"text\":\"\",\"x\":[\"A\",\"B\",\"C\",\"D\"],\"y\":[10.765790078970422,0.05755523278494479,-9.410742187819018,-6.696177000331913],\"type\":\"bar\"}],                        {\"legend\":{\"bgcolor\":\"#F5F6F9\",\"font\":{\"color\":\"#4D5663\"}},\"paper_bgcolor\":\"#F5F6F9\",\"plot_bgcolor\":\"#F5F6F9\",\"template\":{\"data\":{\"barpolar\":[{\"marker\":{\"line\":{\"color\":\"#E5ECF6\",\"width\":0.5},\"pattern\":{\"fillmode\":\"overlay\",\"size\":10,\"solidity\":0.2}},\"type\":\"barpolar\"}],\"bar\":[{\"error_x\":{\"color\":\"#2a3f5f\"},\"error_y\":{\"color\":\"#2a3f5f\"},\"marker\":{\"line\":{\"color\":\"#E5ECF6\",\"width\":0.5},\"pattern\":{\"fillmode\":\"overlay\",\"size\":10,\"solidity\":0.2}},\"type\":\"bar\"}],\"carpet\":[{\"aaxis\":{\"endlinecolor\":\"#2a3f5f\",\"gridcolor\":\"white\",\"linecolor\":\"white\",\"minorgridcolor\":\"white\",\"startlinecolor\":\"#2a3f5f\"},\"baxis\":{\"endlinecolor\":\"#2a3f5f\",\"gridcolor\":\"white\",\"linecolor\":\"white\",\"minorgridcolor\":\"white\",\"startlinecolor\":\"#2a3f5f\"},\"type\":\"carpet\"}],\"choropleth\":[{\"colorbar\":{\"outlinewidth\":0,\"ticks\":\"\"},\"type\":\"choropleth\"}],\"contourcarpet\":[{\"colorbar\":{\"outlinewidth\":0,\"ticks\":\"\"},\"type\":\"contourcarpet\"}],\"contour\":[{\"colorbar\":{\"outlinewidth\":0,\"ticks\":\"\"},\"colorscale\":[[0.0,\"#0d0887\"],[0.1111111111111111,\"#46039f\"],[0.2222222222222222,\"#7201a8\"],[0.3333333333333333,\"#9c179e\"],[0.4444444444444444,\"#bd3786\"],[0.5555555555555556,\"#d8576b\"],[0.6666666666666666,\"#ed7953\"],[0.7777777777777778,\"#fb9f3a\"],[0.8888888888888888,\"#fdca26\"],[1.0,\"#f0f921\"]],\"type\":\"contour\"}],\"heatmapgl\":[{\"colorbar\":{\"outlinewidth\":0,\"ticks\":\"\"},\"colorscale\":[[0.0,\"#0d0887\"],[0.1111111111111111,\"#46039f\"],[0.2222222222222222,\"#7201a8\"],[0.3333333333333333,\"#9c179e\"],[0.4444444444444444,\"#bd3786\"],[0.5555555555555556,\"#d8576b\"],[0.6666666666666666,\"#ed7953\"],[0.7777777777777778,\"#fb9f3a\"],[0.8888888888888888,\"#fdca26\"],[1.0,\"#f0f921\"]],\"type\":\"heatmapgl\"}],\"heatmap\":[{\"colorbar\":{\"outlinewidth\":0,\"ticks\":\"\"},\"colorscale\":[[0.0,\"#0d0887\"],[0.1111111111111111,\"#46039f\"],[0.2222222222222222,\"#7201a8\"],[0.3333333333333333,\"#9c179e\"],[0.4444444444444444,\"#bd3786\"],[0.5555555555555556,\"#d8576b\"],[0.6666666666666666,\"#ed7953\"],[0.7777777777777778,\"#fb9f3a\"],[0.8888888888888888,\"#fdca26\"],[1.0,\"#f0f921\"]],\"type\":\"heatmap\"}],\"histogram2dcontour\":[{\"colorbar\":{\"outlinewidth\":0,\"ticks\":\"\"},\"colorscale\":[[0.0,\"#0d0887\"],[0.1111111111111111,\"#46039f\"],[0.2222222222222222,\"#7201a8\"],[0.3333333333333333,\"#9c179e\"],[0.4444444444444444,\"#bd3786\"],[0.5555555555555556,\"#d8576b\"],[0.6666666666666666,\"#ed7953\"],[0.7777777777777778,\"#fb9f3a\"],[0.8888888888888888,\"#fdca26\"],[1.0,\"#f0f921\"]],\"type\":\"histogram2dcontour\"}],\"histogram2d\":[{\"colorbar\":{\"outlinewidth\":0,\"ticks\":\"\"},\"colorscale\":[[0.0,\"#0d0887\"],[0.1111111111111111,\"#46039f\"],[0.2222222222222222,\"#7201a8\"],[0.3333333333333333,\"#9c179e\"],[0.4444444444444444,\"#bd3786\"],[0.5555555555555556,\"#d8576b\"],[0.6666666666666666,\"#ed7953\"],[0.7777777777777778,\"#fb9f3a\"],[0.8888888888888888,\"#fdca26\"],[1.0,\"#f0f921\"]],\"type\":\"histogram2d\"}],\"histogram\":[{\"marker\":{\"pattern\":{\"fillmode\":\"overlay\",\"size\":10,\"solidity\":0.2}},\"type\":\"histogram\"}],\"mesh3d\":[{\"colorbar\":{\"outlinewidth\":0,\"ticks\":\"\"},\"type\":\"mesh3d\"}],\"parcoords\":[{\"line\":{\"colorbar\":{\"outlinewidth\":0,\"ticks\":\"\"}},\"type\":\"parcoords\"}],\"pie\":[{\"automargin\":true,\"type\":\"pie\"}],\"scatter3d\":[{\"line\":{\"colorbar\":{\"outlinewidth\":0,\"ticks\":\"\"}},\"marker\":{\"colorbar\":{\"outlinewidth\":0,\"ticks\":\"\"}},\"type\":\"scatter3d\"}],\"scattercarpet\":[{\"marker\":{\"colorbar\":{\"outlinewidth\":0,\"ticks\":\"\"}},\"type\":\"scattercarpet\"}],\"scattergeo\":[{\"marker\":{\"colorbar\":{\"outlinewidth\":0,\"ticks\":\"\"}},\"type\":\"scattergeo\"}],\"scattergl\":[{\"marker\":{\"colorbar\":{\"outlinewidth\":0,\"ticks\":\"\"}},\"type\":\"scattergl\"}],\"scattermapbox\":[{\"marker\":{\"colorbar\":{\"outlinewidth\":0,\"ticks\":\"\"}},\"type\":\"scattermapbox\"}],\"scatterpolargl\":[{\"marker\":{\"colorbar\":{\"outlinewidth\":0,\"ticks\":\"\"}},\"type\":\"scatterpolargl\"}],\"scatterpolar\":[{\"marker\":{\"colorbar\":{\"outlinewidth\":0,\"ticks\":\"\"}},\"type\":\"scatterpolar\"}],\"scatter\":[{\"marker\":{\"colorbar\":{\"outlinewidth\":0,\"ticks\":\"\"}},\"type\":\"scatter\"}],\"scatterternary\":[{\"marker\":{\"colorbar\":{\"outlinewidth\":0,\"ticks\":\"\"}},\"type\":\"scatterternary\"}],\"surface\":[{\"colorbar\":{\"outlinewidth\":0,\"ticks\":\"\"},\"colorscale\":[[0.0,\"#0d0887\"],[0.1111111111111111,\"#46039f\"],[0.2222222222222222,\"#7201a8\"],[0.3333333333333333,\"#9c179e\"],[0.4444444444444444,\"#bd3786\"],[0.5555555555555556,\"#d8576b\"],[0.6666666666666666,\"#ed7953\"],[0.7777777777777778,\"#fb9f3a\"],[0.8888888888888888,\"#fdca26\"],[1.0,\"#f0f921\"]],\"type\":\"surface\"}],\"table\":[{\"cells\":{\"fill\":{\"color\":\"#EBF0F8\"},\"line\":{\"color\":\"white\"}},\"header\":{\"fill\":{\"color\":\"#C8D4E3\"},\"line\":{\"color\":\"white\"}},\"type\":\"table\"}]},\"layout\":{\"annotationdefaults\":{\"arrowcolor\":\"#2a3f5f\",\"arrowhead\":0,\"arrowwidth\":1},\"autotypenumbers\":\"strict\",\"coloraxis\":{\"colorbar\":{\"outlinewidth\":0,\"ticks\":\"\"}},\"colorscale\":{\"diverging\":[[0,\"#8e0152\"],[0.1,\"#c51b7d\"],[0.2,\"#de77ae\"],[0.3,\"#f1b6da\"],[0.4,\"#fde0ef\"],[0.5,\"#f7f7f7\"],[0.6,\"#e6f5d0\"],[0.7,\"#b8e186\"],[0.8,\"#7fbc41\"],[0.9,\"#4d9221\"],[1,\"#276419\"]],\"sequential\":[[0.0,\"#0d0887\"],[0.1111111111111111,\"#46039f\"],[0.2222222222222222,\"#7201a8\"],[0.3333333333333333,\"#9c179e\"],[0.4444444444444444,\"#bd3786\"],[0.5555555555555556,\"#d8576b\"],[0.6666666666666666,\"#ed7953\"],[0.7777777777777778,\"#fb9f3a\"],[0.8888888888888888,\"#fdca26\"],[1.0,\"#f0f921\"]],\"sequentialminus\":[[0.0,\"#0d0887\"],[0.1111111111111111,\"#46039f\"],[0.2222222222222222,\"#7201a8\"],[0.3333333333333333,\"#9c179e\"],[0.4444444444444444,\"#bd3786\"],[0.5555555555555556,\"#d8576b\"],[0.6666666666666666,\"#ed7953\"],[0.7777777777777778,\"#fb9f3a\"],[0.8888888888888888,\"#fdca26\"],[1.0,\"#f0f921\"]]},\"colorway\":[\"#636efa\",\"#EF553B\",\"#00cc96\",\"#ab63fa\",\"#FFA15A\",\"#19d3f3\",\"#FF6692\",\"#B6E880\",\"#FF97FF\",\"#FECB52\"],\"font\":{\"color\":\"#2a3f5f\"},\"geo\":{\"bgcolor\":\"white\",\"lakecolor\":\"white\",\"landcolor\":\"#E5ECF6\",\"showlakes\":true,\"showland\":true,\"subunitcolor\":\"white\"},\"hoverlabel\":{\"align\":\"left\"},\"hovermode\":\"closest\",\"mapbox\":{\"style\":\"light\"},\"paper_bgcolor\":\"white\",\"plot_bgcolor\":\"#E5ECF6\",\"polar\":{\"angularaxis\":{\"gridcolor\":\"white\",\"linecolor\":\"white\",\"ticks\":\"\"},\"bgcolor\":\"#E5ECF6\",\"radialaxis\":{\"gridcolor\":\"white\",\"linecolor\":\"white\",\"ticks\":\"\"}},\"scene\":{\"xaxis\":{\"backgroundcolor\":\"#E5ECF6\",\"gridcolor\":\"white\",\"gridwidth\":2,\"linecolor\":\"white\",\"showbackground\":true,\"ticks\":\"\",\"zerolinecolor\":\"white\"},\"yaxis\":{\"backgroundcolor\":\"#E5ECF6\",\"gridcolor\":\"white\",\"gridwidth\":2,\"linecolor\":\"white\",\"showbackground\":true,\"ticks\":\"\",\"zerolinecolor\":\"white\"},\"zaxis\":{\"backgroundcolor\":\"#E5ECF6\",\"gridcolor\":\"white\",\"gridwidth\":2,\"linecolor\":\"white\",\"showbackground\":true,\"ticks\":\"\",\"zerolinecolor\":\"white\"}},\"shapedefaults\":{\"line\":{\"color\":\"#2a3f5f\"}},\"ternary\":{\"aaxis\":{\"gridcolor\":\"white\",\"linecolor\":\"white\",\"ticks\":\"\"},\"baxis\":{\"gridcolor\":\"white\",\"linecolor\":\"white\",\"ticks\":\"\"},\"bgcolor\":\"#E5ECF6\",\"caxis\":{\"gridcolor\":\"white\",\"linecolor\":\"white\",\"ticks\":\"\"}},\"title\":{\"x\":0.05},\"xaxis\":{\"automargin\":true,\"gridcolor\":\"white\",\"linecolor\":\"white\",\"ticks\":\"\",\"title\":{\"standoff\":15},\"zerolinecolor\":\"white\",\"zerolinewidth\":2},\"yaxis\":{\"automargin\":true,\"gridcolor\":\"white\",\"linecolor\":\"white\",\"ticks\":\"\",\"title\":{\"standoff\":15},\"zerolinecolor\":\"white\",\"zerolinewidth\":2}}},\"title\":{\"font\":{\"color\":\"#4D5663\"}},\"xaxis\":{\"gridcolor\":\"#E1E5ED\",\"showgrid\":true,\"tickfont\":{\"color\":\"#4D5663\"},\"title\":{\"font\":{\"color\":\"#4D5663\"},\"text\":\"\"},\"zerolinecolor\":\"#E1E5ED\"},\"yaxis\":{\"gridcolor\":\"#E1E5ED\",\"showgrid\":true,\"tickfont\":{\"color\":\"#4D5663\"},\"title\":{\"font\":{\"color\":\"#4D5663\"},\"text\":\"\"},\"zerolinecolor\":\"#E1E5ED\"}},                        {\"showLink\": true, \"linkText\": \"Export to plot.ly\", \"plotlyServerURL\": \"https://plot.ly\", \"responsive\": true}                    ).then(function(){\n",
       "                            \n",
       "var gd = document.getElementById('778d193f-0f07-4270-aca6-7d43e2acb974');\n",
       "var x = new MutationObserver(function (mutations, observer) {{\n",
       "        var display = window.getComputedStyle(gd).display;\n",
       "        if (!display || display === 'none') {{\n",
       "            console.log([gd, 'removed!']);\n",
       "            Plotly.purge(gd);\n",
       "            observer.disconnect();\n",
       "        }}\n",
       "}});\n",
       "\n",
       "// Listen for the removal of the full notebook cells\n",
       "var notebookContainer = gd.closest('#notebook-container');\n",
       "if (notebookContainer) {{\n",
       "    x.observe(notebookContainer, {childList: true});\n",
       "}}\n",
       "\n",
       "// Listen for the clearing of the current output cell\n",
       "var outputEl = gd.closest('.output');\n",
       "if (outputEl) {{\n",
       "    x.observe(outputEl, {childList: true});\n",
       "}}\n",
       "\n",
       "                        })                };                });            </script>        </div>"
      ]
     },
     "metadata": {},
     "output_type": "display_data"
    }
   ],
   "source": [
    "df1.sum().iplot(kind='bar')"
   ]
  },
  {
   "cell_type": "code",
   "execution_count": 32,
   "id": "422b5d82",
   "metadata": {},
   "outputs": [],
   "source": [
    "df3 = pd.DataFrame({'x':range(1,6),'y':[10,20,30,20,10],'z':range(5,0,-1)})"
   ]
  },
  {
   "cell_type": "code",
   "execution_count": null,
   "id": "f423a85b",
   "metadata": {},
   "outputs": [],
   "source": []
  },
  {
   "cell_type": "code",
   "execution_count": 30,
   "id": "396810c3",
   "metadata": {},
   "outputs": [
    {
     "data": {
      "text/html": [
       "<div>\n",
       "<style scoped>\n",
       "    .dataframe tbody tr th:only-of-type {\n",
       "        vertical-align: middle;\n",
       "    }\n",
       "\n",
       "    .dataframe tbody tr th {\n",
       "        vertical-align: top;\n",
       "    }\n",
       "\n",
       "    .dataframe thead th {\n",
       "        text-align: right;\n",
       "    }\n",
       "</style>\n",
       "<table border=\"1\" class=\"dataframe\">\n",
       "  <thead>\n",
       "    <tr style=\"text-align: right;\">\n",
       "      <th></th>\n",
       "      <th>x</th>\n",
       "      <th>y</th>\n",
       "      <th>z</th>\n",
       "    </tr>\n",
       "  </thead>\n",
       "  <tbody>\n",
       "    <tr>\n",
       "      <th>0</th>\n",
       "      <td>1</td>\n",
       "      <td>10</td>\n",
       "      <td>500</td>\n",
       "    </tr>\n",
       "    <tr>\n",
       "      <th>1</th>\n",
       "      <td>2</td>\n",
       "      <td>20</td>\n",
       "      <td>400</td>\n",
       "    </tr>\n",
       "    <tr>\n",
       "      <th>2</th>\n",
       "      <td>3</td>\n",
       "      <td>30</td>\n",
       "      <td>300</td>\n",
       "    </tr>\n",
       "    <tr>\n",
       "      <th>3</th>\n",
       "      <td>4</td>\n",
       "      <td>20</td>\n",
       "      <td>200</td>\n",
       "    </tr>\n",
       "    <tr>\n",
       "      <th>4</th>\n",
       "      <td>5</td>\n",
       "      <td>10</td>\n",
       "      <td>100</td>\n",
       "    </tr>\n",
       "  </tbody>\n",
       "</table>\n",
       "</div>"
      ],
      "text/plain": [
       "   x   y    z\n",
       "0  1  10  500\n",
       "1  2  20  400\n",
       "2  3  30  300\n",
       "3  4  20  200\n",
       "4  5  10  100"
      ]
     },
     "execution_count": 30,
     "metadata": {},
     "output_type": "execute_result"
    }
   ],
   "source": [
    "df3"
   ]
  },
  {
   "cell_type": "code",
   "execution_count": 34,
   "id": "484ecd4c",
   "metadata": {},
   "outputs": [
    {
     "data": {
      "application/vnd.plotly.v1+json": {
       "config": {
        "linkText": "Export to plot.ly",
        "plotlyServerURL": "https://plot.ly",
        "showLink": true
       },
       "data": [
        {
         "colorscale": [
          [
           0,
           "rgb(165,0,38)"
          ],
          [
           0.1,
           "rgb(215,48,39)"
          ],
          [
           0.2,
           "rgb(244,109,67)"
          ],
          [
           0.3,
           "rgb(253,174,97)"
          ],
          [
           0.4,
           "rgb(254,224,144)"
          ],
          [
           0.5,
           "rgb(255,255,191)"
          ],
          [
           0.6,
           "rgb(224,243,248)"
          ],
          [
           0.7,
           "rgb(171,217,233)"
          ],
          [
           0.8,
           "rgb(116,173,209)"
          ],
          [
           0.9,
           "rgb(69,117,180)"
          ],
          [
           1,
           "rgb(49,54,149)"
          ]
         ],
         "type": "surface",
         "x": [
          0,
          1,
          2,
          3,
          4
         ],
         "y": [
          "x",
          "y",
          "z"
         ],
         "z": [
          [
           1,
           2,
           3,
           4,
           5
          ],
          [
           10,
           20,
           30,
           20,
           10
          ],
          [
           5,
           4,
           3,
           2,
           1
          ]
         ]
        }
       ],
       "layout": {
        "legend": {
         "bgcolor": "#F5F6F9",
         "font": {
          "color": "#4D5663"
         }
        },
        "paper_bgcolor": "#F5F6F9",
        "plot_bgcolor": "#F5F6F9",
        "template": {
         "data": {
          "bar": [
           {
            "error_x": {
             "color": "#2a3f5f"
            },
            "error_y": {
             "color": "#2a3f5f"
            },
            "marker": {
             "line": {
              "color": "#E5ECF6",
              "width": 0.5
             },
             "pattern": {
              "fillmode": "overlay",
              "size": 10,
              "solidity": 0.2
             }
            },
            "type": "bar"
           }
          ],
          "barpolar": [
           {
            "marker": {
             "line": {
              "color": "#E5ECF6",
              "width": 0.5
             },
             "pattern": {
              "fillmode": "overlay",
              "size": 10,
              "solidity": 0.2
             }
            },
            "type": "barpolar"
           }
          ],
          "carpet": [
           {
            "aaxis": {
             "endlinecolor": "#2a3f5f",
             "gridcolor": "white",
             "linecolor": "white",
             "minorgridcolor": "white",
             "startlinecolor": "#2a3f5f"
            },
            "baxis": {
             "endlinecolor": "#2a3f5f",
             "gridcolor": "white",
             "linecolor": "white",
             "minorgridcolor": "white",
             "startlinecolor": "#2a3f5f"
            },
            "type": "carpet"
           }
          ],
          "choropleth": [
           {
            "colorbar": {
             "outlinewidth": 0,
             "ticks": ""
            },
            "type": "choropleth"
           }
          ],
          "contour": [
           {
            "colorbar": {
             "outlinewidth": 0,
             "ticks": ""
            },
            "colorscale": [
             [
              0,
              "#0d0887"
             ],
             [
              0.1111111111111111,
              "#46039f"
             ],
             [
              0.2222222222222222,
              "#7201a8"
             ],
             [
              0.3333333333333333,
              "#9c179e"
             ],
             [
              0.4444444444444444,
              "#bd3786"
             ],
             [
              0.5555555555555556,
              "#d8576b"
             ],
             [
              0.6666666666666666,
              "#ed7953"
             ],
             [
              0.7777777777777778,
              "#fb9f3a"
             ],
             [
              0.8888888888888888,
              "#fdca26"
             ],
             [
              1,
              "#f0f921"
             ]
            ],
            "type": "contour"
           }
          ],
          "contourcarpet": [
           {
            "colorbar": {
             "outlinewidth": 0,
             "ticks": ""
            },
            "type": "contourcarpet"
           }
          ],
          "heatmap": [
           {
            "colorbar": {
             "outlinewidth": 0,
             "ticks": ""
            },
            "colorscale": [
             [
              0,
              "#0d0887"
             ],
             [
              0.1111111111111111,
              "#46039f"
             ],
             [
              0.2222222222222222,
              "#7201a8"
             ],
             [
              0.3333333333333333,
              "#9c179e"
             ],
             [
              0.4444444444444444,
              "#bd3786"
             ],
             [
              0.5555555555555556,
              "#d8576b"
             ],
             [
              0.6666666666666666,
              "#ed7953"
             ],
             [
              0.7777777777777778,
              "#fb9f3a"
             ],
             [
              0.8888888888888888,
              "#fdca26"
             ],
             [
              1,
              "#f0f921"
             ]
            ],
            "type": "heatmap"
           }
          ],
          "heatmapgl": [
           {
            "colorbar": {
             "outlinewidth": 0,
             "ticks": ""
            },
            "colorscale": [
             [
              0,
              "#0d0887"
             ],
             [
              0.1111111111111111,
              "#46039f"
             ],
             [
              0.2222222222222222,
              "#7201a8"
             ],
             [
              0.3333333333333333,
              "#9c179e"
             ],
             [
              0.4444444444444444,
              "#bd3786"
             ],
             [
              0.5555555555555556,
              "#d8576b"
             ],
             [
              0.6666666666666666,
              "#ed7953"
             ],
             [
              0.7777777777777778,
              "#fb9f3a"
             ],
             [
              0.8888888888888888,
              "#fdca26"
             ],
             [
              1,
              "#f0f921"
             ]
            ],
            "type": "heatmapgl"
           }
          ],
          "histogram": [
           {
            "marker": {
             "pattern": {
              "fillmode": "overlay",
              "size": 10,
              "solidity": 0.2
             }
            },
            "type": "histogram"
           }
          ],
          "histogram2d": [
           {
            "colorbar": {
             "outlinewidth": 0,
             "ticks": ""
            },
            "colorscale": [
             [
              0,
              "#0d0887"
             ],
             [
              0.1111111111111111,
              "#46039f"
             ],
             [
              0.2222222222222222,
              "#7201a8"
             ],
             [
              0.3333333333333333,
              "#9c179e"
             ],
             [
              0.4444444444444444,
              "#bd3786"
             ],
             [
              0.5555555555555556,
              "#d8576b"
             ],
             [
              0.6666666666666666,
              "#ed7953"
             ],
             [
              0.7777777777777778,
              "#fb9f3a"
             ],
             [
              0.8888888888888888,
              "#fdca26"
             ],
             [
              1,
              "#f0f921"
             ]
            ],
            "type": "histogram2d"
           }
          ],
          "histogram2dcontour": [
           {
            "colorbar": {
             "outlinewidth": 0,
             "ticks": ""
            },
            "colorscale": [
             [
              0,
              "#0d0887"
             ],
             [
              0.1111111111111111,
              "#46039f"
             ],
             [
              0.2222222222222222,
              "#7201a8"
             ],
             [
              0.3333333333333333,
              "#9c179e"
             ],
             [
              0.4444444444444444,
              "#bd3786"
             ],
             [
              0.5555555555555556,
              "#d8576b"
             ],
             [
              0.6666666666666666,
              "#ed7953"
             ],
             [
              0.7777777777777778,
              "#fb9f3a"
             ],
             [
              0.8888888888888888,
              "#fdca26"
             ],
             [
              1,
              "#f0f921"
             ]
            ],
            "type": "histogram2dcontour"
           }
          ],
          "mesh3d": [
           {
            "colorbar": {
             "outlinewidth": 0,
             "ticks": ""
            },
            "type": "mesh3d"
           }
          ],
          "parcoords": [
           {
            "line": {
             "colorbar": {
              "outlinewidth": 0,
              "ticks": ""
             }
            },
            "type": "parcoords"
           }
          ],
          "pie": [
           {
            "automargin": true,
            "type": "pie"
           }
          ],
          "scatter": [
           {
            "marker": {
             "colorbar": {
              "outlinewidth": 0,
              "ticks": ""
             }
            },
            "type": "scatter"
           }
          ],
          "scatter3d": [
           {
            "line": {
             "colorbar": {
              "outlinewidth": 0,
              "ticks": ""
             }
            },
            "marker": {
             "colorbar": {
              "outlinewidth": 0,
              "ticks": ""
             }
            },
            "type": "scatter3d"
           }
          ],
          "scattercarpet": [
           {
            "marker": {
             "colorbar": {
              "outlinewidth": 0,
              "ticks": ""
             }
            },
            "type": "scattercarpet"
           }
          ],
          "scattergeo": [
           {
            "marker": {
             "colorbar": {
              "outlinewidth": 0,
              "ticks": ""
             }
            },
            "type": "scattergeo"
           }
          ],
          "scattergl": [
           {
            "marker": {
             "colorbar": {
              "outlinewidth": 0,
              "ticks": ""
             }
            },
            "type": "scattergl"
           }
          ],
          "scattermapbox": [
           {
            "marker": {
             "colorbar": {
              "outlinewidth": 0,
              "ticks": ""
             }
            },
            "type": "scattermapbox"
           }
          ],
          "scatterpolar": [
           {
            "marker": {
             "colorbar": {
              "outlinewidth": 0,
              "ticks": ""
             }
            },
            "type": "scatterpolar"
           }
          ],
          "scatterpolargl": [
           {
            "marker": {
             "colorbar": {
              "outlinewidth": 0,
              "ticks": ""
             }
            },
            "type": "scatterpolargl"
           }
          ],
          "scatterternary": [
           {
            "marker": {
             "colorbar": {
              "outlinewidth": 0,
              "ticks": ""
             }
            },
            "type": "scatterternary"
           }
          ],
          "surface": [
           {
            "colorbar": {
             "outlinewidth": 0,
             "ticks": ""
            },
            "colorscale": [
             [
              0,
              "#0d0887"
             ],
             [
              0.1111111111111111,
              "#46039f"
             ],
             [
              0.2222222222222222,
              "#7201a8"
             ],
             [
              0.3333333333333333,
              "#9c179e"
             ],
             [
              0.4444444444444444,
              "#bd3786"
             ],
             [
              0.5555555555555556,
              "#d8576b"
             ],
             [
              0.6666666666666666,
              "#ed7953"
             ],
             [
              0.7777777777777778,
              "#fb9f3a"
             ],
             [
              0.8888888888888888,
              "#fdca26"
             ],
             [
              1,
              "#f0f921"
             ]
            ],
            "type": "surface"
           }
          ],
          "table": [
           {
            "cells": {
             "fill": {
              "color": "#EBF0F8"
             },
             "line": {
              "color": "white"
             }
            },
            "header": {
             "fill": {
              "color": "#C8D4E3"
             },
             "line": {
              "color": "white"
             }
            },
            "type": "table"
           }
          ]
         },
         "layout": {
          "annotationdefaults": {
           "arrowcolor": "#2a3f5f",
           "arrowhead": 0,
           "arrowwidth": 1
          },
          "autotypenumbers": "strict",
          "coloraxis": {
           "colorbar": {
            "outlinewidth": 0,
            "ticks": ""
           }
          },
          "colorscale": {
           "diverging": [
            [
             0,
             "#8e0152"
            ],
            [
             0.1,
             "#c51b7d"
            ],
            [
             0.2,
             "#de77ae"
            ],
            [
             0.3,
             "#f1b6da"
            ],
            [
             0.4,
             "#fde0ef"
            ],
            [
             0.5,
             "#f7f7f7"
            ],
            [
             0.6,
             "#e6f5d0"
            ],
            [
             0.7,
             "#b8e186"
            ],
            [
             0.8,
             "#7fbc41"
            ],
            [
             0.9,
             "#4d9221"
            ],
            [
             1,
             "#276419"
            ]
           ],
           "sequential": [
            [
             0,
             "#0d0887"
            ],
            [
             0.1111111111111111,
             "#46039f"
            ],
            [
             0.2222222222222222,
             "#7201a8"
            ],
            [
             0.3333333333333333,
             "#9c179e"
            ],
            [
             0.4444444444444444,
             "#bd3786"
            ],
            [
             0.5555555555555556,
             "#d8576b"
            ],
            [
             0.6666666666666666,
             "#ed7953"
            ],
            [
             0.7777777777777778,
             "#fb9f3a"
            ],
            [
             0.8888888888888888,
             "#fdca26"
            ],
            [
             1,
             "#f0f921"
            ]
           ],
           "sequentialminus": [
            [
             0,
             "#0d0887"
            ],
            [
             0.1111111111111111,
             "#46039f"
            ],
            [
             0.2222222222222222,
             "#7201a8"
            ],
            [
             0.3333333333333333,
             "#9c179e"
            ],
            [
             0.4444444444444444,
             "#bd3786"
            ],
            [
             0.5555555555555556,
             "#d8576b"
            ],
            [
             0.6666666666666666,
             "#ed7953"
            ],
            [
             0.7777777777777778,
             "#fb9f3a"
            ],
            [
             0.8888888888888888,
             "#fdca26"
            ],
            [
             1,
             "#f0f921"
            ]
           ]
          },
          "colorway": [
           "#636efa",
           "#EF553B",
           "#00cc96",
           "#ab63fa",
           "#FFA15A",
           "#19d3f3",
           "#FF6692",
           "#B6E880",
           "#FF97FF",
           "#FECB52"
          ],
          "font": {
           "color": "#2a3f5f"
          },
          "geo": {
           "bgcolor": "white",
           "lakecolor": "white",
           "landcolor": "#E5ECF6",
           "showlakes": true,
           "showland": true,
           "subunitcolor": "white"
          },
          "hoverlabel": {
           "align": "left"
          },
          "hovermode": "closest",
          "mapbox": {
           "style": "light"
          },
          "paper_bgcolor": "white",
          "plot_bgcolor": "#E5ECF6",
          "polar": {
           "angularaxis": {
            "gridcolor": "white",
            "linecolor": "white",
            "ticks": ""
           },
           "bgcolor": "#E5ECF6",
           "radialaxis": {
            "gridcolor": "white",
            "linecolor": "white",
            "ticks": ""
           }
          },
          "scene": {
           "xaxis": {
            "backgroundcolor": "#E5ECF6",
            "gridcolor": "white",
            "gridwidth": 2,
            "linecolor": "white",
            "showbackground": true,
            "ticks": "",
            "zerolinecolor": "white"
           },
           "yaxis": {
            "backgroundcolor": "#E5ECF6",
            "gridcolor": "white",
            "gridwidth": 2,
            "linecolor": "white",
            "showbackground": true,
            "ticks": "",
            "zerolinecolor": "white"
           },
           "zaxis": {
            "backgroundcolor": "#E5ECF6",
            "gridcolor": "white",
            "gridwidth": 2,
            "linecolor": "white",
            "showbackground": true,
            "ticks": "",
            "zerolinecolor": "white"
           }
          },
          "shapedefaults": {
           "line": {
            "color": "#2a3f5f"
           }
          },
          "ternary": {
           "aaxis": {
            "gridcolor": "white",
            "linecolor": "white",
            "ticks": ""
           },
           "baxis": {
            "gridcolor": "white",
            "linecolor": "white",
            "ticks": ""
           },
           "bgcolor": "#E5ECF6",
           "caxis": {
            "gridcolor": "white",
            "linecolor": "white",
            "ticks": ""
           }
          },
          "title": {
           "x": 0.05
          },
          "xaxis": {
           "automargin": true,
           "gridcolor": "white",
           "linecolor": "white",
           "ticks": "",
           "title": {
            "standoff": 15
           },
           "zerolinecolor": "white",
           "zerolinewidth": 2
          },
          "yaxis": {
           "automargin": true,
           "gridcolor": "white",
           "linecolor": "white",
           "ticks": "",
           "title": {
            "standoff": 15
           },
           "zerolinecolor": "white",
           "zerolinewidth": 2
          }
         }
        },
        "title": {
         "font": {
          "color": "#4D5663"
         }
        },
        "xaxis": {
         "gridcolor": "#E1E5ED",
         "showgrid": true,
         "tickfont": {
          "color": "#4D5663"
         },
         "title": {
          "font": {
           "color": "#4D5663"
          },
          "text": ""
         },
         "zerolinecolor": "#E1E5ED"
        },
        "yaxis": {
         "gridcolor": "#E1E5ED",
         "showgrid": true,
         "tickfont": {
          "color": "#4D5663"
         },
         "title": {
          "font": {
           "color": "#4D5663"
          },
          "text": ""
         },
         "zerolinecolor": "#E1E5ED"
        }
       }
      },
      "text/html": [
       "<div>                            <div id=\"ee315a26-6843-4d2b-8901-3f926436de74\" class=\"plotly-graph-div\" style=\"height:525px; width:100%;\"></div>            <script type=\"text/javascript\">                require([\"plotly\"], function(Plotly) {                    window.PLOTLYENV=window.PLOTLYENV || {};\n",
       "                    window.PLOTLYENV.BASE_URL='https://plot.ly';                                    if (document.getElementById(\"ee315a26-6843-4d2b-8901-3f926436de74\")) {                    Plotly.newPlot(                        \"ee315a26-6843-4d2b-8901-3f926436de74\",                        [{\"colorscale\":[[0.0,\"rgb(165,0,38)\"],[0.1,\"rgb(215,48,39)\"],[0.2,\"rgb(244,109,67)\"],[0.3,\"rgb(253,174,97)\"],[0.4,\"rgb(254,224,144)\"],[0.5,\"rgb(255,255,191)\"],[0.6,\"rgb(224,243,248)\"],[0.7,\"rgb(171,217,233)\"],[0.8,\"rgb(116,173,209)\"],[0.9,\"rgb(69,117,180)\"],[1.0,\"rgb(49,54,149)\"]],\"x\":[0,1,2,3,4],\"y\":[\"x\",\"y\",\"z\"],\"z\":[[1,2,3,4,5],[10,20,30,20,10],[5,4,3,2,1]],\"type\":\"surface\"}],                        {\"legend\":{\"bgcolor\":\"#F5F6F9\",\"font\":{\"color\":\"#4D5663\"}},\"paper_bgcolor\":\"#F5F6F9\",\"plot_bgcolor\":\"#F5F6F9\",\"template\":{\"data\":{\"barpolar\":[{\"marker\":{\"line\":{\"color\":\"#E5ECF6\",\"width\":0.5},\"pattern\":{\"fillmode\":\"overlay\",\"size\":10,\"solidity\":0.2}},\"type\":\"barpolar\"}],\"bar\":[{\"error_x\":{\"color\":\"#2a3f5f\"},\"error_y\":{\"color\":\"#2a3f5f\"},\"marker\":{\"line\":{\"color\":\"#E5ECF6\",\"width\":0.5},\"pattern\":{\"fillmode\":\"overlay\",\"size\":10,\"solidity\":0.2}},\"type\":\"bar\"}],\"carpet\":[{\"aaxis\":{\"endlinecolor\":\"#2a3f5f\",\"gridcolor\":\"white\",\"linecolor\":\"white\",\"minorgridcolor\":\"white\",\"startlinecolor\":\"#2a3f5f\"},\"baxis\":{\"endlinecolor\":\"#2a3f5f\",\"gridcolor\":\"white\",\"linecolor\":\"white\",\"minorgridcolor\":\"white\",\"startlinecolor\":\"#2a3f5f\"},\"type\":\"carpet\"}],\"choropleth\":[{\"colorbar\":{\"outlinewidth\":0,\"ticks\":\"\"},\"type\":\"choropleth\"}],\"contourcarpet\":[{\"colorbar\":{\"outlinewidth\":0,\"ticks\":\"\"},\"type\":\"contourcarpet\"}],\"contour\":[{\"colorbar\":{\"outlinewidth\":0,\"ticks\":\"\"},\"colorscale\":[[0.0,\"#0d0887\"],[0.1111111111111111,\"#46039f\"],[0.2222222222222222,\"#7201a8\"],[0.3333333333333333,\"#9c179e\"],[0.4444444444444444,\"#bd3786\"],[0.5555555555555556,\"#d8576b\"],[0.6666666666666666,\"#ed7953\"],[0.7777777777777778,\"#fb9f3a\"],[0.8888888888888888,\"#fdca26\"],[1.0,\"#f0f921\"]],\"type\":\"contour\"}],\"heatmapgl\":[{\"colorbar\":{\"outlinewidth\":0,\"ticks\":\"\"},\"colorscale\":[[0.0,\"#0d0887\"],[0.1111111111111111,\"#46039f\"],[0.2222222222222222,\"#7201a8\"],[0.3333333333333333,\"#9c179e\"],[0.4444444444444444,\"#bd3786\"],[0.5555555555555556,\"#d8576b\"],[0.6666666666666666,\"#ed7953\"],[0.7777777777777778,\"#fb9f3a\"],[0.8888888888888888,\"#fdca26\"],[1.0,\"#f0f921\"]],\"type\":\"heatmapgl\"}],\"heatmap\":[{\"colorbar\":{\"outlinewidth\":0,\"ticks\":\"\"},\"colorscale\":[[0.0,\"#0d0887\"],[0.1111111111111111,\"#46039f\"],[0.2222222222222222,\"#7201a8\"],[0.3333333333333333,\"#9c179e\"],[0.4444444444444444,\"#bd3786\"],[0.5555555555555556,\"#d8576b\"],[0.6666666666666666,\"#ed7953\"],[0.7777777777777778,\"#fb9f3a\"],[0.8888888888888888,\"#fdca26\"],[1.0,\"#f0f921\"]],\"type\":\"heatmap\"}],\"histogram2dcontour\":[{\"colorbar\":{\"outlinewidth\":0,\"ticks\":\"\"},\"colorscale\":[[0.0,\"#0d0887\"],[0.1111111111111111,\"#46039f\"],[0.2222222222222222,\"#7201a8\"],[0.3333333333333333,\"#9c179e\"],[0.4444444444444444,\"#bd3786\"],[0.5555555555555556,\"#d8576b\"],[0.6666666666666666,\"#ed7953\"],[0.7777777777777778,\"#fb9f3a\"],[0.8888888888888888,\"#fdca26\"],[1.0,\"#f0f921\"]],\"type\":\"histogram2dcontour\"}],\"histogram2d\":[{\"colorbar\":{\"outlinewidth\":0,\"ticks\":\"\"},\"colorscale\":[[0.0,\"#0d0887\"],[0.1111111111111111,\"#46039f\"],[0.2222222222222222,\"#7201a8\"],[0.3333333333333333,\"#9c179e\"],[0.4444444444444444,\"#bd3786\"],[0.5555555555555556,\"#d8576b\"],[0.6666666666666666,\"#ed7953\"],[0.7777777777777778,\"#fb9f3a\"],[0.8888888888888888,\"#fdca26\"],[1.0,\"#f0f921\"]],\"type\":\"histogram2d\"}],\"histogram\":[{\"marker\":{\"pattern\":{\"fillmode\":\"overlay\",\"size\":10,\"solidity\":0.2}},\"type\":\"histogram\"}],\"mesh3d\":[{\"colorbar\":{\"outlinewidth\":0,\"ticks\":\"\"},\"type\":\"mesh3d\"}],\"parcoords\":[{\"line\":{\"colorbar\":{\"outlinewidth\":0,\"ticks\":\"\"}},\"type\":\"parcoords\"}],\"pie\":[{\"automargin\":true,\"type\":\"pie\"}],\"scatter3d\":[{\"line\":{\"colorbar\":{\"outlinewidth\":0,\"ticks\":\"\"}},\"marker\":{\"colorbar\":{\"outlinewidth\":0,\"ticks\":\"\"}},\"type\":\"scatter3d\"}],\"scattercarpet\":[{\"marker\":{\"colorbar\":{\"outlinewidth\":0,\"ticks\":\"\"}},\"type\":\"scattercarpet\"}],\"scattergeo\":[{\"marker\":{\"colorbar\":{\"outlinewidth\":0,\"ticks\":\"\"}},\"type\":\"scattergeo\"}],\"scattergl\":[{\"marker\":{\"colorbar\":{\"outlinewidth\":0,\"ticks\":\"\"}},\"type\":\"scattergl\"}],\"scattermapbox\":[{\"marker\":{\"colorbar\":{\"outlinewidth\":0,\"ticks\":\"\"}},\"type\":\"scattermapbox\"}],\"scatterpolargl\":[{\"marker\":{\"colorbar\":{\"outlinewidth\":0,\"ticks\":\"\"}},\"type\":\"scatterpolargl\"}],\"scatterpolar\":[{\"marker\":{\"colorbar\":{\"outlinewidth\":0,\"ticks\":\"\"}},\"type\":\"scatterpolar\"}],\"scatter\":[{\"marker\":{\"colorbar\":{\"outlinewidth\":0,\"ticks\":\"\"}},\"type\":\"scatter\"}],\"scatterternary\":[{\"marker\":{\"colorbar\":{\"outlinewidth\":0,\"ticks\":\"\"}},\"type\":\"scatterternary\"}],\"surface\":[{\"colorbar\":{\"outlinewidth\":0,\"ticks\":\"\"},\"colorscale\":[[0.0,\"#0d0887\"],[0.1111111111111111,\"#46039f\"],[0.2222222222222222,\"#7201a8\"],[0.3333333333333333,\"#9c179e\"],[0.4444444444444444,\"#bd3786\"],[0.5555555555555556,\"#d8576b\"],[0.6666666666666666,\"#ed7953\"],[0.7777777777777778,\"#fb9f3a\"],[0.8888888888888888,\"#fdca26\"],[1.0,\"#f0f921\"]],\"type\":\"surface\"}],\"table\":[{\"cells\":{\"fill\":{\"color\":\"#EBF0F8\"},\"line\":{\"color\":\"white\"}},\"header\":{\"fill\":{\"color\":\"#C8D4E3\"},\"line\":{\"color\":\"white\"}},\"type\":\"table\"}]},\"layout\":{\"annotationdefaults\":{\"arrowcolor\":\"#2a3f5f\",\"arrowhead\":0,\"arrowwidth\":1},\"autotypenumbers\":\"strict\",\"coloraxis\":{\"colorbar\":{\"outlinewidth\":0,\"ticks\":\"\"}},\"colorscale\":{\"diverging\":[[0,\"#8e0152\"],[0.1,\"#c51b7d\"],[0.2,\"#de77ae\"],[0.3,\"#f1b6da\"],[0.4,\"#fde0ef\"],[0.5,\"#f7f7f7\"],[0.6,\"#e6f5d0\"],[0.7,\"#b8e186\"],[0.8,\"#7fbc41\"],[0.9,\"#4d9221\"],[1,\"#276419\"]],\"sequential\":[[0.0,\"#0d0887\"],[0.1111111111111111,\"#46039f\"],[0.2222222222222222,\"#7201a8\"],[0.3333333333333333,\"#9c179e\"],[0.4444444444444444,\"#bd3786\"],[0.5555555555555556,\"#d8576b\"],[0.6666666666666666,\"#ed7953\"],[0.7777777777777778,\"#fb9f3a\"],[0.8888888888888888,\"#fdca26\"],[1.0,\"#f0f921\"]],\"sequentialminus\":[[0.0,\"#0d0887\"],[0.1111111111111111,\"#46039f\"],[0.2222222222222222,\"#7201a8\"],[0.3333333333333333,\"#9c179e\"],[0.4444444444444444,\"#bd3786\"],[0.5555555555555556,\"#d8576b\"],[0.6666666666666666,\"#ed7953\"],[0.7777777777777778,\"#fb9f3a\"],[0.8888888888888888,\"#fdca26\"],[1.0,\"#f0f921\"]]},\"colorway\":[\"#636efa\",\"#EF553B\",\"#00cc96\",\"#ab63fa\",\"#FFA15A\",\"#19d3f3\",\"#FF6692\",\"#B6E880\",\"#FF97FF\",\"#FECB52\"],\"font\":{\"color\":\"#2a3f5f\"},\"geo\":{\"bgcolor\":\"white\",\"lakecolor\":\"white\",\"landcolor\":\"#E5ECF6\",\"showlakes\":true,\"showland\":true,\"subunitcolor\":\"white\"},\"hoverlabel\":{\"align\":\"left\"},\"hovermode\":\"closest\",\"mapbox\":{\"style\":\"light\"},\"paper_bgcolor\":\"white\",\"plot_bgcolor\":\"#E5ECF6\",\"polar\":{\"angularaxis\":{\"gridcolor\":\"white\",\"linecolor\":\"white\",\"ticks\":\"\"},\"bgcolor\":\"#E5ECF6\",\"radialaxis\":{\"gridcolor\":\"white\",\"linecolor\":\"white\",\"ticks\":\"\"}},\"scene\":{\"xaxis\":{\"backgroundcolor\":\"#E5ECF6\",\"gridcolor\":\"white\",\"gridwidth\":2,\"linecolor\":\"white\",\"showbackground\":true,\"ticks\":\"\",\"zerolinecolor\":\"white\"},\"yaxis\":{\"backgroundcolor\":\"#E5ECF6\",\"gridcolor\":\"white\",\"gridwidth\":2,\"linecolor\":\"white\",\"showbackground\":true,\"ticks\":\"\",\"zerolinecolor\":\"white\"},\"zaxis\":{\"backgroundcolor\":\"#E5ECF6\",\"gridcolor\":\"white\",\"gridwidth\":2,\"linecolor\":\"white\",\"showbackground\":true,\"ticks\":\"\",\"zerolinecolor\":\"white\"}},\"shapedefaults\":{\"line\":{\"color\":\"#2a3f5f\"}},\"ternary\":{\"aaxis\":{\"gridcolor\":\"white\",\"linecolor\":\"white\",\"ticks\":\"\"},\"baxis\":{\"gridcolor\":\"white\",\"linecolor\":\"white\",\"ticks\":\"\"},\"bgcolor\":\"#E5ECF6\",\"caxis\":{\"gridcolor\":\"white\",\"linecolor\":\"white\",\"ticks\":\"\"}},\"title\":{\"x\":0.05},\"xaxis\":{\"automargin\":true,\"gridcolor\":\"white\",\"linecolor\":\"white\",\"ticks\":\"\",\"title\":{\"standoff\":15},\"zerolinecolor\":\"white\",\"zerolinewidth\":2},\"yaxis\":{\"automargin\":true,\"gridcolor\":\"white\",\"linecolor\":\"white\",\"ticks\":\"\",\"title\":{\"standoff\":15},\"zerolinecolor\":\"white\",\"zerolinewidth\":2}}},\"title\":{\"font\":{\"color\":\"#4D5663\"}},\"xaxis\":{\"gridcolor\":\"#E1E5ED\",\"showgrid\":true,\"tickfont\":{\"color\":\"#4D5663\"},\"title\":{\"font\":{\"color\":\"#4D5663\"},\"text\":\"\"},\"zerolinecolor\":\"#E1E5ED\"},\"yaxis\":{\"gridcolor\":\"#E1E5ED\",\"showgrid\":true,\"tickfont\":{\"color\":\"#4D5663\"},\"title\":{\"font\":{\"color\":\"#4D5663\"},\"text\":\"\"},\"zerolinecolor\":\"#E1E5ED\"}},                        {\"showLink\": true, \"linkText\": \"Export to plot.ly\", \"plotlyServerURL\": \"https://plot.ly\", \"responsive\": true}                    ).then(function(){\n",
       "                            \n",
       "var gd = document.getElementById('ee315a26-6843-4d2b-8901-3f926436de74');\n",
       "var x = new MutationObserver(function (mutations, observer) {{\n",
       "        var display = window.getComputedStyle(gd).display;\n",
       "        if (!display || display === 'none') {{\n",
       "            console.log([gd, 'removed!']);\n",
       "            Plotly.purge(gd);\n",
       "            observer.disconnect();\n",
       "        }}\n",
       "}});\n",
       "\n",
       "// Listen for the removal of the full notebook cells\n",
       "var notebookContainer = gd.closest('#notebook-container');\n",
       "if (notebookContainer) {{\n",
       "    x.observe(notebookContainer, {childList: true});\n",
       "}}\n",
       "\n",
       "// Listen for the clearing of the current output cell\n",
       "var outputEl = gd.closest('.output');\n",
       "if (outputEl) {{\n",
       "    x.observe(outputEl, {childList: true});\n",
       "}}\n",
       "\n",
       "                        })                };                });            </script>        </div>"
      ]
     },
     "metadata": {},
     "output_type": "display_data"
    }
   ],
   "source": [
    "df3.iplot(kind='surface',colorscale='rdylbu')"
   ]
  },
  {
   "cell_type": "code",
   "execution_count": 36,
   "id": "114254dc",
   "metadata": {},
   "outputs": [
    {
     "data": {
      "application/vnd.plotly.v1+json": {
       "config": {
        "linkText": "Export to plot.ly",
        "plotlyServerURL": "https://plot.ly",
        "showLink": true
       },
       "data": [
        {
         "histfunc": "count",
         "histnorm": "",
         "marker": {
          "color": "rgba(255, 153, 51, 1.0)",
          "line": {
           "color": "#4D5663",
           "width": 1.3
          }
         },
         "name": "A",
         "nbinsx": 25,
         "opacity": 0.8,
         "orientation": "v",
         "type": "histogram",
         "x": [
          -2.0179175343734688,
          0.9233803166017815,
          1.0222921258112883,
          -1.5427079018271743,
          0.9534677415959142,
          1.6139729466741866,
          -0.49068513401485064,
          0.6406132073703192,
          0.18167756204418314,
          -0.9019463260024844,
          1.1277902478070898,
          -0.5492318874813171,
          0.40254477215755796,
          0.20456328644346478,
          0.8484682084553806,
          1.598340262193149,
          -0.3885036558297409,
          0.7669440765048724,
          0.5721831877604494,
          -0.35869921119774845,
          1.275872979836392,
          -1.5377322892971523,
          0.9397524846531856,
          1.2378549284154148,
          0.45562500468005257,
          1.9220064474824583,
          0.3788446677627523,
          -1.6272530974099786,
          1.548747250020298,
          0.35367122733264206,
          -1.6023537985805665,
          -0.2743189849606666,
          1.6451749536118985,
          0.7660625343797965,
          -0.6551561273192944,
          2.2894165994992624,
          -0.30049348682681154,
          -0.1426257921945078,
          -0.3509331819696133,
          0.8066088439981102,
          -0.8190431907381289,
          0.33839591532473734,
          0.029153055130530316,
          0.04075026670195348,
          0.9095559195154234,
          -0.45874347933067305,
          0.23720429403928597,
          1.8818167393804857,
          -1.226472966530045,
          1.0222059444120426,
          0.786664742156235,
          -0.856175743606393,
          -1.2967015187714002,
          -1.3397627343890512,
          -0.7740855332934843,
          -2.0651785264446603,
          -0.43263697200185763,
          -0.13962494342840498,
          1.0979198353286066,
          -2.5008648450355797,
          0.7363401239497037,
          -1.70332552593329,
          -0.3906840182946408,
          -0.6357483053025298,
          -1.9455432716535508,
          -0.5398111243240811,
          -0.567472688932623,
          -0.6141447633033629,
          0.8011189183895611,
          -1.2128507855740867,
          -0.37599186611637914,
          1.4623963889164369,
          -0.7631731022882191,
          -0.49931213287490084,
          2.2156779881392468,
          -0.22361959827960393,
          -0.18881355505333997,
          0.1563814679055965,
          -0.04432271649482479,
          0.8444078862992042,
          1.262089825064193,
          1.409022756908488,
          -0.8371506916682264,
          -0.19411419725649035,
          1.3917668500786569,
          -0.10654778503241351,
          0.5073768369051679,
          -2.3983216306246313,
          1.100498582230519,
          -0.8995606298174025,
          -0.6816405917690144,
          0.6642734688092117,
          0.3118612734468044,
          1.2364404904823296,
          1.5917519675688976,
          1.248130459217827,
          1.1785659741667693,
          0.7177544645767607,
          -1.0558469610199113,
          1.6382365853024183
         ]
        }
       ],
       "layout": {
        "barmode": "overlay",
        "legend": {
         "bgcolor": "#F5F6F9",
         "font": {
          "color": "#4D5663"
         }
        },
        "paper_bgcolor": "#F5F6F9",
        "plot_bgcolor": "#F5F6F9",
        "template": {
         "data": {
          "bar": [
           {
            "error_x": {
             "color": "#2a3f5f"
            },
            "error_y": {
             "color": "#2a3f5f"
            },
            "marker": {
             "line": {
              "color": "#E5ECF6",
              "width": 0.5
             },
             "pattern": {
              "fillmode": "overlay",
              "size": 10,
              "solidity": 0.2
             }
            },
            "type": "bar"
           }
          ],
          "barpolar": [
           {
            "marker": {
             "line": {
              "color": "#E5ECF6",
              "width": 0.5
             },
             "pattern": {
              "fillmode": "overlay",
              "size": 10,
              "solidity": 0.2
             }
            },
            "type": "barpolar"
           }
          ],
          "carpet": [
           {
            "aaxis": {
             "endlinecolor": "#2a3f5f",
             "gridcolor": "white",
             "linecolor": "white",
             "minorgridcolor": "white",
             "startlinecolor": "#2a3f5f"
            },
            "baxis": {
             "endlinecolor": "#2a3f5f",
             "gridcolor": "white",
             "linecolor": "white",
             "minorgridcolor": "white",
             "startlinecolor": "#2a3f5f"
            },
            "type": "carpet"
           }
          ],
          "choropleth": [
           {
            "colorbar": {
             "outlinewidth": 0,
             "ticks": ""
            },
            "type": "choropleth"
           }
          ],
          "contour": [
           {
            "colorbar": {
             "outlinewidth": 0,
             "ticks": ""
            },
            "colorscale": [
             [
              0,
              "#0d0887"
             ],
             [
              0.1111111111111111,
              "#46039f"
             ],
             [
              0.2222222222222222,
              "#7201a8"
             ],
             [
              0.3333333333333333,
              "#9c179e"
             ],
             [
              0.4444444444444444,
              "#bd3786"
             ],
             [
              0.5555555555555556,
              "#d8576b"
             ],
             [
              0.6666666666666666,
              "#ed7953"
             ],
             [
              0.7777777777777778,
              "#fb9f3a"
             ],
             [
              0.8888888888888888,
              "#fdca26"
             ],
             [
              1,
              "#f0f921"
             ]
            ],
            "type": "contour"
           }
          ],
          "contourcarpet": [
           {
            "colorbar": {
             "outlinewidth": 0,
             "ticks": ""
            },
            "type": "contourcarpet"
           }
          ],
          "heatmap": [
           {
            "colorbar": {
             "outlinewidth": 0,
             "ticks": ""
            },
            "colorscale": [
             [
              0,
              "#0d0887"
             ],
             [
              0.1111111111111111,
              "#46039f"
             ],
             [
              0.2222222222222222,
              "#7201a8"
             ],
             [
              0.3333333333333333,
              "#9c179e"
             ],
             [
              0.4444444444444444,
              "#bd3786"
             ],
             [
              0.5555555555555556,
              "#d8576b"
             ],
             [
              0.6666666666666666,
              "#ed7953"
             ],
             [
              0.7777777777777778,
              "#fb9f3a"
             ],
             [
              0.8888888888888888,
              "#fdca26"
             ],
             [
              1,
              "#f0f921"
             ]
            ],
            "type": "heatmap"
           }
          ],
          "heatmapgl": [
           {
            "colorbar": {
             "outlinewidth": 0,
             "ticks": ""
            },
            "colorscale": [
             [
              0,
              "#0d0887"
             ],
             [
              0.1111111111111111,
              "#46039f"
             ],
             [
              0.2222222222222222,
              "#7201a8"
             ],
             [
              0.3333333333333333,
              "#9c179e"
             ],
             [
              0.4444444444444444,
              "#bd3786"
             ],
             [
              0.5555555555555556,
              "#d8576b"
             ],
             [
              0.6666666666666666,
              "#ed7953"
             ],
             [
              0.7777777777777778,
              "#fb9f3a"
             ],
             [
              0.8888888888888888,
              "#fdca26"
             ],
             [
              1,
              "#f0f921"
             ]
            ],
            "type": "heatmapgl"
           }
          ],
          "histogram": [
           {
            "marker": {
             "pattern": {
              "fillmode": "overlay",
              "size": 10,
              "solidity": 0.2
             }
            },
            "type": "histogram"
           }
          ],
          "histogram2d": [
           {
            "colorbar": {
             "outlinewidth": 0,
             "ticks": ""
            },
            "colorscale": [
             [
              0,
              "#0d0887"
             ],
             [
              0.1111111111111111,
              "#46039f"
             ],
             [
              0.2222222222222222,
              "#7201a8"
             ],
             [
              0.3333333333333333,
              "#9c179e"
             ],
             [
              0.4444444444444444,
              "#bd3786"
             ],
             [
              0.5555555555555556,
              "#d8576b"
             ],
             [
              0.6666666666666666,
              "#ed7953"
             ],
             [
              0.7777777777777778,
              "#fb9f3a"
             ],
             [
              0.8888888888888888,
              "#fdca26"
             ],
             [
              1,
              "#f0f921"
             ]
            ],
            "type": "histogram2d"
           }
          ],
          "histogram2dcontour": [
           {
            "colorbar": {
             "outlinewidth": 0,
             "ticks": ""
            },
            "colorscale": [
             [
              0,
              "#0d0887"
             ],
             [
              0.1111111111111111,
              "#46039f"
             ],
             [
              0.2222222222222222,
              "#7201a8"
             ],
             [
              0.3333333333333333,
              "#9c179e"
             ],
             [
              0.4444444444444444,
              "#bd3786"
             ],
             [
              0.5555555555555556,
              "#d8576b"
             ],
             [
              0.6666666666666666,
              "#ed7953"
             ],
             [
              0.7777777777777778,
              "#fb9f3a"
             ],
             [
              0.8888888888888888,
              "#fdca26"
             ],
             [
              1,
              "#f0f921"
             ]
            ],
            "type": "histogram2dcontour"
           }
          ],
          "mesh3d": [
           {
            "colorbar": {
             "outlinewidth": 0,
             "ticks": ""
            },
            "type": "mesh3d"
           }
          ],
          "parcoords": [
           {
            "line": {
             "colorbar": {
              "outlinewidth": 0,
              "ticks": ""
             }
            },
            "type": "parcoords"
           }
          ],
          "pie": [
           {
            "automargin": true,
            "type": "pie"
           }
          ],
          "scatter": [
           {
            "marker": {
             "colorbar": {
              "outlinewidth": 0,
              "ticks": ""
             }
            },
            "type": "scatter"
           }
          ],
          "scatter3d": [
           {
            "line": {
             "colorbar": {
              "outlinewidth": 0,
              "ticks": ""
             }
            },
            "marker": {
             "colorbar": {
              "outlinewidth": 0,
              "ticks": ""
             }
            },
            "type": "scatter3d"
           }
          ],
          "scattercarpet": [
           {
            "marker": {
             "colorbar": {
              "outlinewidth": 0,
              "ticks": ""
             }
            },
            "type": "scattercarpet"
           }
          ],
          "scattergeo": [
           {
            "marker": {
             "colorbar": {
              "outlinewidth": 0,
              "ticks": ""
             }
            },
            "type": "scattergeo"
           }
          ],
          "scattergl": [
           {
            "marker": {
             "colorbar": {
              "outlinewidth": 0,
              "ticks": ""
             }
            },
            "type": "scattergl"
           }
          ],
          "scattermapbox": [
           {
            "marker": {
             "colorbar": {
              "outlinewidth": 0,
              "ticks": ""
             }
            },
            "type": "scattermapbox"
           }
          ],
          "scatterpolar": [
           {
            "marker": {
             "colorbar": {
              "outlinewidth": 0,
              "ticks": ""
             }
            },
            "type": "scatterpolar"
           }
          ],
          "scatterpolargl": [
           {
            "marker": {
             "colorbar": {
              "outlinewidth": 0,
              "ticks": ""
             }
            },
            "type": "scatterpolargl"
           }
          ],
          "scatterternary": [
           {
            "marker": {
             "colorbar": {
              "outlinewidth": 0,
              "ticks": ""
             }
            },
            "type": "scatterternary"
           }
          ],
          "surface": [
           {
            "colorbar": {
             "outlinewidth": 0,
             "ticks": ""
            },
            "colorscale": [
             [
              0,
              "#0d0887"
             ],
             [
              0.1111111111111111,
              "#46039f"
             ],
             [
              0.2222222222222222,
              "#7201a8"
             ],
             [
              0.3333333333333333,
              "#9c179e"
             ],
             [
              0.4444444444444444,
              "#bd3786"
             ],
             [
              0.5555555555555556,
              "#d8576b"
             ],
             [
              0.6666666666666666,
              "#ed7953"
             ],
             [
              0.7777777777777778,
              "#fb9f3a"
             ],
             [
              0.8888888888888888,
              "#fdca26"
             ],
             [
              1,
              "#f0f921"
             ]
            ],
            "type": "surface"
           }
          ],
          "table": [
           {
            "cells": {
             "fill": {
              "color": "#EBF0F8"
             },
             "line": {
              "color": "white"
             }
            },
            "header": {
             "fill": {
              "color": "#C8D4E3"
             },
             "line": {
              "color": "white"
             }
            },
            "type": "table"
           }
          ]
         },
         "layout": {
          "annotationdefaults": {
           "arrowcolor": "#2a3f5f",
           "arrowhead": 0,
           "arrowwidth": 1
          },
          "autotypenumbers": "strict",
          "coloraxis": {
           "colorbar": {
            "outlinewidth": 0,
            "ticks": ""
           }
          },
          "colorscale": {
           "diverging": [
            [
             0,
             "#8e0152"
            ],
            [
             0.1,
             "#c51b7d"
            ],
            [
             0.2,
             "#de77ae"
            ],
            [
             0.3,
             "#f1b6da"
            ],
            [
             0.4,
             "#fde0ef"
            ],
            [
             0.5,
             "#f7f7f7"
            ],
            [
             0.6,
             "#e6f5d0"
            ],
            [
             0.7,
             "#b8e186"
            ],
            [
             0.8,
             "#7fbc41"
            ],
            [
             0.9,
             "#4d9221"
            ],
            [
             1,
             "#276419"
            ]
           ],
           "sequential": [
            [
             0,
             "#0d0887"
            ],
            [
             0.1111111111111111,
             "#46039f"
            ],
            [
             0.2222222222222222,
             "#7201a8"
            ],
            [
             0.3333333333333333,
             "#9c179e"
            ],
            [
             0.4444444444444444,
             "#bd3786"
            ],
            [
             0.5555555555555556,
             "#d8576b"
            ],
            [
             0.6666666666666666,
             "#ed7953"
            ],
            [
             0.7777777777777778,
             "#fb9f3a"
            ],
            [
             0.8888888888888888,
             "#fdca26"
            ],
            [
             1,
             "#f0f921"
            ]
           ],
           "sequentialminus": [
            [
             0,
             "#0d0887"
            ],
            [
             0.1111111111111111,
             "#46039f"
            ],
            [
             0.2222222222222222,
             "#7201a8"
            ],
            [
             0.3333333333333333,
             "#9c179e"
            ],
            [
             0.4444444444444444,
             "#bd3786"
            ],
            [
             0.5555555555555556,
             "#d8576b"
            ],
            [
             0.6666666666666666,
             "#ed7953"
            ],
            [
             0.7777777777777778,
             "#fb9f3a"
            ],
            [
             0.8888888888888888,
             "#fdca26"
            ],
            [
             1,
             "#f0f921"
            ]
           ]
          },
          "colorway": [
           "#636efa",
           "#EF553B",
           "#00cc96",
           "#ab63fa",
           "#FFA15A",
           "#19d3f3",
           "#FF6692",
           "#B6E880",
           "#FF97FF",
           "#FECB52"
          ],
          "font": {
           "color": "#2a3f5f"
          },
          "geo": {
           "bgcolor": "white",
           "lakecolor": "white",
           "landcolor": "#E5ECF6",
           "showlakes": true,
           "showland": true,
           "subunitcolor": "white"
          },
          "hoverlabel": {
           "align": "left"
          },
          "hovermode": "closest",
          "mapbox": {
           "style": "light"
          },
          "paper_bgcolor": "white",
          "plot_bgcolor": "#E5ECF6",
          "polar": {
           "angularaxis": {
            "gridcolor": "white",
            "linecolor": "white",
            "ticks": ""
           },
           "bgcolor": "#E5ECF6",
           "radialaxis": {
            "gridcolor": "white",
            "linecolor": "white",
            "ticks": ""
           }
          },
          "scene": {
           "xaxis": {
            "backgroundcolor": "#E5ECF6",
            "gridcolor": "white",
            "gridwidth": 2,
            "linecolor": "white",
            "showbackground": true,
            "ticks": "",
            "zerolinecolor": "white"
           },
           "yaxis": {
            "backgroundcolor": "#E5ECF6",
            "gridcolor": "white",
            "gridwidth": 2,
            "linecolor": "white",
            "showbackground": true,
            "ticks": "",
            "zerolinecolor": "white"
           },
           "zaxis": {
            "backgroundcolor": "#E5ECF6",
            "gridcolor": "white",
            "gridwidth": 2,
            "linecolor": "white",
            "showbackground": true,
            "ticks": "",
            "zerolinecolor": "white"
           }
          },
          "shapedefaults": {
           "line": {
            "color": "#2a3f5f"
           }
          },
          "ternary": {
           "aaxis": {
            "gridcolor": "white",
            "linecolor": "white",
            "ticks": ""
           },
           "baxis": {
            "gridcolor": "white",
            "linecolor": "white",
            "ticks": ""
           },
           "bgcolor": "#E5ECF6",
           "caxis": {
            "gridcolor": "white",
            "linecolor": "white",
            "ticks": ""
           }
          },
          "title": {
           "x": 0.05
          },
          "xaxis": {
           "automargin": true,
           "gridcolor": "white",
           "linecolor": "white",
           "ticks": "",
           "title": {
            "standoff": 15
           },
           "zerolinecolor": "white",
           "zerolinewidth": 2
          },
          "yaxis": {
           "automargin": true,
           "gridcolor": "white",
           "linecolor": "white",
           "ticks": "",
           "title": {
            "standoff": 15
           },
           "zerolinecolor": "white",
           "zerolinewidth": 2
          }
         }
        },
        "title": {
         "font": {
          "color": "#4D5663"
         }
        },
        "xaxis": {
         "gridcolor": "#E1E5ED",
         "showgrid": true,
         "tickfont": {
          "color": "#4D5663"
         },
         "title": {
          "font": {
           "color": "#4D5663"
          },
          "text": ""
         },
         "zerolinecolor": "#E1E5ED"
        },
        "yaxis": {
         "gridcolor": "#E1E5ED",
         "showgrid": true,
         "tickfont": {
          "color": "#4D5663"
         },
         "title": {
          "font": {
           "color": "#4D5663"
          },
          "text": ""
         },
         "zerolinecolor": "#E1E5ED"
        }
       }
      },
      "text/html": [
       "<div>                            <div id=\"84ef0dcf-b69a-4b3c-901c-d2220f9f8a99\" class=\"plotly-graph-div\" style=\"height:525px; width:100%;\"></div>            <script type=\"text/javascript\">                require([\"plotly\"], function(Plotly) {                    window.PLOTLYENV=window.PLOTLYENV || {};\n",
       "                    window.PLOTLYENV.BASE_URL='https://plot.ly';                                    if (document.getElementById(\"84ef0dcf-b69a-4b3c-901c-d2220f9f8a99\")) {                    Plotly.newPlot(                        \"84ef0dcf-b69a-4b3c-901c-d2220f9f8a99\",                        [{\"histfunc\":\"count\",\"histnorm\":\"\",\"marker\":{\"color\":\"rgba(255, 153, 51, 1.0)\",\"line\":{\"color\":\"#4D5663\",\"width\":1.3}},\"name\":\"A\",\"nbinsx\":25,\"opacity\":0.8,\"orientation\":\"v\",\"x\":[-2.0179175343734688,0.9233803166017815,1.0222921258112883,-1.5427079018271743,0.9534677415959142,1.6139729466741866,-0.49068513401485064,0.6406132073703192,0.18167756204418314,-0.9019463260024844,1.1277902478070898,-0.5492318874813171,0.40254477215755796,0.20456328644346478,0.8484682084553806,1.598340262193149,-0.3885036558297409,0.7669440765048724,0.5721831877604494,-0.35869921119774845,1.275872979836392,-1.5377322892971523,0.9397524846531856,1.2378549284154148,0.45562500468005257,1.9220064474824583,0.3788446677627523,-1.6272530974099786,1.548747250020298,0.35367122733264206,-1.6023537985805665,-0.2743189849606666,1.6451749536118985,0.7660625343797965,-0.6551561273192944,2.2894165994992624,-0.30049348682681154,-0.1426257921945078,-0.3509331819696133,0.8066088439981102,-0.8190431907381289,0.33839591532473734,0.029153055130530316,0.04075026670195348,0.9095559195154234,-0.45874347933067305,0.23720429403928597,1.8818167393804857,-1.226472966530045,1.0222059444120426,0.786664742156235,-0.856175743606393,-1.2967015187714002,-1.3397627343890512,-0.7740855332934843,-2.0651785264446603,-0.43263697200185763,-0.13962494342840498,1.0979198353286066,-2.5008648450355797,0.7363401239497037,-1.70332552593329,-0.3906840182946408,-0.6357483053025298,-1.9455432716535508,-0.5398111243240811,-0.567472688932623,-0.6141447633033629,0.8011189183895611,-1.2128507855740867,-0.37599186611637914,1.4623963889164369,-0.7631731022882191,-0.49931213287490084,2.2156779881392468,-0.22361959827960393,-0.18881355505333997,0.1563814679055965,-0.04432271649482479,0.8444078862992042,1.262089825064193,1.409022756908488,-0.8371506916682264,-0.19411419725649035,1.3917668500786569,-0.10654778503241351,0.5073768369051679,-2.3983216306246313,1.100498582230519,-0.8995606298174025,-0.6816405917690144,0.6642734688092117,0.3118612734468044,1.2364404904823296,1.5917519675688976,1.248130459217827,1.1785659741667693,0.7177544645767607,-1.0558469610199113,1.6382365853024183],\"type\":\"histogram\"}],                        {\"barmode\":\"overlay\",\"legend\":{\"bgcolor\":\"#F5F6F9\",\"font\":{\"color\":\"#4D5663\"}},\"paper_bgcolor\":\"#F5F6F9\",\"plot_bgcolor\":\"#F5F6F9\",\"template\":{\"data\":{\"barpolar\":[{\"marker\":{\"line\":{\"color\":\"#E5ECF6\",\"width\":0.5},\"pattern\":{\"fillmode\":\"overlay\",\"size\":10,\"solidity\":0.2}},\"type\":\"barpolar\"}],\"bar\":[{\"error_x\":{\"color\":\"#2a3f5f\"},\"error_y\":{\"color\":\"#2a3f5f\"},\"marker\":{\"line\":{\"color\":\"#E5ECF6\",\"width\":0.5},\"pattern\":{\"fillmode\":\"overlay\",\"size\":10,\"solidity\":0.2}},\"type\":\"bar\"}],\"carpet\":[{\"aaxis\":{\"endlinecolor\":\"#2a3f5f\",\"gridcolor\":\"white\",\"linecolor\":\"white\",\"minorgridcolor\":\"white\",\"startlinecolor\":\"#2a3f5f\"},\"baxis\":{\"endlinecolor\":\"#2a3f5f\",\"gridcolor\":\"white\",\"linecolor\":\"white\",\"minorgridcolor\":\"white\",\"startlinecolor\":\"#2a3f5f\"},\"type\":\"carpet\"}],\"choropleth\":[{\"colorbar\":{\"outlinewidth\":0,\"ticks\":\"\"},\"type\":\"choropleth\"}],\"contourcarpet\":[{\"colorbar\":{\"outlinewidth\":0,\"ticks\":\"\"},\"type\":\"contourcarpet\"}],\"contour\":[{\"colorbar\":{\"outlinewidth\":0,\"ticks\":\"\"},\"colorscale\":[[0.0,\"#0d0887\"],[0.1111111111111111,\"#46039f\"],[0.2222222222222222,\"#7201a8\"],[0.3333333333333333,\"#9c179e\"],[0.4444444444444444,\"#bd3786\"],[0.5555555555555556,\"#d8576b\"],[0.6666666666666666,\"#ed7953\"],[0.7777777777777778,\"#fb9f3a\"],[0.8888888888888888,\"#fdca26\"],[1.0,\"#f0f921\"]],\"type\":\"contour\"}],\"heatmapgl\":[{\"colorbar\":{\"outlinewidth\":0,\"ticks\":\"\"},\"colorscale\":[[0.0,\"#0d0887\"],[0.1111111111111111,\"#46039f\"],[0.2222222222222222,\"#7201a8\"],[0.3333333333333333,\"#9c179e\"],[0.4444444444444444,\"#bd3786\"],[0.5555555555555556,\"#d8576b\"],[0.6666666666666666,\"#ed7953\"],[0.7777777777777778,\"#fb9f3a\"],[0.8888888888888888,\"#fdca26\"],[1.0,\"#f0f921\"]],\"type\":\"heatmapgl\"}],\"heatmap\":[{\"colorbar\":{\"outlinewidth\":0,\"ticks\":\"\"},\"colorscale\":[[0.0,\"#0d0887\"],[0.1111111111111111,\"#46039f\"],[0.2222222222222222,\"#7201a8\"],[0.3333333333333333,\"#9c179e\"],[0.4444444444444444,\"#bd3786\"],[0.5555555555555556,\"#d8576b\"],[0.6666666666666666,\"#ed7953\"],[0.7777777777777778,\"#fb9f3a\"],[0.8888888888888888,\"#fdca26\"],[1.0,\"#f0f921\"]],\"type\":\"heatmap\"}],\"histogram2dcontour\":[{\"colorbar\":{\"outlinewidth\":0,\"ticks\":\"\"},\"colorscale\":[[0.0,\"#0d0887\"],[0.1111111111111111,\"#46039f\"],[0.2222222222222222,\"#7201a8\"],[0.3333333333333333,\"#9c179e\"],[0.4444444444444444,\"#bd3786\"],[0.5555555555555556,\"#d8576b\"],[0.6666666666666666,\"#ed7953\"],[0.7777777777777778,\"#fb9f3a\"],[0.8888888888888888,\"#fdca26\"],[1.0,\"#f0f921\"]],\"type\":\"histogram2dcontour\"}],\"histogram2d\":[{\"colorbar\":{\"outlinewidth\":0,\"ticks\":\"\"},\"colorscale\":[[0.0,\"#0d0887\"],[0.1111111111111111,\"#46039f\"],[0.2222222222222222,\"#7201a8\"],[0.3333333333333333,\"#9c179e\"],[0.4444444444444444,\"#bd3786\"],[0.5555555555555556,\"#d8576b\"],[0.6666666666666666,\"#ed7953\"],[0.7777777777777778,\"#fb9f3a\"],[0.8888888888888888,\"#fdca26\"],[1.0,\"#f0f921\"]],\"type\":\"histogram2d\"}],\"histogram\":[{\"marker\":{\"pattern\":{\"fillmode\":\"overlay\",\"size\":10,\"solidity\":0.2}},\"type\":\"histogram\"}],\"mesh3d\":[{\"colorbar\":{\"outlinewidth\":0,\"ticks\":\"\"},\"type\":\"mesh3d\"}],\"parcoords\":[{\"line\":{\"colorbar\":{\"outlinewidth\":0,\"ticks\":\"\"}},\"type\":\"parcoords\"}],\"pie\":[{\"automargin\":true,\"type\":\"pie\"}],\"scatter3d\":[{\"line\":{\"colorbar\":{\"outlinewidth\":0,\"ticks\":\"\"}},\"marker\":{\"colorbar\":{\"outlinewidth\":0,\"ticks\":\"\"}},\"type\":\"scatter3d\"}],\"scattercarpet\":[{\"marker\":{\"colorbar\":{\"outlinewidth\":0,\"ticks\":\"\"}},\"type\":\"scattercarpet\"}],\"scattergeo\":[{\"marker\":{\"colorbar\":{\"outlinewidth\":0,\"ticks\":\"\"}},\"type\":\"scattergeo\"}],\"scattergl\":[{\"marker\":{\"colorbar\":{\"outlinewidth\":0,\"ticks\":\"\"}},\"type\":\"scattergl\"}],\"scattermapbox\":[{\"marker\":{\"colorbar\":{\"outlinewidth\":0,\"ticks\":\"\"}},\"type\":\"scattermapbox\"}],\"scatterpolargl\":[{\"marker\":{\"colorbar\":{\"outlinewidth\":0,\"ticks\":\"\"}},\"type\":\"scatterpolargl\"}],\"scatterpolar\":[{\"marker\":{\"colorbar\":{\"outlinewidth\":0,\"ticks\":\"\"}},\"type\":\"scatterpolar\"}],\"scatter\":[{\"marker\":{\"colorbar\":{\"outlinewidth\":0,\"ticks\":\"\"}},\"type\":\"scatter\"}],\"scatterternary\":[{\"marker\":{\"colorbar\":{\"outlinewidth\":0,\"ticks\":\"\"}},\"type\":\"scatterternary\"}],\"surface\":[{\"colorbar\":{\"outlinewidth\":0,\"ticks\":\"\"},\"colorscale\":[[0.0,\"#0d0887\"],[0.1111111111111111,\"#46039f\"],[0.2222222222222222,\"#7201a8\"],[0.3333333333333333,\"#9c179e\"],[0.4444444444444444,\"#bd3786\"],[0.5555555555555556,\"#d8576b\"],[0.6666666666666666,\"#ed7953\"],[0.7777777777777778,\"#fb9f3a\"],[0.8888888888888888,\"#fdca26\"],[1.0,\"#f0f921\"]],\"type\":\"surface\"}],\"table\":[{\"cells\":{\"fill\":{\"color\":\"#EBF0F8\"},\"line\":{\"color\":\"white\"}},\"header\":{\"fill\":{\"color\":\"#C8D4E3\"},\"line\":{\"color\":\"white\"}},\"type\":\"table\"}]},\"layout\":{\"annotationdefaults\":{\"arrowcolor\":\"#2a3f5f\",\"arrowhead\":0,\"arrowwidth\":1},\"autotypenumbers\":\"strict\",\"coloraxis\":{\"colorbar\":{\"outlinewidth\":0,\"ticks\":\"\"}},\"colorscale\":{\"diverging\":[[0,\"#8e0152\"],[0.1,\"#c51b7d\"],[0.2,\"#de77ae\"],[0.3,\"#f1b6da\"],[0.4,\"#fde0ef\"],[0.5,\"#f7f7f7\"],[0.6,\"#e6f5d0\"],[0.7,\"#b8e186\"],[0.8,\"#7fbc41\"],[0.9,\"#4d9221\"],[1,\"#276419\"]],\"sequential\":[[0.0,\"#0d0887\"],[0.1111111111111111,\"#46039f\"],[0.2222222222222222,\"#7201a8\"],[0.3333333333333333,\"#9c179e\"],[0.4444444444444444,\"#bd3786\"],[0.5555555555555556,\"#d8576b\"],[0.6666666666666666,\"#ed7953\"],[0.7777777777777778,\"#fb9f3a\"],[0.8888888888888888,\"#fdca26\"],[1.0,\"#f0f921\"]],\"sequentialminus\":[[0.0,\"#0d0887\"],[0.1111111111111111,\"#46039f\"],[0.2222222222222222,\"#7201a8\"],[0.3333333333333333,\"#9c179e\"],[0.4444444444444444,\"#bd3786\"],[0.5555555555555556,\"#d8576b\"],[0.6666666666666666,\"#ed7953\"],[0.7777777777777778,\"#fb9f3a\"],[0.8888888888888888,\"#fdca26\"],[1.0,\"#f0f921\"]]},\"colorway\":[\"#636efa\",\"#EF553B\",\"#00cc96\",\"#ab63fa\",\"#FFA15A\",\"#19d3f3\",\"#FF6692\",\"#B6E880\",\"#FF97FF\",\"#FECB52\"],\"font\":{\"color\":\"#2a3f5f\"},\"geo\":{\"bgcolor\":\"white\",\"lakecolor\":\"white\",\"landcolor\":\"#E5ECF6\",\"showlakes\":true,\"showland\":true,\"subunitcolor\":\"white\"},\"hoverlabel\":{\"align\":\"left\"},\"hovermode\":\"closest\",\"mapbox\":{\"style\":\"light\"},\"paper_bgcolor\":\"white\",\"plot_bgcolor\":\"#E5ECF6\",\"polar\":{\"angularaxis\":{\"gridcolor\":\"white\",\"linecolor\":\"white\",\"ticks\":\"\"},\"bgcolor\":\"#E5ECF6\",\"radialaxis\":{\"gridcolor\":\"white\",\"linecolor\":\"white\",\"ticks\":\"\"}},\"scene\":{\"xaxis\":{\"backgroundcolor\":\"#E5ECF6\",\"gridcolor\":\"white\",\"gridwidth\":2,\"linecolor\":\"white\",\"showbackground\":true,\"ticks\":\"\",\"zerolinecolor\":\"white\"},\"yaxis\":{\"backgroundcolor\":\"#E5ECF6\",\"gridcolor\":\"white\",\"gridwidth\":2,\"linecolor\":\"white\",\"showbackground\":true,\"ticks\":\"\",\"zerolinecolor\":\"white\"},\"zaxis\":{\"backgroundcolor\":\"#E5ECF6\",\"gridcolor\":\"white\",\"gridwidth\":2,\"linecolor\":\"white\",\"showbackground\":true,\"ticks\":\"\",\"zerolinecolor\":\"white\"}},\"shapedefaults\":{\"line\":{\"color\":\"#2a3f5f\"}},\"ternary\":{\"aaxis\":{\"gridcolor\":\"white\",\"linecolor\":\"white\",\"ticks\":\"\"},\"baxis\":{\"gridcolor\":\"white\",\"linecolor\":\"white\",\"ticks\":\"\"},\"bgcolor\":\"#E5ECF6\",\"caxis\":{\"gridcolor\":\"white\",\"linecolor\":\"white\",\"ticks\":\"\"}},\"title\":{\"x\":0.05},\"xaxis\":{\"automargin\":true,\"gridcolor\":\"white\",\"linecolor\":\"white\",\"ticks\":\"\",\"title\":{\"standoff\":15},\"zerolinecolor\":\"white\",\"zerolinewidth\":2},\"yaxis\":{\"automargin\":true,\"gridcolor\":\"white\",\"linecolor\":\"white\",\"ticks\":\"\",\"title\":{\"standoff\":15},\"zerolinecolor\":\"white\",\"zerolinewidth\":2}}},\"title\":{\"font\":{\"color\":\"#4D5663\"}},\"xaxis\":{\"gridcolor\":\"#E1E5ED\",\"showgrid\":true,\"tickfont\":{\"color\":\"#4D5663\"},\"title\":{\"font\":{\"color\":\"#4D5663\"},\"text\":\"\"},\"zerolinecolor\":\"#E1E5ED\"},\"yaxis\":{\"gridcolor\":\"#E1E5ED\",\"showgrid\":true,\"tickfont\":{\"color\":\"#4D5663\"},\"title\":{\"font\":{\"color\":\"#4D5663\"},\"text\":\"\"},\"zerolinecolor\":\"#E1E5ED\"}},                        {\"showLink\": true, \"linkText\": \"Export to plot.ly\", \"plotlyServerURL\": \"https://plot.ly\", \"responsive\": true}                    ).then(function(){\n",
       "                            \n",
       "var gd = document.getElementById('84ef0dcf-b69a-4b3c-901c-d2220f9f8a99');\n",
       "var x = new MutationObserver(function (mutations, observer) {{\n",
       "        var display = window.getComputedStyle(gd).display;\n",
       "        if (!display || display === 'none') {{\n",
       "            console.log([gd, 'removed!']);\n",
       "            Plotly.purge(gd);\n",
       "            observer.disconnect();\n",
       "        }}\n",
       "}});\n",
       "\n",
       "// Listen for the removal of the full notebook cells\n",
       "var notebookContainer = gd.closest('#notebook-container');\n",
       "if (notebookContainer) {{\n",
       "    x.observe(notebookContainer, {childList: true});\n",
       "}}\n",
       "\n",
       "// Listen for the clearing of the current output cell\n",
       "var outputEl = gd.closest('.output');\n",
       "if (outputEl) {{\n",
       "    x.observe(outputEl, {childList: true});\n",
       "}}\n",
       "\n",
       "                        })                };                });            </script>        </div>"
      ]
     },
     "metadata": {},
     "output_type": "display_data"
    }
   ],
   "source": [
    "df1['A'].iplot(kind='hist',bins=25)"
   ]
  },
  {
   "cell_type": "code",
   "execution_count": 39,
   "id": "da7fb11e",
   "metadata": {},
   "outputs": [
    {
     "data": {
      "application/vnd.plotly.v1+json": {
       "config": {
        "linkText": "Export to plot.ly",
        "plotlyServerURL": "https://plot.ly",
        "showLink": true
       },
       "data": [
        {
         "histfunc": "count",
         "histnorm": "",
         "marker": {
          "color": "rgba(255, 153, 51, 1.0)",
          "line": {
           "color": "#4D5663",
           "width": 1.3
          }
         },
         "name": "A",
         "nbinsx": 30,
         "opacity": 0.8,
         "orientation": "v",
         "type": "histogram",
         "x": [
          -2.0179175343734688,
          0.9233803166017815,
          1.0222921258112883,
          -1.5427079018271743,
          0.9534677415959142,
          1.6139729466741866,
          -0.49068513401485064,
          0.6406132073703192,
          0.18167756204418314,
          -0.9019463260024844,
          1.1277902478070898,
          -0.5492318874813171,
          0.40254477215755796,
          0.20456328644346478,
          0.8484682084553806,
          1.598340262193149,
          -0.3885036558297409,
          0.7669440765048724,
          0.5721831877604494,
          -0.35869921119774845,
          1.275872979836392,
          -1.5377322892971523,
          0.9397524846531856,
          1.2378549284154148,
          0.45562500468005257,
          1.9220064474824583,
          0.3788446677627523,
          -1.6272530974099786,
          1.548747250020298,
          0.35367122733264206,
          -1.6023537985805665,
          -0.2743189849606666,
          1.6451749536118985,
          0.7660625343797965,
          -0.6551561273192944,
          2.2894165994992624,
          -0.30049348682681154,
          -0.1426257921945078,
          -0.3509331819696133,
          0.8066088439981102,
          -0.8190431907381289,
          0.33839591532473734,
          0.029153055130530316,
          0.04075026670195348,
          0.9095559195154234,
          -0.45874347933067305,
          0.23720429403928597,
          1.8818167393804857,
          -1.226472966530045,
          1.0222059444120426,
          0.786664742156235,
          -0.856175743606393,
          -1.2967015187714002,
          -1.3397627343890512,
          -0.7740855332934843,
          -2.0651785264446603,
          -0.43263697200185763,
          -0.13962494342840498,
          1.0979198353286066,
          -2.5008648450355797,
          0.7363401239497037,
          -1.70332552593329,
          -0.3906840182946408,
          -0.6357483053025298,
          -1.9455432716535508,
          -0.5398111243240811,
          -0.567472688932623,
          -0.6141447633033629,
          0.8011189183895611,
          -1.2128507855740867,
          -0.37599186611637914,
          1.4623963889164369,
          -0.7631731022882191,
          -0.49931213287490084,
          2.2156779881392468,
          -0.22361959827960393,
          -0.18881355505333997,
          0.1563814679055965,
          -0.04432271649482479,
          0.8444078862992042,
          1.262089825064193,
          1.409022756908488,
          -0.8371506916682264,
          -0.19411419725649035,
          1.3917668500786569,
          -0.10654778503241351,
          0.5073768369051679,
          -2.3983216306246313,
          1.100498582230519,
          -0.8995606298174025,
          -0.6816405917690144,
          0.6642734688092117,
          0.3118612734468044,
          1.2364404904823296,
          1.5917519675688976,
          1.248130459217827,
          1.1785659741667693,
          0.7177544645767607,
          -1.0558469610199113,
          1.6382365853024183
         ]
        },
        {
         "histfunc": "count",
         "histnorm": "",
         "marker": {
          "color": "rgba(55, 128, 191, 1.0)",
          "line": {
           "color": "#4D5663",
           "width": 1.3
          }
         },
         "name": "B",
         "nbinsx": 30,
         "opacity": 0.8,
         "orientation": "v",
         "type": "histogram",
         "x": [
          2.395950167703243,
          0.4011665790160146,
          -0.5052385387154442,
          -0.3942371566252391,
          -0.21364305021911828,
          0.43594532497191135,
          0.6259224234031222,
          0.185412186044443,
          -0.6480451046733444,
          -0.8073701561029344,
          0.3086398159337038,
          0.40896197444841126,
          -0.1496317018826678,
          0.008520897127094368,
          -0.37877268064955,
          1.2535502967513548,
          -0.8177967117036561,
          -0.04946135797232314,
          -0.7183013023150779,
          -1.3447272277949869,
          0.41260120152215496,
          1.33359903067863,
          0.3671958190478347,
          0.8236499541071457,
          2.3347971433163424,
          -0.5771650158144527,
          -0.2251481350890585,
          -0.9435813597330984,
          0.8453434644325502,
          -0.21978075472742842,
          0.12090913168294705,
          1.3238965924999886,
          -1.242242230242268,
          -1.767118741764655,
          -1.039313253025596,
          -1.3642511383582916,
          2.018414865068438,
          0.9965547242299222,
          -0.19942697072610457,
          -1.1706562780182612,
          -0.5595449835820688,
          1.151778463952504,
          -1.143226604397329,
          -0.663554837473901,
          -0.3527941140626611,
          -0.3970287607005498,
          0.06988660301060044,
          -0.40904957810275894,
          1.2239473808056882,
          1.4503012453471353,
          -0.7099546586223381,
          0.1955292008469326,
          -0.9682868269540975,
          -0.6066626776294081,
          1.1271596955346652,
          -0.06980868330920874,
          1.2501046888418872,
          -0.7711144899188074,
          1.00068801591415,
          -0.30428583621033645,
          -0.5699992904635901,
          -1.1394997915954335,
          -1.3178505709741983,
          -0.5362050779147439,
          -1.0081773680965436,
          1.7769241713514654,
          -1.7573616768732496,
          -1.4171193570499716,
          1.9335299038258698,
          -0.08421774918244486,
          -0.3712113381043379,
          1.0037717622849058,
          -0.7649009639855259,
          0.8067863038735369,
          0.73994466595083,
          1.6230867298471527,
          0.36667123116095157,
          0.38490337507613426,
          -1.1667875323245254,
          1.1022912167479761,
          0.036114867420814295,
          0.21253242351549598,
          -1.0133323362101818,
          -0.045069781891611274,
          0.8566552134265603,
          -1.9136470404042818,
          1.2980627554809563,
          -0.359342519582086,
          -2.7620029335220795,
          -0.18996686862109757,
          0.01672937162273757,
          -0.5646206196563005,
          1.80341766720294,
          2.2834787562600174,
          -0.5206495440594276,
          0.0014904575692281095,
          -0.37866407377310024,
          -0.3283192827529023,
          0.48484304460629934,
          -0.803938936523087
         ]
        },
        {
         "histfunc": "count",
         "histnorm": "",
         "marker": {
          "color": "rgba(50, 171, 96, 1.0)",
          "line": {
           "color": "#4D5663",
           "width": 1.3
          }
         },
         "name": "C",
         "nbinsx": 30,
         "opacity": 0.8,
         "orientation": "v",
         "type": "histogram",
         "x": [
          -0.6976331963008978,
          0.4427226738215899,
          -0.5278849581553196,
          0.08357712350404232,
          0.2985644766584697,
          -1.168236300018726,
          -0.07975759208579772,
          2.605684681915098,
          0.23237882392158934,
          -1.5010257824011846,
          -1.0082510510416975,
          -0.6900419533536168,
          -1.259611906566042,
          0.6334244622734533,
          2.049644540477798,
          -0.4125152045772619,
          -0.08379527165547741,
          1.3461944975135538,
          0.07312282676592445,
          0.09608911388057328,
          -1.3379481423112967,
          -0.7105355161950182,
          0.8201289575427168,
          -1.650388692143229,
          -0.2648817286449447,
          -0.7452691095063751,
          1.7868926892834924,
          -0.8814503346799827,
          -0.06151876483423875,
          0.9779962985757222,
          -0.9626365512082998,
          -1.8684057658078863,
          -0.4985095156624019,
          0.09801251739717784,
          -0.9048087424806065,
          0.39923318225585497,
          0.8007870834966261,
          0.04492687871960958,
          -0.13447093178177616,
          0.6955513931404235,
          -1.6664237297318127,
          -0.06878796517969679,
          -2.0271677100118843,
          1.0054649423548643,
          -0.935485681989698,
          -0.4877090511885543,
          -2.1691727226848325,
          1.8730951291540747,
          1.9701291532645244,
          -0.6072367365041451,
          -0.20267812348350753,
          0.419520074747097,
          -1.3698630814147639,
          0.5457179722128258,
          0.5400887042208458,
          -0.8401643575269793,
          -1.7852954133027419,
          -0.015127204278471754,
          -0.5126761205353862,
          -1.9392192246740192,
          -0.9348399242998332,
          0.13475405165976082,
          0.3226933637818872,
          0.2518508135816996,
          0.6187654522995018,
          0.34584991996916925,
          0.19827494158896725,
          1.3154777020915707,
          1.0843443180742538,
          -1.7842726344419373,
          -0.7368681730249035,
          0.29982786449948673,
          0.055325129415402484,
          -0.22555181039210734,
          0.3253537214948485,
          -0.972508311987855,
          1.5216907051621416,
          -0.8303815536215513,
          2.2176797823958276,
          0.6706758843386869,
          0.7922588968759959,
          -0.6679061378549241,
          -1.9957141479041003,
          -0.16551075387272368,
          -0.42521296568309397,
          0.12230529593625743,
          -0.737934123468278,
          -0.41227840363982143,
          0.022578301223580156,
          0.09629241133641168,
          -0.29384242359572504,
          0.48098038536471205,
          -0.6579014706607186,
          0.8300898029984877,
          0.7520766490943627,
          -0.4047989014015041,
          -0.7405663749500524,
          1.300275639607767,
          0.0621476170640035,
          0.9914132099459558
         ]
        },
        {
         "histfunc": "count",
         "histnorm": "",
         "marker": {
          "color": "rgba(128, 0, 128, 1.0)",
          "line": {
           "color": "#4D5663",
           "width": 1.3
          }
         },
         "name": "D",
         "nbinsx": 30,
         "opacity": 0.8,
         "orientation": "v",
         "type": "histogram",
         "x": [
          0.36755381357114664,
          1.5866634641494763,
          -0.0016882635232418383,
          0.30481516546547754,
          -1.1460579793852106,
          0.18731553992418792,
          -0.7340415243278909,
          1.4681758380718968,
          0.6109156444057225,
          0.8636566081800396,
          -1.2042896973027075,
          -0.717285088620604,
          -0.27926979285461195,
          -2.27782884292265,
          -1.1456024387434294,
          -0.1800217010084489,
          0.785832135922479,
          -2.630458514106578,
          -0.2628149102421362,
          1.0761508998209481,
          -0.6181868880517446,
          0.5644249552487409,
          0.1376512701946862,
          -1.0643470491969753,
          1.8326826957178588,
          0.08728948571471955,
          -0.9472986678785581,
          -2.188688147512093,
          -0.7094221230993478,
          -0.28614802083519075,
          -0.48367152612082537,
          -0.9609704154017971,
          0.1744627506306088,
          0.7508229866038417,
          -0.337165746033092,
          -1.5903644266779202,
          2.228907207340895,
          -0.9478162039494671,
          0.27593618307892154,
          0.46010096005631257,
          0.04756331409774407,
          1.1287002598451472,
          0.18506283525199643,
          -0.6592959249978171,
          0.4301598022789856,
          -0.011438549207886901,
          0.7132425090647524,
          -0.6744260407693818,
          -1.0462246129155746,
          0.03198300689870275,
          -1.0994408136210951,
          -1.113758931877566,
          1.530382010628822,
          0.4135996875452047,
          -0.36336300948095324,
          0.3141181281423151,
          -0.4683804485386927,
          0.883379291693893,
          -1.2366918685672104,
          -0.8887760161020599,
          1.1407716944151174,
          0.20815316548169516,
          -0.8895268304752171,
          -2.487641320009603,
          1.2669697435451026,
          -0.10918129777148618,
          -0.7291768460835901,
          -0.03115806750970858,
          0.7255449564277417,
          0.051499144496555294,
          0.1452122127315349,
          0.4713464248472897,
          0.34120215169591545,
          -0.5319128893521675,
          -0.24273195108086826,
          0.30572900353506227,
          0.7753034135589412,
          -0.7913533202524138,
          0.3192616910868719,
          -1.8917692479218562,
          1.183999529257435,
          0.3856430891754346,
          -0.26119581670676495,
          0.9045642887654469,
          -2.0546395471207317,
          0.49571308447610857,
          0.30788575151268355,
          0.8461911621944069,
          1.7572508576574226,
          -0.46684102667288335,
          0.0213978276901902,
          -0.22812548617914455,
          0.33387665321982846,
          1.1207365511896488,
          -0.7548904321132596,
          0.8495131759537213,
          -0.6024092649912318,
          -0.3645591543801789,
          1.4134123567488515,
          -0.7965566970465708
         ]
        }
       ],
       "layout": {
        "barmode": "overlay",
        "legend": {
         "bgcolor": "#F5F6F9",
         "font": {
          "color": "#4D5663"
         }
        },
        "paper_bgcolor": "#F5F6F9",
        "plot_bgcolor": "#F5F6F9",
        "template": {
         "data": {
          "bar": [
           {
            "error_x": {
             "color": "#2a3f5f"
            },
            "error_y": {
             "color": "#2a3f5f"
            },
            "marker": {
             "line": {
              "color": "#E5ECF6",
              "width": 0.5
             },
             "pattern": {
              "fillmode": "overlay",
              "size": 10,
              "solidity": 0.2
             }
            },
            "type": "bar"
           }
          ],
          "barpolar": [
           {
            "marker": {
             "line": {
              "color": "#E5ECF6",
              "width": 0.5
             },
             "pattern": {
              "fillmode": "overlay",
              "size": 10,
              "solidity": 0.2
             }
            },
            "type": "barpolar"
           }
          ],
          "carpet": [
           {
            "aaxis": {
             "endlinecolor": "#2a3f5f",
             "gridcolor": "white",
             "linecolor": "white",
             "minorgridcolor": "white",
             "startlinecolor": "#2a3f5f"
            },
            "baxis": {
             "endlinecolor": "#2a3f5f",
             "gridcolor": "white",
             "linecolor": "white",
             "minorgridcolor": "white",
             "startlinecolor": "#2a3f5f"
            },
            "type": "carpet"
           }
          ],
          "choropleth": [
           {
            "colorbar": {
             "outlinewidth": 0,
             "ticks": ""
            },
            "type": "choropleth"
           }
          ],
          "contour": [
           {
            "colorbar": {
             "outlinewidth": 0,
             "ticks": ""
            },
            "colorscale": [
             [
              0,
              "#0d0887"
             ],
             [
              0.1111111111111111,
              "#46039f"
             ],
             [
              0.2222222222222222,
              "#7201a8"
             ],
             [
              0.3333333333333333,
              "#9c179e"
             ],
             [
              0.4444444444444444,
              "#bd3786"
             ],
             [
              0.5555555555555556,
              "#d8576b"
             ],
             [
              0.6666666666666666,
              "#ed7953"
             ],
             [
              0.7777777777777778,
              "#fb9f3a"
             ],
             [
              0.8888888888888888,
              "#fdca26"
             ],
             [
              1,
              "#f0f921"
             ]
            ],
            "type": "contour"
           }
          ],
          "contourcarpet": [
           {
            "colorbar": {
             "outlinewidth": 0,
             "ticks": ""
            },
            "type": "contourcarpet"
           }
          ],
          "heatmap": [
           {
            "colorbar": {
             "outlinewidth": 0,
             "ticks": ""
            },
            "colorscale": [
             [
              0,
              "#0d0887"
             ],
             [
              0.1111111111111111,
              "#46039f"
             ],
             [
              0.2222222222222222,
              "#7201a8"
             ],
             [
              0.3333333333333333,
              "#9c179e"
             ],
             [
              0.4444444444444444,
              "#bd3786"
             ],
             [
              0.5555555555555556,
              "#d8576b"
             ],
             [
              0.6666666666666666,
              "#ed7953"
             ],
             [
              0.7777777777777778,
              "#fb9f3a"
             ],
             [
              0.8888888888888888,
              "#fdca26"
             ],
             [
              1,
              "#f0f921"
             ]
            ],
            "type": "heatmap"
           }
          ],
          "heatmapgl": [
           {
            "colorbar": {
             "outlinewidth": 0,
             "ticks": ""
            },
            "colorscale": [
             [
              0,
              "#0d0887"
             ],
             [
              0.1111111111111111,
              "#46039f"
             ],
             [
              0.2222222222222222,
              "#7201a8"
             ],
             [
              0.3333333333333333,
              "#9c179e"
             ],
             [
              0.4444444444444444,
              "#bd3786"
             ],
             [
              0.5555555555555556,
              "#d8576b"
             ],
             [
              0.6666666666666666,
              "#ed7953"
             ],
             [
              0.7777777777777778,
              "#fb9f3a"
             ],
             [
              0.8888888888888888,
              "#fdca26"
             ],
             [
              1,
              "#f0f921"
             ]
            ],
            "type": "heatmapgl"
           }
          ],
          "histogram": [
           {
            "marker": {
             "pattern": {
              "fillmode": "overlay",
              "size": 10,
              "solidity": 0.2
             }
            },
            "type": "histogram"
           }
          ],
          "histogram2d": [
           {
            "colorbar": {
             "outlinewidth": 0,
             "ticks": ""
            },
            "colorscale": [
             [
              0,
              "#0d0887"
             ],
             [
              0.1111111111111111,
              "#46039f"
             ],
             [
              0.2222222222222222,
              "#7201a8"
             ],
             [
              0.3333333333333333,
              "#9c179e"
             ],
             [
              0.4444444444444444,
              "#bd3786"
             ],
             [
              0.5555555555555556,
              "#d8576b"
             ],
             [
              0.6666666666666666,
              "#ed7953"
             ],
             [
              0.7777777777777778,
              "#fb9f3a"
             ],
             [
              0.8888888888888888,
              "#fdca26"
             ],
             [
              1,
              "#f0f921"
             ]
            ],
            "type": "histogram2d"
           }
          ],
          "histogram2dcontour": [
           {
            "colorbar": {
             "outlinewidth": 0,
             "ticks": ""
            },
            "colorscale": [
             [
              0,
              "#0d0887"
             ],
             [
              0.1111111111111111,
              "#46039f"
             ],
             [
              0.2222222222222222,
              "#7201a8"
             ],
             [
              0.3333333333333333,
              "#9c179e"
             ],
             [
              0.4444444444444444,
              "#bd3786"
             ],
             [
              0.5555555555555556,
              "#d8576b"
             ],
             [
              0.6666666666666666,
              "#ed7953"
             ],
             [
              0.7777777777777778,
              "#fb9f3a"
             ],
             [
              0.8888888888888888,
              "#fdca26"
             ],
             [
              1,
              "#f0f921"
             ]
            ],
            "type": "histogram2dcontour"
           }
          ],
          "mesh3d": [
           {
            "colorbar": {
             "outlinewidth": 0,
             "ticks": ""
            },
            "type": "mesh3d"
           }
          ],
          "parcoords": [
           {
            "line": {
             "colorbar": {
              "outlinewidth": 0,
              "ticks": ""
             }
            },
            "type": "parcoords"
           }
          ],
          "pie": [
           {
            "automargin": true,
            "type": "pie"
           }
          ],
          "scatter": [
           {
            "marker": {
             "colorbar": {
              "outlinewidth": 0,
              "ticks": ""
             }
            },
            "type": "scatter"
           }
          ],
          "scatter3d": [
           {
            "line": {
             "colorbar": {
              "outlinewidth": 0,
              "ticks": ""
             }
            },
            "marker": {
             "colorbar": {
              "outlinewidth": 0,
              "ticks": ""
             }
            },
            "type": "scatter3d"
           }
          ],
          "scattercarpet": [
           {
            "marker": {
             "colorbar": {
              "outlinewidth": 0,
              "ticks": ""
             }
            },
            "type": "scattercarpet"
           }
          ],
          "scattergeo": [
           {
            "marker": {
             "colorbar": {
              "outlinewidth": 0,
              "ticks": ""
             }
            },
            "type": "scattergeo"
           }
          ],
          "scattergl": [
           {
            "marker": {
             "colorbar": {
              "outlinewidth": 0,
              "ticks": ""
             }
            },
            "type": "scattergl"
           }
          ],
          "scattermapbox": [
           {
            "marker": {
             "colorbar": {
              "outlinewidth": 0,
              "ticks": ""
             }
            },
            "type": "scattermapbox"
           }
          ],
          "scatterpolar": [
           {
            "marker": {
             "colorbar": {
              "outlinewidth": 0,
              "ticks": ""
             }
            },
            "type": "scatterpolar"
           }
          ],
          "scatterpolargl": [
           {
            "marker": {
             "colorbar": {
              "outlinewidth": 0,
              "ticks": ""
             }
            },
            "type": "scatterpolargl"
           }
          ],
          "scatterternary": [
           {
            "marker": {
             "colorbar": {
              "outlinewidth": 0,
              "ticks": ""
             }
            },
            "type": "scatterternary"
           }
          ],
          "surface": [
           {
            "colorbar": {
             "outlinewidth": 0,
             "ticks": ""
            },
            "colorscale": [
             [
              0,
              "#0d0887"
             ],
             [
              0.1111111111111111,
              "#46039f"
             ],
             [
              0.2222222222222222,
              "#7201a8"
             ],
             [
              0.3333333333333333,
              "#9c179e"
             ],
             [
              0.4444444444444444,
              "#bd3786"
             ],
             [
              0.5555555555555556,
              "#d8576b"
             ],
             [
              0.6666666666666666,
              "#ed7953"
             ],
             [
              0.7777777777777778,
              "#fb9f3a"
             ],
             [
              0.8888888888888888,
              "#fdca26"
             ],
             [
              1,
              "#f0f921"
             ]
            ],
            "type": "surface"
           }
          ],
          "table": [
           {
            "cells": {
             "fill": {
              "color": "#EBF0F8"
             },
             "line": {
              "color": "white"
             }
            },
            "header": {
             "fill": {
              "color": "#C8D4E3"
             },
             "line": {
              "color": "white"
             }
            },
            "type": "table"
           }
          ]
         },
         "layout": {
          "annotationdefaults": {
           "arrowcolor": "#2a3f5f",
           "arrowhead": 0,
           "arrowwidth": 1
          },
          "autotypenumbers": "strict",
          "coloraxis": {
           "colorbar": {
            "outlinewidth": 0,
            "ticks": ""
           }
          },
          "colorscale": {
           "diverging": [
            [
             0,
             "#8e0152"
            ],
            [
             0.1,
             "#c51b7d"
            ],
            [
             0.2,
             "#de77ae"
            ],
            [
             0.3,
             "#f1b6da"
            ],
            [
             0.4,
             "#fde0ef"
            ],
            [
             0.5,
             "#f7f7f7"
            ],
            [
             0.6,
             "#e6f5d0"
            ],
            [
             0.7,
             "#b8e186"
            ],
            [
             0.8,
             "#7fbc41"
            ],
            [
             0.9,
             "#4d9221"
            ],
            [
             1,
             "#276419"
            ]
           ],
           "sequential": [
            [
             0,
             "#0d0887"
            ],
            [
             0.1111111111111111,
             "#46039f"
            ],
            [
             0.2222222222222222,
             "#7201a8"
            ],
            [
             0.3333333333333333,
             "#9c179e"
            ],
            [
             0.4444444444444444,
             "#bd3786"
            ],
            [
             0.5555555555555556,
             "#d8576b"
            ],
            [
             0.6666666666666666,
             "#ed7953"
            ],
            [
             0.7777777777777778,
             "#fb9f3a"
            ],
            [
             0.8888888888888888,
             "#fdca26"
            ],
            [
             1,
             "#f0f921"
            ]
           ],
           "sequentialminus": [
            [
             0,
             "#0d0887"
            ],
            [
             0.1111111111111111,
             "#46039f"
            ],
            [
             0.2222222222222222,
             "#7201a8"
            ],
            [
             0.3333333333333333,
             "#9c179e"
            ],
            [
             0.4444444444444444,
             "#bd3786"
            ],
            [
             0.5555555555555556,
             "#d8576b"
            ],
            [
             0.6666666666666666,
             "#ed7953"
            ],
            [
             0.7777777777777778,
             "#fb9f3a"
            ],
            [
             0.8888888888888888,
             "#fdca26"
            ],
            [
             1,
             "#f0f921"
            ]
           ]
          },
          "colorway": [
           "#636efa",
           "#EF553B",
           "#00cc96",
           "#ab63fa",
           "#FFA15A",
           "#19d3f3",
           "#FF6692",
           "#B6E880",
           "#FF97FF",
           "#FECB52"
          ],
          "font": {
           "color": "#2a3f5f"
          },
          "geo": {
           "bgcolor": "white",
           "lakecolor": "white",
           "landcolor": "#E5ECF6",
           "showlakes": true,
           "showland": true,
           "subunitcolor": "white"
          },
          "hoverlabel": {
           "align": "left"
          },
          "hovermode": "closest",
          "mapbox": {
           "style": "light"
          },
          "paper_bgcolor": "white",
          "plot_bgcolor": "#E5ECF6",
          "polar": {
           "angularaxis": {
            "gridcolor": "white",
            "linecolor": "white",
            "ticks": ""
           },
           "bgcolor": "#E5ECF6",
           "radialaxis": {
            "gridcolor": "white",
            "linecolor": "white",
            "ticks": ""
           }
          },
          "scene": {
           "xaxis": {
            "backgroundcolor": "#E5ECF6",
            "gridcolor": "white",
            "gridwidth": 2,
            "linecolor": "white",
            "showbackground": true,
            "ticks": "",
            "zerolinecolor": "white"
           },
           "yaxis": {
            "backgroundcolor": "#E5ECF6",
            "gridcolor": "white",
            "gridwidth": 2,
            "linecolor": "white",
            "showbackground": true,
            "ticks": "",
            "zerolinecolor": "white"
           },
           "zaxis": {
            "backgroundcolor": "#E5ECF6",
            "gridcolor": "white",
            "gridwidth": 2,
            "linecolor": "white",
            "showbackground": true,
            "ticks": "",
            "zerolinecolor": "white"
           }
          },
          "shapedefaults": {
           "line": {
            "color": "#2a3f5f"
           }
          },
          "ternary": {
           "aaxis": {
            "gridcolor": "white",
            "linecolor": "white",
            "ticks": ""
           },
           "baxis": {
            "gridcolor": "white",
            "linecolor": "white",
            "ticks": ""
           },
           "bgcolor": "#E5ECF6",
           "caxis": {
            "gridcolor": "white",
            "linecolor": "white",
            "ticks": ""
           }
          },
          "title": {
           "x": 0.05
          },
          "xaxis": {
           "automargin": true,
           "gridcolor": "white",
           "linecolor": "white",
           "ticks": "",
           "title": {
            "standoff": 15
           },
           "zerolinecolor": "white",
           "zerolinewidth": 2
          },
          "yaxis": {
           "automargin": true,
           "gridcolor": "white",
           "linecolor": "white",
           "ticks": "",
           "title": {
            "standoff": 15
           },
           "zerolinecolor": "white",
           "zerolinewidth": 2
          }
         }
        },
        "title": {
         "font": {
          "color": "#4D5663"
         }
        },
        "xaxis": {
         "gridcolor": "#E1E5ED",
         "showgrid": true,
         "tickfont": {
          "color": "#4D5663"
         },
         "title": {
          "font": {
           "color": "#4D5663"
          },
          "text": ""
         },
         "zerolinecolor": "#E1E5ED"
        },
        "yaxis": {
         "gridcolor": "#E1E5ED",
         "showgrid": true,
         "tickfont": {
          "color": "#4D5663"
         },
         "title": {
          "font": {
           "color": "#4D5663"
          },
          "text": ""
         },
         "zerolinecolor": "#E1E5ED"
        }
       }
      },
      "text/html": [
       "<div>                            <div id=\"aa3c2446-0e5b-4183-b3ba-fddbdcdb4136\" class=\"plotly-graph-div\" style=\"height:525px; width:100%;\"></div>            <script type=\"text/javascript\">                require([\"plotly\"], function(Plotly) {                    window.PLOTLYENV=window.PLOTLYENV || {};\n",
       "                    window.PLOTLYENV.BASE_URL='https://plot.ly';                                    if (document.getElementById(\"aa3c2446-0e5b-4183-b3ba-fddbdcdb4136\")) {                    Plotly.newPlot(                        \"aa3c2446-0e5b-4183-b3ba-fddbdcdb4136\",                        [{\"histfunc\":\"count\",\"histnorm\":\"\",\"marker\":{\"color\":\"rgba(255, 153, 51, 1.0)\",\"line\":{\"color\":\"#4D5663\",\"width\":1.3}},\"name\":\"A\",\"nbinsx\":30,\"opacity\":0.8,\"orientation\":\"v\",\"x\":[-2.0179175343734688,0.9233803166017815,1.0222921258112883,-1.5427079018271743,0.9534677415959142,1.6139729466741866,-0.49068513401485064,0.6406132073703192,0.18167756204418314,-0.9019463260024844,1.1277902478070898,-0.5492318874813171,0.40254477215755796,0.20456328644346478,0.8484682084553806,1.598340262193149,-0.3885036558297409,0.7669440765048724,0.5721831877604494,-0.35869921119774845,1.275872979836392,-1.5377322892971523,0.9397524846531856,1.2378549284154148,0.45562500468005257,1.9220064474824583,0.3788446677627523,-1.6272530974099786,1.548747250020298,0.35367122733264206,-1.6023537985805665,-0.2743189849606666,1.6451749536118985,0.7660625343797965,-0.6551561273192944,2.2894165994992624,-0.30049348682681154,-0.1426257921945078,-0.3509331819696133,0.8066088439981102,-0.8190431907381289,0.33839591532473734,0.029153055130530316,0.04075026670195348,0.9095559195154234,-0.45874347933067305,0.23720429403928597,1.8818167393804857,-1.226472966530045,1.0222059444120426,0.786664742156235,-0.856175743606393,-1.2967015187714002,-1.3397627343890512,-0.7740855332934843,-2.0651785264446603,-0.43263697200185763,-0.13962494342840498,1.0979198353286066,-2.5008648450355797,0.7363401239497037,-1.70332552593329,-0.3906840182946408,-0.6357483053025298,-1.9455432716535508,-0.5398111243240811,-0.567472688932623,-0.6141447633033629,0.8011189183895611,-1.2128507855740867,-0.37599186611637914,1.4623963889164369,-0.7631731022882191,-0.49931213287490084,2.2156779881392468,-0.22361959827960393,-0.18881355505333997,0.1563814679055965,-0.04432271649482479,0.8444078862992042,1.262089825064193,1.409022756908488,-0.8371506916682264,-0.19411419725649035,1.3917668500786569,-0.10654778503241351,0.5073768369051679,-2.3983216306246313,1.100498582230519,-0.8995606298174025,-0.6816405917690144,0.6642734688092117,0.3118612734468044,1.2364404904823296,1.5917519675688976,1.248130459217827,1.1785659741667693,0.7177544645767607,-1.0558469610199113,1.6382365853024183],\"type\":\"histogram\"},{\"histfunc\":\"count\",\"histnorm\":\"\",\"marker\":{\"color\":\"rgba(55, 128, 191, 1.0)\",\"line\":{\"color\":\"#4D5663\",\"width\":1.3}},\"name\":\"B\",\"nbinsx\":30,\"opacity\":0.8,\"orientation\":\"v\",\"x\":[2.395950167703243,0.4011665790160146,-0.5052385387154442,-0.3942371566252391,-0.21364305021911828,0.43594532497191135,0.6259224234031222,0.185412186044443,-0.6480451046733444,-0.8073701561029344,0.3086398159337038,0.40896197444841126,-0.1496317018826678,0.008520897127094368,-0.37877268064955,1.2535502967513548,-0.8177967117036561,-0.04946135797232314,-0.7183013023150779,-1.3447272277949869,0.41260120152215496,1.33359903067863,0.3671958190478347,0.8236499541071457,2.3347971433163424,-0.5771650158144527,-0.2251481350890585,-0.9435813597330984,0.8453434644325502,-0.21978075472742842,0.12090913168294705,1.3238965924999886,-1.242242230242268,-1.767118741764655,-1.039313253025596,-1.3642511383582916,2.018414865068438,0.9965547242299222,-0.19942697072610457,-1.1706562780182612,-0.5595449835820688,1.151778463952504,-1.143226604397329,-0.663554837473901,-0.3527941140626611,-0.3970287607005498,0.06988660301060044,-0.40904957810275894,1.2239473808056882,1.4503012453471353,-0.7099546586223381,0.1955292008469326,-0.9682868269540975,-0.6066626776294081,1.1271596955346652,-0.06980868330920874,1.2501046888418872,-0.7711144899188074,1.00068801591415,-0.30428583621033645,-0.5699992904635901,-1.1394997915954335,-1.3178505709741983,-0.5362050779147439,-1.0081773680965436,1.7769241713514654,-1.7573616768732496,-1.4171193570499716,1.9335299038258698,-0.08421774918244486,-0.3712113381043379,1.0037717622849058,-0.7649009639855259,0.8067863038735369,0.73994466595083,1.6230867298471527,0.36667123116095157,0.38490337507613426,-1.1667875323245254,1.1022912167479761,0.036114867420814295,0.21253242351549598,-1.0133323362101818,-0.045069781891611274,0.8566552134265603,-1.9136470404042818,1.2980627554809563,-0.359342519582086,-2.7620029335220795,-0.18996686862109757,0.01672937162273757,-0.5646206196563005,1.80341766720294,2.2834787562600174,-0.5206495440594276,0.0014904575692281095,-0.37866407377310024,-0.3283192827529023,0.48484304460629934,-0.803938936523087],\"type\":\"histogram\"},{\"histfunc\":\"count\",\"histnorm\":\"\",\"marker\":{\"color\":\"rgba(50, 171, 96, 1.0)\",\"line\":{\"color\":\"#4D5663\",\"width\":1.3}},\"name\":\"C\",\"nbinsx\":30,\"opacity\":0.8,\"orientation\":\"v\",\"x\":[-0.6976331963008978,0.4427226738215899,-0.5278849581553196,0.08357712350404232,0.2985644766584697,-1.168236300018726,-0.07975759208579772,2.605684681915098,0.23237882392158934,-1.5010257824011846,-1.0082510510416975,-0.6900419533536168,-1.259611906566042,0.6334244622734533,2.049644540477798,-0.4125152045772619,-0.08379527165547741,1.3461944975135538,0.07312282676592445,0.09608911388057328,-1.3379481423112967,-0.7105355161950182,0.8201289575427168,-1.650388692143229,-0.2648817286449447,-0.7452691095063751,1.7868926892834924,-0.8814503346799827,-0.06151876483423875,0.9779962985757222,-0.9626365512082998,-1.8684057658078863,-0.4985095156624019,0.09801251739717784,-0.9048087424806065,0.39923318225585497,0.8007870834966261,0.04492687871960958,-0.13447093178177616,0.6955513931404235,-1.6664237297318127,-0.06878796517969679,-2.0271677100118843,1.0054649423548643,-0.935485681989698,-0.4877090511885543,-2.1691727226848325,1.8730951291540747,1.9701291532645244,-0.6072367365041451,-0.20267812348350753,0.419520074747097,-1.3698630814147639,0.5457179722128258,0.5400887042208458,-0.8401643575269793,-1.7852954133027419,-0.015127204278471754,-0.5126761205353862,-1.9392192246740192,-0.9348399242998332,0.13475405165976082,0.3226933637818872,0.2518508135816996,0.6187654522995018,0.34584991996916925,0.19827494158896725,1.3154777020915707,1.0843443180742538,-1.7842726344419373,-0.7368681730249035,0.29982786449948673,0.055325129415402484,-0.22555181039210734,0.3253537214948485,-0.972508311987855,1.5216907051621416,-0.8303815536215513,2.2176797823958276,0.6706758843386869,0.7922588968759959,-0.6679061378549241,-1.9957141479041003,-0.16551075387272368,-0.42521296568309397,0.12230529593625743,-0.737934123468278,-0.41227840363982143,0.022578301223580156,0.09629241133641168,-0.29384242359572504,0.48098038536471205,-0.6579014706607186,0.8300898029984877,0.7520766490943627,-0.4047989014015041,-0.7405663749500524,1.300275639607767,0.0621476170640035,0.9914132099459558],\"type\":\"histogram\"},{\"histfunc\":\"count\",\"histnorm\":\"\",\"marker\":{\"color\":\"rgba(128, 0, 128, 1.0)\",\"line\":{\"color\":\"#4D5663\",\"width\":1.3}},\"name\":\"D\",\"nbinsx\":30,\"opacity\":0.8,\"orientation\":\"v\",\"x\":[0.36755381357114664,1.5866634641494763,-0.0016882635232418383,0.30481516546547754,-1.1460579793852106,0.18731553992418792,-0.7340415243278909,1.4681758380718968,0.6109156444057225,0.8636566081800396,-1.2042896973027075,-0.717285088620604,-0.27926979285461195,-2.27782884292265,-1.1456024387434294,-0.1800217010084489,0.785832135922479,-2.630458514106578,-0.2628149102421362,1.0761508998209481,-0.6181868880517446,0.5644249552487409,0.1376512701946862,-1.0643470491969753,1.8326826957178588,0.08728948571471955,-0.9472986678785581,-2.188688147512093,-0.7094221230993478,-0.28614802083519075,-0.48367152612082537,-0.9609704154017971,0.1744627506306088,0.7508229866038417,-0.337165746033092,-1.5903644266779202,2.228907207340895,-0.9478162039494671,0.27593618307892154,0.46010096005631257,0.04756331409774407,1.1287002598451472,0.18506283525199643,-0.6592959249978171,0.4301598022789856,-0.011438549207886901,0.7132425090647524,-0.6744260407693818,-1.0462246129155746,0.03198300689870275,-1.0994408136210951,-1.113758931877566,1.530382010628822,0.4135996875452047,-0.36336300948095324,0.3141181281423151,-0.4683804485386927,0.883379291693893,-1.2366918685672104,-0.8887760161020599,1.1407716944151174,0.20815316548169516,-0.8895268304752171,-2.487641320009603,1.2669697435451026,-0.10918129777148618,-0.7291768460835901,-0.03115806750970858,0.7255449564277417,0.051499144496555294,0.1452122127315349,0.4713464248472897,0.34120215169591545,-0.5319128893521675,-0.24273195108086826,0.30572900353506227,0.7753034135589412,-0.7913533202524138,0.3192616910868719,-1.8917692479218562,1.183999529257435,0.3856430891754346,-0.26119581670676495,0.9045642887654469,-2.0546395471207317,0.49571308447610857,0.30788575151268355,0.8461911621944069,1.7572508576574226,-0.46684102667288335,0.0213978276901902,-0.22812548617914455,0.33387665321982846,1.1207365511896488,-0.7548904321132596,0.8495131759537213,-0.6024092649912318,-0.3645591543801789,1.4134123567488515,-0.7965566970465708],\"type\":\"histogram\"}],                        {\"barmode\":\"overlay\",\"legend\":{\"bgcolor\":\"#F5F6F9\",\"font\":{\"color\":\"#4D5663\"}},\"paper_bgcolor\":\"#F5F6F9\",\"plot_bgcolor\":\"#F5F6F9\",\"template\":{\"data\":{\"barpolar\":[{\"marker\":{\"line\":{\"color\":\"#E5ECF6\",\"width\":0.5},\"pattern\":{\"fillmode\":\"overlay\",\"size\":10,\"solidity\":0.2}},\"type\":\"barpolar\"}],\"bar\":[{\"error_x\":{\"color\":\"#2a3f5f\"},\"error_y\":{\"color\":\"#2a3f5f\"},\"marker\":{\"line\":{\"color\":\"#E5ECF6\",\"width\":0.5},\"pattern\":{\"fillmode\":\"overlay\",\"size\":10,\"solidity\":0.2}},\"type\":\"bar\"}],\"carpet\":[{\"aaxis\":{\"endlinecolor\":\"#2a3f5f\",\"gridcolor\":\"white\",\"linecolor\":\"white\",\"minorgridcolor\":\"white\",\"startlinecolor\":\"#2a3f5f\"},\"baxis\":{\"endlinecolor\":\"#2a3f5f\",\"gridcolor\":\"white\",\"linecolor\":\"white\",\"minorgridcolor\":\"white\",\"startlinecolor\":\"#2a3f5f\"},\"type\":\"carpet\"}],\"choropleth\":[{\"colorbar\":{\"outlinewidth\":0,\"ticks\":\"\"},\"type\":\"choropleth\"}],\"contourcarpet\":[{\"colorbar\":{\"outlinewidth\":0,\"ticks\":\"\"},\"type\":\"contourcarpet\"}],\"contour\":[{\"colorbar\":{\"outlinewidth\":0,\"ticks\":\"\"},\"colorscale\":[[0.0,\"#0d0887\"],[0.1111111111111111,\"#46039f\"],[0.2222222222222222,\"#7201a8\"],[0.3333333333333333,\"#9c179e\"],[0.4444444444444444,\"#bd3786\"],[0.5555555555555556,\"#d8576b\"],[0.6666666666666666,\"#ed7953\"],[0.7777777777777778,\"#fb9f3a\"],[0.8888888888888888,\"#fdca26\"],[1.0,\"#f0f921\"]],\"type\":\"contour\"}],\"heatmapgl\":[{\"colorbar\":{\"outlinewidth\":0,\"ticks\":\"\"},\"colorscale\":[[0.0,\"#0d0887\"],[0.1111111111111111,\"#46039f\"],[0.2222222222222222,\"#7201a8\"],[0.3333333333333333,\"#9c179e\"],[0.4444444444444444,\"#bd3786\"],[0.5555555555555556,\"#d8576b\"],[0.6666666666666666,\"#ed7953\"],[0.7777777777777778,\"#fb9f3a\"],[0.8888888888888888,\"#fdca26\"],[1.0,\"#f0f921\"]],\"type\":\"heatmapgl\"}],\"heatmap\":[{\"colorbar\":{\"outlinewidth\":0,\"ticks\":\"\"},\"colorscale\":[[0.0,\"#0d0887\"],[0.1111111111111111,\"#46039f\"],[0.2222222222222222,\"#7201a8\"],[0.3333333333333333,\"#9c179e\"],[0.4444444444444444,\"#bd3786\"],[0.5555555555555556,\"#d8576b\"],[0.6666666666666666,\"#ed7953\"],[0.7777777777777778,\"#fb9f3a\"],[0.8888888888888888,\"#fdca26\"],[1.0,\"#f0f921\"]],\"type\":\"heatmap\"}],\"histogram2dcontour\":[{\"colorbar\":{\"outlinewidth\":0,\"ticks\":\"\"},\"colorscale\":[[0.0,\"#0d0887\"],[0.1111111111111111,\"#46039f\"],[0.2222222222222222,\"#7201a8\"],[0.3333333333333333,\"#9c179e\"],[0.4444444444444444,\"#bd3786\"],[0.5555555555555556,\"#d8576b\"],[0.6666666666666666,\"#ed7953\"],[0.7777777777777778,\"#fb9f3a\"],[0.8888888888888888,\"#fdca26\"],[1.0,\"#f0f921\"]],\"type\":\"histogram2dcontour\"}],\"histogram2d\":[{\"colorbar\":{\"outlinewidth\":0,\"ticks\":\"\"},\"colorscale\":[[0.0,\"#0d0887\"],[0.1111111111111111,\"#46039f\"],[0.2222222222222222,\"#7201a8\"],[0.3333333333333333,\"#9c179e\"],[0.4444444444444444,\"#bd3786\"],[0.5555555555555556,\"#d8576b\"],[0.6666666666666666,\"#ed7953\"],[0.7777777777777778,\"#fb9f3a\"],[0.8888888888888888,\"#fdca26\"],[1.0,\"#f0f921\"]],\"type\":\"histogram2d\"}],\"histogram\":[{\"marker\":{\"pattern\":{\"fillmode\":\"overlay\",\"size\":10,\"solidity\":0.2}},\"type\":\"histogram\"}],\"mesh3d\":[{\"colorbar\":{\"outlinewidth\":0,\"ticks\":\"\"},\"type\":\"mesh3d\"}],\"parcoords\":[{\"line\":{\"colorbar\":{\"outlinewidth\":0,\"ticks\":\"\"}},\"type\":\"parcoords\"}],\"pie\":[{\"automargin\":true,\"type\":\"pie\"}],\"scatter3d\":[{\"line\":{\"colorbar\":{\"outlinewidth\":0,\"ticks\":\"\"}},\"marker\":{\"colorbar\":{\"outlinewidth\":0,\"ticks\":\"\"}},\"type\":\"scatter3d\"}],\"scattercarpet\":[{\"marker\":{\"colorbar\":{\"outlinewidth\":0,\"ticks\":\"\"}},\"type\":\"scattercarpet\"}],\"scattergeo\":[{\"marker\":{\"colorbar\":{\"outlinewidth\":0,\"ticks\":\"\"}},\"type\":\"scattergeo\"}],\"scattergl\":[{\"marker\":{\"colorbar\":{\"outlinewidth\":0,\"ticks\":\"\"}},\"type\":\"scattergl\"}],\"scattermapbox\":[{\"marker\":{\"colorbar\":{\"outlinewidth\":0,\"ticks\":\"\"}},\"type\":\"scattermapbox\"}],\"scatterpolargl\":[{\"marker\":{\"colorbar\":{\"outlinewidth\":0,\"ticks\":\"\"}},\"type\":\"scatterpolargl\"}],\"scatterpolar\":[{\"marker\":{\"colorbar\":{\"outlinewidth\":0,\"ticks\":\"\"}},\"type\":\"scatterpolar\"}],\"scatter\":[{\"marker\":{\"colorbar\":{\"outlinewidth\":0,\"ticks\":\"\"}},\"type\":\"scatter\"}],\"scatterternary\":[{\"marker\":{\"colorbar\":{\"outlinewidth\":0,\"ticks\":\"\"}},\"type\":\"scatterternary\"}],\"surface\":[{\"colorbar\":{\"outlinewidth\":0,\"ticks\":\"\"},\"colorscale\":[[0.0,\"#0d0887\"],[0.1111111111111111,\"#46039f\"],[0.2222222222222222,\"#7201a8\"],[0.3333333333333333,\"#9c179e\"],[0.4444444444444444,\"#bd3786\"],[0.5555555555555556,\"#d8576b\"],[0.6666666666666666,\"#ed7953\"],[0.7777777777777778,\"#fb9f3a\"],[0.8888888888888888,\"#fdca26\"],[1.0,\"#f0f921\"]],\"type\":\"surface\"}],\"table\":[{\"cells\":{\"fill\":{\"color\":\"#EBF0F8\"},\"line\":{\"color\":\"white\"}},\"header\":{\"fill\":{\"color\":\"#C8D4E3\"},\"line\":{\"color\":\"white\"}},\"type\":\"table\"}]},\"layout\":{\"annotationdefaults\":{\"arrowcolor\":\"#2a3f5f\",\"arrowhead\":0,\"arrowwidth\":1},\"autotypenumbers\":\"strict\",\"coloraxis\":{\"colorbar\":{\"outlinewidth\":0,\"ticks\":\"\"}},\"colorscale\":{\"diverging\":[[0,\"#8e0152\"],[0.1,\"#c51b7d\"],[0.2,\"#de77ae\"],[0.3,\"#f1b6da\"],[0.4,\"#fde0ef\"],[0.5,\"#f7f7f7\"],[0.6,\"#e6f5d0\"],[0.7,\"#b8e186\"],[0.8,\"#7fbc41\"],[0.9,\"#4d9221\"],[1,\"#276419\"]],\"sequential\":[[0.0,\"#0d0887\"],[0.1111111111111111,\"#46039f\"],[0.2222222222222222,\"#7201a8\"],[0.3333333333333333,\"#9c179e\"],[0.4444444444444444,\"#bd3786\"],[0.5555555555555556,\"#d8576b\"],[0.6666666666666666,\"#ed7953\"],[0.7777777777777778,\"#fb9f3a\"],[0.8888888888888888,\"#fdca26\"],[1.0,\"#f0f921\"]],\"sequentialminus\":[[0.0,\"#0d0887\"],[0.1111111111111111,\"#46039f\"],[0.2222222222222222,\"#7201a8\"],[0.3333333333333333,\"#9c179e\"],[0.4444444444444444,\"#bd3786\"],[0.5555555555555556,\"#d8576b\"],[0.6666666666666666,\"#ed7953\"],[0.7777777777777778,\"#fb9f3a\"],[0.8888888888888888,\"#fdca26\"],[1.0,\"#f0f921\"]]},\"colorway\":[\"#636efa\",\"#EF553B\",\"#00cc96\",\"#ab63fa\",\"#FFA15A\",\"#19d3f3\",\"#FF6692\",\"#B6E880\",\"#FF97FF\",\"#FECB52\"],\"font\":{\"color\":\"#2a3f5f\"},\"geo\":{\"bgcolor\":\"white\",\"lakecolor\":\"white\",\"landcolor\":\"#E5ECF6\",\"showlakes\":true,\"showland\":true,\"subunitcolor\":\"white\"},\"hoverlabel\":{\"align\":\"left\"},\"hovermode\":\"closest\",\"mapbox\":{\"style\":\"light\"},\"paper_bgcolor\":\"white\",\"plot_bgcolor\":\"#E5ECF6\",\"polar\":{\"angularaxis\":{\"gridcolor\":\"white\",\"linecolor\":\"white\",\"ticks\":\"\"},\"bgcolor\":\"#E5ECF6\",\"radialaxis\":{\"gridcolor\":\"white\",\"linecolor\":\"white\",\"ticks\":\"\"}},\"scene\":{\"xaxis\":{\"backgroundcolor\":\"#E5ECF6\",\"gridcolor\":\"white\",\"gridwidth\":2,\"linecolor\":\"white\",\"showbackground\":true,\"ticks\":\"\",\"zerolinecolor\":\"white\"},\"yaxis\":{\"backgroundcolor\":\"#E5ECF6\",\"gridcolor\":\"white\",\"gridwidth\":2,\"linecolor\":\"white\",\"showbackground\":true,\"ticks\":\"\",\"zerolinecolor\":\"white\"},\"zaxis\":{\"backgroundcolor\":\"#E5ECF6\",\"gridcolor\":\"white\",\"gridwidth\":2,\"linecolor\":\"white\",\"showbackground\":true,\"ticks\":\"\",\"zerolinecolor\":\"white\"}},\"shapedefaults\":{\"line\":{\"color\":\"#2a3f5f\"}},\"ternary\":{\"aaxis\":{\"gridcolor\":\"white\",\"linecolor\":\"white\",\"ticks\":\"\"},\"baxis\":{\"gridcolor\":\"white\",\"linecolor\":\"white\",\"ticks\":\"\"},\"bgcolor\":\"#E5ECF6\",\"caxis\":{\"gridcolor\":\"white\",\"linecolor\":\"white\",\"ticks\":\"\"}},\"title\":{\"x\":0.05},\"xaxis\":{\"automargin\":true,\"gridcolor\":\"white\",\"linecolor\":\"white\",\"ticks\":\"\",\"title\":{\"standoff\":15},\"zerolinecolor\":\"white\",\"zerolinewidth\":2},\"yaxis\":{\"automargin\":true,\"gridcolor\":\"white\",\"linecolor\":\"white\",\"ticks\":\"\",\"title\":{\"standoff\":15},\"zerolinecolor\":\"white\",\"zerolinewidth\":2}}},\"title\":{\"font\":{\"color\":\"#4D5663\"}},\"xaxis\":{\"gridcolor\":\"#E1E5ED\",\"showgrid\":true,\"tickfont\":{\"color\":\"#4D5663\"},\"title\":{\"font\":{\"color\":\"#4D5663\"},\"text\":\"\"},\"zerolinecolor\":\"#E1E5ED\"},\"yaxis\":{\"gridcolor\":\"#E1E5ED\",\"showgrid\":true,\"tickfont\":{\"color\":\"#4D5663\"},\"title\":{\"font\":{\"color\":\"#4D5663\"},\"text\":\"\"},\"zerolinecolor\":\"#E1E5ED\"}},                        {\"showLink\": true, \"linkText\": \"Export to plot.ly\", \"plotlyServerURL\": \"https://plot.ly\", \"responsive\": true}                    ).then(function(){\n",
       "                            \n",
       "var gd = document.getElementById('aa3c2446-0e5b-4183-b3ba-fddbdcdb4136');\n",
       "var x = new MutationObserver(function (mutations, observer) {{\n",
       "        var display = window.getComputedStyle(gd).display;\n",
       "        if (!display || display === 'none') {{\n",
       "            console.log([gd, 'removed!']);\n",
       "            Plotly.purge(gd);\n",
       "            observer.disconnect();\n",
       "        }}\n",
       "}});\n",
       "\n",
       "// Listen for the removal of the full notebook cells\n",
       "var notebookContainer = gd.closest('#notebook-container');\n",
       "if (notebookContainer) {{\n",
       "    x.observe(notebookContainer, {childList: true});\n",
       "}}\n",
       "\n",
       "// Listen for the clearing of the current output cell\n",
       "var outputEl = gd.closest('.output');\n",
       "if (outputEl) {{\n",
       "    x.observe(outputEl, {childList: true});\n",
       "}}\n",
       "\n",
       "                        })                };                });            </script>        </div>"
      ]
     },
     "metadata": {},
     "output_type": "display_data"
    }
   ],
   "source": [
    "df1.iplot(kind='hist',bins=30)"
   ]
  },
  {
   "cell_type": "code",
   "execution_count": 40,
   "id": "10b2c397",
   "metadata": {},
   "outputs": [
    {
     "name": "stderr",
     "output_type": "stream",
     "text": [
      "/Users/nikolarankov/opt/anaconda3/lib/python3.8/site-packages/cufflinks/plotlytools.py:849: FutureWarning:\n",
      "\n",
      "The pandas.np module is deprecated and will be removed from pandas in a future version. Import numpy directly instead\n",
      "\n",
      "/Users/nikolarankov/opt/anaconda3/lib/python3.8/site-packages/cufflinks/plotlytools.py:850: FutureWarning:\n",
      "\n",
      "The pandas.np module is deprecated and will be removed from pandas in a future version. Import numpy directly instead\n",
      "\n"
     ]
    },
    {
     "data": {
      "application/vnd.plotly.v1+json": {
       "config": {
        "linkText": "Export to plot.ly",
        "plotlyServerURL": "https://plot.ly",
        "showLink": true
       },
       "data": [
        {
         "line": {
          "color": "rgba(255, 153, 51, 1.0)",
          "dash": "solid",
          "shape": "linear",
          "width": 1.3
         },
         "mode": "lines",
         "name": "A",
         "text": "",
         "type": "scatter",
         "x": [
          0,
          1,
          2,
          3,
          4,
          5,
          6,
          7,
          8,
          9,
          10,
          11,
          12,
          13,
          14,
          15,
          16,
          17,
          18,
          19,
          20,
          21,
          22,
          23,
          24,
          25,
          26,
          27,
          28,
          29,
          30,
          31,
          32,
          33,
          34,
          35,
          36,
          37,
          38,
          39,
          40,
          41,
          42,
          43,
          44,
          45,
          46,
          47,
          48,
          49,
          50,
          51,
          52,
          53,
          54,
          55,
          56,
          57,
          58,
          59,
          60,
          61,
          62,
          63,
          64,
          65,
          66,
          67,
          68,
          69,
          70,
          71,
          72,
          73,
          74,
          75,
          76,
          77,
          78,
          79,
          80,
          81,
          82,
          83,
          84,
          85,
          86,
          87,
          88,
          89,
          90,
          91,
          92,
          93,
          94,
          95,
          96,
          97,
          98,
          99
         ],
         "y": [
          -2.0179175343734688,
          0.9233803166017815,
          1.0222921258112883,
          -1.5427079018271743,
          0.9534677415959142,
          1.6139729466741866,
          -0.49068513401485064,
          0.6406132073703192,
          0.18167756204418314,
          -0.9019463260024844,
          1.1277902478070898,
          -0.5492318874813171,
          0.40254477215755796,
          0.20456328644346478,
          0.8484682084553806,
          1.598340262193149,
          -0.3885036558297409,
          0.7669440765048724,
          0.5721831877604494,
          -0.35869921119774845,
          1.275872979836392,
          -1.5377322892971523,
          0.9397524846531856,
          1.2378549284154148,
          0.45562500468005257,
          1.9220064474824583,
          0.3788446677627523,
          -1.6272530974099786,
          1.548747250020298,
          0.35367122733264206,
          -1.6023537985805665,
          -0.2743189849606666,
          1.6451749536118985,
          0.7660625343797965,
          -0.6551561273192944,
          2.2894165994992624,
          -0.30049348682681154,
          -0.1426257921945078,
          -0.3509331819696133,
          0.8066088439981102,
          -0.8190431907381289,
          0.33839591532473734,
          0.029153055130530316,
          0.04075026670195348,
          0.9095559195154234,
          -0.45874347933067305,
          0.23720429403928597,
          1.8818167393804857,
          -1.226472966530045,
          1.0222059444120426,
          0.786664742156235,
          -0.856175743606393,
          -1.2967015187714002,
          -1.3397627343890512,
          -0.7740855332934843,
          -2.0651785264446603,
          -0.43263697200185763,
          -0.13962494342840498,
          1.0979198353286066,
          -2.5008648450355797,
          0.7363401239497037,
          -1.70332552593329,
          -0.3906840182946408,
          -0.6357483053025298,
          -1.9455432716535508,
          -0.5398111243240811,
          -0.567472688932623,
          -0.6141447633033629,
          0.8011189183895611,
          -1.2128507855740867,
          -0.37599186611637914,
          1.4623963889164369,
          -0.7631731022882191,
          -0.49931213287490084,
          2.2156779881392468,
          -0.22361959827960393,
          -0.18881355505333997,
          0.1563814679055965,
          -0.04432271649482479,
          0.8444078862992042,
          1.262089825064193,
          1.409022756908488,
          -0.8371506916682264,
          -0.19411419725649035,
          1.3917668500786569,
          -0.10654778503241351,
          0.5073768369051679,
          -2.3983216306246313,
          1.100498582230519,
          -0.8995606298174025,
          -0.6816405917690144,
          0.6642734688092117,
          0.3118612734468044,
          1.2364404904823296,
          1.5917519675688976,
          1.248130459217827,
          1.1785659741667693,
          0.7177544645767607,
          -1.0558469610199113,
          1.6382365853024183
         ]
        },
        {
         "line": {
          "color": "rgba(55, 128, 191, 1.0)",
          "dash": "solid",
          "shape": "linear",
          "width": 1.3
         },
         "mode": "lines",
         "name": "B",
         "text": "",
         "type": "scatter",
         "x": [
          0,
          1,
          2,
          3,
          4,
          5,
          6,
          7,
          8,
          9,
          10,
          11,
          12,
          13,
          14,
          15,
          16,
          17,
          18,
          19,
          20,
          21,
          22,
          23,
          24,
          25,
          26,
          27,
          28,
          29,
          30,
          31,
          32,
          33,
          34,
          35,
          36,
          37,
          38,
          39,
          40,
          41,
          42,
          43,
          44,
          45,
          46,
          47,
          48,
          49,
          50,
          51,
          52,
          53,
          54,
          55,
          56,
          57,
          58,
          59,
          60,
          61,
          62,
          63,
          64,
          65,
          66,
          67,
          68,
          69,
          70,
          71,
          72,
          73,
          74,
          75,
          76,
          77,
          78,
          79,
          80,
          81,
          82,
          83,
          84,
          85,
          86,
          87,
          88,
          89,
          90,
          91,
          92,
          93,
          94,
          95,
          96,
          97,
          98,
          99
         ],
         "y": [
          2.395950167703243,
          0.4011665790160146,
          -0.5052385387154442,
          -0.3942371566252391,
          -0.21364305021911828,
          0.43594532497191135,
          0.6259224234031222,
          0.185412186044443,
          -0.6480451046733444,
          -0.8073701561029344,
          0.3086398159337038,
          0.40896197444841126,
          -0.1496317018826678,
          0.008520897127094368,
          -0.37877268064955,
          1.2535502967513548,
          -0.8177967117036561,
          -0.04946135797232314,
          -0.7183013023150779,
          -1.3447272277949869,
          0.41260120152215496,
          1.33359903067863,
          0.3671958190478347,
          0.8236499541071457,
          2.3347971433163424,
          -0.5771650158144527,
          -0.2251481350890585,
          -0.9435813597330984,
          0.8453434644325502,
          -0.21978075472742842,
          0.12090913168294705,
          1.3238965924999886,
          -1.242242230242268,
          -1.767118741764655,
          -1.039313253025596,
          -1.3642511383582916,
          2.018414865068438,
          0.9965547242299222,
          -0.19942697072610457,
          -1.1706562780182612,
          -0.5595449835820688,
          1.151778463952504,
          -1.143226604397329,
          -0.663554837473901,
          -0.3527941140626611,
          -0.3970287607005498,
          0.06988660301060044,
          -0.40904957810275894,
          1.2239473808056882,
          1.4503012453471353,
          -0.7099546586223381,
          0.1955292008469326,
          -0.9682868269540975,
          -0.6066626776294081,
          1.1271596955346652,
          -0.06980868330920874,
          1.2501046888418872,
          -0.7711144899188074,
          1.00068801591415,
          -0.30428583621033645,
          -0.5699992904635901,
          -1.1394997915954335,
          -1.3178505709741983,
          -0.5362050779147439,
          -1.0081773680965436,
          1.7769241713514654,
          -1.7573616768732496,
          -1.4171193570499716,
          1.9335299038258698,
          -0.08421774918244486,
          -0.3712113381043379,
          1.0037717622849058,
          -0.7649009639855259,
          0.8067863038735369,
          0.73994466595083,
          1.6230867298471527,
          0.36667123116095157,
          0.38490337507613426,
          -1.1667875323245254,
          1.1022912167479761,
          0.036114867420814295,
          0.21253242351549598,
          -1.0133323362101818,
          -0.045069781891611274,
          0.8566552134265603,
          -1.9136470404042818,
          1.2980627554809563,
          -0.359342519582086,
          -2.7620029335220795,
          -0.18996686862109757,
          0.01672937162273757,
          -0.5646206196563005,
          1.80341766720294,
          2.2834787562600174,
          -0.5206495440594276,
          0.0014904575692281095,
          -0.37866407377310024,
          -0.3283192827529023,
          0.48484304460629934,
          -0.803938936523087
         ]
        },
        {
         "connectgaps": false,
         "fill": "tozeroy",
         "line": {
          "color": "green",
          "dash": "solid",
          "shape": "linear",
          "width": 0.5
         },
         "mode": "lines",
         "name": "Spread",
         "showlegend": false,
         "type": "scatter",
         "x": [
          0,
          1,
          2,
          3,
          4,
          5,
          6,
          7,
          8,
          9,
          10,
          11,
          12,
          13,
          14,
          15,
          16,
          17,
          18,
          19,
          20,
          21,
          22,
          23,
          24,
          25,
          26,
          27,
          28,
          29,
          30,
          31,
          32,
          33,
          34,
          35,
          36,
          37,
          38,
          39,
          40,
          41,
          42,
          43,
          44,
          45,
          46,
          47,
          48,
          49,
          50,
          51,
          52,
          53,
          54,
          55,
          56,
          57,
          58,
          59,
          60,
          61,
          62,
          63,
          64,
          65,
          66,
          67,
          68,
          69,
          70,
          71,
          72,
          73,
          74,
          75,
          76,
          77,
          78,
          79,
          80,
          81,
          82,
          83,
          84,
          85,
          86,
          87,
          88,
          89,
          90,
          91,
          92,
          93,
          94,
          95,
          96,
          97,
          98,
          99
         ],
         "xaxis": "x2",
         "y": [
          "",
          0.522213737585767,
          1.5275306645267324,
          "",
          1.1671107918150325,
          1.1780276217022752,
          "",
          0.45520102132587625,
          0.8297226667175276,
          "",
          0.819150431873386,
          "",
          0.5521764740402257,
          0.1960423893163704,
          1.2272408891049307,
          0.3447899654417943,
          0.4292930558739152,
          0.8164054344771955,
          1.2904844900755275,
          0.9860280165972384,
          0.863271778314237,
          "",
          0.5725566656053509,
          0.4142049743082691,
          "",
          2.499171463296911,
          0.6039928028518108,
          "",
          0.7034037855877477,
          0.5734519820600705,
          "",
          "",
          2.8874171838541667,
          2.5331812761444517,
          0.38415712570630156,
          3.653667737857554,
          "",
          "",
          "",
          1.9772651220163713,
          "",
          "",
          1.1723796595278593,
          0.7043051041758545,
          1.2623500335780844,
          "",
          0.16731769102868554,
          2.2908663174832444,
          "",
          "",
          1.4966194007785731,
          "",
          "",
          "",
          "",
          "",
          "",
          0.6314895464904025,
          0.09723181941445658,
          "",
          1.3063394144132938,
          "",
          0.9271665526795576,
          "",
          "",
          "",
          1.1898889879406265,
          0.8029745937466087,
          "",
          "",
          "",
          0.45862462663153103,
          0.001727861697306765,
          "",
          1.4757333221884168,
          "",
          "",
          "",
          1.1224648158297006,
          "",
          1.2259749576433787,
          1.1964903333929922,
          0.1761816445419554,
          "",
          0.5351116366520966,
          1.8070992553718683,
          "",
          "",
          3.862501515752599,
          "",
          "",
          1.2288940884655122,
          "",
          "",
          2.1124015116283252,
          1.246640001648599,
          1.5572300479398695,
          1.046073747329663,
          "",
          2.4421755218255052
         ],
         "yaxis": "y2"
        },
        {
         "connectgaps": false,
         "fill": "tozeroy",
         "line": {
          "color": "red",
          "dash": "solid",
          "shape": "linear",
          "width": 0.5
         },
         "mode": "lines",
         "name": "Spread",
         "showlegend": false,
         "type": "scatter",
         "x": [
          0,
          1,
          2,
          3,
          4,
          5,
          6,
          7,
          8,
          9,
          10,
          11,
          12,
          13,
          14,
          15,
          16,
          17,
          18,
          19,
          20,
          21,
          22,
          23,
          24,
          25,
          26,
          27,
          28,
          29,
          30,
          31,
          32,
          33,
          34,
          35,
          36,
          37,
          38,
          39,
          40,
          41,
          42,
          43,
          44,
          45,
          46,
          47,
          48,
          49,
          50,
          51,
          52,
          53,
          54,
          55,
          56,
          57,
          58,
          59,
          60,
          61,
          62,
          63,
          64,
          65,
          66,
          67,
          68,
          69,
          70,
          71,
          72,
          73,
          74,
          75,
          76,
          77,
          78,
          79,
          80,
          81,
          82,
          83,
          84,
          85,
          86,
          87,
          88,
          89,
          90,
          91,
          92,
          93,
          94,
          95,
          96,
          97,
          98,
          99
         ],
         "xaxis": "x2",
         "y": [
          -4.413867702076711,
          "",
          "",
          -1.1484707452019352,
          "",
          "",
          -1.1166075574179728,
          "",
          "",
          -0.09457616989954998,
          "",
          -0.9581938619297283,
          "",
          "",
          "",
          "",
          "",
          "",
          "",
          "",
          "",
          -2.8713313199757824,
          "",
          "",
          -1.8791721386362898,
          "",
          "",
          -0.6836717376768802,
          "",
          "",
          -1.7232629302635136,
          -1.5982155774606552,
          "",
          "",
          "",
          "",
          -2.31890835189525,
          -1.13918051642443,
          -0.15150621124350874,
          "",
          -0.2594982071560601,
          -0.8133825486277666,
          "",
          "",
          "",
          -0.06171471863012323,
          "",
          "",
          -2.450420347335733,
          -0.42809530093509274,
          "",
          -1.0517049444533257,
          -0.32841469181730265,
          -0.7331000567596432,
          -1.9012452288281496,
          -1.9953698431354516,
          -1.6827416608437449,
          "",
          "",
          -2.1965790088252435,
          "",
          -0.5638257343378565,
          "",
          -0.09954322738778587,
          -0.9373659035570072,
          -2.3167352956755467,
          "",
          "",
          -1.1324109854363087,
          -1.1286330363916417,
          -0.004780528012041263,
          "",
          "",
          -1.3060984367484378,
          "",
          -1.8467063281267566,
          -0.5554847862142915,
          -0.22852190717053775,
          "",
          -0.257883330448772,
          "",
          "",
          "",
          -0.14904441536487906,
          "",
          "",
          -0.7906859185757884,
          -2.0389791110425453,
          "",
          -0.7095937611963049,
          -0.698369963391752,
          "",
          -1.4915563937561356,
          -1.0470382657776878,
          "",
          "",
          "",
          "",
          -1.5406900056262107,
          ""
         ],
         "yaxis": "y2"
        }
       ],
       "layout": {
        "hovermode": "x",
        "legend": {
         "bgcolor": "#F5F6F9",
         "font": {
          "color": "#4D5663"
         }
        },
        "paper_bgcolor": "#F5F6F9",
        "plot_bgcolor": "#F5F6F9",
        "template": {
         "data": {
          "bar": [
           {
            "error_x": {
             "color": "#2a3f5f"
            },
            "error_y": {
             "color": "#2a3f5f"
            },
            "marker": {
             "line": {
              "color": "#E5ECF6",
              "width": 0.5
             },
             "pattern": {
              "fillmode": "overlay",
              "size": 10,
              "solidity": 0.2
             }
            },
            "type": "bar"
           }
          ],
          "barpolar": [
           {
            "marker": {
             "line": {
              "color": "#E5ECF6",
              "width": 0.5
             },
             "pattern": {
              "fillmode": "overlay",
              "size": 10,
              "solidity": 0.2
             }
            },
            "type": "barpolar"
           }
          ],
          "carpet": [
           {
            "aaxis": {
             "endlinecolor": "#2a3f5f",
             "gridcolor": "white",
             "linecolor": "white",
             "minorgridcolor": "white",
             "startlinecolor": "#2a3f5f"
            },
            "baxis": {
             "endlinecolor": "#2a3f5f",
             "gridcolor": "white",
             "linecolor": "white",
             "minorgridcolor": "white",
             "startlinecolor": "#2a3f5f"
            },
            "type": "carpet"
           }
          ],
          "choropleth": [
           {
            "colorbar": {
             "outlinewidth": 0,
             "ticks": ""
            },
            "type": "choropleth"
           }
          ],
          "contour": [
           {
            "colorbar": {
             "outlinewidth": 0,
             "ticks": ""
            },
            "colorscale": [
             [
              0,
              "#0d0887"
             ],
             [
              0.1111111111111111,
              "#46039f"
             ],
             [
              0.2222222222222222,
              "#7201a8"
             ],
             [
              0.3333333333333333,
              "#9c179e"
             ],
             [
              0.4444444444444444,
              "#bd3786"
             ],
             [
              0.5555555555555556,
              "#d8576b"
             ],
             [
              0.6666666666666666,
              "#ed7953"
             ],
             [
              0.7777777777777778,
              "#fb9f3a"
             ],
             [
              0.8888888888888888,
              "#fdca26"
             ],
             [
              1,
              "#f0f921"
             ]
            ],
            "type": "contour"
           }
          ],
          "contourcarpet": [
           {
            "colorbar": {
             "outlinewidth": 0,
             "ticks": ""
            },
            "type": "contourcarpet"
           }
          ],
          "heatmap": [
           {
            "colorbar": {
             "outlinewidth": 0,
             "ticks": ""
            },
            "colorscale": [
             [
              0,
              "#0d0887"
             ],
             [
              0.1111111111111111,
              "#46039f"
             ],
             [
              0.2222222222222222,
              "#7201a8"
             ],
             [
              0.3333333333333333,
              "#9c179e"
             ],
             [
              0.4444444444444444,
              "#bd3786"
             ],
             [
              0.5555555555555556,
              "#d8576b"
             ],
             [
              0.6666666666666666,
              "#ed7953"
             ],
             [
              0.7777777777777778,
              "#fb9f3a"
             ],
             [
              0.8888888888888888,
              "#fdca26"
             ],
             [
              1,
              "#f0f921"
             ]
            ],
            "type": "heatmap"
           }
          ],
          "heatmapgl": [
           {
            "colorbar": {
             "outlinewidth": 0,
             "ticks": ""
            },
            "colorscale": [
             [
              0,
              "#0d0887"
             ],
             [
              0.1111111111111111,
              "#46039f"
             ],
             [
              0.2222222222222222,
              "#7201a8"
             ],
             [
              0.3333333333333333,
              "#9c179e"
             ],
             [
              0.4444444444444444,
              "#bd3786"
             ],
             [
              0.5555555555555556,
              "#d8576b"
             ],
             [
              0.6666666666666666,
              "#ed7953"
             ],
             [
              0.7777777777777778,
              "#fb9f3a"
             ],
             [
              0.8888888888888888,
              "#fdca26"
             ],
             [
              1,
              "#f0f921"
             ]
            ],
            "type": "heatmapgl"
           }
          ],
          "histogram": [
           {
            "marker": {
             "pattern": {
              "fillmode": "overlay",
              "size": 10,
              "solidity": 0.2
             }
            },
            "type": "histogram"
           }
          ],
          "histogram2d": [
           {
            "colorbar": {
             "outlinewidth": 0,
             "ticks": ""
            },
            "colorscale": [
             [
              0,
              "#0d0887"
             ],
             [
              0.1111111111111111,
              "#46039f"
             ],
             [
              0.2222222222222222,
              "#7201a8"
             ],
             [
              0.3333333333333333,
              "#9c179e"
             ],
             [
              0.4444444444444444,
              "#bd3786"
             ],
             [
              0.5555555555555556,
              "#d8576b"
             ],
             [
              0.6666666666666666,
              "#ed7953"
             ],
             [
              0.7777777777777778,
              "#fb9f3a"
             ],
             [
              0.8888888888888888,
              "#fdca26"
             ],
             [
              1,
              "#f0f921"
             ]
            ],
            "type": "histogram2d"
           }
          ],
          "histogram2dcontour": [
           {
            "colorbar": {
             "outlinewidth": 0,
             "ticks": ""
            },
            "colorscale": [
             [
              0,
              "#0d0887"
             ],
             [
              0.1111111111111111,
              "#46039f"
             ],
             [
              0.2222222222222222,
              "#7201a8"
             ],
             [
              0.3333333333333333,
              "#9c179e"
             ],
             [
              0.4444444444444444,
              "#bd3786"
             ],
             [
              0.5555555555555556,
              "#d8576b"
             ],
             [
              0.6666666666666666,
              "#ed7953"
             ],
             [
              0.7777777777777778,
              "#fb9f3a"
             ],
             [
              0.8888888888888888,
              "#fdca26"
             ],
             [
              1,
              "#f0f921"
             ]
            ],
            "type": "histogram2dcontour"
           }
          ],
          "mesh3d": [
           {
            "colorbar": {
             "outlinewidth": 0,
             "ticks": ""
            },
            "type": "mesh3d"
           }
          ],
          "parcoords": [
           {
            "line": {
             "colorbar": {
              "outlinewidth": 0,
              "ticks": ""
             }
            },
            "type": "parcoords"
           }
          ],
          "pie": [
           {
            "automargin": true,
            "type": "pie"
           }
          ],
          "scatter": [
           {
            "marker": {
             "colorbar": {
              "outlinewidth": 0,
              "ticks": ""
             }
            },
            "type": "scatter"
           }
          ],
          "scatter3d": [
           {
            "line": {
             "colorbar": {
              "outlinewidth": 0,
              "ticks": ""
             }
            },
            "marker": {
             "colorbar": {
              "outlinewidth": 0,
              "ticks": ""
             }
            },
            "type": "scatter3d"
           }
          ],
          "scattercarpet": [
           {
            "marker": {
             "colorbar": {
              "outlinewidth": 0,
              "ticks": ""
             }
            },
            "type": "scattercarpet"
           }
          ],
          "scattergeo": [
           {
            "marker": {
             "colorbar": {
              "outlinewidth": 0,
              "ticks": ""
             }
            },
            "type": "scattergeo"
           }
          ],
          "scattergl": [
           {
            "marker": {
             "colorbar": {
              "outlinewidth": 0,
              "ticks": ""
             }
            },
            "type": "scattergl"
           }
          ],
          "scattermapbox": [
           {
            "marker": {
             "colorbar": {
              "outlinewidth": 0,
              "ticks": ""
             }
            },
            "type": "scattermapbox"
           }
          ],
          "scatterpolar": [
           {
            "marker": {
             "colorbar": {
              "outlinewidth": 0,
              "ticks": ""
             }
            },
            "type": "scatterpolar"
           }
          ],
          "scatterpolargl": [
           {
            "marker": {
             "colorbar": {
              "outlinewidth": 0,
              "ticks": ""
             }
            },
            "type": "scatterpolargl"
           }
          ],
          "scatterternary": [
           {
            "marker": {
             "colorbar": {
              "outlinewidth": 0,
              "ticks": ""
             }
            },
            "type": "scatterternary"
           }
          ],
          "surface": [
           {
            "colorbar": {
             "outlinewidth": 0,
             "ticks": ""
            },
            "colorscale": [
             [
              0,
              "#0d0887"
             ],
             [
              0.1111111111111111,
              "#46039f"
             ],
             [
              0.2222222222222222,
              "#7201a8"
             ],
             [
              0.3333333333333333,
              "#9c179e"
             ],
             [
              0.4444444444444444,
              "#bd3786"
             ],
             [
              0.5555555555555556,
              "#d8576b"
             ],
             [
              0.6666666666666666,
              "#ed7953"
             ],
             [
              0.7777777777777778,
              "#fb9f3a"
             ],
             [
              0.8888888888888888,
              "#fdca26"
             ],
             [
              1,
              "#f0f921"
             ]
            ],
            "type": "surface"
           }
          ],
          "table": [
           {
            "cells": {
             "fill": {
              "color": "#EBF0F8"
             },
             "line": {
              "color": "white"
             }
            },
            "header": {
             "fill": {
              "color": "#C8D4E3"
             },
             "line": {
              "color": "white"
             }
            },
            "type": "table"
           }
          ]
         },
         "layout": {
          "annotationdefaults": {
           "arrowcolor": "#2a3f5f",
           "arrowhead": 0,
           "arrowwidth": 1
          },
          "autotypenumbers": "strict",
          "coloraxis": {
           "colorbar": {
            "outlinewidth": 0,
            "ticks": ""
           }
          },
          "colorscale": {
           "diverging": [
            [
             0,
             "#8e0152"
            ],
            [
             0.1,
             "#c51b7d"
            ],
            [
             0.2,
             "#de77ae"
            ],
            [
             0.3,
             "#f1b6da"
            ],
            [
             0.4,
             "#fde0ef"
            ],
            [
             0.5,
             "#f7f7f7"
            ],
            [
             0.6,
             "#e6f5d0"
            ],
            [
             0.7,
             "#b8e186"
            ],
            [
             0.8,
             "#7fbc41"
            ],
            [
             0.9,
             "#4d9221"
            ],
            [
             1,
             "#276419"
            ]
           ],
           "sequential": [
            [
             0,
             "#0d0887"
            ],
            [
             0.1111111111111111,
             "#46039f"
            ],
            [
             0.2222222222222222,
             "#7201a8"
            ],
            [
             0.3333333333333333,
             "#9c179e"
            ],
            [
             0.4444444444444444,
             "#bd3786"
            ],
            [
             0.5555555555555556,
             "#d8576b"
            ],
            [
             0.6666666666666666,
             "#ed7953"
            ],
            [
             0.7777777777777778,
             "#fb9f3a"
            ],
            [
             0.8888888888888888,
             "#fdca26"
            ],
            [
             1,
             "#f0f921"
            ]
           ],
           "sequentialminus": [
            [
             0,
             "#0d0887"
            ],
            [
             0.1111111111111111,
             "#46039f"
            ],
            [
             0.2222222222222222,
             "#7201a8"
            ],
            [
             0.3333333333333333,
             "#9c179e"
            ],
            [
             0.4444444444444444,
             "#bd3786"
            ],
            [
             0.5555555555555556,
             "#d8576b"
            ],
            [
             0.6666666666666666,
             "#ed7953"
            ],
            [
             0.7777777777777778,
             "#fb9f3a"
            ],
            [
             0.8888888888888888,
             "#fdca26"
            ],
            [
             1,
             "#f0f921"
            ]
           ]
          },
          "colorway": [
           "#636efa",
           "#EF553B",
           "#00cc96",
           "#ab63fa",
           "#FFA15A",
           "#19d3f3",
           "#FF6692",
           "#B6E880",
           "#FF97FF",
           "#FECB52"
          ],
          "font": {
           "color": "#2a3f5f"
          },
          "geo": {
           "bgcolor": "white",
           "lakecolor": "white",
           "landcolor": "#E5ECF6",
           "showlakes": true,
           "showland": true,
           "subunitcolor": "white"
          },
          "hoverlabel": {
           "align": "left"
          },
          "hovermode": "closest",
          "mapbox": {
           "style": "light"
          },
          "paper_bgcolor": "white",
          "plot_bgcolor": "#E5ECF6",
          "polar": {
           "angularaxis": {
            "gridcolor": "white",
            "linecolor": "white",
            "ticks": ""
           },
           "bgcolor": "#E5ECF6",
           "radialaxis": {
            "gridcolor": "white",
            "linecolor": "white",
            "ticks": ""
           }
          },
          "scene": {
           "xaxis": {
            "backgroundcolor": "#E5ECF6",
            "gridcolor": "white",
            "gridwidth": 2,
            "linecolor": "white",
            "showbackground": true,
            "ticks": "",
            "zerolinecolor": "white"
           },
           "yaxis": {
            "backgroundcolor": "#E5ECF6",
            "gridcolor": "white",
            "gridwidth": 2,
            "linecolor": "white",
            "showbackground": true,
            "ticks": "",
            "zerolinecolor": "white"
           },
           "zaxis": {
            "backgroundcolor": "#E5ECF6",
            "gridcolor": "white",
            "gridwidth": 2,
            "linecolor": "white",
            "showbackground": true,
            "ticks": "",
            "zerolinecolor": "white"
           }
          },
          "shapedefaults": {
           "line": {
            "color": "#2a3f5f"
           }
          },
          "ternary": {
           "aaxis": {
            "gridcolor": "white",
            "linecolor": "white",
            "ticks": ""
           },
           "baxis": {
            "gridcolor": "white",
            "linecolor": "white",
            "ticks": ""
           },
           "bgcolor": "#E5ECF6",
           "caxis": {
            "gridcolor": "white",
            "linecolor": "white",
            "ticks": ""
           }
          },
          "title": {
           "x": 0.05
          },
          "xaxis": {
           "automargin": true,
           "gridcolor": "white",
           "linecolor": "white",
           "ticks": "",
           "title": {
            "standoff": 15
           },
           "zerolinecolor": "white",
           "zerolinewidth": 2
          },
          "yaxis": {
           "automargin": true,
           "gridcolor": "white",
           "linecolor": "white",
           "ticks": "",
           "title": {
            "standoff": 15
           },
           "zerolinecolor": "white",
           "zerolinewidth": 2
          }
         }
        },
        "title": {
         "font": {
          "color": "#4D5663"
         }
        },
        "xaxis": {
         "gridcolor": "#E1E5ED",
         "showgrid": true,
         "tickfont": {
          "color": "#4D5663"
         },
         "title": {
          "font": {
           "color": "#4D5663"
          },
          "text": ""
         },
         "zerolinecolor": "#E1E5ED"
        },
        "xaxis2": {
         "anchor": "y2",
         "gridcolor": "#E1E5ED",
         "showgrid": true,
         "showticklabels": false,
         "tickfont": {
          "color": "#4D5663"
         },
         "title": {
          "font": {
           "color": "#4D5663"
          },
          "text": ""
         },
         "zerolinecolor": "#E1E5ED"
        },
        "yaxis": {
         "domain": [
          0.3,
          1
         ],
         "gridcolor": "#E1E5ED",
         "showgrid": true,
         "tickfont": {
          "color": "#4D5663"
         },
         "title": {
          "font": {
           "color": "#4D5663"
          },
          "text": ""
         },
         "zerolinecolor": "#E1E5ED"
        },
        "yaxis2": {
         "domain": [
          0,
          0.25
         ],
         "gridcolor": "#E1E5ED",
         "showgrid": true,
         "tickfont": {
          "color": "#4D5663"
         },
         "title": {
          "font": {
           "color": "#4D5663"
          },
          "text": "Spread"
         },
         "zerolinecolor": "#E1E5ED"
        }
       }
      },
      "text/html": [
       "<div>                            <div id=\"96e852ae-a11d-4762-936f-e8e032ef7715\" class=\"plotly-graph-div\" style=\"height:525px; width:100%;\"></div>            <script type=\"text/javascript\">                require([\"plotly\"], function(Plotly) {                    window.PLOTLYENV=window.PLOTLYENV || {};\n",
       "                    window.PLOTLYENV.BASE_URL='https://plot.ly';                                    if (document.getElementById(\"96e852ae-a11d-4762-936f-e8e032ef7715\")) {                    Plotly.newPlot(                        \"96e852ae-a11d-4762-936f-e8e032ef7715\",                        [{\"line\":{\"color\":\"rgba(255, 153, 51, 1.0)\",\"dash\":\"solid\",\"shape\":\"linear\",\"width\":1.3},\"mode\":\"lines\",\"name\":\"A\",\"text\":\"\",\"x\":[0,1,2,3,4,5,6,7,8,9,10,11,12,13,14,15,16,17,18,19,20,21,22,23,24,25,26,27,28,29,30,31,32,33,34,35,36,37,38,39,40,41,42,43,44,45,46,47,48,49,50,51,52,53,54,55,56,57,58,59,60,61,62,63,64,65,66,67,68,69,70,71,72,73,74,75,76,77,78,79,80,81,82,83,84,85,86,87,88,89,90,91,92,93,94,95,96,97,98,99],\"y\":[-2.0179175343734688,0.9233803166017815,1.0222921258112883,-1.5427079018271743,0.9534677415959142,1.6139729466741866,-0.49068513401485064,0.6406132073703192,0.18167756204418314,-0.9019463260024844,1.1277902478070898,-0.5492318874813171,0.40254477215755796,0.20456328644346478,0.8484682084553806,1.598340262193149,-0.3885036558297409,0.7669440765048724,0.5721831877604494,-0.35869921119774845,1.275872979836392,-1.5377322892971523,0.9397524846531856,1.2378549284154148,0.45562500468005257,1.9220064474824583,0.3788446677627523,-1.6272530974099786,1.548747250020298,0.35367122733264206,-1.6023537985805665,-0.2743189849606666,1.6451749536118985,0.7660625343797965,-0.6551561273192944,2.2894165994992624,-0.30049348682681154,-0.1426257921945078,-0.3509331819696133,0.8066088439981102,-0.8190431907381289,0.33839591532473734,0.029153055130530316,0.04075026670195348,0.9095559195154234,-0.45874347933067305,0.23720429403928597,1.8818167393804857,-1.226472966530045,1.0222059444120426,0.786664742156235,-0.856175743606393,-1.2967015187714002,-1.3397627343890512,-0.7740855332934843,-2.0651785264446603,-0.43263697200185763,-0.13962494342840498,1.0979198353286066,-2.5008648450355797,0.7363401239497037,-1.70332552593329,-0.3906840182946408,-0.6357483053025298,-1.9455432716535508,-0.5398111243240811,-0.567472688932623,-0.6141447633033629,0.8011189183895611,-1.2128507855740867,-0.37599186611637914,1.4623963889164369,-0.7631731022882191,-0.49931213287490084,2.2156779881392468,-0.22361959827960393,-0.18881355505333997,0.1563814679055965,-0.04432271649482479,0.8444078862992042,1.262089825064193,1.409022756908488,-0.8371506916682264,-0.19411419725649035,1.3917668500786569,-0.10654778503241351,0.5073768369051679,-2.3983216306246313,1.100498582230519,-0.8995606298174025,-0.6816405917690144,0.6642734688092117,0.3118612734468044,1.2364404904823296,1.5917519675688976,1.248130459217827,1.1785659741667693,0.7177544645767607,-1.0558469610199113,1.6382365853024183],\"type\":\"scatter\"},{\"line\":{\"color\":\"rgba(55, 128, 191, 1.0)\",\"dash\":\"solid\",\"shape\":\"linear\",\"width\":1.3},\"mode\":\"lines\",\"name\":\"B\",\"text\":\"\",\"x\":[0,1,2,3,4,5,6,7,8,9,10,11,12,13,14,15,16,17,18,19,20,21,22,23,24,25,26,27,28,29,30,31,32,33,34,35,36,37,38,39,40,41,42,43,44,45,46,47,48,49,50,51,52,53,54,55,56,57,58,59,60,61,62,63,64,65,66,67,68,69,70,71,72,73,74,75,76,77,78,79,80,81,82,83,84,85,86,87,88,89,90,91,92,93,94,95,96,97,98,99],\"y\":[2.395950167703243,0.4011665790160146,-0.5052385387154442,-0.3942371566252391,-0.21364305021911828,0.43594532497191135,0.6259224234031222,0.185412186044443,-0.6480451046733444,-0.8073701561029344,0.3086398159337038,0.40896197444841126,-0.1496317018826678,0.008520897127094368,-0.37877268064955,1.2535502967513548,-0.8177967117036561,-0.04946135797232314,-0.7183013023150779,-1.3447272277949869,0.41260120152215496,1.33359903067863,0.3671958190478347,0.8236499541071457,2.3347971433163424,-0.5771650158144527,-0.2251481350890585,-0.9435813597330984,0.8453434644325502,-0.21978075472742842,0.12090913168294705,1.3238965924999886,-1.242242230242268,-1.767118741764655,-1.039313253025596,-1.3642511383582916,2.018414865068438,0.9965547242299222,-0.19942697072610457,-1.1706562780182612,-0.5595449835820688,1.151778463952504,-1.143226604397329,-0.663554837473901,-0.3527941140626611,-0.3970287607005498,0.06988660301060044,-0.40904957810275894,1.2239473808056882,1.4503012453471353,-0.7099546586223381,0.1955292008469326,-0.9682868269540975,-0.6066626776294081,1.1271596955346652,-0.06980868330920874,1.2501046888418872,-0.7711144899188074,1.00068801591415,-0.30428583621033645,-0.5699992904635901,-1.1394997915954335,-1.3178505709741983,-0.5362050779147439,-1.0081773680965436,1.7769241713514654,-1.7573616768732496,-1.4171193570499716,1.9335299038258698,-0.08421774918244486,-0.3712113381043379,1.0037717622849058,-0.7649009639855259,0.8067863038735369,0.73994466595083,1.6230867298471527,0.36667123116095157,0.38490337507613426,-1.1667875323245254,1.1022912167479761,0.036114867420814295,0.21253242351549598,-1.0133323362101818,-0.045069781891611274,0.8566552134265603,-1.9136470404042818,1.2980627554809563,-0.359342519582086,-2.7620029335220795,-0.18996686862109757,0.01672937162273757,-0.5646206196563005,1.80341766720294,2.2834787562600174,-0.5206495440594276,0.0014904575692281095,-0.37866407377310024,-0.3283192827529023,0.48484304460629934,-0.803938936523087],\"type\":\"scatter\"},{\"connectgaps\":false,\"fill\":\"tozeroy\",\"line\":{\"color\":\"green\",\"dash\":\"solid\",\"shape\":\"linear\",\"width\":0.5},\"mode\":\"lines\",\"name\":\"Spread\",\"showlegend\":false,\"x\":[0,1,2,3,4,5,6,7,8,9,10,11,12,13,14,15,16,17,18,19,20,21,22,23,24,25,26,27,28,29,30,31,32,33,34,35,36,37,38,39,40,41,42,43,44,45,46,47,48,49,50,51,52,53,54,55,56,57,58,59,60,61,62,63,64,65,66,67,68,69,70,71,72,73,74,75,76,77,78,79,80,81,82,83,84,85,86,87,88,89,90,91,92,93,94,95,96,97,98,99],\"xaxis\":\"x2\",\"y\":[\"\",0.522213737585767,1.5275306645267324,\"\",1.1671107918150325,1.1780276217022752,\"\",0.45520102132587625,0.8297226667175276,\"\",0.819150431873386,\"\",0.5521764740402257,0.1960423893163704,1.2272408891049307,0.3447899654417943,0.4292930558739152,0.8164054344771955,1.2904844900755275,0.9860280165972384,0.863271778314237,\"\",0.5725566656053509,0.4142049743082691,\"\",2.499171463296911,0.6039928028518108,\"\",0.7034037855877477,0.5734519820600705,\"\",\"\",2.8874171838541667,2.5331812761444517,0.38415712570630156,3.653667737857554,\"\",\"\",\"\",1.9772651220163713,\"\",\"\",1.1723796595278593,0.7043051041758545,1.2623500335780844,\"\",0.16731769102868554,2.2908663174832444,\"\",\"\",1.4966194007785731,\"\",\"\",\"\",\"\",\"\",\"\",0.6314895464904025,0.09723181941445658,\"\",1.3063394144132938,\"\",0.9271665526795576,\"\",\"\",\"\",1.1898889879406265,0.8029745937466087,\"\",\"\",\"\",0.45862462663153103,0.001727861697306765,\"\",1.4757333221884168,\"\",\"\",\"\",1.1224648158297006,\"\",1.2259749576433787,1.1964903333929922,0.1761816445419554,\"\",0.5351116366520966,1.8070992553718683,\"\",\"\",3.862501515752599,\"\",\"\",1.2288940884655122,\"\",\"\",2.1124015116283252,1.246640001648599,1.5572300479398695,1.046073747329663,\"\",2.4421755218255052],\"yaxis\":\"y2\",\"type\":\"scatter\"},{\"connectgaps\":false,\"fill\":\"tozeroy\",\"line\":{\"color\":\"red\",\"dash\":\"solid\",\"shape\":\"linear\",\"width\":0.5},\"mode\":\"lines\",\"name\":\"Spread\",\"showlegend\":false,\"x\":[0,1,2,3,4,5,6,7,8,9,10,11,12,13,14,15,16,17,18,19,20,21,22,23,24,25,26,27,28,29,30,31,32,33,34,35,36,37,38,39,40,41,42,43,44,45,46,47,48,49,50,51,52,53,54,55,56,57,58,59,60,61,62,63,64,65,66,67,68,69,70,71,72,73,74,75,76,77,78,79,80,81,82,83,84,85,86,87,88,89,90,91,92,93,94,95,96,97,98,99],\"xaxis\":\"x2\",\"y\":[-4.413867702076711,\"\",\"\",-1.1484707452019352,\"\",\"\",-1.1166075574179728,\"\",\"\",-0.09457616989954998,\"\",-0.9581938619297283,\"\",\"\",\"\",\"\",\"\",\"\",\"\",\"\",\"\",-2.8713313199757824,\"\",\"\",-1.8791721386362898,\"\",\"\",-0.6836717376768802,\"\",\"\",-1.7232629302635136,-1.5982155774606552,\"\",\"\",\"\",\"\",-2.31890835189525,-1.13918051642443,-0.15150621124350874,\"\",-0.2594982071560601,-0.8133825486277666,\"\",\"\",\"\",-0.06171471863012323,\"\",\"\",-2.450420347335733,-0.42809530093509274,\"\",-1.0517049444533257,-0.32841469181730265,-0.7331000567596432,-1.9012452288281496,-1.9953698431354516,-1.6827416608437449,\"\",\"\",-2.1965790088252435,\"\",-0.5638257343378565,\"\",-0.09954322738778587,-0.9373659035570072,-2.3167352956755467,\"\",\"\",-1.1324109854363087,-1.1286330363916417,-0.004780528012041263,\"\",\"\",-1.3060984367484378,\"\",-1.8467063281267566,-0.5554847862142915,-0.22852190717053775,\"\",-0.257883330448772,\"\",\"\",\"\",-0.14904441536487906,\"\",\"\",-0.7906859185757884,-2.0389791110425453,\"\",-0.7095937611963049,-0.698369963391752,\"\",-1.4915563937561356,-1.0470382657776878,\"\",\"\",\"\",\"\",-1.5406900056262107,\"\"],\"yaxis\":\"y2\",\"type\":\"scatter\"}],                        {\"hovermode\":\"x\",\"legend\":{\"bgcolor\":\"#F5F6F9\",\"font\":{\"color\":\"#4D5663\"}},\"paper_bgcolor\":\"#F5F6F9\",\"plot_bgcolor\":\"#F5F6F9\",\"template\":{\"data\":{\"barpolar\":[{\"marker\":{\"line\":{\"color\":\"#E5ECF6\",\"width\":0.5},\"pattern\":{\"fillmode\":\"overlay\",\"size\":10,\"solidity\":0.2}},\"type\":\"barpolar\"}],\"bar\":[{\"error_x\":{\"color\":\"#2a3f5f\"},\"error_y\":{\"color\":\"#2a3f5f\"},\"marker\":{\"line\":{\"color\":\"#E5ECF6\",\"width\":0.5},\"pattern\":{\"fillmode\":\"overlay\",\"size\":10,\"solidity\":0.2}},\"type\":\"bar\"}],\"carpet\":[{\"aaxis\":{\"endlinecolor\":\"#2a3f5f\",\"gridcolor\":\"white\",\"linecolor\":\"white\",\"minorgridcolor\":\"white\",\"startlinecolor\":\"#2a3f5f\"},\"baxis\":{\"endlinecolor\":\"#2a3f5f\",\"gridcolor\":\"white\",\"linecolor\":\"white\",\"minorgridcolor\":\"white\",\"startlinecolor\":\"#2a3f5f\"},\"type\":\"carpet\"}],\"choropleth\":[{\"colorbar\":{\"outlinewidth\":0,\"ticks\":\"\"},\"type\":\"choropleth\"}],\"contourcarpet\":[{\"colorbar\":{\"outlinewidth\":0,\"ticks\":\"\"},\"type\":\"contourcarpet\"}],\"contour\":[{\"colorbar\":{\"outlinewidth\":0,\"ticks\":\"\"},\"colorscale\":[[0.0,\"#0d0887\"],[0.1111111111111111,\"#46039f\"],[0.2222222222222222,\"#7201a8\"],[0.3333333333333333,\"#9c179e\"],[0.4444444444444444,\"#bd3786\"],[0.5555555555555556,\"#d8576b\"],[0.6666666666666666,\"#ed7953\"],[0.7777777777777778,\"#fb9f3a\"],[0.8888888888888888,\"#fdca26\"],[1.0,\"#f0f921\"]],\"type\":\"contour\"}],\"heatmapgl\":[{\"colorbar\":{\"outlinewidth\":0,\"ticks\":\"\"},\"colorscale\":[[0.0,\"#0d0887\"],[0.1111111111111111,\"#46039f\"],[0.2222222222222222,\"#7201a8\"],[0.3333333333333333,\"#9c179e\"],[0.4444444444444444,\"#bd3786\"],[0.5555555555555556,\"#d8576b\"],[0.6666666666666666,\"#ed7953\"],[0.7777777777777778,\"#fb9f3a\"],[0.8888888888888888,\"#fdca26\"],[1.0,\"#f0f921\"]],\"type\":\"heatmapgl\"}],\"heatmap\":[{\"colorbar\":{\"outlinewidth\":0,\"ticks\":\"\"},\"colorscale\":[[0.0,\"#0d0887\"],[0.1111111111111111,\"#46039f\"],[0.2222222222222222,\"#7201a8\"],[0.3333333333333333,\"#9c179e\"],[0.4444444444444444,\"#bd3786\"],[0.5555555555555556,\"#d8576b\"],[0.6666666666666666,\"#ed7953\"],[0.7777777777777778,\"#fb9f3a\"],[0.8888888888888888,\"#fdca26\"],[1.0,\"#f0f921\"]],\"type\":\"heatmap\"}],\"histogram2dcontour\":[{\"colorbar\":{\"outlinewidth\":0,\"ticks\":\"\"},\"colorscale\":[[0.0,\"#0d0887\"],[0.1111111111111111,\"#46039f\"],[0.2222222222222222,\"#7201a8\"],[0.3333333333333333,\"#9c179e\"],[0.4444444444444444,\"#bd3786\"],[0.5555555555555556,\"#d8576b\"],[0.6666666666666666,\"#ed7953\"],[0.7777777777777778,\"#fb9f3a\"],[0.8888888888888888,\"#fdca26\"],[1.0,\"#f0f921\"]],\"type\":\"histogram2dcontour\"}],\"histogram2d\":[{\"colorbar\":{\"outlinewidth\":0,\"ticks\":\"\"},\"colorscale\":[[0.0,\"#0d0887\"],[0.1111111111111111,\"#46039f\"],[0.2222222222222222,\"#7201a8\"],[0.3333333333333333,\"#9c179e\"],[0.4444444444444444,\"#bd3786\"],[0.5555555555555556,\"#d8576b\"],[0.6666666666666666,\"#ed7953\"],[0.7777777777777778,\"#fb9f3a\"],[0.8888888888888888,\"#fdca26\"],[1.0,\"#f0f921\"]],\"type\":\"histogram2d\"}],\"histogram\":[{\"marker\":{\"pattern\":{\"fillmode\":\"overlay\",\"size\":10,\"solidity\":0.2}},\"type\":\"histogram\"}],\"mesh3d\":[{\"colorbar\":{\"outlinewidth\":0,\"ticks\":\"\"},\"type\":\"mesh3d\"}],\"parcoords\":[{\"line\":{\"colorbar\":{\"outlinewidth\":0,\"ticks\":\"\"}},\"type\":\"parcoords\"}],\"pie\":[{\"automargin\":true,\"type\":\"pie\"}],\"scatter3d\":[{\"line\":{\"colorbar\":{\"outlinewidth\":0,\"ticks\":\"\"}},\"marker\":{\"colorbar\":{\"outlinewidth\":0,\"ticks\":\"\"}},\"type\":\"scatter3d\"}],\"scattercarpet\":[{\"marker\":{\"colorbar\":{\"outlinewidth\":0,\"ticks\":\"\"}},\"type\":\"scattercarpet\"}],\"scattergeo\":[{\"marker\":{\"colorbar\":{\"outlinewidth\":0,\"ticks\":\"\"}},\"type\":\"scattergeo\"}],\"scattergl\":[{\"marker\":{\"colorbar\":{\"outlinewidth\":0,\"ticks\":\"\"}},\"type\":\"scattergl\"}],\"scattermapbox\":[{\"marker\":{\"colorbar\":{\"outlinewidth\":0,\"ticks\":\"\"}},\"type\":\"scattermapbox\"}],\"scatterpolargl\":[{\"marker\":{\"colorbar\":{\"outlinewidth\":0,\"ticks\":\"\"}},\"type\":\"scatterpolargl\"}],\"scatterpolar\":[{\"marker\":{\"colorbar\":{\"outlinewidth\":0,\"ticks\":\"\"}},\"type\":\"scatterpolar\"}],\"scatter\":[{\"marker\":{\"colorbar\":{\"outlinewidth\":0,\"ticks\":\"\"}},\"type\":\"scatter\"}],\"scatterternary\":[{\"marker\":{\"colorbar\":{\"outlinewidth\":0,\"ticks\":\"\"}},\"type\":\"scatterternary\"}],\"surface\":[{\"colorbar\":{\"outlinewidth\":0,\"ticks\":\"\"},\"colorscale\":[[0.0,\"#0d0887\"],[0.1111111111111111,\"#46039f\"],[0.2222222222222222,\"#7201a8\"],[0.3333333333333333,\"#9c179e\"],[0.4444444444444444,\"#bd3786\"],[0.5555555555555556,\"#d8576b\"],[0.6666666666666666,\"#ed7953\"],[0.7777777777777778,\"#fb9f3a\"],[0.8888888888888888,\"#fdca26\"],[1.0,\"#f0f921\"]],\"type\":\"surface\"}],\"table\":[{\"cells\":{\"fill\":{\"color\":\"#EBF0F8\"},\"line\":{\"color\":\"white\"}},\"header\":{\"fill\":{\"color\":\"#C8D4E3\"},\"line\":{\"color\":\"white\"}},\"type\":\"table\"}]},\"layout\":{\"annotationdefaults\":{\"arrowcolor\":\"#2a3f5f\",\"arrowhead\":0,\"arrowwidth\":1},\"autotypenumbers\":\"strict\",\"coloraxis\":{\"colorbar\":{\"outlinewidth\":0,\"ticks\":\"\"}},\"colorscale\":{\"diverging\":[[0,\"#8e0152\"],[0.1,\"#c51b7d\"],[0.2,\"#de77ae\"],[0.3,\"#f1b6da\"],[0.4,\"#fde0ef\"],[0.5,\"#f7f7f7\"],[0.6,\"#e6f5d0\"],[0.7,\"#b8e186\"],[0.8,\"#7fbc41\"],[0.9,\"#4d9221\"],[1,\"#276419\"]],\"sequential\":[[0.0,\"#0d0887\"],[0.1111111111111111,\"#46039f\"],[0.2222222222222222,\"#7201a8\"],[0.3333333333333333,\"#9c179e\"],[0.4444444444444444,\"#bd3786\"],[0.5555555555555556,\"#d8576b\"],[0.6666666666666666,\"#ed7953\"],[0.7777777777777778,\"#fb9f3a\"],[0.8888888888888888,\"#fdca26\"],[1.0,\"#f0f921\"]],\"sequentialminus\":[[0.0,\"#0d0887\"],[0.1111111111111111,\"#46039f\"],[0.2222222222222222,\"#7201a8\"],[0.3333333333333333,\"#9c179e\"],[0.4444444444444444,\"#bd3786\"],[0.5555555555555556,\"#d8576b\"],[0.6666666666666666,\"#ed7953\"],[0.7777777777777778,\"#fb9f3a\"],[0.8888888888888888,\"#fdca26\"],[1.0,\"#f0f921\"]]},\"colorway\":[\"#636efa\",\"#EF553B\",\"#00cc96\",\"#ab63fa\",\"#FFA15A\",\"#19d3f3\",\"#FF6692\",\"#B6E880\",\"#FF97FF\",\"#FECB52\"],\"font\":{\"color\":\"#2a3f5f\"},\"geo\":{\"bgcolor\":\"white\",\"lakecolor\":\"white\",\"landcolor\":\"#E5ECF6\",\"showlakes\":true,\"showland\":true,\"subunitcolor\":\"white\"},\"hoverlabel\":{\"align\":\"left\"},\"hovermode\":\"closest\",\"mapbox\":{\"style\":\"light\"},\"paper_bgcolor\":\"white\",\"plot_bgcolor\":\"#E5ECF6\",\"polar\":{\"angularaxis\":{\"gridcolor\":\"white\",\"linecolor\":\"white\",\"ticks\":\"\"},\"bgcolor\":\"#E5ECF6\",\"radialaxis\":{\"gridcolor\":\"white\",\"linecolor\":\"white\",\"ticks\":\"\"}},\"scene\":{\"xaxis\":{\"backgroundcolor\":\"#E5ECF6\",\"gridcolor\":\"white\",\"gridwidth\":2,\"linecolor\":\"white\",\"showbackground\":true,\"ticks\":\"\",\"zerolinecolor\":\"white\"},\"yaxis\":{\"backgroundcolor\":\"#E5ECF6\",\"gridcolor\":\"white\",\"gridwidth\":2,\"linecolor\":\"white\",\"showbackground\":true,\"ticks\":\"\",\"zerolinecolor\":\"white\"},\"zaxis\":{\"backgroundcolor\":\"#E5ECF6\",\"gridcolor\":\"white\",\"gridwidth\":2,\"linecolor\":\"white\",\"showbackground\":true,\"ticks\":\"\",\"zerolinecolor\":\"white\"}},\"shapedefaults\":{\"line\":{\"color\":\"#2a3f5f\"}},\"ternary\":{\"aaxis\":{\"gridcolor\":\"white\",\"linecolor\":\"white\",\"ticks\":\"\"},\"baxis\":{\"gridcolor\":\"white\",\"linecolor\":\"white\",\"ticks\":\"\"},\"bgcolor\":\"#E5ECF6\",\"caxis\":{\"gridcolor\":\"white\",\"linecolor\":\"white\",\"ticks\":\"\"}},\"title\":{\"x\":0.05},\"xaxis\":{\"automargin\":true,\"gridcolor\":\"white\",\"linecolor\":\"white\",\"ticks\":\"\",\"title\":{\"standoff\":15},\"zerolinecolor\":\"white\",\"zerolinewidth\":2},\"yaxis\":{\"automargin\":true,\"gridcolor\":\"white\",\"linecolor\":\"white\",\"ticks\":\"\",\"title\":{\"standoff\":15},\"zerolinecolor\":\"white\",\"zerolinewidth\":2}}},\"title\":{\"font\":{\"color\":\"#4D5663\"}},\"xaxis\":{\"gridcolor\":\"#E1E5ED\",\"showgrid\":true,\"tickfont\":{\"color\":\"#4D5663\"},\"title\":{\"font\":{\"color\":\"#4D5663\"},\"text\":\"\"},\"zerolinecolor\":\"#E1E5ED\"},\"yaxis\":{\"domain\":[0.3,1],\"gridcolor\":\"#E1E5ED\",\"showgrid\":true,\"tickfont\":{\"color\":\"#4D5663\"},\"title\":{\"font\":{\"color\":\"#4D5663\"},\"text\":\"\"},\"zerolinecolor\":\"#E1E5ED\"},\"yaxis2\":{\"domain\":[0,0.25],\"gridcolor\":\"#E1E5ED\",\"showgrid\":true,\"tickfont\":{\"color\":\"#4D5663\"},\"title\":{\"font\":{\"color\":\"#4D5663\"},\"text\":\"Spread\"},\"zerolinecolor\":\"#E1E5ED\"},\"xaxis2\":{\"anchor\":\"y2\",\"gridcolor\":\"#E1E5ED\",\"showgrid\":true,\"showticklabels\":false,\"tickfont\":{\"color\":\"#4D5663\"},\"title\":{\"font\":{\"color\":\"#4D5663\"},\"text\":\"\"},\"zerolinecolor\":\"#E1E5ED\"}},                        {\"showLink\": true, \"linkText\": \"Export to plot.ly\", \"plotlyServerURL\": \"https://plot.ly\", \"responsive\": true}                    ).then(function(){\n",
       "                            \n",
       "var gd = document.getElementById('96e852ae-a11d-4762-936f-e8e032ef7715');\n",
       "var x = new MutationObserver(function (mutations, observer) {{\n",
       "        var display = window.getComputedStyle(gd).display;\n",
       "        if (!display || display === 'none') {{\n",
       "            console.log([gd, 'removed!']);\n",
       "            Plotly.purge(gd);\n",
       "            observer.disconnect();\n",
       "        }}\n",
       "}});\n",
       "\n",
       "// Listen for the removal of the full notebook cells\n",
       "var notebookContainer = gd.closest('#notebook-container');\n",
       "if (notebookContainer) {{\n",
       "    x.observe(notebookContainer, {childList: true});\n",
       "}}\n",
       "\n",
       "// Listen for the clearing of the current output cell\n",
       "var outputEl = gd.closest('.output');\n",
       "if (outputEl) {{\n",
       "    x.observe(outputEl, {childList: true});\n",
       "}}\n",
       "\n",
       "                        })                };                });            </script>        </div>"
      ]
     },
     "metadata": {},
     "output_type": "display_data"
    }
   ],
   "source": [
    "df1['A B'.split()].iplot(kind='spread')"
   ]
  },
  {
   "cell_type": "code",
   "execution_count": 47,
   "id": "a87e915b",
   "metadata": {},
   "outputs": [
    {
     "data": {
      "application/vnd.plotly.v1+json": {
       "config": {
        "linkText": "Export to plot.ly",
        "plotlyServerURL": "https://plot.ly",
        "showLink": true
       },
       "data": [
        {
         "marker": {
          "color": [
           "rgb(255, 153, 51)",
           "rgb(55, 128, 191)",
           "rgb(50, 171, 96)",
           "rgb(128, 0, 128)",
           "rgb(219, 64, 82)",
           "rgb(0, 128, 128)",
           "rgb(255, 255, 51)",
           "rgb(128, 128, 0)",
           "rgb(251, 128, 114)",
           "rgb(128, 177, 211)"
          ],
          "line": {
           "width": 1.3
          },
          "size": [
           42,
           66,
           46,
           59,
           63,
           32,
           55,
           112,
           62,
           25,
           36,
           42,
           31,
           70,
           100,
           48,
           55,
           85,
           58,
           59,
           29,
           42,
           74,
           22,
           51,
           41,
           94,
           38,
           56,
           77,
           37,
           18,
           46,
           59,
           38,
           65,
           74,
           58,
           54,
           71,
           22,
           55,
           14,
           78,
           37,
           47,
           12,
           96,
           98,
           44,
           53,
           66,
           28,
           68,
           68,
           39,
           20,
           57,
           46,
           16,
           37,
           60,
           64,
           62,
           70,
           64,
           61,
           84,
           80,
           20,
           41,
           63,
           58,
           52,
           64,
           37,
           89,
           40,
           103,
           71,
           74,
           43,
           15,
           53,
           48,
           59,
           41,
           48,
           57,
           59,
           51,
           67,
           43,
           74,
           73,
           48,
           41,
           84,
           58,
           78
          ],
          "symbol": "circle"
         },
         "mode": "markers",
         "text": "",
         "type": "scatter",
         "x": [
          -2.0179175343734688,
          0.9233803166017815,
          1.0222921258112883,
          -1.5427079018271743,
          0.9534677415959142,
          1.6139729466741866,
          -0.49068513401485064,
          0.6406132073703192,
          0.18167756204418314,
          -0.9019463260024844,
          1.1277902478070898,
          -0.5492318874813171,
          0.40254477215755796,
          0.20456328644346478,
          0.8484682084553806,
          1.598340262193149,
          -0.3885036558297409,
          0.7669440765048724,
          0.5721831877604494,
          -0.35869921119774845,
          1.275872979836392,
          -1.5377322892971523,
          0.9397524846531856,
          1.2378549284154148,
          0.45562500468005257,
          1.9220064474824583,
          0.3788446677627523,
          -1.6272530974099786,
          1.548747250020298,
          0.35367122733264206,
          -1.6023537985805665,
          -0.2743189849606666,
          1.6451749536118985,
          0.7660625343797965,
          -0.6551561273192944,
          2.2894165994992624,
          -0.30049348682681154,
          -0.1426257921945078,
          -0.3509331819696133,
          0.8066088439981102,
          -0.8190431907381289,
          0.33839591532473734,
          0.029153055130530316,
          0.04075026670195348,
          0.9095559195154234,
          -0.45874347933067305,
          0.23720429403928597,
          1.8818167393804857,
          -1.226472966530045,
          1.0222059444120426,
          0.786664742156235,
          -0.856175743606393,
          -1.2967015187714002,
          -1.3397627343890512,
          -0.7740855332934843,
          -2.0651785264446603,
          -0.43263697200185763,
          -0.13962494342840498,
          1.0979198353286066,
          -2.5008648450355797,
          0.7363401239497037,
          -1.70332552593329,
          -0.3906840182946408,
          -0.6357483053025298,
          -1.9455432716535508,
          -0.5398111243240811,
          -0.567472688932623,
          -0.6141447633033629,
          0.8011189183895611,
          -1.2128507855740867,
          -0.37599186611637914,
          1.4623963889164369,
          -0.7631731022882191,
          -0.49931213287490084,
          2.2156779881392468,
          -0.22361959827960393,
          -0.18881355505333997,
          0.1563814679055965,
          -0.04432271649482479,
          0.8444078862992042,
          1.262089825064193,
          1.409022756908488,
          -0.8371506916682264,
          -0.19411419725649035,
          1.3917668500786569,
          -0.10654778503241351,
          0.5073768369051679,
          -2.3983216306246313,
          1.100498582230519,
          -0.8995606298174025,
          -0.6816405917690144,
          0.6642734688092117,
          0.3118612734468044,
          1.2364404904823296,
          1.5917519675688976,
          1.248130459217827,
          1.1785659741667693,
          0.7177544645767607,
          -1.0558469610199113,
          1.6382365853024183
         ],
         "y": [
          2.395950167703243,
          0.4011665790160146,
          -0.5052385387154442,
          -0.3942371566252391,
          -0.21364305021911828,
          0.43594532497191135,
          0.6259224234031222,
          0.185412186044443,
          -0.6480451046733444,
          -0.8073701561029344,
          0.3086398159337038,
          0.40896197444841126,
          -0.1496317018826678,
          0.008520897127094368,
          -0.37877268064955,
          1.2535502967513548,
          -0.8177967117036561,
          -0.04946135797232314,
          -0.7183013023150779,
          -1.3447272277949869,
          0.41260120152215496,
          1.33359903067863,
          0.3671958190478347,
          0.8236499541071457,
          2.3347971433163424,
          -0.5771650158144527,
          -0.2251481350890585,
          -0.9435813597330984,
          0.8453434644325502,
          -0.21978075472742842,
          0.12090913168294705,
          1.3238965924999886,
          -1.242242230242268,
          -1.767118741764655,
          -1.039313253025596,
          -1.3642511383582916,
          2.018414865068438,
          0.9965547242299222,
          -0.19942697072610457,
          -1.1706562780182612,
          -0.5595449835820688,
          1.151778463952504,
          -1.143226604397329,
          -0.663554837473901,
          -0.3527941140626611,
          -0.3970287607005498,
          0.06988660301060044,
          -0.40904957810275894,
          1.2239473808056882,
          1.4503012453471353,
          -0.7099546586223381,
          0.1955292008469326,
          -0.9682868269540975,
          -0.6066626776294081,
          1.1271596955346652,
          -0.06980868330920874,
          1.2501046888418872,
          -0.7711144899188074,
          1.00068801591415,
          -0.30428583621033645,
          -0.5699992904635901,
          -1.1394997915954335,
          -1.3178505709741983,
          -0.5362050779147439,
          -1.0081773680965436,
          1.7769241713514654,
          -1.7573616768732496,
          -1.4171193570499716,
          1.9335299038258698,
          -0.08421774918244486,
          -0.3712113381043379,
          1.0037717622849058,
          -0.7649009639855259,
          0.8067863038735369,
          0.73994466595083,
          1.6230867298471527,
          0.36667123116095157,
          0.38490337507613426,
          -1.1667875323245254,
          1.1022912167479761,
          0.036114867420814295,
          0.21253242351549598,
          -1.0133323362101818,
          -0.045069781891611274,
          0.8566552134265603,
          -1.9136470404042818,
          1.2980627554809563,
          -0.359342519582086,
          -2.7620029335220795,
          -0.18996686862109757,
          0.01672937162273757,
          -0.5646206196563005,
          1.80341766720294,
          2.2834787562600174,
          -0.5206495440594276,
          0.0014904575692281095,
          -0.37866407377310024,
          -0.3283192827529023,
          0.48484304460629934,
          -0.803938936523087
         ]
        }
       ],
       "layout": {
        "legend": {
         "bgcolor": "#F5F6F9",
         "font": {
          "color": "#4D5663"
         }
        },
        "paper_bgcolor": "#F5F6F9",
        "plot_bgcolor": "#F5F6F9",
        "template": {
         "data": {
          "bar": [
           {
            "error_x": {
             "color": "#2a3f5f"
            },
            "error_y": {
             "color": "#2a3f5f"
            },
            "marker": {
             "line": {
              "color": "#E5ECF6",
              "width": 0.5
             },
             "pattern": {
              "fillmode": "overlay",
              "size": 10,
              "solidity": 0.2
             }
            },
            "type": "bar"
           }
          ],
          "barpolar": [
           {
            "marker": {
             "line": {
              "color": "#E5ECF6",
              "width": 0.5
             },
             "pattern": {
              "fillmode": "overlay",
              "size": 10,
              "solidity": 0.2
             }
            },
            "type": "barpolar"
           }
          ],
          "carpet": [
           {
            "aaxis": {
             "endlinecolor": "#2a3f5f",
             "gridcolor": "white",
             "linecolor": "white",
             "minorgridcolor": "white",
             "startlinecolor": "#2a3f5f"
            },
            "baxis": {
             "endlinecolor": "#2a3f5f",
             "gridcolor": "white",
             "linecolor": "white",
             "minorgridcolor": "white",
             "startlinecolor": "#2a3f5f"
            },
            "type": "carpet"
           }
          ],
          "choropleth": [
           {
            "colorbar": {
             "outlinewidth": 0,
             "ticks": ""
            },
            "type": "choropleth"
           }
          ],
          "contour": [
           {
            "colorbar": {
             "outlinewidth": 0,
             "ticks": ""
            },
            "colorscale": [
             [
              0,
              "#0d0887"
             ],
             [
              0.1111111111111111,
              "#46039f"
             ],
             [
              0.2222222222222222,
              "#7201a8"
             ],
             [
              0.3333333333333333,
              "#9c179e"
             ],
             [
              0.4444444444444444,
              "#bd3786"
             ],
             [
              0.5555555555555556,
              "#d8576b"
             ],
             [
              0.6666666666666666,
              "#ed7953"
             ],
             [
              0.7777777777777778,
              "#fb9f3a"
             ],
             [
              0.8888888888888888,
              "#fdca26"
             ],
             [
              1,
              "#f0f921"
             ]
            ],
            "type": "contour"
           }
          ],
          "contourcarpet": [
           {
            "colorbar": {
             "outlinewidth": 0,
             "ticks": ""
            },
            "type": "contourcarpet"
           }
          ],
          "heatmap": [
           {
            "colorbar": {
             "outlinewidth": 0,
             "ticks": ""
            },
            "colorscale": [
             [
              0,
              "#0d0887"
             ],
             [
              0.1111111111111111,
              "#46039f"
             ],
             [
              0.2222222222222222,
              "#7201a8"
             ],
             [
              0.3333333333333333,
              "#9c179e"
             ],
             [
              0.4444444444444444,
              "#bd3786"
             ],
             [
              0.5555555555555556,
              "#d8576b"
             ],
             [
              0.6666666666666666,
              "#ed7953"
             ],
             [
              0.7777777777777778,
              "#fb9f3a"
             ],
             [
              0.8888888888888888,
              "#fdca26"
             ],
             [
              1,
              "#f0f921"
             ]
            ],
            "type": "heatmap"
           }
          ],
          "heatmapgl": [
           {
            "colorbar": {
             "outlinewidth": 0,
             "ticks": ""
            },
            "colorscale": [
             [
              0,
              "#0d0887"
             ],
             [
              0.1111111111111111,
              "#46039f"
             ],
             [
              0.2222222222222222,
              "#7201a8"
             ],
             [
              0.3333333333333333,
              "#9c179e"
             ],
             [
              0.4444444444444444,
              "#bd3786"
             ],
             [
              0.5555555555555556,
              "#d8576b"
             ],
             [
              0.6666666666666666,
              "#ed7953"
             ],
             [
              0.7777777777777778,
              "#fb9f3a"
             ],
             [
              0.8888888888888888,
              "#fdca26"
             ],
             [
              1,
              "#f0f921"
             ]
            ],
            "type": "heatmapgl"
           }
          ],
          "histogram": [
           {
            "marker": {
             "pattern": {
              "fillmode": "overlay",
              "size": 10,
              "solidity": 0.2
             }
            },
            "type": "histogram"
           }
          ],
          "histogram2d": [
           {
            "colorbar": {
             "outlinewidth": 0,
             "ticks": ""
            },
            "colorscale": [
             [
              0,
              "#0d0887"
             ],
             [
              0.1111111111111111,
              "#46039f"
             ],
             [
              0.2222222222222222,
              "#7201a8"
             ],
             [
              0.3333333333333333,
              "#9c179e"
             ],
             [
              0.4444444444444444,
              "#bd3786"
             ],
             [
              0.5555555555555556,
              "#d8576b"
             ],
             [
              0.6666666666666666,
              "#ed7953"
             ],
             [
              0.7777777777777778,
              "#fb9f3a"
             ],
             [
              0.8888888888888888,
              "#fdca26"
             ],
             [
              1,
              "#f0f921"
             ]
            ],
            "type": "histogram2d"
           }
          ],
          "histogram2dcontour": [
           {
            "colorbar": {
             "outlinewidth": 0,
             "ticks": ""
            },
            "colorscale": [
             [
              0,
              "#0d0887"
             ],
             [
              0.1111111111111111,
              "#46039f"
             ],
             [
              0.2222222222222222,
              "#7201a8"
             ],
             [
              0.3333333333333333,
              "#9c179e"
             ],
             [
              0.4444444444444444,
              "#bd3786"
             ],
             [
              0.5555555555555556,
              "#d8576b"
             ],
             [
              0.6666666666666666,
              "#ed7953"
             ],
             [
              0.7777777777777778,
              "#fb9f3a"
             ],
             [
              0.8888888888888888,
              "#fdca26"
             ],
             [
              1,
              "#f0f921"
             ]
            ],
            "type": "histogram2dcontour"
           }
          ],
          "mesh3d": [
           {
            "colorbar": {
             "outlinewidth": 0,
             "ticks": ""
            },
            "type": "mesh3d"
           }
          ],
          "parcoords": [
           {
            "line": {
             "colorbar": {
              "outlinewidth": 0,
              "ticks": ""
             }
            },
            "type": "parcoords"
           }
          ],
          "pie": [
           {
            "automargin": true,
            "type": "pie"
           }
          ],
          "scatter": [
           {
            "marker": {
             "colorbar": {
              "outlinewidth": 0,
              "ticks": ""
             }
            },
            "type": "scatter"
           }
          ],
          "scatter3d": [
           {
            "line": {
             "colorbar": {
              "outlinewidth": 0,
              "ticks": ""
             }
            },
            "marker": {
             "colorbar": {
              "outlinewidth": 0,
              "ticks": ""
             }
            },
            "type": "scatter3d"
           }
          ],
          "scattercarpet": [
           {
            "marker": {
             "colorbar": {
              "outlinewidth": 0,
              "ticks": ""
             }
            },
            "type": "scattercarpet"
           }
          ],
          "scattergeo": [
           {
            "marker": {
             "colorbar": {
              "outlinewidth": 0,
              "ticks": ""
             }
            },
            "type": "scattergeo"
           }
          ],
          "scattergl": [
           {
            "marker": {
             "colorbar": {
              "outlinewidth": 0,
              "ticks": ""
             }
            },
            "type": "scattergl"
           }
          ],
          "scattermapbox": [
           {
            "marker": {
             "colorbar": {
              "outlinewidth": 0,
              "ticks": ""
             }
            },
            "type": "scattermapbox"
           }
          ],
          "scatterpolar": [
           {
            "marker": {
             "colorbar": {
              "outlinewidth": 0,
              "ticks": ""
             }
            },
            "type": "scatterpolar"
           }
          ],
          "scatterpolargl": [
           {
            "marker": {
             "colorbar": {
              "outlinewidth": 0,
              "ticks": ""
             }
            },
            "type": "scatterpolargl"
           }
          ],
          "scatterternary": [
           {
            "marker": {
             "colorbar": {
              "outlinewidth": 0,
              "ticks": ""
             }
            },
            "type": "scatterternary"
           }
          ],
          "surface": [
           {
            "colorbar": {
             "outlinewidth": 0,
             "ticks": ""
            },
            "colorscale": [
             [
              0,
              "#0d0887"
             ],
             [
              0.1111111111111111,
              "#46039f"
             ],
             [
              0.2222222222222222,
              "#7201a8"
             ],
             [
              0.3333333333333333,
              "#9c179e"
             ],
             [
              0.4444444444444444,
              "#bd3786"
             ],
             [
              0.5555555555555556,
              "#d8576b"
             ],
             [
              0.6666666666666666,
              "#ed7953"
             ],
             [
              0.7777777777777778,
              "#fb9f3a"
             ],
             [
              0.8888888888888888,
              "#fdca26"
             ],
             [
              1,
              "#f0f921"
             ]
            ],
            "type": "surface"
           }
          ],
          "table": [
           {
            "cells": {
             "fill": {
              "color": "#EBF0F8"
             },
             "line": {
              "color": "white"
             }
            },
            "header": {
             "fill": {
              "color": "#C8D4E3"
             },
             "line": {
              "color": "white"
             }
            },
            "type": "table"
           }
          ]
         },
         "layout": {
          "annotationdefaults": {
           "arrowcolor": "#2a3f5f",
           "arrowhead": 0,
           "arrowwidth": 1
          },
          "autotypenumbers": "strict",
          "coloraxis": {
           "colorbar": {
            "outlinewidth": 0,
            "ticks": ""
           }
          },
          "colorscale": {
           "diverging": [
            [
             0,
             "#8e0152"
            ],
            [
             0.1,
             "#c51b7d"
            ],
            [
             0.2,
             "#de77ae"
            ],
            [
             0.3,
             "#f1b6da"
            ],
            [
             0.4,
             "#fde0ef"
            ],
            [
             0.5,
             "#f7f7f7"
            ],
            [
             0.6,
             "#e6f5d0"
            ],
            [
             0.7,
             "#b8e186"
            ],
            [
             0.8,
             "#7fbc41"
            ],
            [
             0.9,
             "#4d9221"
            ],
            [
             1,
             "#276419"
            ]
           ],
           "sequential": [
            [
             0,
             "#0d0887"
            ],
            [
             0.1111111111111111,
             "#46039f"
            ],
            [
             0.2222222222222222,
             "#7201a8"
            ],
            [
             0.3333333333333333,
             "#9c179e"
            ],
            [
             0.4444444444444444,
             "#bd3786"
            ],
            [
             0.5555555555555556,
             "#d8576b"
            ],
            [
             0.6666666666666666,
             "#ed7953"
            ],
            [
             0.7777777777777778,
             "#fb9f3a"
            ],
            [
             0.8888888888888888,
             "#fdca26"
            ],
            [
             1,
             "#f0f921"
            ]
           ],
           "sequentialminus": [
            [
             0,
             "#0d0887"
            ],
            [
             0.1111111111111111,
             "#46039f"
            ],
            [
             0.2222222222222222,
             "#7201a8"
            ],
            [
             0.3333333333333333,
             "#9c179e"
            ],
            [
             0.4444444444444444,
             "#bd3786"
            ],
            [
             0.5555555555555556,
             "#d8576b"
            ],
            [
             0.6666666666666666,
             "#ed7953"
            ],
            [
             0.7777777777777778,
             "#fb9f3a"
            ],
            [
             0.8888888888888888,
             "#fdca26"
            ],
            [
             1,
             "#f0f921"
            ]
           ]
          },
          "colorway": [
           "#636efa",
           "#EF553B",
           "#00cc96",
           "#ab63fa",
           "#FFA15A",
           "#19d3f3",
           "#FF6692",
           "#B6E880",
           "#FF97FF",
           "#FECB52"
          ],
          "font": {
           "color": "#2a3f5f"
          },
          "geo": {
           "bgcolor": "white",
           "lakecolor": "white",
           "landcolor": "#E5ECF6",
           "showlakes": true,
           "showland": true,
           "subunitcolor": "white"
          },
          "hoverlabel": {
           "align": "left"
          },
          "hovermode": "closest",
          "mapbox": {
           "style": "light"
          },
          "paper_bgcolor": "white",
          "plot_bgcolor": "#E5ECF6",
          "polar": {
           "angularaxis": {
            "gridcolor": "white",
            "linecolor": "white",
            "ticks": ""
           },
           "bgcolor": "#E5ECF6",
           "radialaxis": {
            "gridcolor": "white",
            "linecolor": "white",
            "ticks": ""
           }
          },
          "scene": {
           "xaxis": {
            "backgroundcolor": "#E5ECF6",
            "gridcolor": "white",
            "gridwidth": 2,
            "linecolor": "white",
            "showbackground": true,
            "ticks": "",
            "zerolinecolor": "white"
           },
           "yaxis": {
            "backgroundcolor": "#E5ECF6",
            "gridcolor": "white",
            "gridwidth": 2,
            "linecolor": "white",
            "showbackground": true,
            "ticks": "",
            "zerolinecolor": "white"
           },
           "zaxis": {
            "backgroundcolor": "#E5ECF6",
            "gridcolor": "white",
            "gridwidth": 2,
            "linecolor": "white",
            "showbackground": true,
            "ticks": "",
            "zerolinecolor": "white"
           }
          },
          "shapedefaults": {
           "line": {
            "color": "#2a3f5f"
           }
          },
          "ternary": {
           "aaxis": {
            "gridcolor": "white",
            "linecolor": "white",
            "ticks": ""
           },
           "baxis": {
            "gridcolor": "white",
            "linecolor": "white",
            "ticks": ""
           },
           "bgcolor": "#E5ECF6",
           "caxis": {
            "gridcolor": "white",
            "linecolor": "white",
            "ticks": ""
           }
          },
          "title": {
           "x": 0.05
          },
          "xaxis": {
           "automargin": true,
           "gridcolor": "white",
           "linecolor": "white",
           "ticks": "",
           "title": {
            "standoff": 15
           },
           "zerolinecolor": "white",
           "zerolinewidth": 2
          },
          "yaxis": {
           "automargin": true,
           "gridcolor": "white",
           "linecolor": "white",
           "ticks": "",
           "title": {
            "standoff": 15
           },
           "zerolinecolor": "white",
           "zerolinewidth": 2
          }
         }
        },
        "title": {
         "font": {
          "color": "#4D5663"
         }
        },
        "xaxis": {
         "gridcolor": "#E1E5ED",
         "showgrid": true,
         "tickfont": {
          "color": "#4D5663"
         },
         "title": {
          "font": {
           "color": "#4D5663"
          },
          "text": ""
         },
         "zerolinecolor": "#E1E5ED"
        },
        "yaxis": {
         "gridcolor": "#E1E5ED",
         "showgrid": true,
         "tickfont": {
          "color": "#4D5663"
         },
         "title": {
          "font": {
           "color": "#4D5663"
          },
          "text": ""
         },
         "zerolinecolor": "#E1E5ED"
        }
       }
      },
      "text/html": [
       "<div>                            <div id=\"1a6b750f-f1f3-4301-a3e4-76c81394bb4f\" class=\"plotly-graph-div\" style=\"height:525px; width:100%;\"></div>            <script type=\"text/javascript\">                require([\"plotly\"], function(Plotly) {                    window.PLOTLYENV=window.PLOTLYENV || {};\n",
       "                    window.PLOTLYENV.BASE_URL='https://plot.ly';                                    if (document.getElementById(\"1a6b750f-f1f3-4301-a3e4-76c81394bb4f\")) {                    Plotly.newPlot(                        \"1a6b750f-f1f3-4301-a3e4-76c81394bb4f\",                        [{\"marker\":{\"color\":[\"rgb(255, 153, 51)\",\"rgb(55, 128, 191)\",\"rgb(50, 171, 96)\",\"rgb(128, 0, 128)\",\"rgb(219, 64, 82)\",\"rgb(0, 128, 128)\",\"rgb(255, 255, 51)\",\"rgb(128, 128, 0)\",\"rgb(251, 128, 114)\",\"rgb(128, 177, 211)\"],\"line\":{\"width\":1.3},\"size\":[42,66,46,59,63,32,55,112,62,25,36,42,31,70,100,48,55,85,58,59,29,42,74,22,51,41,94,38,56,77,37,18,46,59,38,65,74,58,54,71,22,55,14,78,37,47,12,96,98,44,53,66,28,68,68,39,20,57,46,16,37,60,64,62,70,64,61,84,80,20,41,63,58,52,64,37,89,40,103,71,74,43,15,53,48,59,41,48,57,59,51,67,43,74,73,48,41,84,58,78],\"symbol\":\"circle\"},\"mode\":\"markers\",\"text\":\"\",\"x\":[-2.0179175343734688,0.9233803166017815,1.0222921258112883,-1.5427079018271743,0.9534677415959142,1.6139729466741866,-0.49068513401485064,0.6406132073703192,0.18167756204418314,-0.9019463260024844,1.1277902478070898,-0.5492318874813171,0.40254477215755796,0.20456328644346478,0.8484682084553806,1.598340262193149,-0.3885036558297409,0.7669440765048724,0.5721831877604494,-0.35869921119774845,1.275872979836392,-1.5377322892971523,0.9397524846531856,1.2378549284154148,0.45562500468005257,1.9220064474824583,0.3788446677627523,-1.6272530974099786,1.548747250020298,0.35367122733264206,-1.6023537985805665,-0.2743189849606666,1.6451749536118985,0.7660625343797965,-0.6551561273192944,2.2894165994992624,-0.30049348682681154,-0.1426257921945078,-0.3509331819696133,0.8066088439981102,-0.8190431907381289,0.33839591532473734,0.029153055130530316,0.04075026670195348,0.9095559195154234,-0.45874347933067305,0.23720429403928597,1.8818167393804857,-1.226472966530045,1.0222059444120426,0.786664742156235,-0.856175743606393,-1.2967015187714002,-1.3397627343890512,-0.7740855332934843,-2.0651785264446603,-0.43263697200185763,-0.13962494342840498,1.0979198353286066,-2.5008648450355797,0.7363401239497037,-1.70332552593329,-0.3906840182946408,-0.6357483053025298,-1.9455432716535508,-0.5398111243240811,-0.567472688932623,-0.6141447633033629,0.8011189183895611,-1.2128507855740867,-0.37599186611637914,1.4623963889164369,-0.7631731022882191,-0.49931213287490084,2.2156779881392468,-0.22361959827960393,-0.18881355505333997,0.1563814679055965,-0.04432271649482479,0.8444078862992042,1.262089825064193,1.409022756908488,-0.8371506916682264,-0.19411419725649035,1.3917668500786569,-0.10654778503241351,0.5073768369051679,-2.3983216306246313,1.100498582230519,-0.8995606298174025,-0.6816405917690144,0.6642734688092117,0.3118612734468044,1.2364404904823296,1.5917519675688976,1.248130459217827,1.1785659741667693,0.7177544645767607,-1.0558469610199113,1.6382365853024183],\"y\":[2.395950167703243,0.4011665790160146,-0.5052385387154442,-0.3942371566252391,-0.21364305021911828,0.43594532497191135,0.6259224234031222,0.185412186044443,-0.6480451046733444,-0.8073701561029344,0.3086398159337038,0.40896197444841126,-0.1496317018826678,0.008520897127094368,-0.37877268064955,1.2535502967513548,-0.8177967117036561,-0.04946135797232314,-0.7183013023150779,-1.3447272277949869,0.41260120152215496,1.33359903067863,0.3671958190478347,0.8236499541071457,2.3347971433163424,-0.5771650158144527,-0.2251481350890585,-0.9435813597330984,0.8453434644325502,-0.21978075472742842,0.12090913168294705,1.3238965924999886,-1.242242230242268,-1.767118741764655,-1.039313253025596,-1.3642511383582916,2.018414865068438,0.9965547242299222,-0.19942697072610457,-1.1706562780182612,-0.5595449835820688,1.151778463952504,-1.143226604397329,-0.663554837473901,-0.3527941140626611,-0.3970287607005498,0.06988660301060044,-0.40904957810275894,1.2239473808056882,1.4503012453471353,-0.7099546586223381,0.1955292008469326,-0.9682868269540975,-0.6066626776294081,1.1271596955346652,-0.06980868330920874,1.2501046888418872,-0.7711144899188074,1.00068801591415,-0.30428583621033645,-0.5699992904635901,-1.1394997915954335,-1.3178505709741983,-0.5362050779147439,-1.0081773680965436,1.7769241713514654,-1.7573616768732496,-1.4171193570499716,1.9335299038258698,-0.08421774918244486,-0.3712113381043379,1.0037717622849058,-0.7649009639855259,0.8067863038735369,0.73994466595083,1.6230867298471527,0.36667123116095157,0.38490337507613426,-1.1667875323245254,1.1022912167479761,0.036114867420814295,0.21253242351549598,-1.0133323362101818,-0.045069781891611274,0.8566552134265603,-1.9136470404042818,1.2980627554809563,-0.359342519582086,-2.7620029335220795,-0.18996686862109757,0.01672937162273757,-0.5646206196563005,1.80341766720294,2.2834787562600174,-0.5206495440594276,0.0014904575692281095,-0.37866407377310024,-0.3283192827529023,0.48484304460629934,-0.803938936523087],\"type\":\"scatter\"}],                        {\"legend\":{\"bgcolor\":\"#F5F6F9\",\"font\":{\"color\":\"#4D5663\"}},\"paper_bgcolor\":\"#F5F6F9\",\"plot_bgcolor\":\"#F5F6F9\",\"template\":{\"data\":{\"barpolar\":[{\"marker\":{\"line\":{\"color\":\"#E5ECF6\",\"width\":0.5},\"pattern\":{\"fillmode\":\"overlay\",\"size\":10,\"solidity\":0.2}},\"type\":\"barpolar\"}],\"bar\":[{\"error_x\":{\"color\":\"#2a3f5f\"},\"error_y\":{\"color\":\"#2a3f5f\"},\"marker\":{\"line\":{\"color\":\"#E5ECF6\",\"width\":0.5},\"pattern\":{\"fillmode\":\"overlay\",\"size\":10,\"solidity\":0.2}},\"type\":\"bar\"}],\"carpet\":[{\"aaxis\":{\"endlinecolor\":\"#2a3f5f\",\"gridcolor\":\"white\",\"linecolor\":\"white\",\"minorgridcolor\":\"white\",\"startlinecolor\":\"#2a3f5f\"},\"baxis\":{\"endlinecolor\":\"#2a3f5f\",\"gridcolor\":\"white\",\"linecolor\":\"white\",\"minorgridcolor\":\"white\",\"startlinecolor\":\"#2a3f5f\"},\"type\":\"carpet\"}],\"choropleth\":[{\"colorbar\":{\"outlinewidth\":0,\"ticks\":\"\"},\"type\":\"choropleth\"}],\"contourcarpet\":[{\"colorbar\":{\"outlinewidth\":0,\"ticks\":\"\"},\"type\":\"contourcarpet\"}],\"contour\":[{\"colorbar\":{\"outlinewidth\":0,\"ticks\":\"\"},\"colorscale\":[[0.0,\"#0d0887\"],[0.1111111111111111,\"#46039f\"],[0.2222222222222222,\"#7201a8\"],[0.3333333333333333,\"#9c179e\"],[0.4444444444444444,\"#bd3786\"],[0.5555555555555556,\"#d8576b\"],[0.6666666666666666,\"#ed7953\"],[0.7777777777777778,\"#fb9f3a\"],[0.8888888888888888,\"#fdca26\"],[1.0,\"#f0f921\"]],\"type\":\"contour\"}],\"heatmapgl\":[{\"colorbar\":{\"outlinewidth\":0,\"ticks\":\"\"},\"colorscale\":[[0.0,\"#0d0887\"],[0.1111111111111111,\"#46039f\"],[0.2222222222222222,\"#7201a8\"],[0.3333333333333333,\"#9c179e\"],[0.4444444444444444,\"#bd3786\"],[0.5555555555555556,\"#d8576b\"],[0.6666666666666666,\"#ed7953\"],[0.7777777777777778,\"#fb9f3a\"],[0.8888888888888888,\"#fdca26\"],[1.0,\"#f0f921\"]],\"type\":\"heatmapgl\"}],\"heatmap\":[{\"colorbar\":{\"outlinewidth\":0,\"ticks\":\"\"},\"colorscale\":[[0.0,\"#0d0887\"],[0.1111111111111111,\"#46039f\"],[0.2222222222222222,\"#7201a8\"],[0.3333333333333333,\"#9c179e\"],[0.4444444444444444,\"#bd3786\"],[0.5555555555555556,\"#d8576b\"],[0.6666666666666666,\"#ed7953\"],[0.7777777777777778,\"#fb9f3a\"],[0.8888888888888888,\"#fdca26\"],[1.0,\"#f0f921\"]],\"type\":\"heatmap\"}],\"histogram2dcontour\":[{\"colorbar\":{\"outlinewidth\":0,\"ticks\":\"\"},\"colorscale\":[[0.0,\"#0d0887\"],[0.1111111111111111,\"#46039f\"],[0.2222222222222222,\"#7201a8\"],[0.3333333333333333,\"#9c179e\"],[0.4444444444444444,\"#bd3786\"],[0.5555555555555556,\"#d8576b\"],[0.6666666666666666,\"#ed7953\"],[0.7777777777777778,\"#fb9f3a\"],[0.8888888888888888,\"#fdca26\"],[1.0,\"#f0f921\"]],\"type\":\"histogram2dcontour\"}],\"histogram2d\":[{\"colorbar\":{\"outlinewidth\":0,\"ticks\":\"\"},\"colorscale\":[[0.0,\"#0d0887\"],[0.1111111111111111,\"#46039f\"],[0.2222222222222222,\"#7201a8\"],[0.3333333333333333,\"#9c179e\"],[0.4444444444444444,\"#bd3786\"],[0.5555555555555556,\"#d8576b\"],[0.6666666666666666,\"#ed7953\"],[0.7777777777777778,\"#fb9f3a\"],[0.8888888888888888,\"#fdca26\"],[1.0,\"#f0f921\"]],\"type\":\"histogram2d\"}],\"histogram\":[{\"marker\":{\"pattern\":{\"fillmode\":\"overlay\",\"size\":10,\"solidity\":0.2}},\"type\":\"histogram\"}],\"mesh3d\":[{\"colorbar\":{\"outlinewidth\":0,\"ticks\":\"\"},\"type\":\"mesh3d\"}],\"parcoords\":[{\"line\":{\"colorbar\":{\"outlinewidth\":0,\"ticks\":\"\"}},\"type\":\"parcoords\"}],\"pie\":[{\"automargin\":true,\"type\":\"pie\"}],\"scatter3d\":[{\"line\":{\"colorbar\":{\"outlinewidth\":0,\"ticks\":\"\"}},\"marker\":{\"colorbar\":{\"outlinewidth\":0,\"ticks\":\"\"}},\"type\":\"scatter3d\"}],\"scattercarpet\":[{\"marker\":{\"colorbar\":{\"outlinewidth\":0,\"ticks\":\"\"}},\"type\":\"scattercarpet\"}],\"scattergeo\":[{\"marker\":{\"colorbar\":{\"outlinewidth\":0,\"ticks\":\"\"}},\"type\":\"scattergeo\"}],\"scattergl\":[{\"marker\":{\"colorbar\":{\"outlinewidth\":0,\"ticks\":\"\"}},\"type\":\"scattergl\"}],\"scattermapbox\":[{\"marker\":{\"colorbar\":{\"outlinewidth\":0,\"ticks\":\"\"}},\"type\":\"scattermapbox\"}],\"scatterpolargl\":[{\"marker\":{\"colorbar\":{\"outlinewidth\":0,\"ticks\":\"\"}},\"type\":\"scatterpolargl\"}],\"scatterpolar\":[{\"marker\":{\"colorbar\":{\"outlinewidth\":0,\"ticks\":\"\"}},\"type\":\"scatterpolar\"}],\"scatter\":[{\"marker\":{\"colorbar\":{\"outlinewidth\":0,\"ticks\":\"\"}},\"type\":\"scatter\"}],\"scatterternary\":[{\"marker\":{\"colorbar\":{\"outlinewidth\":0,\"ticks\":\"\"}},\"type\":\"scatterternary\"}],\"surface\":[{\"colorbar\":{\"outlinewidth\":0,\"ticks\":\"\"},\"colorscale\":[[0.0,\"#0d0887\"],[0.1111111111111111,\"#46039f\"],[0.2222222222222222,\"#7201a8\"],[0.3333333333333333,\"#9c179e\"],[0.4444444444444444,\"#bd3786\"],[0.5555555555555556,\"#d8576b\"],[0.6666666666666666,\"#ed7953\"],[0.7777777777777778,\"#fb9f3a\"],[0.8888888888888888,\"#fdca26\"],[1.0,\"#f0f921\"]],\"type\":\"surface\"}],\"table\":[{\"cells\":{\"fill\":{\"color\":\"#EBF0F8\"},\"line\":{\"color\":\"white\"}},\"header\":{\"fill\":{\"color\":\"#C8D4E3\"},\"line\":{\"color\":\"white\"}},\"type\":\"table\"}]},\"layout\":{\"annotationdefaults\":{\"arrowcolor\":\"#2a3f5f\",\"arrowhead\":0,\"arrowwidth\":1},\"autotypenumbers\":\"strict\",\"coloraxis\":{\"colorbar\":{\"outlinewidth\":0,\"ticks\":\"\"}},\"colorscale\":{\"diverging\":[[0,\"#8e0152\"],[0.1,\"#c51b7d\"],[0.2,\"#de77ae\"],[0.3,\"#f1b6da\"],[0.4,\"#fde0ef\"],[0.5,\"#f7f7f7\"],[0.6,\"#e6f5d0\"],[0.7,\"#b8e186\"],[0.8,\"#7fbc41\"],[0.9,\"#4d9221\"],[1,\"#276419\"]],\"sequential\":[[0.0,\"#0d0887\"],[0.1111111111111111,\"#46039f\"],[0.2222222222222222,\"#7201a8\"],[0.3333333333333333,\"#9c179e\"],[0.4444444444444444,\"#bd3786\"],[0.5555555555555556,\"#d8576b\"],[0.6666666666666666,\"#ed7953\"],[0.7777777777777778,\"#fb9f3a\"],[0.8888888888888888,\"#fdca26\"],[1.0,\"#f0f921\"]],\"sequentialminus\":[[0.0,\"#0d0887\"],[0.1111111111111111,\"#46039f\"],[0.2222222222222222,\"#7201a8\"],[0.3333333333333333,\"#9c179e\"],[0.4444444444444444,\"#bd3786\"],[0.5555555555555556,\"#d8576b\"],[0.6666666666666666,\"#ed7953\"],[0.7777777777777778,\"#fb9f3a\"],[0.8888888888888888,\"#fdca26\"],[1.0,\"#f0f921\"]]},\"colorway\":[\"#636efa\",\"#EF553B\",\"#00cc96\",\"#ab63fa\",\"#FFA15A\",\"#19d3f3\",\"#FF6692\",\"#B6E880\",\"#FF97FF\",\"#FECB52\"],\"font\":{\"color\":\"#2a3f5f\"},\"geo\":{\"bgcolor\":\"white\",\"lakecolor\":\"white\",\"landcolor\":\"#E5ECF6\",\"showlakes\":true,\"showland\":true,\"subunitcolor\":\"white\"},\"hoverlabel\":{\"align\":\"left\"},\"hovermode\":\"closest\",\"mapbox\":{\"style\":\"light\"},\"paper_bgcolor\":\"white\",\"plot_bgcolor\":\"#E5ECF6\",\"polar\":{\"angularaxis\":{\"gridcolor\":\"white\",\"linecolor\":\"white\",\"ticks\":\"\"},\"bgcolor\":\"#E5ECF6\",\"radialaxis\":{\"gridcolor\":\"white\",\"linecolor\":\"white\",\"ticks\":\"\"}},\"scene\":{\"xaxis\":{\"backgroundcolor\":\"#E5ECF6\",\"gridcolor\":\"white\",\"gridwidth\":2,\"linecolor\":\"white\",\"showbackground\":true,\"ticks\":\"\",\"zerolinecolor\":\"white\"},\"yaxis\":{\"backgroundcolor\":\"#E5ECF6\",\"gridcolor\":\"white\",\"gridwidth\":2,\"linecolor\":\"white\",\"showbackground\":true,\"ticks\":\"\",\"zerolinecolor\":\"white\"},\"zaxis\":{\"backgroundcolor\":\"#E5ECF6\",\"gridcolor\":\"white\",\"gridwidth\":2,\"linecolor\":\"white\",\"showbackground\":true,\"ticks\":\"\",\"zerolinecolor\":\"white\"}},\"shapedefaults\":{\"line\":{\"color\":\"#2a3f5f\"}},\"ternary\":{\"aaxis\":{\"gridcolor\":\"white\",\"linecolor\":\"white\",\"ticks\":\"\"},\"baxis\":{\"gridcolor\":\"white\",\"linecolor\":\"white\",\"ticks\":\"\"},\"bgcolor\":\"#E5ECF6\",\"caxis\":{\"gridcolor\":\"white\",\"linecolor\":\"white\",\"ticks\":\"\"}},\"title\":{\"x\":0.05},\"xaxis\":{\"automargin\":true,\"gridcolor\":\"white\",\"linecolor\":\"white\",\"ticks\":\"\",\"title\":{\"standoff\":15},\"zerolinecolor\":\"white\",\"zerolinewidth\":2},\"yaxis\":{\"automargin\":true,\"gridcolor\":\"white\",\"linecolor\":\"white\",\"ticks\":\"\",\"title\":{\"standoff\":15},\"zerolinecolor\":\"white\",\"zerolinewidth\":2}}},\"title\":{\"font\":{\"color\":\"#4D5663\"}},\"xaxis\":{\"gridcolor\":\"#E1E5ED\",\"showgrid\":true,\"tickfont\":{\"color\":\"#4D5663\"},\"title\":{\"font\":{\"color\":\"#4D5663\"},\"text\":\"\"},\"zerolinecolor\":\"#E1E5ED\"},\"yaxis\":{\"gridcolor\":\"#E1E5ED\",\"showgrid\":true,\"tickfont\":{\"color\":\"#4D5663\"},\"title\":{\"font\":{\"color\":\"#4D5663\"},\"text\":\"\"},\"zerolinecolor\":\"#E1E5ED\"}},                        {\"showLink\": true, \"linkText\": \"Export to plot.ly\", \"plotlyServerURL\": \"https://plot.ly\", \"responsive\": true}                    ).then(function(){\n",
       "                            \n",
       "var gd = document.getElementById('1a6b750f-f1f3-4301-a3e4-76c81394bb4f');\n",
       "var x = new MutationObserver(function (mutations, observer) {{\n",
       "        var display = window.getComputedStyle(gd).display;\n",
       "        if (!display || display === 'none') {{\n",
       "            console.log([gd, 'removed!']);\n",
       "            Plotly.purge(gd);\n",
       "            observer.disconnect();\n",
       "        }}\n",
       "}});\n",
       "\n",
       "// Listen for the removal of the full notebook cells\n",
       "var notebookContainer = gd.closest('#notebook-container');\n",
       "if (notebookContainer) {{\n",
       "    x.observe(notebookContainer, {childList: true});\n",
       "}}\n",
       "\n",
       "// Listen for the clearing of the current output cell\n",
       "var outputEl = gd.closest('.output');\n",
       "if (outputEl) {{\n",
       "    x.observe(outputEl, {childList: true});\n",
       "}}\n",
       "\n",
       "                        })                };                });            </script>        </div>"
      ]
     },
     "metadata": {},
     "output_type": "display_data"
    }
   ],
   "source": [
    "df1.iplot(kind='bubble',x='A',y='B',size='C')\n",
    "# without specifying the colors "
   ]
  },
  {
   "cell_type": "code",
   "execution_count": 48,
   "id": "b2f55e5c",
   "metadata": {},
   "outputs": [
    {
     "data": {
      "application/vnd.plotly.v1+json": {
       "config": {
        "linkText": "Export to plot.ly",
        "plotlyServerURL": "https://plot.ly",
        "showLink": true
       },
       "data": [
        {
         "marker": {
          "color": [
           "orange",
           "orange",
           "orange",
           "orange",
           "orange",
           "orange",
           "orange",
           "orange",
           "orange",
           "orange",
           "orange",
           "orange",
           "orange",
           "orange",
           "orange",
           "orange",
           "orange",
           "orange",
           "orange",
           "orange",
           "orange",
           "orange",
           "orange",
           "orange",
           "orange",
           "orange",
           "orange",
           "orange",
           "orange",
           "orange",
           "orange",
           "orange",
           "orange",
           "orange",
           "orange",
           "orange",
           "orange",
           "orange",
           "orange",
           "orange",
           "orange",
           "orange",
           "orange",
           "orange",
           "orange",
           "orange",
           "orange",
           "orange",
           "orange",
           "orange",
           "orange",
           "orange",
           "orange",
           "orange",
           "orange",
           "orange",
           "orange",
           "orange",
           "orange",
           "orange",
           "orange",
           "orange",
           "orange",
           "orange",
           "orange",
           "orange",
           "orange",
           "orange",
           "orange",
           "orange",
           "orange",
           "orange",
           "orange",
           "orange",
           "orange",
           "orange",
           "orange",
           "orange",
           "orange",
           "orange",
           "orange",
           "orange",
           "orange",
           "orange",
           "orange",
           "orange",
           "orange",
           "orange",
           "orange",
           "orange",
           "orange",
           "orange",
           "orange",
           "orange",
           "orange",
           "orange",
           "orange",
           "orange",
           "orange",
           "orange"
          ],
          "line": {
           "width": 1.3
          },
          "size": [
           42,
           66,
           46,
           59,
           63,
           32,
           55,
           112,
           62,
           25,
           36,
           42,
           31,
           70,
           100,
           48,
           55,
           85,
           58,
           59,
           29,
           42,
           74,
           22,
           51,
           41,
           94,
           38,
           56,
           77,
           37,
           18,
           46,
           59,
           38,
           65,
           74,
           58,
           54,
           71,
           22,
           55,
           14,
           78,
           37,
           47,
           12,
           96,
           98,
           44,
           53,
           66,
           28,
           68,
           68,
           39,
           20,
           57,
           46,
           16,
           37,
           60,
           64,
           62,
           70,
           64,
           61,
           84,
           80,
           20,
           41,
           63,
           58,
           52,
           64,
           37,
           89,
           40,
           103,
           71,
           74,
           43,
           15,
           53,
           48,
           59,
           41,
           48,
           57,
           59,
           51,
           67,
           43,
           74,
           73,
           48,
           41,
           84,
           58,
           78
          ],
          "symbol": "circle"
         },
         "mode": "markers",
         "text": "",
         "type": "scatter",
         "x": [
          -2.0179175343734688,
          0.9233803166017815,
          1.0222921258112883,
          -1.5427079018271743,
          0.9534677415959142,
          1.6139729466741866,
          -0.49068513401485064,
          0.6406132073703192,
          0.18167756204418314,
          -0.9019463260024844,
          1.1277902478070898,
          -0.5492318874813171,
          0.40254477215755796,
          0.20456328644346478,
          0.8484682084553806,
          1.598340262193149,
          -0.3885036558297409,
          0.7669440765048724,
          0.5721831877604494,
          -0.35869921119774845,
          1.275872979836392,
          -1.5377322892971523,
          0.9397524846531856,
          1.2378549284154148,
          0.45562500468005257,
          1.9220064474824583,
          0.3788446677627523,
          -1.6272530974099786,
          1.548747250020298,
          0.35367122733264206,
          -1.6023537985805665,
          -0.2743189849606666,
          1.6451749536118985,
          0.7660625343797965,
          -0.6551561273192944,
          2.2894165994992624,
          -0.30049348682681154,
          -0.1426257921945078,
          -0.3509331819696133,
          0.8066088439981102,
          -0.8190431907381289,
          0.33839591532473734,
          0.029153055130530316,
          0.04075026670195348,
          0.9095559195154234,
          -0.45874347933067305,
          0.23720429403928597,
          1.8818167393804857,
          -1.226472966530045,
          1.0222059444120426,
          0.786664742156235,
          -0.856175743606393,
          -1.2967015187714002,
          -1.3397627343890512,
          -0.7740855332934843,
          -2.0651785264446603,
          -0.43263697200185763,
          -0.13962494342840498,
          1.0979198353286066,
          -2.5008648450355797,
          0.7363401239497037,
          -1.70332552593329,
          -0.3906840182946408,
          -0.6357483053025298,
          -1.9455432716535508,
          -0.5398111243240811,
          -0.567472688932623,
          -0.6141447633033629,
          0.8011189183895611,
          -1.2128507855740867,
          -0.37599186611637914,
          1.4623963889164369,
          -0.7631731022882191,
          -0.49931213287490084,
          2.2156779881392468,
          -0.22361959827960393,
          -0.18881355505333997,
          0.1563814679055965,
          -0.04432271649482479,
          0.8444078862992042,
          1.262089825064193,
          1.409022756908488,
          -0.8371506916682264,
          -0.19411419725649035,
          1.3917668500786569,
          -0.10654778503241351,
          0.5073768369051679,
          -2.3983216306246313,
          1.100498582230519,
          -0.8995606298174025,
          -0.6816405917690144,
          0.6642734688092117,
          0.3118612734468044,
          1.2364404904823296,
          1.5917519675688976,
          1.248130459217827,
          1.1785659741667693,
          0.7177544645767607,
          -1.0558469610199113,
          1.6382365853024183
         ],
         "y": [
          2.395950167703243,
          0.4011665790160146,
          -0.5052385387154442,
          -0.3942371566252391,
          -0.21364305021911828,
          0.43594532497191135,
          0.6259224234031222,
          0.185412186044443,
          -0.6480451046733444,
          -0.8073701561029344,
          0.3086398159337038,
          0.40896197444841126,
          -0.1496317018826678,
          0.008520897127094368,
          -0.37877268064955,
          1.2535502967513548,
          -0.8177967117036561,
          -0.04946135797232314,
          -0.7183013023150779,
          -1.3447272277949869,
          0.41260120152215496,
          1.33359903067863,
          0.3671958190478347,
          0.8236499541071457,
          2.3347971433163424,
          -0.5771650158144527,
          -0.2251481350890585,
          -0.9435813597330984,
          0.8453434644325502,
          -0.21978075472742842,
          0.12090913168294705,
          1.3238965924999886,
          -1.242242230242268,
          -1.767118741764655,
          -1.039313253025596,
          -1.3642511383582916,
          2.018414865068438,
          0.9965547242299222,
          -0.19942697072610457,
          -1.1706562780182612,
          -0.5595449835820688,
          1.151778463952504,
          -1.143226604397329,
          -0.663554837473901,
          -0.3527941140626611,
          -0.3970287607005498,
          0.06988660301060044,
          -0.40904957810275894,
          1.2239473808056882,
          1.4503012453471353,
          -0.7099546586223381,
          0.1955292008469326,
          -0.9682868269540975,
          -0.6066626776294081,
          1.1271596955346652,
          -0.06980868330920874,
          1.2501046888418872,
          -0.7711144899188074,
          1.00068801591415,
          -0.30428583621033645,
          -0.5699992904635901,
          -1.1394997915954335,
          -1.3178505709741983,
          -0.5362050779147439,
          -1.0081773680965436,
          1.7769241713514654,
          -1.7573616768732496,
          -1.4171193570499716,
          1.9335299038258698,
          -0.08421774918244486,
          -0.3712113381043379,
          1.0037717622849058,
          -0.7649009639855259,
          0.8067863038735369,
          0.73994466595083,
          1.6230867298471527,
          0.36667123116095157,
          0.38490337507613426,
          -1.1667875323245254,
          1.1022912167479761,
          0.036114867420814295,
          0.21253242351549598,
          -1.0133323362101818,
          -0.045069781891611274,
          0.8566552134265603,
          -1.9136470404042818,
          1.2980627554809563,
          -0.359342519582086,
          -2.7620029335220795,
          -0.18996686862109757,
          0.01672937162273757,
          -0.5646206196563005,
          1.80341766720294,
          2.2834787562600174,
          -0.5206495440594276,
          0.0014904575692281095,
          -0.37866407377310024,
          -0.3283192827529023,
          0.48484304460629934,
          -0.803938936523087
         ]
        }
       ],
       "layout": {
        "legend": {
         "bgcolor": "#F5F6F9",
         "font": {
          "color": "#4D5663"
         }
        },
        "paper_bgcolor": "#F5F6F9",
        "plot_bgcolor": "#F5F6F9",
        "template": {
         "data": {
          "bar": [
           {
            "error_x": {
             "color": "#2a3f5f"
            },
            "error_y": {
             "color": "#2a3f5f"
            },
            "marker": {
             "line": {
              "color": "#E5ECF6",
              "width": 0.5
             },
             "pattern": {
              "fillmode": "overlay",
              "size": 10,
              "solidity": 0.2
             }
            },
            "type": "bar"
           }
          ],
          "barpolar": [
           {
            "marker": {
             "line": {
              "color": "#E5ECF6",
              "width": 0.5
             },
             "pattern": {
              "fillmode": "overlay",
              "size": 10,
              "solidity": 0.2
             }
            },
            "type": "barpolar"
           }
          ],
          "carpet": [
           {
            "aaxis": {
             "endlinecolor": "#2a3f5f",
             "gridcolor": "white",
             "linecolor": "white",
             "minorgridcolor": "white",
             "startlinecolor": "#2a3f5f"
            },
            "baxis": {
             "endlinecolor": "#2a3f5f",
             "gridcolor": "white",
             "linecolor": "white",
             "minorgridcolor": "white",
             "startlinecolor": "#2a3f5f"
            },
            "type": "carpet"
           }
          ],
          "choropleth": [
           {
            "colorbar": {
             "outlinewidth": 0,
             "ticks": ""
            },
            "type": "choropleth"
           }
          ],
          "contour": [
           {
            "colorbar": {
             "outlinewidth": 0,
             "ticks": ""
            },
            "colorscale": [
             [
              0,
              "#0d0887"
             ],
             [
              0.1111111111111111,
              "#46039f"
             ],
             [
              0.2222222222222222,
              "#7201a8"
             ],
             [
              0.3333333333333333,
              "#9c179e"
             ],
             [
              0.4444444444444444,
              "#bd3786"
             ],
             [
              0.5555555555555556,
              "#d8576b"
             ],
             [
              0.6666666666666666,
              "#ed7953"
             ],
             [
              0.7777777777777778,
              "#fb9f3a"
             ],
             [
              0.8888888888888888,
              "#fdca26"
             ],
             [
              1,
              "#f0f921"
             ]
            ],
            "type": "contour"
           }
          ],
          "contourcarpet": [
           {
            "colorbar": {
             "outlinewidth": 0,
             "ticks": ""
            },
            "type": "contourcarpet"
           }
          ],
          "heatmap": [
           {
            "colorbar": {
             "outlinewidth": 0,
             "ticks": ""
            },
            "colorscale": [
             [
              0,
              "#0d0887"
             ],
             [
              0.1111111111111111,
              "#46039f"
             ],
             [
              0.2222222222222222,
              "#7201a8"
             ],
             [
              0.3333333333333333,
              "#9c179e"
             ],
             [
              0.4444444444444444,
              "#bd3786"
             ],
             [
              0.5555555555555556,
              "#d8576b"
             ],
             [
              0.6666666666666666,
              "#ed7953"
             ],
             [
              0.7777777777777778,
              "#fb9f3a"
             ],
             [
              0.8888888888888888,
              "#fdca26"
             ],
             [
              1,
              "#f0f921"
             ]
            ],
            "type": "heatmap"
           }
          ],
          "heatmapgl": [
           {
            "colorbar": {
             "outlinewidth": 0,
             "ticks": ""
            },
            "colorscale": [
             [
              0,
              "#0d0887"
             ],
             [
              0.1111111111111111,
              "#46039f"
             ],
             [
              0.2222222222222222,
              "#7201a8"
             ],
             [
              0.3333333333333333,
              "#9c179e"
             ],
             [
              0.4444444444444444,
              "#bd3786"
             ],
             [
              0.5555555555555556,
              "#d8576b"
             ],
             [
              0.6666666666666666,
              "#ed7953"
             ],
             [
              0.7777777777777778,
              "#fb9f3a"
             ],
             [
              0.8888888888888888,
              "#fdca26"
             ],
             [
              1,
              "#f0f921"
             ]
            ],
            "type": "heatmapgl"
           }
          ],
          "histogram": [
           {
            "marker": {
             "pattern": {
              "fillmode": "overlay",
              "size": 10,
              "solidity": 0.2
             }
            },
            "type": "histogram"
           }
          ],
          "histogram2d": [
           {
            "colorbar": {
             "outlinewidth": 0,
             "ticks": ""
            },
            "colorscale": [
             [
              0,
              "#0d0887"
             ],
             [
              0.1111111111111111,
              "#46039f"
             ],
             [
              0.2222222222222222,
              "#7201a8"
             ],
             [
              0.3333333333333333,
              "#9c179e"
             ],
             [
              0.4444444444444444,
              "#bd3786"
             ],
             [
              0.5555555555555556,
              "#d8576b"
             ],
             [
              0.6666666666666666,
              "#ed7953"
             ],
             [
              0.7777777777777778,
              "#fb9f3a"
             ],
             [
              0.8888888888888888,
              "#fdca26"
             ],
             [
              1,
              "#f0f921"
             ]
            ],
            "type": "histogram2d"
           }
          ],
          "histogram2dcontour": [
           {
            "colorbar": {
             "outlinewidth": 0,
             "ticks": ""
            },
            "colorscale": [
             [
              0,
              "#0d0887"
             ],
             [
              0.1111111111111111,
              "#46039f"
             ],
             [
              0.2222222222222222,
              "#7201a8"
             ],
             [
              0.3333333333333333,
              "#9c179e"
             ],
             [
              0.4444444444444444,
              "#bd3786"
             ],
             [
              0.5555555555555556,
              "#d8576b"
             ],
             [
              0.6666666666666666,
              "#ed7953"
             ],
             [
              0.7777777777777778,
              "#fb9f3a"
             ],
             [
              0.8888888888888888,
              "#fdca26"
             ],
             [
              1,
              "#f0f921"
             ]
            ],
            "type": "histogram2dcontour"
           }
          ],
          "mesh3d": [
           {
            "colorbar": {
             "outlinewidth": 0,
             "ticks": ""
            },
            "type": "mesh3d"
           }
          ],
          "parcoords": [
           {
            "line": {
             "colorbar": {
              "outlinewidth": 0,
              "ticks": ""
             }
            },
            "type": "parcoords"
           }
          ],
          "pie": [
           {
            "automargin": true,
            "type": "pie"
           }
          ],
          "scatter": [
           {
            "marker": {
             "colorbar": {
              "outlinewidth": 0,
              "ticks": ""
             }
            },
            "type": "scatter"
           }
          ],
          "scatter3d": [
           {
            "line": {
             "colorbar": {
              "outlinewidth": 0,
              "ticks": ""
             }
            },
            "marker": {
             "colorbar": {
              "outlinewidth": 0,
              "ticks": ""
             }
            },
            "type": "scatter3d"
           }
          ],
          "scattercarpet": [
           {
            "marker": {
             "colorbar": {
              "outlinewidth": 0,
              "ticks": ""
             }
            },
            "type": "scattercarpet"
           }
          ],
          "scattergeo": [
           {
            "marker": {
             "colorbar": {
              "outlinewidth": 0,
              "ticks": ""
             }
            },
            "type": "scattergeo"
           }
          ],
          "scattergl": [
           {
            "marker": {
             "colorbar": {
              "outlinewidth": 0,
              "ticks": ""
             }
            },
            "type": "scattergl"
           }
          ],
          "scattermapbox": [
           {
            "marker": {
             "colorbar": {
              "outlinewidth": 0,
              "ticks": ""
             }
            },
            "type": "scattermapbox"
           }
          ],
          "scatterpolar": [
           {
            "marker": {
             "colorbar": {
              "outlinewidth": 0,
              "ticks": ""
             }
            },
            "type": "scatterpolar"
           }
          ],
          "scatterpolargl": [
           {
            "marker": {
             "colorbar": {
              "outlinewidth": 0,
              "ticks": ""
             }
            },
            "type": "scatterpolargl"
           }
          ],
          "scatterternary": [
           {
            "marker": {
             "colorbar": {
              "outlinewidth": 0,
              "ticks": ""
             }
            },
            "type": "scatterternary"
           }
          ],
          "surface": [
           {
            "colorbar": {
             "outlinewidth": 0,
             "ticks": ""
            },
            "colorscale": [
             [
              0,
              "#0d0887"
             ],
             [
              0.1111111111111111,
              "#46039f"
             ],
             [
              0.2222222222222222,
              "#7201a8"
             ],
             [
              0.3333333333333333,
              "#9c179e"
             ],
             [
              0.4444444444444444,
              "#bd3786"
             ],
             [
              0.5555555555555556,
              "#d8576b"
             ],
             [
              0.6666666666666666,
              "#ed7953"
             ],
             [
              0.7777777777777778,
              "#fb9f3a"
             ],
             [
              0.8888888888888888,
              "#fdca26"
             ],
             [
              1,
              "#f0f921"
             ]
            ],
            "type": "surface"
           }
          ],
          "table": [
           {
            "cells": {
             "fill": {
              "color": "#EBF0F8"
             },
             "line": {
              "color": "white"
             }
            },
            "header": {
             "fill": {
              "color": "#C8D4E3"
             },
             "line": {
              "color": "white"
             }
            },
            "type": "table"
           }
          ]
         },
         "layout": {
          "annotationdefaults": {
           "arrowcolor": "#2a3f5f",
           "arrowhead": 0,
           "arrowwidth": 1
          },
          "autotypenumbers": "strict",
          "coloraxis": {
           "colorbar": {
            "outlinewidth": 0,
            "ticks": ""
           }
          },
          "colorscale": {
           "diverging": [
            [
             0,
             "#8e0152"
            ],
            [
             0.1,
             "#c51b7d"
            ],
            [
             0.2,
             "#de77ae"
            ],
            [
             0.3,
             "#f1b6da"
            ],
            [
             0.4,
             "#fde0ef"
            ],
            [
             0.5,
             "#f7f7f7"
            ],
            [
             0.6,
             "#e6f5d0"
            ],
            [
             0.7,
             "#b8e186"
            ],
            [
             0.8,
             "#7fbc41"
            ],
            [
             0.9,
             "#4d9221"
            ],
            [
             1,
             "#276419"
            ]
           ],
           "sequential": [
            [
             0,
             "#0d0887"
            ],
            [
             0.1111111111111111,
             "#46039f"
            ],
            [
             0.2222222222222222,
             "#7201a8"
            ],
            [
             0.3333333333333333,
             "#9c179e"
            ],
            [
             0.4444444444444444,
             "#bd3786"
            ],
            [
             0.5555555555555556,
             "#d8576b"
            ],
            [
             0.6666666666666666,
             "#ed7953"
            ],
            [
             0.7777777777777778,
             "#fb9f3a"
            ],
            [
             0.8888888888888888,
             "#fdca26"
            ],
            [
             1,
             "#f0f921"
            ]
           ],
           "sequentialminus": [
            [
             0,
             "#0d0887"
            ],
            [
             0.1111111111111111,
             "#46039f"
            ],
            [
             0.2222222222222222,
             "#7201a8"
            ],
            [
             0.3333333333333333,
             "#9c179e"
            ],
            [
             0.4444444444444444,
             "#bd3786"
            ],
            [
             0.5555555555555556,
             "#d8576b"
            ],
            [
             0.6666666666666666,
             "#ed7953"
            ],
            [
             0.7777777777777778,
             "#fb9f3a"
            ],
            [
             0.8888888888888888,
             "#fdca26"
            ],
            [
             1,
             "#f0f921"
            ]
           ]
          },
          "colorway": [
           "#636efa",
           "#EF553B",
           "#00cc96",
           "#ab63fa",
           "#FFA15A",
           "#19d3f3",
           "#FF6692",
           "#B6E880",
           "#FF97FF",
           "#FECB52"
          ],
          "font": {
           "color": "#2a3f5f"
          },
          "geo": {
           "bgcolor": "white",
           "lakecolor": "white",
           "landcolor": "#E5ECF6",
           "showlakes": true,
           "showland": true,
           "subunitcolor": "white"
          },
          "hoverlabel": {
           "align": "left"
          },
          "hovermode": "closest",
          "mapbox": {
           "style": "light"
          },
          "paper_bgcolor": "white",
          "plot_bgcolor": "#E5ECF6",
          "polar": {
           "angularaxis": {
            "gridcolor": "white",
            "linecolor": "white",
            "ticks": ""
           },
           "bgcolor": "#E5ECF6",
           "radialaxis": {
            "gridcolor": "white",
            "linecolor": "white",
            "ticks": ""
           }
          },
          "scene": {
           "xaxis": {
            "backgroundcolor": "#E5ECF6",
            "gridcolor": "white",
            "gridwidth": 2,
            "linecolor": "white",
            "showbackground": true,
            "ticks": "",
            "zerolinecolor": "white"
           },
           "yaxis": {
            "backgroundcolor": "#E5ECF6",
            "gridcolor": "white",
            "gridwidth": 2,
            "linecolor": "white",
            "showbackground": true,
            "ticks": "",
            "zerolinecolor": "white"
           },
           "zaxis": {
            "backgroundcolor": "#E5ECF6",
            "gridcolor": "white",
            "gridwidth": 2,
            "linecolor": "white",
            "showbackground": true,
            "ticks": "",
            "zerolinecolor": "white"
           }
          },
          "shapedefaults": {
           "line": {
            "color": "#2a3f5f"
           }
          },
          "ternary": {
           "aaxis": {
            "gridcolor": "white",
            "linecolor": "white",
            "ticks": ""
           },
           "baxis": {
            "gridcolor": "white",
            "linecolor": "white",
            "ticks": ""
           },
           "bgcolor": "#E5ECF6",
           "caxis": {
            "gridcolor": "white",
            "linecolor": "white",
            "ticks": ""
           }
          },
          "title": {
           "x": 0.05
          },
          "xaxis": {
           "automargin": true,
           "gridcolor": "white",
           "linecolor": "white",
           "ticks": "",
           "title": {
            "standoff": 15
           },
           "zerolinecolor": "white",
           "zerolinewidth": 2
          },
          "yaxis": {
           "automargin": true,
           "gridcolor": "white",
           "linecolor": "white",
           "ticks": "",
           "title": {
            "standoff": 15
           },
           "zerolinecolor": "white",
           "zerolinewidth": 2
          }
         }
        },
        "title": {
         "font": {
          "color": "#4D5663"
         }
        },
        "xaxis": {
         "gridcolor": "#E1E5ED",
         "showgrid": true,
         "tickfont": {
          "color": "#4D5663"
         },
         "title": {
          "font": {
           "color": "#4D5663"
          },
          "text": ""
         },
         "zerolinecolor": "#E1E5ED"
        },
        "yaxis": {
         "gridcolor": "#E1E5ED",
         "showgrid": true,
         "tickfont": {
          "color": "#4D5663"
         },
         "title": {
          "font": {
           "color": "#4D5663"
          },
          "text": ""
         },
         "zerolinecolor": "#E1E5ED"
        }
       }
      },
      "text/html": [
       "<div>                            <div id=\"b31c78aa-d50a-43f5-a14c-14f0f2bd4c6b\" class=\"plotly-graph-div\" style=\"height:525px; width:100%;\"></div>            <script type=\"text/javascript\">                require([\"plotly\"], function(Plotly) {                    window.PLOTLYENV=window.PLOTLYENV || {};\n",
       "                    window.PLOTLYENV.BASE_URL='https://plot.ly';                                    if (document.getElementById(\"b31c78aa-d50a-43f5-a14c-14f0f2bd4c6b\")) {                    Plotly.newPlot(                        \"b31c78aa-d50a-43f5-a14c-14f0f2bd4c6b\",                        [{\"marker\":{\"color\":[\"orange\",\"orange\",\"orange\",\"orange\",\"orange\",\"orange\",\"orange\",\"orange\",\"orange\",\"orange\",\"orange\",\"orange\",\"orange\",\"orange\",\"orange\",\"orange\",\"orange\",\"orange\",\"orange\",\"orange\",\"orange\",\"orange\",\"orange\",\"orange\",\"orange\",\"orange\",\"orange\",\"orange\",\"orange\",\"orange\",\"orange\",\"orange\",\"orange\",\"orange\",\"orange\",\"orange\",\"orange\",\"orange\",\"orange\",\"orange\",\"orange\",\"orange\",\"orange\",\"orange\",\"orange\",\"orange\",\"orange\",\"orange\",\"orange\",\"orange\",\"orange\",\"orange\",\"orange\",\"orange\",\"orange\",\"orange\",\"orange\",\"orange\",\"orange\",\"orange\",\"orange\",\"orange\",\"orange\",\"orange\",\"orange\",\"orange\",\"orange\",\"orange\",\"orange\",\"orange\",\"orange\",\"orange\",\"orange\",\"orange\",\"orange\",\"orange\",\"orange\",\"orange\",\"orange\",\"orange\",\"orange\",\"orange\",\"orange\",\"orange\",\"orange\",\"orange\",\"orange\",\"orange\",\"orange\",\"orange\",\"orange\",\"orange\",\"orange\",\"orange\",\"orange\",\"orange\",\"orange\",\"orange\",\"orange\",\"orange\"],\"line\":{\"width\":1.3},\"size\":[42,66,46,59,63,32,55,112,62,25,36,42,31,70,100,48,55,85,58,59,29,42,74,22,51,41,94,38,56,77,37,18,46,59,38,65,74,58,54,71,22,55,14,78,37,47,12,96,98,44,53,66,28,68,68,39,20,57,46,16,37,60,64,62,70,64,61,84,80,20,41,63,58,52,64,37,89,40,103,71,74,43,15,53,48,59,41,48,57,59,51,67,43,74,73,48,41,84,58,78],\"symbol\":\"circle\"},\"mode\":\"markers\",\"text\":\"\",\"x\":[-2.0179175343734688,0.9233803166017815,1.0222921258112883,-1.5427079018271743,0.9534677415959142,1.6139729466741866,-0.49068513401485064,0.6406132073703192,0.18167756204418314,-0.9019463260024844,1.1277902478070898,-0.5492318874813171,0.40254477215755796,0.20456328644346478,0.8484682084553806,1.598340262193149,-0.3885036558297409,0.7669440765048724,0.5721831877604494,-0.35869921119774845,1.275872979836392,-1.5377322892971523,0.9397524846531856,1.2378549284154148,0.45562500468005257,1.9220064474824583,0.3788446677627523,-1.6272530974099786,1.548747250020298,0.35367122733264206,-1.6023537985805665,-0.2743189849606666,1.6451749536118985,0.7660625343797965,-0.6551561273192944,2.2894165994992624,-0.30049348682681154,-0.1426257921945078,-0.3509331819696133,0.8066088439981102,-0.8190431907381289,0.33839591532473734,0.029153055130530316,0.04075026670195348,0.9095559195154234,-0.45874347933067305,0.23720429403928597,1.8818167393804857,-1.226472966530045,1.0222059444120426,0.786664742156235,-0.856175743606393,-1.2967015187714002,-1.3397627343890512,-0.7740855332934843,-2.0651785264446603,-0.43263697200185763,-0.13962494342840498,1.0979198353286066,-2.5008648450355797,0.7363401239497037,-1.70332552593329,-0.3906840182946408,-0.6357483053025298,-1.9455432716535508,-0.5398111243240811,-0.567472688932623,-0.6141447633033629,0.8011189183895611,-1.2128507855740867,-0.37599186611637914,1.4623963889164369,-0.7631731022882191,-0.49931213287490084,2.2156779881392468,-0.22361959827960393,-0.18881355505333997,0.1563814679055965,-0.04432271649482479,0.8444078862992042,1.262089825064193,1.409022756908488,-0.8371506916682264,-0.19411419725649035,1.3917668500786569,-0.10654778503241351,0.5073768369051679,-2.3983216306246313,1.100498582230519,-0.8995606298174025,-0.6816405917690144,0.6642734688092117,0.3118612734468044,1.2364404904823296,1.5917519675688976,1.248130459217827,1.1785659741667693,0.7177544645767607,-1.0558469610199113,1.6382365853024183],\"y\":[2.395950167703243,0.4011665790160146,-0.5052385387154442,-0.3942371566252391,-0.21364305021911828,0.43594532497191135,0.6259224234031222,0.185412186044443,-0.6480451046733444,-0.8073701561029344,0.3086398159337038,0.40896197444841126,-0.1496317018826678,0.008520897127094368,-0.37877268064955,1.2535502967513548,-0.8177967117036561,-0.04946135797232314,-0.7183013023150779,-1.3447272277949869,0.41260120152215496,1.33359903067863,0.3671958190478347,0.8236499541071457,2.3347971433163424,-0.5771650158144527,-0.2251481350890585,-0.9435813597330984,0.8453434644325502,-0.21978075472742842,0.12090913168294705,1.3238965924999886,-1.242242230242268,-1.767118741764655,-1.039313253025596,-1.3642511383582916,2.018414865068438,0.9965547242299222,-0.19942697072610457,-1.1706562780182612,-0.5595449835820688,1.151778463952504,-1.143226604397329,-0.663554837473901,-0.3527941140626611,-0.3970287607005498,0.06988660301060044,-0.40904957810275894,1.2239473808056882,1.4503012453471353,-0.7099546586223381,0.1955292008469326,-0.9682868269540975,-0.6066626776294081,1.1271596955346652,-0.06980868330920874,1.2501046888418872,-0.7711144899188074,1.00068801591415,-0.30428583621033645,-0.5699992904635901,-1.1394997915954335,-1.3178505709741983,-0.5362050779147439,-1.0081773680965436,1.7769241713514654,-1.7573616768732496,-1.4171193570499716,1.9335299038258698,-0.08421774918244486,-0.3712113381043379,1.0037717622849058,-0.7649009639855259,0.8067863038735369,0.73994466595083,1.6230867298471527,0.36667123116095157,0.38490337507613426,-1.1667875323245254,1.1022912167479761,0.036114867420814295,0.21253242351549598,-1.0133323362101818,-0.045069781891611274,0.8566552134265603,-1.9136470404042818,1.2980627554809563,-0.359342519582086,-2.7620029335220795,-0.18996686862109757,0.01672937162273757,-0.5646206196563005,1.80341766720294,2.2834787562600174,-0.5206495440594276,0.0014904575692281095,-0.37866407377310024,-0.3283192827529023,0.48484304460629934,-0.803938936523087],\"type\":\"scatter\"}],                        {\"legend\":{\"bgcolor\":\"#F5F6F9\",\"font\":{\"color\":\"#4D5663\"}},\"paper_bgcolor\":\"#F5F6F9\",\"plot_bgcolor\":\"#F5F6F9\",\"template\":{\"data\":{\"barpolar\":[{\"marker\":{\"line\":{\"color\":\"#E5ECF6\",\"width\":0.5},\"pattern\":{\"fillmode\":\"overlay\",\"size\":10,\"solidity\":0.2}},\"type\":\"barpolar\"}],\"bar\":[{\"error_x\":{\"color\":\"#2a3f5f\"},\"error_y\":{\"color\":\"#2a3f5f\"},\"marker\":{\"line\":{\"color\":\"#E5ECF6\",\"width\":0.5},\"pattern\":{\"fillmode\":\"overlay\",\"size\":10,\"solidity\":0.2}},\"type\":\"bar\"}],\"carpet\":[{\"aaxis\":{\"endlinecolor\":\"#2a3f5f\",\"gridcolor\":\"white\",\"linecolor\":\"white\",\"minorgridcolor\":\"white\",\"startlinecolor\":\"#2a3f5f\"},\"baxis\":{\"endlinecolor\":\"#2a3f5f\",\"gridcolor\":\"white\",\"linecolor\":\"white\",\"minorgridcolor\":\"white\",\"startlinecolor\":\"#2a3f5f\"},\"type\":\"carpet\"}],\"choropleth\":[{\"colorbar\":{\"outlinewidth\":0,\"ticks\":\"\"},\"type\":\"choropleth\"}],\"contourcarpet\":[{\"colorbar\":{\"outlinewidth\":0,\"ticks\":\"\"},\"type\":\"contourcarpet\"}],\"contour\":[{\"colorbar\":{\"outlinewidth\":0,\"ticks\":\"\"},\"colorscale\":[[0.0,\"#0d0887\"],[0.1111111111111111,\"#46039f\"],[0.2222222222222222,\"#7201a8\"],[0.3333333333333333,\"#9c179e\"],[0.4444444444444444,\"#bd3786\"],[0.5555555555555556,\"#d8576b\"],[0.6666666666666666,\"#ed7953\"],[0.7777777777777778,\"#fb9f3a\"],[0.8888888888888888,\"#fdca26\"],[1.0,\"#f0f921\"]],\"type\":\"contour\"}],\"heatmapgl\":[{\"colorbar\":{\"outlinewidth\":0,\"ticks\":\"\"},\"colorscale\":[[0.0,\"#0d0887\"],[0.1111111111111111,\"#46039f\"],[0.2222222222222222,\"#7201a8\"],[0.3333333333333333,\"#9c179e\"],[0.4444444444444444,\"#bd3786\"],[0.5555555555555556,\"#d8576b\"],[0.6666666666666666,\"#ed7953\"],[0.7777777777777778,\"#fb9f3a\"],[0.8888888888888888,\"#fdca26\"],[1.0,\"#f0f921\"]],\"type\":\"heatmapgl\"}],\"heatmap\":[{\"colorbar\":{\"outlinewidth\":0,\"ticks\":\"\"},\"colorscale\":[[0.0,\"#0d0887\"],[0.1111111111111111,\"#46039f\"],[0.2222222222222222,\"#7201a8\"],[0.3333333333333333,\"#9c179e\"],[0.4444444444444444,\"#bd3786\"],[0.5555555555555556,\"#d8576b\"],[0.6666666666666666,\"#ed7953\"],[0.7777777777777778,\"#fb9f3a\"],[0.8888888888888888,\"#fdca26\"],[1.0,\"#f0f921\"]],\"type\":\"heatmap\"}],\"histogram2dcontour\":[{\"colorbar\":{\"outlinewidth\":0,\"ticks\":\"\"},\"colorscale\":[[0.0,\"#0d0887\"],[0.1111111111111111,\"#46039f\"],[0.2222222222222222,\"#7201a8\"],[0.3333333333333333,\"#9c179e\"],[0.4444444444444444,\"#bd3786\"],[0.5555555555555556,\"#d8576b\"],[0.6666666666666666,\"#ed7953\"],[0.7777777777777778,\"#fb9f3a\"],[0.8888888888888888,\"#fdca26\"],[1.0,\"#f0f921\"]],\"type\":\"histogram2dcontour\"}],\"histogram2d\":[{\"colorbar\":{\"outlinewidth\":0,\"ticks\":\"\"},\"colorscale\":[[0.0,\"#0d0887\"],[0.1111111111111111,\"#46039f\"],[0.2222222222222222,\"#7201a8\"],[0.3333333333333333,\"#9c179e\"],[0.4444444444444444,\"#bd3786\"],[0.5555555555555556,\"#d8576b\"],[0.6666666666666666,\"#ed7953\"],[0.7777777777777778,\"#fb9f3a\"],[0.8888888888888888,\"#fdca26\"],[1.0,\"#f0f921\"]],\"type\":\"histogram2d\"}],\"histogram\":[{\"marker\":{\"pattern\":{\"fillmode\":\"overlay\",\"size\":10,\"solidity\":0.2}},\"type\":\"histogram\"}],\"mesh3d\":[{\"colorbar\":{\"outlinewidth\":0,\"ticks\":\"\"},\"type\":\"mesh3d\"}],\"parcoords\":[{\"line\":{\"colorbar\":{\"outlinewidth\":0,\"ticks\":\"\"}},\"type\":\"parcoords\"}],\"pie\":[{\"automargin\":true,\"type\":\"pie\"}],\"scatter3d\":[{\"line\":{\"colorbar\":{\"outlinewidth\":0,\"ticks\":\"\"}},\"marker\":{\"colorbar\":{\"outlinewidth\":0,\"ticks\":\"\"}},\"type\":\"scatter3d\"}],\"scattercarpet\":[{\"marker\":{\"colorbar\":{\"outlinewidth\":0,\"ticks\":\"\"}},\"type\":\"scattercarpet\"}],\"scattergeo\":[{\"marker\":{\"colorbar\":{\"outlinewidth\":0,\"ticks\":\"\"}},\"type\":\"scattergeo\"}],\"scattergl\":[{\"marker\":{\"colorbar\":{\"outlinewidth\":0,\"ticks\":\"\"}},\"type\":\"scattergl\"}],\"scattermapbox\":[{\"marker\":{\"colorbar\":{\"outlinewidth\":0,\"ticks\":\"\"}},\"type\":\"scattermapbox\"}],\"scatterpolargl\":[{\"marker\":{\"colorbar\":{\"outlinewidth\":0,\"ticks\":\"\"}},\"type\":\"scatterpolargl\"}],\"scatterpolar\":[{\"marker\":{\"colorbar\":{\"outlinewidth\":0,\"ticks\":\"\"}},\"type\":\"scatterpolar\"}],\"scatter\":[{\"marker\":{\"colorbar\":{\"outlinewidth\":0,\"ticks\":\"\"}},\"type\":\"scatter\"}],\"scatterternary\":[{\"marker\":{\"colorbar\":{\"outlinewidth\":0,\"ticks\":\"\"}},\"type\":\"scatterternary\"}],\"surface\":[{\"colorbar\":{\"outlinewidth\":0,\"ticks\":\"\"},\"colorscale\":[[0.0,\"#0d0887\"],[0.1111111111111111,\"#46039f\"],[0.2222222222222222,\"#7201a8\"],[0.3333333333333333,\"#9c179e\"],[0.4444444444444444,\"#bd3786\"],[0.5555555555555556,\"#d8576b\"],[0.6666666666666666,\"#ed7953\"],[0.7777777777777778,\"#fb9f3a\"],[0.8888888888888888,\"#fdca26\"],[1.0,\"#f0f921\"]],\"type\":\"surface\"}],\"table\":[{\"cells\":{\"fill\":{\"color\":\"#EBF0F8\"},\"line\":{\"color\":\"white\"}},\"header\":{\"fill\":{\"color\":\"#C8D4E3\"},\"line\":{\"color\":\"white\"}},\"type\":\"table\"}]},\"layout\":{\"annotationdefaults\":{\"arrowcolor\":\"#2a3f5f\",\"arrowhead\":0,\"arrowwidth\":1},\"autotypenumbers\":\"strict\",\"coloraxis\":{\"colorbar\":{\"outlinewidth\":0,\"ticks\":\"\"}},\"colorscale\":{\"diverging\":[[0,\"#8e0152\"],[0.1,\"#c51b7d\"],[0.2,\"#de77ae\"],[0.3,\"#f1b6da\"],[0.4,\"#fde0ef\"],[0.5,\"#f7f7f7\"],[0.6,\"#e6f5d0\"],[0.7,\"#b8e186\"],[0.8,\"#7fbc41\"],[0.9,\"#4d9221\"],[1,\"#276419\"]],\"sequential\":[[0.0,\"#0d0887\"],[0.1111111111111111,\"#46039f\"],[0.2222222222222222,\"#7201a8\"],[0.3333333333333333,\"#9c179e\"],[0.4444444444444444,\"#bd3786\"],[0.5555555555555556,\"#d8576b\"],[0.6666666666666666,\"#ed7953\"],[0.7777777777777778,\"#fb9f3a\"],[0.8888888888888888,\"#fdca26\"],[1.0,\"#f0f921\"]],\"sequentialminus\":[[0.0,\"#0d0887\"],[0.1111111111111111,\"#46039f\"],[0.2222222222222222,\"#7201a8\"],[0.3333333333333333,\"#9c179e\"],[0.4444444444444444,\"#bd3786\"],[0.5555555555555556,\"#d8576b\"],[0.6666666666666666,\"#ed7953\"],[0.7777777777777778,\"#fb9f3a\"],[0.8888888888888888,\"#fdca26\"],[1.0,\"#f0f921\"]]},\"colorway\":[\"#636efa\",\"#EF553B\",\"#00cc96\",\"#ab63fa\",\"#FFA15A\",\"#19d3f3\",\"#FF6692\",\"#B6E880\",\"#FF97FF\",\"#FECB52\"],\"font\":{\"color\":\"#2a3f5f\"},\"geo\":{\"bgcolor\":\"white\",\"lakecolor\":\"white\",\"landcolor\":\"#E5ECF6\",\"showlakes\":true,\"showland\":true,\"subunitcolor\":\"white\"},\"hoverlabel\":{\"align\":\"left\"},\"hovermode\":\"closest\",\"mapbox\":{\"style\":\"light\"},\"paper_bgcolor\":\"white\",\"plot_bgcolor\":\"#E5ECF6\",\"polar\":{\"angularaxis\":{\"gridcolor\":\"white\",\"linecolor\":\"white\",\"ticks\":\"\"},\"bgcolor\":\"#E5ECF6\",\"radialaxis\":{\"gridcolor\":\"white\",\"linecolor\":\"white\",\"ticks\":\"\"}},\"scene\":{\"xaxis\":{\"backgroundcolor\":\"#E5ECF6\",\"gridcolor\":\"white\",\"gridwidth\":2,\"linecolor\":\"white\",\"showbackground\":true,\"ticks\":\"\",\"zerolinecolor\":\"white\"},\"yaxis\":{\"backgroundcolor\":\"#E5ECF6\",\"gridcolor\":\"white\",\"gridwidth\":2,\"linecolor\":\"white\",\"showbackground\":true,\"ticks\":\"\",\"zerolinecolor\":\"white\"},\"zaxis\":{\"backgroundcolor\":\"#E5ECF6\",\"gridcolor\":\"white\",\"gridwidth\":2,\"linecolor\":\"white\",\"showbackground\":true,\"ticks\":\"\",\"zerolinecolor\":\"white\"}},\"shapedefaults\":{\"line\":{\"color\":\"#2a3f5f\"}},\"ternary\":{\"aaxis\":{\"gridcolor\":\"white\",\"linecolor\":\"white\",\"ticks\":\"\"},\"baxis\":{\"gridcolor\":\"white\",\"linecolor\":\"white\",\"ticks\":\"\"},\"bgcolor\":\"#E5ECF6\",\"caxis\":{\"gridcolor\":\"white\",\"linecolor\":\"white\",\"ticks\":\"\"}},\"title\":{\"x\":0.05},\"xaxis\":{\"automargin\":true,\"gridcolor\":\"white\",\"linecolor\":\"white\",\"ticks\":\"\",\"title\":{\"standoff\":15},\"zerolinecolor\":\"white\",\"zerolinewidth\":2},\"yaxis\":{\"automargin\":true,\"gridcolor\":\"white\",\"linecolor\":\"white\",\"ticks\":\"\",\"title\":{\"standoff\":15},\"zerolinecolor\":\"white\",\"zerolinewidth\":2}}},\"title\":{\"font\":{\"color\":\"#4D5663\"}},\"xaxis\":{\"gridcolor\":\"#E1E5ED\",\"showgrid\":true,\"tickfont\":{\"color\":\"#4D5663\"},\"title\":{\"font\":{\"color\":\"#4D5663\"},\"text\":\"\"},\"zerolinecolor\":\"#E1E5ED\"},\"yaxis\":{\"gridcolor\":\"#E1E5ED\",\"showgrid\":true,\"tickfont\":{\"color\":\"#4D5663\"},\"title\":{\"font\":{\"color\":\"#4D5663\"},\"text\":\"\"},\"zerolinecolor\":\"#E1E5ED\"}},                        {\"showLink\": true, \"linkText\": \"Export to plot.ly\", \"plotlyServerURL\": \"https://plot.ly\", \"responsive\": true}                    ).then(function(){\n",
       "                            \n",
       "var gd = document.getElementById('b31c78aa-d50a-43f5-a14c-14f0f2bd4c6b');\n",
       "var x = new MutationObserver(function (mutations, observer) {{\n",
       "        var display = window.getComputedStyle(gd).display;\n",
       "        if (!display || display === 'none') {{\n",
       "            console.log([gd, 'removed!']);\n",
       "            Plotly.purge(gd);\n",
       "            observer.disconnect();\n",
       "        }}\n",
       "}});\n",
       "\n",
       "// Listen for the removal of the full notebook cells\n",
       "var notebookContainer = gd.closest('#notebook-container');\n",
       "if (notebookContainer) {{\n",
       "    x.observe(notebookContainer, {childList: true});\n",
       "}}\n",
       "\n",
       "// Listen for the clearing of the current output cell\n",
       "var outputEl = gd.closest('.output');\n",
       "if (outputEl) {{\n",
       "    x.observe(outputEl, {childList: true});\n",
       "}}\n",
       "\n",
       "                        })                };                });            </script>        </div>"
      ]
     },
     "metadata": {},
     "output_type": "display_data"
    }
   ],
   "source": [
    "df1.iplot(kind='bubble',x='A',y='B',size='C',colors='orange')\n",
    "# with specifying the colors; if no colours are specified the command will assign colours for the first 10 points\n",
    "# and all the rest will be a shade of black"
   ]
  },
  {
   "cell_type": "code",
   "execution_count": 49,
   "id": "68ec9871",
   "metadata": {},
   "outputs": [
    {
     "data": {
      "application/vnd.plotly.v1+json": {
       "config": {
        "linkText": "Export to plot.ly",
        "plotlyServerURL": "https://plot.ly",
        "showLink": true
       },
       "data": [
        {
         "histfunc": "count",
         "histnorm": "",
         "marker": {
          "color": "rgba(255, 153, 51, 1.0)",
          "line": {
           "color": "#4D5663",
           "width": 1.3
          }
         },
         "name": "A",
         "nbinsx": 10,
         "opacity": 0.8,
         "orientation": "v",
         "type": "histogram",
         "x": [
          -2.0179175343734688,
          0.9233803166017815,
          1.0222921258112883,
          -1.5427079018271743,
          0.9534677415959142,
          1.6139729466741866,
          -0.49068513401485064,
          0.6406132073703192,
          0.18167756204418314,
          -0.9019463260024844,
          1.1277902478070898,
          -0.5492318874813171,
          0.40254477215755796,
          0.20456328644346478,
          0.8484682084553806,
          1.598340262193149,
          -0.3885036558297409,
          0.7669440765048724,
          0.5721831877604494,
          -0.35869921119774845,
          1.275872979836392,
          -1.5377322892971523,
          0.9397524846531856,
          1.2378549284154148,
          0.45562500468005257,
          1.9220064474824583,
          0.3788446677627523,
          -1.6272530974099786,
          1.548747250020298,
          0.35367122733264206,
          -1.6023537985805665,
          -0.2743189849606666,
          1.6451749536118985,
          0.7660625343797965,
          -0.6551561273192944,
          2.2894165994992624,
          -0.30049348682681154,
          -0.1426257921945078,
          -0.3509331819696133,
          0.8066088439981102,
          -0.8190431907381289,
          0.33839591532473734,
          0.029153055130530316,
          0.04075026670195348,
          0.9095559195154234,
          -0.45874347933067305,
          0.23720429403928597,
          1.8818167393804857,
          -1.226472966530045,
          1.0222059444120426,
          0.786664742156235,
          -0.856175743606393,
          -1.2967015187714002,
          -1.3397627343890512,
          -0.7740855332934843,
          -2.0651785264446603,
          -0.43263697200185763,
          -0.13962494342840498,
          1.0979198353286066,
          -2.5008648450355797,
          0.7363401239497037,
          -1.70332552593329,
          -0.3906840182946408,
          -0.6357483053025298,
          -1.9455432716535508,
          -0.5398111243240811,
          -0.567472688932623,
          -0.6141447633033629,
          0.8011189183895611,
          -1.2128507855740867,
          -0.37599186611637914,
          1.4623963889164369,
          -0.7631731022882191,
          -0.49931213287490084,
          2.2156779881392468,
          -0.22361959827960393,
          -0.18881355505333997,
          0.1563814679055965,
          -0.04432271649482479,
          0.8444078862992042,
          1.262089825064193,
          1.409022756908488,
          -0.8371506916682264,
          -0.19411419725649035,
          1.3917668500786569,
          -0.10654778503241351,
          0.5073768369051679,
          -2.3983216306246313,
          1.100498582230519,
          -0.8995606298174025,
          -0.6816405917690144,
          0.6642734688092117,
          0.3118612734468044,
          1.2364404904823296,
          1.5917519675688976,
          1.248130459217827,
          1.1785659741667693,
          0.7177544645767607,
          -1.0558469610199113,
          1.6382365853024183
         ],
         "xaxis": "x",
         "yaxis": "y"
        },
        {
         "line": {
          "color": "rgba(128, 128, 128, 1.0)",
          "dash": "solid",
          "shape": "linear",
          "width": 1.3
         },
         "marker": {
          "size": 2,
          "symbol": "circle"
         },
         "mode": "markers",
         "name": "A",
         "text": "",
         "type": "scatter",
         "x": [
          2.395950167703243,
          0.4011665790160146,
          -0.5052385387154442,
          -0.3942371566252391,
          -0.21364305021911828,
          0.43594532497191135,
          0.6259224234031222,
          0.185412186044443,
          -0.6480451046733444,
          -0.8073701561029344,
          0.3086398159337038,
          0.40896197444841126,
          -0.1496317018826678,
          0.008520897127094368,
          -0.37877268064955,
          1.2535502967513548,
          -0.8177967117036561,
          -0.04946135797232314,
          -0.7183013023150779,
          -1.3447272277949869,
          0.41260120152215496,
          1.33359903067863,
          0.3671958190478347,
          0.8236499541071457,
          2.3347971433163424,
          -0.5771650158144527,
          -0.2251481350890585,
          -0.9435813597330984,
          0.8453434644325502,
          -0.21978075472742842,
          0.12090913168294705,
          1.3238965924999886,
          -1.242242230242268,
          -1.767118741764655,
          -1.039313253025596,
          -1.3642511383582916,
          2.018414865068438,
          0.9965547242299222,
          -0.19942697072610457,
          -1.1706562780182612,
          -0.5595449835820688,
          1.151778463952504,
          -1.143226604397329,
          -0.663554837473901,
          -0.3527941140626611,
          -0.3970287607005498,
          0.06988660301060044,
          -0.40904957810275894,
          1.2239473808056882,
          1.4503012453471353,
          -0.7099546586223381,
          0.1955292008469326,
          -0.9682868269540975,
          -0.6066626776294081,
          1.1271596955346652,
          -0.06980868330920874,
          1.2501046888418872,
          -0.7711144899188074,
          1.00068801591415,
          -0.30428583621033645,
          -0.5699992904635901,
          -1.1394997915954335,
          -1.3178505709741983,
          -0.5362050779147439,
          -1.0081773680965436,
          1.7769241713514654,
          -1.7573616768732496,
          -1.4171193570499716,
          1.9335299038258698,
          -0.08421774918244486,
          -0.3712113381043379,
          1.0037717622849058,
          -0.7649009639855259,
          0.8067863038735369,
          0.73994466595083,
          1.6230867298471527,
          0.36667123116095157,
          0.38490337507613426,
          -1.1667875323245254,
          1.1022912167479761,
          0.036114867420814295,
          0.21253242351549598,
          -1.0133323362101818,
          -0.045069781891611274,
          0.8566552134265603,
          -1.9136470404042818,
          1.2980627554809563,
          -0.359342519582086,
          -2.7620029335220795,
          -0.18996686862109757,
          0.01672937162273757,
          -0.5646206196563005,
          1.80341766720294,
          2.2834787562600174,
          -0.5206495440594276,
          0.0014904575692281095,
          -0.37866407377310024,
          -0.3283192827529023,
          0.48484304460629934,
          -0.803938936523087
         ],
         "xaxis": "x2",
         "y": [
          -2.0179175343734688,
          0.9233803166017815,
          1.0222921258112883,
          -1.5427079018271743,
          0.9534677415959142,
          1.6139729466741866,
          -0.49068513401485064,
          0.6406132073703192,
          0.18167756204418314,
          -0.9019463260024844,
          1.1277902478070898,
          -0.5492318874813171,
          0.40254477215755796,
          0.20456328644346478,
          0.8484682084553806,
          1.598340262193149,
          -0.3885036558297409,
          0.7669440765048724,
          0.5721831877604494,
          -0.35869921119774845,
          1.275872979836392,
          -1.5377322892971523,
          0.9397524846531856,
          1.2378549284154148,
          0.45562500468005257,
          1.9220064474824583,
          0.3788446677627523,
          -1.6272530974099786,
          1.548747250020298,
          0.35367122733264206,
          -1.6023537985805665,
          -0.2743189849606666,
          1.6451749536118985,
          0.7660625343797965,
          -0.6551561273192944,
          2.2894165994992624,
          -0.30049348682681154,
          -0.1426257921945078,
          -0.3509331819696133,
          0.8066088439981102,
          -0.8190431907381289,
          0.33839591532473734,
          0.029153055130530316,
          0.04075026670195348,
          0.9095559195154234,
          -0.45874347933067305,
          0.23720429403928597,
          1.8818167393804857,
          -1.226472966530045,
          1.0222059444120426,
          0.786664742156235,
          -0.856175743606393,
          -1.2967015187714002,
          -1.3397627343890512,
          -0.7740855332934843,
          -2.0651785264446603,
          -0.43263697200185763,
          -0.13962494342840498,
          1.0979198353286066,
          -2.5008648450355797,
          0.7363401239497037,
          -1.70332552593329,
          -0.3906840182946408,
          -0.6357483053025298,
          -1.9455432716535508,
          -0.5398111243240811,
          -0.567472688932623,
          -0.6141447633033629,
          0.8011189183895611,
          -1.2128507855740867,
          -0.37599186611637914,
          1.4623963889164369,
          -0.7631731022882191,
          -0.49931213287490084,
          2.2156779881392468,
          -0.22361959827960393,
          -0.18881355505333997,
          0.1563814679055965,
          -0.04432271649482479,
          0.8444078862992042,
          1.262089825064193,
          1.409022756908488,
          -0.8371506916682264,
          -0.19411419725649035,
          1.3917668500786569,
          -0.10654778503241351,
          0.5073768369051679,
          -2.3983216306246313,
          1.100498582230519,
          -0.8995606298174025,
          -0.6816405917690144,
          0.6642734688092117,
          0.3118612734468044,
          1.2364404904823296,
          1.5917519675688976,
          1.248130459217827,
          1.1785659741667693,
          0.7177544645767607,
          -1.0558469610199113,
          1.6382365853024183
         ],
         "yaxis": "y2"
        },
        {
         "line": {
          "color": "rgba(128, 128, 128, 1.0)",
          "dash": "solid",
          "shape": "linear",
          "width": 1.3
         },
         "marker": {
          "size": 2,
          "symbol": "circle"
         },
         "mode": "markers",
         "name": "A",
         "text": "",
         "type": "scatter",
         "x": [
          -0.6976331963008978,
          0.4427226738215899,
          -0.5278849581553196,
          0.08357712350404232,
          0.2985644766584697,
          -1.168236300018726,
          -0.07975759208579772,
          2.605684681915098,
          0.23237882392158934,
          -1.5010257824011846,
          -1.0082510510416975,
          -0.6900419533536168,
          -1.259611906566042,
          0.6334244622734533,
          2.049644540477798,
          -0.4125152045772619,
          -0.08379527165547741,
          1.3461944975135538,
          0.07312282676592445,
          0.09608911388057328,
          -1.3379481423112967,
          -0.7105355161950182,
          0.8201289575427168,
          -1.650388692143229,
          -0.2648817286449447,
          -0.7452691095063751,
          1.7868926892834924,
          -0.8814503346799827,
          -0.06151876483423875,
          0.9779962985757222,
          -0.9626365512082998,
          -1.8684057658078863,
          -0.4985095156624019,
          0.09801251739717784,
          -0.9048087424806065,
          0.39923318225585497,
          0.8007870834966261,
          0.04492687871960958,
          -0.13447093178177616,
          0.6955513931404235,
          -1.6664237297318127,
          -0.06878796517969679,
          -2.0271677100118843,
          1.0054649423548643,
          -0.935485681989698,
          -0.4877090511885543,
          -2.1691727226848325,
          1.8730951291540747,
          1.9701291532645244,
          -0.6072367365041451,
          -0.20267812348350753,
          0.419520074747097,
          -1.3698630814147639,
          0.5457179722128258,
          0.5400887042208458,
          -0.8401643575269793,
          -1.7852954133027419,
          -0.015127204278471754,
          -0.5126761205353862,
          -1.9392192246740192,
          -0.9348399242998332,
          0.13475405165976082,
          0.3226933637818872,
          0.2518508135816996,
          0.6187654522995018,
          0.34584991996916925,
          0.19827494158896725,
          1.3154777020915707,
          1.0843443180742538,
          -1.7842726344419373,
          -0.7368681730249035,
          0.29982786449948673,
          0.055325129415402484,
          -0.22555181039210734,
          0.3253537214948485,
          -0.972508311987855,
          1.5216907051621416,
          -0.8303815536215513,
          2.2176797823958276,
          0.6706758843386869,
          0.7922588968759959,
          -0.6679061378549241,
          -1.9957141479041003,
          -0.16551075387272368,
          -0.42521296568309397,
          0.12230529593625743,
          -0.737934123468278,
          -0.41227840363982143,
          0.022578301223580156,
          0.09629241133641168,
          -0.29384242359572504,
          0.48098038536471205,
          -0.6579014706607186,
          0.8300898029984877,
          0.7520766490943627,
          -0.4047989014015041,
          -0.7405663749500524,
          1.300275639607767,
          0.0621476170640035,
          0.9914132099459558
         ],
         "xaxis": "x3",
         "y": [
          -2.0179175343734688,
          0.9233803166017815,
          1.0222921258112883,
          -1.5427079018271743,
          0.9534677415959142,
          1.6139729466741866,
          -0.49068513401485064,
          0.6406132073703192,
          0.18167756204418314,
          -0.9019463260024844,
          1.1277902478070898,
          -0.5492318874813171,
          0.40254477215755796,
          0.20456328644346478,
          0.8484682084553806,
          1.598340262193149,
          -0.3885036558297409,
          0.7669440765048724,
          0.5721831877604494,
          -0.35869921119774845,
          1.275872979836392,
          -1.5377322892971523,
          0.9397524846531856,
          1.2378549284154148,
          0.45562500468005257,
          1.9220064474824583,
          0.3788446677627523,
          -1.6272530974099786,
          1.548747250020298,
          0.35367122733264206,
          -1.6023537985805665,
          -0.2743189849606666,
          1.6451749536118985,
          0.7660625343797965,
          -0.6551561273192944,
          2.2894165994992624,
          -0.30049348682681154,
          -0.1426257921945078,
          -0.3509331819696133,
          0.8066088439981102,
          -0.8190431907381289,
          0.33839591532473734,
          0.029153055130530316,
          0.04075026670195348,
          0.9095559195154234,
          -0.45874347933067305,
          0.23720429403928597,
          1.8818167393804857,
          -1.226472966530045,
          1.0222059444120426,
          0.786664742156235,
          -0.856175743606393,
          -1.2967015187714002,
          -1.3397627343890512,
          -0.7740855332934843,
          -2.0651785264446603,
          -0.43263697200185763,
          -0.13962494342840498,
          1.0979198353286066,
          -2.5008648450355797,
          0.7363401239497037,
          -1.70332552593329,
          -0.3906840182946408,
          -0.6357483053025298,
          -1.9455432716535508,
          -0.5398111243240811,
          -0.567472688932623,
          -0.6141447633033629,
          0.8011189183895611,
          -1.2128507855740867,
          -0.37599186611637914,
          1.4623963889164369,
          -0.7631731022882191,
          -0.49931213287490084,
          2.2156779881392468,
          -0.22361959827960393,
          -0.18881355505333997,
          0.1563814679055965,
          -0.04432271649482479,
          0.8444078862992042,
          1.262089825064193,
          1.409022756908488,
          -0.8371506916682264,
          -0.19411419725649035,
          1.3917668500786569,
          -0.10654778503241351,
          0.5073768369051679,
          -2.3983216306246313,
          1.100498582230519,
          -0.8995606298174025,
          -0.6816405917690144,
          0.6642734688092117,
          0.3118612734468044,
          1.2364404904823296,
          1.5917519675688976,
          1.248130459217827,
          1.1785659741667693,
          0.7177544645767607,
          -1.0558469610199113,
          1.6382365853024183
         ],
         "yaxis": "y3"
        },
        {
         "line": {
          "color": "rgba(128, 128, 128, 1.0)",
          "dash": "solid",
          "shape": "linear",
          "width": 1.3
         },
         "marker": {
          "size": 2,
          "symbol": "circle"
         },
         "mode": "markers",
         "name": "A",
         "text": "",
         "type": "scatter",
         "x": [
          0.36755381357114664,
          1.5866634641494763,
          -0.0016882635232418383,
          0.30481516546547754,
          -1.1460579793852106,
          0.18731553992418792,
          -0.7340415243278909,
          1.4681758380718968,
          0.6109156444057225,
          0.8636566081800396,
          -1.2042896973027075,
          -0.717285088620604,
          -0.27926979285461195,
          -2.27782884292265,
          -1.1456024387434294,
          -0.1800217010084489,
          0.785832135922479,
          -2.630458514106578,
          -0.2628149102421362,
          1.0761508998209481,
          -0.6181868880517446,
          0.5644249552487409,
          0.1376512701946862,
          -1.0643470491969753,
          1.8326826957178588,
          0.08728948571471955,
          -0.9472986678785581,
          -2.188688147512093,
          -0.7094221230993478,
          -0.28614802083519075,
          -0.48367152612082537,
          -0.9609704154017971,
          0.1744627506306088,
          0.7508229866038417,
          -0.337165746033092,
          -1.5903644266779202,
          2.228907207340895,
          -0.9478162039494671,
          0.27593618307892154,
          0.46010096005631257,
          0.04756331409774407,
          1.1287002598451472,
          0.18506283525199643,
          -0.6592959249978171,
          0.4301598022789856,
          -0.011438549207886901,
          0.7132425090647524,
          -0.6744260407693818,
          -1.0462246129155746,
          0.03198300689870275,
          -1.0994408136210951,
          -1.113758931877566,
          1.530382010628822,
          0.4135996875452047,
          -0.36336300948095324,
          0.3141181281423151,
          -0.4683804485386927,
          0.883379291693893,
          -1.2366918685672104,
          -0.8887760161020599,
          1.1407716944151174,
          0.20815316548169516,
          -0.8895268304752171,
          -2.487641320009603,
          1.2669697435451026,
          -0.10918129777148618,
          -0.7291768460835901,
          -0.03115806750970858,
          0.7255449564277417,
          0.051499144496555294,
          0.1452122127315349,
          0.4713464248472897,
          0.34120215169591545,
          -0.5319128893521675,
          -0.24273195108086826,
          0.30572900353506227,
          0.7753034135589412,
          -0.7913533202524138,
          0.3192616910868719,
          -1.8917692479218562,
          1.183999529257435,
          0.3856430891754346,
          -0.26119581670676495,
          0.9045642887654469,
          -2.0546395471207317,
          0.49571308447610857,
          0.30788575151268355,
          0.8461911621944069,
          1.7572508576574226,
          -0.46684102667288335,
          0.0213978276901902,
          -0.22812548617914455,
          0.33387665321982846,
          1.1207365511896488,
          -0.7548904321132596,
          0.8495131759537213,
          -0.6024092649912318,
          -0.3645591543801789,
          1.4134123567488515,
          -0.7965566970465708
         ],
         "xaxis": "x4",
         "y": [
          -2.0179175343734688,
          0.9233803166017815,
          1.0222921258112883,
          -1.5427079018271743,
          0.9534677415959142,
          1.6139729466741866,
          -0.49068513401485064,
          0.6406132073703192,
          0.18167756204418314,
          -0.9019463260024844,
          1.1277902478070898,
          -0.5492318874813171,
          0.40254477215755796,
          0.20456328644346478,
          0.8484682084553806,
          1.598340262193149,
          -0.3885036558297409,
          0.7669440765048724,
          0.5721831877604494,
          -0.35869921119774845,
          1.275872979836392,
          -1.5377322892971523,
          0.9397524846531856,
          1.2378549284154148,
          0.45562500468005257,
          1.9220064474824583,
          0.3788446677627523,
          -1.6272530974099786,
          1.548747250020298,
          0.35367122733264206,
          -1.6023537985805665,
          -0.2743189849606666,
          1.6451749536118985,
          0.7660625343797965,
          -0.6551561273192944,
          2.2894165994992624,
          -0.30049348682681154,
          -0.1426257921945078,
          -0.3509331819696133,
          0.8066088439981102,
          -0.8190431907381289,
          0.33839591532473734,
          0.029153055130530316,
          0.04075026670195348,
          0.9095559195154234,
          -0.45874347933067305,
          0.23720429403928597,
          1.8818167393804857,
          -1.226472966530045,
          1.0222059444120426,
          0.786664742156235,
          -0.856175743606393,
          -1.2967015187714002,
          -1.3397627343890512,
          -0.7740855332934843,
          -2.0651785264446603,
          -0.43263697200185763,
          -0.13962494342840498,
          1.0979198353286066,
          -2.5008648450355797,
          0.7363401239497037,
          -1.70332552593329,
          -0.3906840182946408,
          -0.6357483053025298,
          -1.9455432716535508,
          -0.5398111243240811,
          -0.567472688932623,
          -0.6141447633033629,
          0.8011189183895611,
          -1.2128507855740867,
          -0.37599186611637914,
          1.4623963889164369,
          -0.7631731022882191,
          -0.49931213287490084,
          2.2156779881392468,
          -0.22361959827960393,
          -0.18881355505333997,
          0.1563814679055965,
          -0.04432271649482479,
          0.8444078862992042,
          1.262089825064193,
          1.409022756908488,
          -0.8371506916682264,
          -0.19411419725649035,
          1.3917668500786569,
          -0.10654778503241351,
          0.5073768369051679,
          -2.3983216306246313,
          1.100498582230519,
          -0.8995606298174025,
          -0.6816405917690144,
          0.6642734688092117,
          0.3118612734468044,
          1.2364404904823296,
          1.5917519675688976,
          1.248130459217827,
          1.1785659741667693,
          0.7177544645767607,
          -1.0558469610199113,
          1.6382365853024183
         ],
         "yaxis": "y4"
        },
        {
         "line": {
          "color": "rgba(128, 128, 128, 1.0)",
          "dash": "solid",
          "shape": "linear",
          "width": 1.3
         },
         "marker": {
          "size": 2,
          "symbol": "circle"
         },
         "mode": "markers",
         "name": "B",
         "text": "",
         "type": "scatter",
         "x": [
          -2.0179175343734688,
          0.9233803166017815,
          1.0222921258112883,
          -1.5427079018271743,
          0.9534677415959142,
          1.6139729466741866,
          -0.49068513401485064,
          0.6406132073703192,
          0.18167756204418314,
          -0.9019463260024844,
          1.1277902478070898,
          -0.5492318874813171,
          0.40254477215755796,
          0.20456328644346478,
          0.8484682084553806,
          1.598340262193149,
          -0.3885036558297409,
          0.7669440765048724,
          0.5721831877604494,
          -0.35869921119774845,
          1.275872979836392,
          -1.5377322892971523,
          0.9397524846531856,
          1.2378549284154148,
          0.45562500468005257,
          1.9220064474824583,
          0.3788446677627523,
          -1.6272530974099786,
          1.548747250020298,
          0.35367122733264206,
          -1.6023537985805665,
          -0.2743189849606666,
          1.6451749536118985,
          0.7660625343797965,
          -0.6551561273192944,
          2.2894165994992624,
          -0.30049348682681154,
          -0.1426257921945078,
          -0.3509331819696133,
          0.8066088439981102,
          -0.8190431907381289,
          0.33839591532473734,
          0.029153055130530316,
          0.04075026670195348,
          0.9095559195154234,
          -0.45874347933067305,
          0.23720429403928597,
          1.8818167393804857,
          -1.226472966530045,
          1.0222059444120426,
          0.786664742156235,
          -0.856175743606393,
          -1.2967015187714002,
          -1.3397627343890512,
          -0.7740855332934843,
          -2.0651785264446603,
          -0.43263697200185763,
          -0.13962494342840498,
          1.0979198353286066,
          -2.5008648450355797,
          0.7363401239497037,
          -1.70332552593329,
          -0.3906840182946408,
          -0.6357483053025298,
          -1.9455432716535508,
          -0.5398111243240811,
          -0.567472688932623,
          -0.6141447633033629,
          0.8011189183895611,
          -1.2128507855740867,
          -0.37599186611637914,
          1.4623963889164369,
          -0.7631731022882191,
          -0.49931213287490084,
          2.2156779881392468,
          -0.22361959827960393,
          -0.18881355505333997,
          0.1563814679055965,
          -0.04432271649482479,
          0.8444078862992042,
          1.262089825064193,
          1.409022756908488,
          -0.8371506916682264,
          -0.19411419725649035,
          1.3917668500786569,
          -0.10654778503241351,
          0.5073768369051679,
          -2.3983216306246313,
          1.100498582230519,
          -0.8995606298174025,
          -0.6816405917690144,
          0.6642734688092117,
          0.3118612734468044,
          1.2364404904823296,
          1.5917519675688976,
          1.248130459217827,
          1.1785659741667693,
          0.7177544645767607,
          -1.0558469610199113,
          1.6382365853024183
         ],
         "xaxis": "x5",
         "y": [
          2.395950167703243,
          0.4011665790160146,
          -0.5052385387154442,
          -0.3942371566252391,
          -0.21364305021911828,
          0.43594532497191135,
          0.6259224234031222,
          0.185412186044443,
          -0.6480451046733444,
          -0.8073701561029344,
          0.3086398159337038,
          0.40896197444841126,
          -0.1496317018826678,
          0.008520897127094368,
          -0.37877268064955,
          1.2535502967513548,
          -0.8177967117036561,
          -0.04946135797232314,
          -0.7183013023150779,
          -1.3447272277949869,
          0.41260120152215496,
          1.33359903067863,
          0.3671958190478347,
          0.8236499541071457,
          2.3347971433163424,
          -0.5771650158144527,
          -0.2251481350890585,
          -0.9435813597330984,
          0.8453434644325502,
          -0.21978075472742842,
          0.12090913168294705,
          1.3238965924999886,
          -1.242242230242268,
          -1.767118741764655,
          -1.039313253025596,
          -1.3642511383582916,
          2.018414865068438,
          0.9965547242299222,
          -0.19942697072610457,
          -1.1706562780182612,
          -0.5595449835820688,
          1.151778463952504,
          -1.143226604397329,
          -0.663554837473901,
          -0.3527941140626611,
          -0.3970287607005498,
          0.06988660301060044,
          -0.40904957810275894,
          1.2239473808056882,
          1.4503012453471353,
          -0.7099546586223381,
          0.1955292008469326,
          -0.9682868269540975,
          -0.6066626776294081,
          1.1271596955346652,
          -0.06980868330920874,
          1.2501046888418872,
          -0.7711144899188074,
          1.00068801591415,
          -0.30428583621033645,
          -0.5699992904635901,
          -1.1394997915954335,
          -1.3178505709741983,
          -0.5362050779147439,
          -1.0081773680965436,
          1.7769241713514654,
          -1.7573616768732496,
          -1.4171193570499716,
          1.9335299038258698,
          -0.08421774918244486,
          -0.3712113381043379,
          1.0037717622849058,
          -0.7649009639855259,
          0.8067863038735369,
          0.73994466595083,
          1.6230867298471527,
          0.36667123116095157,
          0.38490337507613426,
          -1.1667875323245254,
          1.1022912167479761,
          0.036114867420814295,
          0.21253242351549598,
          -1.0133323362101818,
          -0.045069781891611274,
          0.8566552134265603,
          -1.9136470404042818,
          1.2980627554809563,
          -0.359342519582086,
          -2.7620029335220795,
          -0.18996686862109757,
          0.01672937162273757,
          -0.5646206196563005,
          1.80341766720294,
          2.2834787562600174,
          -0.5206495440594276,
          0.0014904575692281095,
          -0.37866407377310024,
          -0.3283192827529023,
          0.48484304460629934,
          -0.803938936523087
         ],
         "yaxis": "y5"
        },
        {
         "histfunc": "count",
         "histnorm": "",
         "marker": {
          "color": "rgba(55, 128, 191, 1.0)",
          "line": {
           "color": "#4D5663",
           "width": 1.3
          }
         },
         "name": "B",
         "nbinsx": 10,
         "opacity": 0.8,
         "orientation": "v",
         "type": "histogram",
         "x": [
          2.395950167703243,
          0.4011665790160146,
          -0.5052385387154442,
          -0.3942371566252391,
          -0.21364305021911828,
          0.43594532497191135,
          0.6259224234031222,
          0.185412186044443,
          -0.6480451046733444,
          -0.8073701561029344,
          0.3086398159337038,
          0.40896197444841126,
          -0.1496317018826678,
          0.008520897127094368,
          -0.37877268064955,
          1.2535502967513548,
          -0.8177967117036561,
          -0.04946135797232314,
          -0.7183013023150779,
          -1.3447272277949869,
          0.41260120152215496,
          1.33359903067863,
          0.3671958190478347,
          0.8236499541071457,
          2.3347971433163424,
          -0.5771650158144527,
          -0.2251481350890585,
          -0.9435813597330984,
          0.8453434644325502,
          -0.21978075472742842,
          0.12090913168294705,
          1.3238965924999886,
          -1.242242230242268,
          -1.767118741764655,
          -1.039313253025596,
          -1.3642511383582916,
          2.018414865068438,
          0.9965547242299222,
          -0.19942697072610457,
          -1.1706562780182612,
          -0.5595449835820688,
          1.151778463952504,
          -1.143226604397329,
          -0.663554837473901,
          -0.3527941140626611,
          -0.3970287607005498,
          0.06988660301060044,
          -0.40904957810275894,
          1.2239473808056882,
          1.4503012453471353,
          -0.7099546586223381,
          0.1955292008469326,
          -0.9682868269540975,
          -0.6066626776294081,
          1.1271596955346652,
          -0.06980868330920874,
          1.2501046888418872,
          -0.7711144899188074,
          1.00068801591415,
          -0.30428583621033645,
          -0.5699992904635901,
          -1.1394997915954335,
          -1.3178505709741983,
          -0.5362050779147439,
          -1.0081773680965436,
          1.7769241713514654,
          -1.7573616768732496,
          -1.4171193570499716,
          1.9335299038258698,
          -0.08421774918244486,
          -0.3712113381043379,
          1.0037717622849058,
          -0.7649009639855259,
          0.8067863038735369,
          0.73994466595083,
          1.6230867298471527,
          0.36667123116095157,
          0.38490337507613426,
          -1.1667875323245254,
          1.1022912167479761,
          0.036114867420814295,
          0.21253242351549598,
          -1.0133323362101818,
          -0.045069781891611274,
          0.8566552134265603,
          -1.9136470404042818,
          1.2980627554809563,
          -0.359342519582086,
          -2.7620029335220795,
          -0.18996686862109757,
          0.01672937162273757,
          -0.5646206196563005,
          1.80341766720294,
          2.2834787562600174,
          -0.5206495440594276,
          0.0014904575692281095,
          -0.37866407377310024,
          -0.3283192827529023,
          0.48484304460629934,
          -0.803938936523087
         ],
         "xaxis": "x6",
         "yaxis": "y6"
        },
        {
         "line": {
          "color": "rgba(128, 128, 128, 1.0)",
          "dash": "solid",
          "shape": "linear",
          "width": 1.3
         },
         "marker": {
          "size": 2,
          "symbol": "circle"
         },
         "mode": "markers",
         "name": "B",
         "text": "",
         "type": "scatter",
         "x": [
          -0.6976331963008978,
          0.4427226738215899,
          -0.5278849581553196,
          0.08357712350404232,
          0.2985644766584697,
          -1.168236300018726,
          -0.07975759208579772,
          2.605684681915098,
          0.23237882392158934,
          -1.5010257824011846,
          -1.0082510510416975,
          -0.6900419533536168,
          -1.259611906566042,
          0.6334244622734533,
          2.049644540477798,
          -0.4125152045772619,
          -0.08379527165547741,
          1.3461944975135538,
          0.07312282676592445,
          0.09608911388057328,
          -1.3379481423112967,
          -0.7105355161950182,
          0.8201289575427168,
          -1.650388692143229,
          -0.2648817286449447,
          -0.7452691095063751,
          1.7868926892834924,
          -0.8814503346799827,
          -0.06151876483423875,
          0.9779962985757222,
          -0.9626365512082998,
          -1.8684057658078863,
          -0.4985095156624019,
          0.09801251739717784,
          -0.9048087424806065,
          0.39923318225585497,
          0.8007870834966261,
          0.04492687871960958,
          -0.13447093178177616,
          0.6955513931404235,
          -1.6664237297318127,
          -0.06878796517969679,
          -2.0271677100118843,
          1.0054649423548643,
          -0.935485681989698,
          -0.4877090511885543,
          -2.1691727226848325,
          1.8730951291540747,
          1.9701291532645244,
          -0.6072367365041451,
          -0.20267812348350753,
          0.419520074747097,
          -1.3698630814147639,
          0.5457179722128258,
          0.5400887042208458,
          -0.8401643575269793,
          -1.7852954133027419,
          -0.015127204278471754,
          -0.5126761205353862,
          -1.9392192246740192,
          -0.9348399242998332,
          0.13475405165976082,
          0.3226933637818872,
          0.2518508135816996,
          0.6187654522995018,
          0.34584991996916925,
          0.19827494158896725,
          1.3154777020915707,
          1.0843443180742538,
          -1.7842726344419373,
          -0.7368681730249035,
          0.29982786449948673,
          0.055325129415402484,
          -0.22555181039210734,
          0.3253537214948485,
          -0.972508311987855,
          1.5216907051621416,
          -0.8303815536215513,
          2.2176797823958276,
          0.6706758843386869,
          0.7922588968759959,
          -0.6679061378549241,
          -1.9957141479041003,
          -0.16551075387272368,
          -0.42521296568309397,
          0.12230529593625743,
          -0.737934123468278,
          -0.41227840363982143,
          0.022578301223580156,
          0.09629241133641168,
          -0.29384242359572504,
          0.48098038536471205,
          -0.6579014706607186,
          0.8300898029984877,
          0.7520766490943627,
          -0.4047989014015041,
          -0.7405663749500524,
          1.300275639607767,
          0.0621476170640035,
          0.9914132099459558
         ],
         "xaxis": "x7",
         "y": [
          2.395950167703243,
          0.4011665790160146,
          -0.5052385387154442,
          -0.3942371566252391,
          -0.21364305021911828,
          0.43594532497191135,
          0.6259224234031222,
          0.185412186044443,
          -0.6480451046733444,
          -0.8073701561029344,
          0.3086398159337038,
          0.40896197444841126,
          -0.1496317018826678,
          0.008520897127094368,
          -0.37877268064955,
          1.2535502967513548,
          -0.8177967117036561,
          -0.04946135797232314,
          -0.7183013023150779,
          -1.3447272277949869,
          0.41260120152215496,
          1.33359903067863,
          0.3671958190478347,
          0.8236499541071457,
          2.3347971433163424,
          -0.5771650158144527,
          -0.2251481350890585,
          -0.9435813597330984,
          0.8453434644325502,
          -0.21978075472742842,
          0.12090913168294705,
          1.3238965924999886,
          -1.242242230242268,
          -1.767118741764655,
          -1.039313253025596,
          -1.3642511383582916,
          2.018414865068438,
          0.9965547242299222,
          -0.19942697072610457,
          -1.1706562780182612,
          -0.5595449835820688,
          1.151778463952504,
          -1.143226604397329,
          -0.663554837473901,
          -0.3527941140626611,
          -0.3970287607005498,
          0.06988660301060044,
          -0.40904957810275894,
          1.2239473808056882,
          1.4503012453471353,
          -0.7099546586223381,
          0.1955292008469326,
          -0.9682868269540975,
          -0.6066626776294081,
          1.1271596955346652,
          -0.06980868330920874,
          1.2501046888418872,
          -0.7711144899188074,
          1.00068801591415,
          -0.30428583621033645,
          -0.5699992904635901,
          -1.1394997915954335,
          -1.3178505709741983,
          -0.5362050779147439,
          -1.0081773680965436,
          1.7769241713514654,
          -1.7573616768732496,
          -1.4171193570499716,
          1.9335299038258698,
          -0.08421774918244486,
          -0.3712113381043379,
          1.0037717622849058,
          -0.7649009639855259,
          0.8067863038735369,
          0.73994466595083,
          1.6230867298471527,
          0.36667123116095157,
          0.38490337507613426,
          -1.1667875323245254,
          1.1022912167479761,
          0.036114867420814295,
          0.21253242351549598,
          -1.0133323362101818,
          -0.045069781891611274,
          0.8566552134265603,
          -1.9136470404042818,
          1.2980627554809563,
          -0.359342519582086,
          -2.7620029335220795,
          -0.18996686862109757,
          0.01672937162273757,
          -0.5646206196563005,
          1.80341766720294,
          2.2834787562600174,
          -0.5206495440594276,
          0.0014904575692281095,
          -0.37866407377310024,
          -0.3283192827529023,
          0.48484304460629934,
          -0.803938936523087
         ],
         "yaxis": "y7"
        },
        {
         "line": {
          "color": "rgba(128, 128, 128, 1.0)",
          "dash": "solid",
          "shape": "linear",
          "width": 1.3
         },
         "marker": {
          "size": 2,
          "symbol": "circle"
         },
         "mode": "markers",
         "name": "B",
         "text": "",
         "type": "scatter",
         "x": [
          0.36755381357114664,
          1.5866634641494763,
          -0.0016882635232418383,
          0.30481516546547754,
          -1.1460579793852106,
          0.18731553992418792,
          -0.7340415243278909,
          1.4681758380718968,
          0.6109156444057225,
          0.8636566081800396,
          -1.2042896973027075,
          -0.717285088620604,
          -0.27926979285461195,
          -2.27782884292265,
          -1.1456024387434294,
          -0.1800217010084489,
          0.785832135922479,
          -2.630458514106578,
          -0.2628149102421362,
          1.0761508998209481,
          -0.6181868880517446,
          0.5644249552487409,
          0.1376512701946862,
          -1.0643470491969753,
          1.8326826957178588,
          0.08728948571471955,
          -0.9472986678785581,
          -2.188688147512093,
          -0.7094221230993478,
          -0.28614802083519075,
          -0.48367152612082537,
          -0.9609704154017971,
          0.1744627506306088,
          0.7508229866038417,
          -0.337165746033092,
          -1.5903644266779202,
          2.228907207340895,
          -0.9478162039494671,
          0.27593618307892154,
          0.46010096005631257,
          0.04756331409774407,
          1.1287002598451472,
          0.18506283525199643,
          -0.6592959249978171,
          0.4301598022789856,
          -0.011438549207886901,
          0.7132425090647524,
          -0.6744260407693818,
          -1.0462246129155746,
          0.03198300689870275,
          -1.0994408136210951,
          -1.113758931877566,
          1.530382010628822,
          0.4135996875452047,
          -0.36336300948095324,
          0.3141181281423151,
          -0.4683804485386927,
          0.883379291693893,
          -1.2366918685672104,
          -0.8887760161020599,
          1.1407716944151174,
          0.20815316548169516,
          -0.8895268304752171,
          -2.487641320009603,
          1.2669697435451026,
          -0.10918129777148618,
          -0.7291768460835901,
          -0.03115806750970858,
          0.7255449564277417,
          0.051499144496555294,
          0.1452122127315349,
          0.4713464248472897,
          0.34120215169591545,
          -0.5319128893521675,
          -0.24273195108086826,
          0.30572900353506227,
          0.7753034135589412,
          -0.7913533202524138,
          0.3192616910868719,
          -1.8917692479218562,
          1.183999529257435,
          0.3856430891754346,
          -0.26119581670676495,
          0.9045642887654469,
          -2.0546395471207317,
          0.49571308447610857,
          0.30788575151268355,
          0.8461911621944069,
          1.7572508576574226,
          -0.46684102667288335,
          0.0213978276901902,
          -0.22812548617914455,
          0.33387665321982846,
          1.1207365511896488,
          -0.7548904321132596,
          0.8495131759537213,
          -0.6024092649912318,
          -0.3645591543801789,
          1.4134123567488515,
          -0.7965566970465708
         ],
         "xaxis": "x8",
         "y": [
          2.395950167703243,
          0.4011665790160146,
          -0.5052385387154442,
          -0.3942371566252391,
          -0.21364305021911828,
          0.43594532497191135,
          0.6259224234031222,
          0.185412186044443,
          -0.6480451046733444,
          -0.8073701561029344,
          0.3086398159337038,
          0.40896197444841126,
          -0.1496317018826678,
          0.008520897127094368,
          -0.37877268064955,
          1.2535502967513548,
          -0.8177967117036561,
          -0.04946135797232314,
          -0.7183013023150779,
          -1.3447272277949869,
          0.41260120152215496,
          1.33359903067863,
          0.3671958190478347,
          0.8236499541071457,
          2.3347971433163424,
          -0.5771650158144527,
          -0.2251481350890585,
          -0.9435813597330984,
          0.8453434644325502,
          -0.21978075472742842,
          0.12090913168294705,
          1.3238965924999886,
          -1.242242230242268,
          -1.767118741764655,
          -1.039313253025596,
          -1.3642511383582916,
          2.018414865068438,
          0.9965547242299222,
          -0.19942697072610457,
          -1.1706562780182612,
          -0.5595449835820688,
          1.151778463952504,
          -1.143226604397329,
          -0.663554837473901,
          -0.3527941140626611,
          -0.3970287607005498,
          0.06988660301060044,
          -0.40904957810275894,
          1.2239473808056882,
          1.4503012453471353,
          -0.7099546586223381,
          0.1955292008469326,
          -0.9682868269540975,
          -0.6066626776294081,
          1.1271596955346652,
          -0.06980868330920874,
          1.2501046888418872,
          -0.7711144899188074,
          1.00068801591415,
          -0.30428583621033645,
          -0.5699992904635901,
          -1.1394997915954335,
          -1.3178505709741983,
          -0.5362050779147439,
          -1.0081773680965436,
          1.7769241713514654,
          -1.7573616768732496,
          -1.4171193570499716,
          1.9335299038258698,
          -0.08421774918244486,
          -0.3712113381043379,
          1.0037717622849058,
          -0.7649009639855259,
          0.8067863038735369,
          0.73994466595083,
          1.6230867298471527,
          0.36667123116095157,
          0.38490337507613426,
          -1.1667875323245254,
          1.1022912167479761,
          0.036114867420814295,
          0.21253242351549598,
          -1.0133323362101818,
          -0.045069781891611274,
          0.8566552134265603,
          -1.9136470404042818,
          1.2980627554809563,
          -0.359342519582086,
          -2.7620029335220795,
          -0.18996686862109757,
          0.01672937162273757,
          -0.5646206196563005,
          1.80341766720294,
          2.2834787562600174,
          -0.5206495440594276,
          0.0014904575692281095,
          -0.37866407377310024,
          -0.3283192827529023,
          0.48484304460629934,
          -0.803938936523087
         ],
         "yaxis": "y8"
        },
        {
         "line": {
          "color": "rgba(128, 128, 128, 1.0)",
          "dash": "solid",
          "shape": "linear",
          "width": 1.3
         },
         "marker": {
          "size": 2,
          "symbol": "circle"
         },
         "mode": "markers",
         "name": "C",
         "text": "",
         "type": "scatter",
         "x": [
          -2.0179175343734688,
          0.9233803166017815,
          1.0222921258112883,
          -1.5427079018271743,
          0.9534677415959142,
          1.6139729466741866,
          -0.49068513401485064,
          0.6406132073703192,
          0.18167756204418314,
          -0.9019463260024844,
          1.1277902478070898,
          -0.5492318874813171,
          0.40254477215755796,
          0.20456328644346478,
          0.8484682084553806,
          1.598340262193149,
          -0.3885036558297409,
          0.7669440765048724,
          0.5721831877604494,
          -0.35869921119774845,
          1.275872979836392,
          -1.5377322892971523,
          0.9397524846531856,
          1.2378549284154148,
          0.45562500468005257,
          1.9220064474824583,
          0.3788446677627523,
          -1.6272530974099786,
          1.548747250020298,
          0.35367122733264206,
          -1.6023537985805665,
          -0.2743189849606666,
          1.6451749536118985,
          0.7660625343797965,
          -0.6551561273192944,
          2.2894165994992624,
          -0.30049348682681154,
          -0.1426257921945078,
          -0.3509331819696133,
          0.8066088439981102,
          -0.8190431907381289,
          0.33839591532473734,
          0.029153055130530316,
          0.04075026670195348,
          0.9095559195154234,
          -0.45874347933067305,
          0.23720429403928597,
          1.8818167393804857,
          -1.226472966530045,
          1.0222059444120426,
          0.786664742156235,
          -0.856175743606393,
          -1.2967015187714002,
          -1.3397627343890512,
          -0.7740855332934843,
          -2.0651785264446603,
          -0.43263697200185763,
          -0.13962494342840498,
          1.0979198353286066,
          -2.5008648450355797,
          0.7363401239497037,
          -1.70332552593329,
          -0.3906840182946408,
          -0.6357483053025298,
          -1.9455432716535508,
          -0.5398111243240811,
          -0.567472688932623,
          -0.6141447633033629,
          0.8011189183895611,
          -1.2128507855740867,
          -0.37599186611637914,
          1.4623963889164369,
          -0.7631731022882191,
          -0.49931213287490084,
          2.2156779881392468,
          -0.22361959827960393,
          -0.18881355505333997,
          0.1563814679055965,
          -0.04432271649482479,
          0.8444078862992042,
          1.262089825064193,
          1.409022756908488,
          -0.8371506916682264,
          -0.19411419725649035,
          1.3917668500786569,
          -0.10654778503241351,
          0.5073768369051679,
          -2.3983216306246313,
          1.100498582230519,
          -0.8995606298174025,
          -0.6816405917690144,
          0.6642734688092117,
          0.3118612734468044,
          1.2364404904823296,
          1.5917519675688976,
          1.248130459217827,
          1.1785659741667693,
          0.7177544645767607,
          -1.0558469610199113,
          1.6382365853024183
         ],
         "xaxis": "x9",
         "y": [
          -0.6976331963008978,
          0.4427226738215899,
          -0.5278849581553196,
          0.08357712350404232,
          0.2985644766584697,
          -1.168236300018726,
          -0.07975759208579772,
          2.605684681915098,
          0.23237882392158934,
          -1.5010257824011846,
          -1.0082510510416975,
          -0.6900419533536168,
          -1.259611906566042,
          0.6334244622734533,
          2.049644540477798,
          -0.4125152045772619,
          -0.08379527165547741,
          1.3461944975135538,
          0.07312282676592445,
          0.09608911388057328,
          -1.3379481423112967,
          -0.7105355161950182,
          0.8201289575427168,
          -1.650388692143229,
          -0.2648817286449447,
          -0.7452691095063751,
          1.7868926892834924,
          -0.8814503346799827,
          -0.06151876483423875,
          0.9779962985757222,
          -0.9626365512082998,
          -1.8684057658078863,
          -0.4985095156624019,
          0.09801251739717784,
          -0.9048087424806065,
          0.39923318225585497,
          0.8007870834966261,
          0.04492687871960958,
          -0.13447093178177616,
          0.6955513931404235,
          -1.6664237297318127,
          -0.06878796517969679,
          -2.0271677100118843,
          1.0054649423548643,
          -0.935485681989698,
          -0.4877090511885543,
          -2.1691727226848325,
          1.8730951291540747,
          1.9701291532645244,
          -0.6072367365041451,
          -0.20267812348350753,
          0.419520074747097,
          -1.3698630814147639,
          0.5457179722128258,
          0.5400887042208458,
          -0.8401643575269793,
          -1.7852954133027419,
          -0.015127204278471754,
          -0.5126761205353862,
          -1.9392192246740192,
          -0.9348399242998332,
          0.13475405165976082,
          0.3226933637818872,
          0.2518508135816996,
          0.6187654522995018,
          0.34584991996916925,
          0.19827494158896725,
          1.3154777020915707,
          1.0843443180742538,
          -1.7842726344419373,
          -0.7368681730249035,
          0.29982786449948673,
          0.055325129415402484,
          -0.22555181039210734,
          0.3253537214948485,
          -0.972508311987855,
          1.5216907051621416,
          -0.8303815536215513,
          2.2176797823958276,
          0.6706758843386869,
          0.7922588968759959,
          -0.6679061378549241,
          -1.9957141479041003,
          -0.16551075387272368,
          -0.42521296568309397,
          0.12230529593625743,
          -0.737934123468278,
          -0.41227840363982143,
          0.022578301223580156,
          0.09629241133641168,
          -0.29384242359572504,
          0.48098038536471205,
          -0.6579014706607186,
          0.8300898029984877,
          0.7520766490943627,
          -0.4047989014015041,
          -0.7405663749500524,
          1.300275639607767,
          0.0621476170640035,
          0.9914132099459558
         ],
         "yaxis": "y9"
        },
        {
         "line": {
          "color": "rgba(128, 128, 128, 1.0)",
          "dash": "solid",
          "shape": "linear",
          "width": 1.3
         },
         "marker": {
          "size": 2,
          "symbol": "circle"
         },
         "mode": "markers",
         "name": "C",
         "text": "",
         "type": "scatter",
         "x": [
          2.395950167703243,
          0.4011665790160146,
          -0.5052385387154442,
          -0.3942371566252391,
          -0.21364305021911828,
          0.43594532497191135,
          0.6259224234031222,
          0.185412186044443,
          -0.6480451046733444,
          -0.8073701561029344,
          0.3086398159337038,
          0.40896197444841126,
          -0.1496317018826678,
          0.008520897127094368,
          -0.37877268064955,
          1.2535502967513548,
          -0.8177967117036561,
          -0.04946135797232314,
          -0.7183013023150779,
          -1.3447272277949869,
          0.41260120152215496,
          1.33359903067863,
          0.3671958190478347,
          0.8236499541071457,
          2.3347971433163424,
          -0.5771650158144527,
          -0.2251481350890585,
          -0.9435813597330984,
          0.8453434644325502,
          -0.21978075472742842,
          0.12090913168294705,
          1.3238965924999886,
          -1.242242230242268,
          -1.767118741764655,
          -1.039313253025596,
          -1.3642511383582916,
          2.018414865068438,
          0.9965547242299222,
          -0.19942697072610457,
          -1.1706562780182612,
          -0.5595449835820688,
          1.151778463952504,
          -1.143226604397329,
          -0.663554837473901,
          -0.3527941140626611,
          -0.3970287607005498,
          0.06988660301060044,
          -0.40904957810275894,
          1.2239473808056882,
          1.4503012453471353,
          -0.7099546586223381,
          0.1955292008469326,
          -0.9682868269540975,
          -0.6066626776294081,
          1.1271596955346652,
          -0.06980868330920874,
          1.2501046888418872,
          -0.7711144899188074,
          1.00068801591415,
          -0.30428583621033645,
          -0.5699992904635901,
          -1.1394997915954335,
          -1.3178505709741983,
          -0.5362050779147439,
          -1.0081773680965436,
          1.7769241713514654,
          -1.7573616768732496,
          -1.4171193570499716,
          1.9335299038258698,
          -0.08421774918244486,
          -0.3712113381043379,
          1.0037717622849058,
          -0.7649009639855259,
          0.8067863038735369,
          0.73994466595083,
          1.6230867298471527,
          0.36667123116095157,
          0.38490337507613426,
          -1.1667875323245254,
          1.1022912167479761,
          0.036114867420814295,
          0.21253242351549598,
          -1.0133323362101818,
          -0.045069781891611274,
          0.8566552134265603,
          -1.9136470404042818,
          1.2980627554809563,
          -0.359342519582086,
          -2.7620029335220795,
          -0.18996686862109757,
          0.01672937162273757,
          -0.5646206196563005,
          1.80341766720294,
          2.2834787562600174,
          -0.5206495440594276,
          0.0014904575692281095,
          -0.37866407377310024,
          -0.3283192827529023,
          0.48484304460629934,
          -0.803938936523087
         ],
         "xaxis": "x10",
         "y": [
          -0.6976331963008978,
          0.4427226738215899,
          -0.5278849581553196,
          0.08357712350404232,
          0.2985644766584697,
          -1.168236300018726,
          -0.07975759208579772,
          2.605684681915098,
          0.23237882392158934,
          -1.5010257824011846,
          -1.0082510510416975,
          -0.6900419533536168,
          -1.259611906566042,
          0.6334244622734533,
          2.049644540477798,
          -0.4125152045772619,
          -0.08379527165547741,
          1.3461944975135538,
          0.07312282676592445,
          0.09608911388057328,
          -1.3379481423112967,
          -0.7105355161950182,
          0.8201289575427168,
          -1.650388692143229,
          -0.2648817286449447,
          -0.7452691095063751,
          1.7868926892834924,
          -0.8814503346799827,
          -0.06151876483423875,
          0.9779962985757222,
          -0.9626365512082998,
          -1.8684057658078863,
          -0.4985095156624019,
          0.09801251739717784,
          -0.9048087424806065,
          0.39923318225585497,
          0.8007870834966261,
          0.04492687871960958,
          -0.13447093178177616,
          0.6955513931404235,
          -1.6664237297318127,
          -0.06878796517969679,
          -2.0271677100118843,
          1.0054649423548643,
          -0.935485681989698,
          -0.4877090511885543,
          -2.1691727226848325,
          1.8730951291540747,
          1.9701291532645244,
          -0.6072367365041451,
          -0.20267812348350753,
          0.419520074747097,
          -1.3698630814147639,
          0.5457179722128258,
          0.5400887042208458,
          -0.8401643575269793,
          -1.7852954133027419,
          -0.015127204278471754,
          -0.5126761205353862,
          -1.9392192246740192,
          -0.9348399242998332,
          0.13475405165976082,
          0.3226933637818872,
          0.2518508135816996,
          0.6187654522995018,
          0.34584991996916925,
          0.19827494158896725,
          1.3154777020915707,
          1.0843443180742538,
          -1.7842726344419373,
          -0.7368681730249035,
          0.29982786449948673,
          0.055325129415402484,
          -0.22555181039210734,
          0.3253537214948485,
          -0.972508311987855,
          1.5216907051621416,
          -0.8303815536215513,
          2.2176797823958276,
          0.6706758843386869,
          0.7922588968759959,
          -0.6679061378549241,
          -1.9957141479041003,
          -0.16551075387272368,
          -0.42521296568309397,
          0.12230529593625743,
          -0.737934123468278,
          -0.41227840363982143,
          0.022578301223580156,
          0.09629241133641168,
          -0.29384242359572504,
          0.48098038536471205,
          -0.6579014706607186,
          0.8300898029984877,
          0.7520766490943627,
          -0.4047989014015041,
          -0.7405663749500524,
          1.300275639607767,
          0.0621476170640035,
          0.9914132099459558
         ],
         "yaxis": "y10"
        },
        {
         "histfunc": "count",
         "histnorm": "",
         "marker": {
          "color": "rgba(50, 171, 96, 1.0)",
          "line": {
           "color": "#4D5663",
           "width": 1.3
          }
         },
         "name": "C",
         "nbinsx": 10,
         "opacity": 0.8,
         "orientation": "v",
         "type": "histogram",
         "x": [
          -0.6976331963008978,
          0.4427226738215899,
          -0.5278849581553196,
          0.08357712350404232,
          0.2985644766584697,
          -1.168236300018726,
          -0.07975759208579772,
          2.605684681915098,
          0.23237882392158934,
          -1.5010257824011846,
          -1.0082510510416975,
          -0.6900419533536168,
          -1.259611906566042,
          0.6334244622734533,
          2.049644540477798,
          -0.4125152045772619,
          -0.08379527165547741,
          1.3461944975135538,
          0.07312282676592445,
          0.09608911388057328,
          -1.3379481423112967,
          -0.7105355161950182,
          0.8201289575427168,
          -1.650388692143229,
          -0.2648817286449447,
          -0.7452691095063751,
          1.7868926892834924,
          -0.8814503346799827,
          -0.06151876483423875,
          0.9779962985757222,
          -0.9626365512082998,
          -1.8684057658078863,
          -0.4985095156624019,
          0.09801251739717784,
          -0.9048087424806065,
          0.39923318225585497,
          0.8007870834966261,
          0.04492687871960958,
          -0.13447093178177616,
          0.6955513931404235,
          -1.6664237297318127,
          -0.06878796517969679,
          -2.0271677100118843,
          1.0054649423548643,
          -0.935485681989698,
          -0.4877090511885543,
          -2.1691727226848325,
          1.8730951291540747,
          1.9701291532645244,
          -0.6072367365041451,
          -0.20267812348350753,
          0.419520074747097,
          -1.3698630814147639,
          0.5457179722128258,
          0.5400887042208458,
          -0.8401643575269793,
          -1.7852954133027419,
          -0.015127204278471754,
          -0.5126761205353862,
          -1.9392192246740192,
          -0.9348399242998332,
          0.13475405165976082,
          0.3226933637818872,
          0.2518508135816996,
          0.6187654522995018,
          0.34584991996916925,
          0.19827494158896725,
          1.3154777020915707,
          1.0843443180742538,
          -1.7842726344419373,
          -0.7368681730249035,
          0.29982786449948673,
          0.055325129415402484,
          -0.22555181039210734,
          0.3253537214948485,
          -0.972508311987855,
          1.5216907051621416,
          -0.8303815536215513,
          2.2176797823958276,
          0.6706758843386869,
          0.7922588968759959,
          -0.6679061378549241,
          -1.9957141479041003,
          -0.16551075387272368,
          -0.42521296568309397,
          0.12230529593625743,
          -0.737934123468278,
          -0.41227840363982143,
          0.022578301223580156,
          0.09629241133641168,
          -0.29384242359572504,
          0.48098038536471205,
          -0.6579014706607186,
          0.8300898029984877,
          0.7520766490943627,
          -0.4047989014015041,
          -0.7405663749500524,
          1.300275639607767,
          0.0621476170640035,
          0.9914132099459558
         ],
         "xaxis": "x11",
         "yaxis": "y11"
        },
        {
         "line": {
          "color": "rgba(128, 128, 128, 1.0)",
          "dash": "solid",
          "shape": "linear",
          "width": 1.3
         },
         "marker": {
          "size": 2,
          "symbol": "circle"
         },
         "mode": "markers",
         "name": "C",
         "text": "",
         "type": "scatter",
         "x": [
          0.36755381357114664,
          1.5866634641494763,
          -0.0016882635232418383,
          0.30481516546547754,
          -1.1460579793852106,
          0.18731553992418792,
          -0.7340415243278909,
          1.4681758380718968,
          0.6109156444057225,
          0.8636566081800396,
          -1.2042896973027075,
          -0.717285088620604,
          -0.27926979285461195,
          -2.27782884292265,
          -1.1456024387434294,
          -0.1800217010084489,
          0.785832135922479,
          -2.630458514106578,
          -0.2628149102421362,
          1.0761508998209481,
          -0.6181868880517446,
          0.5644249552487409,
          0.1376512701946862,
          -1.0643470491969753,
          1.8326826957178588,
          0.08728948571471955,
          -0.9472986678785581,
          -2.188688147512093,
          -0.7094221230993478,
          -0.28614802083519075,
          -0.48367152612082537,
          -0.9609704154017971,
          0.1744627506306088,
          0.7508229866038417,
          -0.337165746033092,
          -1.5903644266779202,
          2.228907207340895,
          -0.9478162039494671,
          0.27593618307892154,
          0.46010096005631257,
          0.04756331409774407,
          1.1287002598451472,
          0.18506283525199643,
          -0.6592959249978171,
          0.4301598022789856,
          -0.011438549207886901,
          0.7132425090647524,
          -0.6744260407693818,
          -1.0462246129155746,
          0.03198300689870275,
          -1.0994408136210951,
          -1.113758931877566,
          1.530382010628822,
          0.4135996875452047,
          -0.36336300948095324,
          0.3141181281423151,
          -0.4683804485386927,
          0.883379291693893,
          -1.2366918685672104,
          -0.8887760161020599,
          1.1407716944151174,
          0.20815316548169516,
          -0.8895268304752171,
          -2.487641320009603,
          1.2669697435451026,
          -0.10918129777148618,
          -0.7291768460835901,
          -0.03115806750970858,
          0.7255449564277417,
          0.051499144496555294,
          0.1452122127315349,
          0.4713464248472897,
          0.34120215169591545,
          -0.5319128893521675,
          -0.24273195108086826,
          0.30572900353506227,
          0.7753034135589412,
          -0.7913533202524138,
          0.3192616910868719,
          -1.8917692479218562,
          1.183999529257435,
          0.3856430891754346,
          -0.26119581670676495,
          0.9045642887654469,
          -2.0546395471207317,
          0.49571308447610857,
          0.30788575151268355,
          0.8461911621944069,
          1.7572508576574226,
          -0.46684102667288335,
          0.0213978276901902,
          -0.22812548617914455,
          0.33387665321982846,
          1.1207365511896488,
          -0.7548904321132596,
          0.8495131759537213,
          -0.6024092649912318,
          -0.3645591543801789,
          1.4134123567488515,
          -0.7965566970465708
         ],
         "xaxis": "x12",
         "y": [
          -0.6976331963008978,
          0.4427226738215899,
          -0.5278849581553196,
          0.08357712350404232,
          0.2985644766584697,
          -1.168236300018726,
          -0.07975759208579772,
          2.605684681915098,
          0.23237882392158934,
          -1.5010257824011846,
          -1.0082510510416975,
          -0.6900419533536168,
          -1.259611906566042,
          0.6334244622734533,
          2.049644540477798,
          -0.4125152045772619,
          -0.08379527165547741,
          1.3461944975135538,
          0.07312282676592445,
          0.09608911388057328,
          -1.3379481423112967,
          -0.7105355161950182,
          0.8201289575427168,
          -1.650388692143229,
          -0.2648817286449447,
          -0.7452691095063751,
          1.7868926892834924,
          -0.8814503346799827,
          -0.06151876483423875,
          0.9779962985757222,
          -0.9626365512082998,
          -1.8684057658078863,
          -0.4985095156624019,
          0.09801251739717784,
          -0.9048087424806065,
          0.39923318225585497,
          0.8007870834966261,
          0.04492687871960958,
          -0.13447093178177616,
          0.6955513931404235,
          -1.6664237297318127,
          -0.06878796517969679,
          -2.0271677100118843,
          1.0054649423548643,
          -0.935485681989698,
          -0.4877090511885543,
          -2.1691727226848325,
          1.8730951291540747,
          1.9701291532645244,
          -0.6072367365041451,
          -0.20267812348350753,
          0.419520074747097,
          -1.3698630814147639,
          0.5457179722128258,
          0.5400887042208458,
          -0.8401643575269793,
          -1.7852954133027419,
          -0.015127204278471754,
          -0.5126761205353862,
          -1.9392192246740192,
          -0.9348399242998332,
          0.13475405165976082,
          0.3226933637818872,
          0.2518508135816996,
          0.6187654522995018,
          0.34584991996916925,
          0.19827494158896725,
          1.3154777020915707,
          1.0843443180742538,
          -1.7842726344419373,
          -0.7368681730249035,
          0.29982786449948673,
          0.055325129415402484,
          -0.22555181039210734,
          0.3253537214948485,
          -0.972508311987855,
          1.5216907051621416,
          -0.8303815536215513,
          2.2176797823958276,
          0.6706758843386869,
          0.7922588968759959,
          -0.6679061378549241,
          -1.9957141479041003,
          -0.16551075387272368,
          -0.42521296568309397,
          0.12230529593625743,
          -0.737934123468278,
          -0.41227840363982143,
          0.022578301223580156,
          0.09629241133641168,
          -0.29384242359572504,
          0.48098038536471205,
          -0.6579014706607186,
          0.8300898029984877,
          0.7520766490943627,
          -0.4047989014015041,
          -0.7405663749500524,
          1.300275639607767,
          0.0621476170640035,
          0.9914132099459558
         ],
         "yaxis": "y12"
        },
        {
         "line": {
          "color": "rgba(128, 128, 128, 1.0)",
          "dash": "solid",
          "shape": "linear",
          "width": 1.3
         },
         "marker": {
          "size": 2,
          "symbol": "circle"
         },
         "mode": "markers",
         "name": "D",
         "text": "",
         "type": "scatter",
         "x": [
          -2.0179175343734688,
          0.9233803166017815,
          1.0222921258112883,
          -1.5427079018271743,
          0.9534677415959142,
          1.6139729466741866,
          -0.49068513401485064,
          0.6406132073703192,
          0.18167756204418314,
          -0.9019463260024844,
          1.1277902478070898,
          -0.5492318874813171,
          0.40254477215755796,
          0.20456328644346478,
          0.8484682084553806,
          1.598340262193149,
          -0.3885036558297409,
          0.7669440765048724,
          0.5721831877604494,
          -0.35869921119774845,
          1.275872979836392,
          -1.5377322892971523,
          0.9397524846531856,
          1.2378549284154148,
          0.45562500468005257,
          1.9220064474824583,
          0.3788446677627523,
          -1.6272530974099786,
          1.548747250020298,
          0.35367122733264206,
          -1.6023537985805665,
          -0.2743189849606666,
          1.6451749536118985,
          0.7660625343797965,
          -0.6551561273192944,
          2.2894165994992624,
          -0.30049348682681154,
          -0.1426257921945078,
          -0.3509331819696133,
          0.8066088439981102,
          -0.8190431907381289,
          0.33839591532473734,
          0.029153055130530316,
          0.04075026670195348,
          0.9095559195154234,
          -0.45874347933067305,
          0.23720429403928597,
          1.8818167393804857,
          -1.226472966530045,
          1.0222059444120426,
          0.786664742156235,
          -0.856175743606393,
          -1.2967015187714002,
          -1.3397627343890512,
          -0.7740855332934843,
          -2.0651785264446603,
          -0.43263697200185763,
          -0.13962494342840498,
          1.0979198353286066,
          -2.5008648450355797,
          0.7363401239497037,
          -1.70332552593329,
          -0.3906840182946408,
          -0.6357483053025298,
          -1.9455432716535508,
          -0.5398111243240811,
          -0.567472688932623,
          -0.6141447633033629,
          0.8011189183895611,
          -1.2128507855740867,
          -0.37599186611637914,
          1.4623963889164369,
          -0.7631731022882191,
          -0.49931213287490084,
          2.2156779881392468,
          -0.22361959827960393,
          -0.18881355505333997,
          0.1563814679055965,
          -0.04432271649482479,
          0.8444078862992042,
          1.262089825064193,
          1.409022756908488,
          -0.8371506916682264,
          -0.19411419725649035,
          1.3917668500786569,
          -0.10654778503241351,
          0.5073768369051679,
          -2.3983216306246313,
          1.100498582230519,
          -0.8995606298174025,
          -0.6816405917690144,
          0.6642734688092117,
          0.3118612734468044,
          1.2364404904823296,
          1.5917519675688976,
          1.248130459217827,
          1.1785659741667693,
          0.7177544645767607,
          -1.0558469610199113,
          1.6382365853024183
         ],
         "xaxis": "x13",
         "y": [
          0.36755381357114664,
          1.5866634641494763,
          -0.0016882635232418383,
          0.30481516546547754,
          -1.1460579793852106,
          0.18731553992418792,
          -0.7340415243278909,
          1.4681758380718968,
          0.6109156444057225,
          0.8636566081800396,
          -1.2042896973027075,
          -0.717285088620604,
          -0.27926979285461195,
          -2.27782884292265,
          -1.1456024387434294,
          -0.1800217010084489,
          0.785832135922479,
          -2.630458514106578,
          -0.2628149102421362,
          1.0761508998209481,
          -0.6181868880517446,
          0.5644249552487409,
          0.1376512701946862,
          -1.0643470491969753,
          1.8326826957178588,
          0.08728948571471955,
          -0.9472986678785581,
          -2.188688147512093,
          -0.7094221230993478,
          -0.28614802083519075,
          -0.48367152612082537,
          -0.9609704154017971,
          0.1744627506306088,
          0.7508229866038417,
          -0.337165746033092,
          -1.5903644266779202,
          2.228907207340895,
          -0.9478162039494671,
          0.27593618307892154,
          0.46010096005631257,
          0.04756331409774407,
          1.1287002598451472,
          0.18506283525199643,
          -0.6592959249978171,
          0.4301598022789856,
          -0.011438549207886901,
          0.7132425090647524,
          -0.6744260407693818,
          -1.0462246129155746,
          0.03198300689870275,
          -1.0994408136210951,
          -1.113758931877566,
          1.530382010628822,
          0.4135996875452047,
          -0.36336300948095324,
          0.3141181281423151,
          -0.4683804485386927,
          0.883379291693893,
          -1.2366918685672104,
          -0.8887760161020599,
          1.1407716944151174,
          0.20815316548169516,
          -0.8895268304752171,
          -2.487641320009603,
          1.2669697435451026,
          -0.10918129777148618,
          -0.7291768460835901,
          -0.03115806750970858,
          0.7255449564277417,
          0.051499144496555294,
          0.1452122127315349,
          0.4713464248472897,
          0.34120215169591545,
          -0.5319128893521675,
          -0.24273195108086826,
          0.30572900353506227,
          0.7753034135589412,
          -0.7913533202524138,
          0.3192616910868719,
          -1.8917692479218562,
          1.183999529257435,
          0.3856430891754346,
          -0.26119581670676495,
          0.9045642887654469,
          -2.0546395471207317,
          0.49571308447610857,
          0.30788575151268355,
          0.8461911621944069,
          1.7572508576574226,
          -0.46684102667288335,
          0.0213978276901902,
          -0.22812548617914455,
          0.33387665321982846,
          1.1207365511896488,
          -0.7548904321132596,
          0.8495131759537213,
          -0.6024092649912318,
          -0.3645591543801789,
          1.4134123567488515,
          -0.7965566970465708
         ],
         "yaxis": "y13"
        },
        {
         "line": {
          "color": "rgba(128, 128, 128, 1.0)",
          "dash": "solid",
          "shape": "linear",
          "width": 1.3
         },
         "marker": {
          "size": 2,
          "symbol": "circle"
         },
         "mode": "markers",
         "name": "D",
         "text": "",
         "type": "scatter",
         "x": [
          2.395950167703243,
          0.4011665790160146,
          -0.5052385387154442,
          -0.3942371566252391,
          -0.21364305021911828,
          0.43594532497191135,
          0.6259224234031222,
          0.185412186044443,
          -0.6480451046733444,
          -0.8073701561029344,
          0.3086398159337038,
          0.40896197444841126,
          -0.1496317018826678,
          0.008520897127094368,
          -0.37877268064955,
          1.2535502967513548,
          -0.8177967117036561,
          -0.04946135797232314,
          -0.7183013023150779,
          -1.3447272277949869,
          0.41260120152215496,
          1.33359903067863,
          0.3671958190478347,
          0.8236499541071457,
          2.3347971433163424,
          -0.5771650158144527,
          -0.2251481350890585,
          -0.9435813597330984,
          0.8453434644325502,
          -0.21978075472742842,
          0.12090913168294705,
          1.3238965924999886,
          -1.242242230242268,
          -1.767118741764655,
          -1.039313253025596,
          -1.3642511383582916,
          2.018414865068438,
          0.9965547242299222,
          -0.19942697072610457,
          -1.1706562780182612,
          -0.5595449835820688,
          1.151778463952504,
          -1.143226604397329,
          -0.663554837473901,
          -0.3527941140626611,
          -0.3970287607005498,
          0.06988660301060044,
          -0.40904957810275894,
          1.2239473808056882,
          1.4503012453471353,
          -0.7099546586223381,
          0.1955292008469326,
          -0.9682868269540975,
          -0.6066626776294081,
          1.1271596955346652,
          -0.06980868330920874,
          1.2501046888418872,
          -0.7711144899188074,
          1.00068801591415,
          -0.30428583621033645,
          -0.5699992904635901,
          -1.1394997915954335,
          -1.3178505709741983,
          -0.5362050779147439,
          -1.0081773680965436,
          1.7769241713514654,
          -1.7573616768732496,
          -1.4171193570499716,
          1.9335299038258698,
          -0.08421774918244486,
          -0.3712113381043379,
          1.0037717622849058,
          -0.7649009639855259,
          0.8067863038735369,
          0.73994466595083,
          1.6230867298471527,
          0.36667123116095157,
          0.38490337507613426,
          -1.1667875323245254,
          1.1022912167479761,
          0.036114867420814295,
          0.21253242351549598,
          -1.0133323362101818,
          -0.045069781891611274,
          0.8566552134265603,
          -1.9136470404042818,
          1.2980627554809563,
          -0.359342519582086,
          -2.7620029335220795,
          -0.18996686862109757,
          0.01672937162273757,
          -0.5646206196563005,
          1.80341766720294,
          2.2834787562600174,
          -0.5206495440594276,
          0.0014904575692281095,
          -0.37866407377310024,
          -0.3283192827529023,
          0.48484304460629934,
          -0.803938936523087
         ],
         "xaxis": "x14",
         "y": [
          0.36755381357114664,
          1.5866634641494763,
          -0.0016882635232418383,
          0.30481516546547754,
          -1.1460579793852106,
          0.18731553992418792,
          -0.7340415243278909,
          1.4681758380718968,
          0.6109156444057225,
          0.8636566081800396,
          -1.2042896973027075,
          -0.717285088620604,
          -0.27926979285461195,
          -2.27782884292265,
          -1.1456024387434294,
          -0.1800217010084489,
          0.785832135922479,
          -2.630458514106578,
          -0.2628149102421362,
          1.0761508998209481,
          -0.6181868880517446,
          0.5644249552487409,
          0.1376512701946862,
          -1.0643470491969753,
          1.8326826957178588,
          0.08728948571471955,
          -0.9472986678785581,
          -2.188688147512093,
          -0.7094221230993478,
          -0.28614802083519075,
          -0.48367152612082537,
          -0.9609704154017971,
          0.1744627506306088,
          0.7508229866038417,
          -0.337165746033092,
          -1.5903644266779202,
          2.228907207340895,
          -0.9478162039494671,
          0.27593618307892154,
          0.46010096005631257,
          0.04756331409774407,
          1.1287002598451472,
          0.18506283525199643,
          -0.6592959249978171,
          0.4301598022789856,
          -0.011438549207886901,
          0.7132425090647524,
          -0.6744260407693818,
          -1.0462246129155746,
          0.03198300689870275,
          -1.0994408136210951,
          -1.113758931877566,
          1.530382010628822,
          0.4135996875452047,
          -0.36336300948095324,
          0.3141181281423151,
          -0.4683804485386927,
          0.883379291693893,
          -1.2366918685672104,
          -0.8887760161020599,
          1.1407716944151174,
          0.20815316548169516,
          -0.8895268304752171,
          -2.487641320009603,
          1.2669697435451026,
          -0.10918129777148618,
          -0.7291768460835901,
          -0.03115806750970858,
          0.7255449564277417,
          0.051499144496555294,
          0.1452122127315349,
          0.4713464248472897,
          0.34120215169591545,
          -0.5319128893521675,
          -0.24273195108086826,
          0.30572900353506227,
          0.7753034135589412,
          -0.7913533202524138,
          0.3192616910868719,
          -1.8917692479218562,
          1.183999529257435,
          0.3856430891754346,
          -0.26119581670676495,
          0.9045642887654469,
          -2.0546395471207317,
          0.49571308447610857,
          0.30788575151268355,
          0.8461911621944069,
          1.7572508576574226,
          -0.46684102667288335,
          0.0213978276901902,
          -0.22812548617914455,
          0.33387665321982846,
          1.1207365511896488,
          -0.7548904321132596,
          0.8495131759537213,
          -0.6024092649912318,
          -0.3645591543801789,
          1.4134123567488515,
          -0.7965566970465708
         ],
         "yaxis": "y14"
        },
        {
         "line": {
          "color": "rgba(128, 128, 128, 1.0)",
          "dash": "solid",
          "shape": "linear",
          "width": 1.3
         },
         "marker": {
          "size": 2,
          "symbol": "circle"
         },
         "mode": "markers",
         "name": "D",
         "text": "",
         "type": "scatter",
         "x": [
          -0.6976331963008978,
          0.4427226738215899,
          -0.5278849581553196,
          0.08357712350404232,
          0.2985644766584697,
          -1.168236300018726,
          -0.07975759208579772,
          2.605684681915098,
          0.23237882392158934,
          -1.5010257824011846,
          -1.0082510510416975,
          -0.6900419533536168,
          -1.259611906566042,
          0.6334244622734533,
          2.049644540477798,
          -0.4125152045772619,
          -0.08379527165547741,
          1.3461944975135538,
          0.07312282676592445,
          0.09608911388057328,
          -1.3379481423112967,
          -0.7105355161950182,
          0.8201289575427168,
          -1.650388692143229,
          -0.2648817286449447,
          -0.7452691095063751,
          1.7868926892834924,
          -0.8814503346799827,
          -0.06151876483423875,
          0.9779962985757222,
          -0.9626365512082998,
          -1.8684057658078863,
          -0.4985095156624019,
          0.09801251739717784,
          -0.9048087424806065,
          0.39923318225585497,
          0.8007870834966261,
          0.04492687871960958,
          -0.13447093178177616,
          0.6955513931404235,
          -1.6664237297318127,
          -0.06878796517969679,
          -2.0271677100118843,
          1.0054649423548643,
          -0.935485681989698,
          -0.4877090511885543,
          -2.1691727226848325,
          1.8730951291540747,
          1.9701291532645244,
          -0.6072367365041451,
          -0.20267812348350753,
          0.419520074747097,
          -1.3698630814147639,
          0.5457179722128258,
          0.5400887042208458,
          -0.8401643575269793,
          -1.7852954133027419,
          -0.015127204278471754,
          -0.5126761205353862,
          -1.9392192246740192,
          -0.9348399242998332,
          0.13475405165976082,
          0.3226933637818872,
          0.2518508135816996,
          0.6187654522995018,
          0.34584991996916925,
          0.19827494158896725,
          1.3154777020915707,
          1.0843443180742538,
          -1.7842726344419373,
          -0.7368681730249035,
          0.29982786449948673,
          0.055325129415402484,
          -0.22555181039210734,
          0.3253537214948485,
          -0.972508311987855,
          1.5216907051621416,
          -0.8303815536215513,
          2.2176797823958276,
          0.6706758843386869,
          0.7922588968759959,
          -0.6679061378549241,
          -1.9957141479041003,
          -0.16551075387272368,
          -0.42521296568309397,
          0.12230529593625743,
          -0.737934123468278,
          -0.41227840363982143,
          0.022578301223580156,
          0.09629241133641168,
          -0.29384242359572504,
          0.48098038536471205,
          -0.6579014706607186,
          0.8300898029984877,
          0.7520766490943627,
          -0.4047989014015041,
          -0.7405663749500524,
          1.300275639607767,
          0.0621476170640035,
          0.9914132099459558
         ],
         "xaxis": "x15",
         "y": [
          0.36755381357114664,
          1.5866634641494763,
          -0.0016882635232418383,
          0.30481516546547754,
          -1.1460579793852106,
          0.18731553992418792,
          -0.7340415243278909,
          1.4681758380718968,
          0.6109156444057225,
          0.8636566081800396,
          -1.2042896973027075,
          -0.717285088620604,
          -0.27926979285461195,
          -2.27782884292265,
          -1.1456024387434294,
          -0.1800217010084489,
          0.785832135922479,
          -2.630458514106578,
          -0.2628149102421362,
          1.0761508998209481,
          -0.6181868880517446,
          0.5644249552487409,
          0.1376512701946862,
          -1.0643470491969753,
          1.8326826957178588,
          0.08728948571471955,
          -0.9472986678785581,
          -2.188688147512093,
          -0.7094221230993478,
          -0.28614802083519075,
          -0.48367152612082537,
          -0.9609704154017971,
          0.1744627506306088,
          0.7508229866038417,
          -0.337165746033092,
          -1.5903644266779202,
          2.228907207340895,
          -0.9478162039494671,
          0.27593618307892154,
          0.46010096005631257,
          0.04756331409774407,
          1.1287002598451472,
          0.18506283525199643,
          -0.6592959249978171,
          0.4301598022789856,
          -0.011438549207886901,
          0.7132425090647524,
          -0.6744260407693818,
          -1.0462246129155746,
          0.03198300689870275,
          -1.0994408136210951,
          -1.113758931877566,
          1.530382010628822,
          0.4135996875452047,
          -0.36336300948095324,
          0.3141181281423151,
          -0.4683804485386927,
          0.883379291693893,
          -1.2366918685672104,
          -0.8887760161020599,
          1.1407716944151174,
          0.20815316548169516,
          -0.8895268304752171,
          -2.487641320009603,
          1.2669697435451026,
          -0.10918129777148618,
          -0.7291768460835901,
          -0.03115806750970858,
          0.7255449564277417,
          0.051499144496555294,
          0.1452122127315349,
          0.4713464248472897,
          0.34120215169591545,
          -0.5319128893521675,
          -0.24273195108086826,
          0.30572900353506227,
          0.7753034135589412,
          -0.7913533202524138,
          0.3192616910868719,
          -1.8917692479218562,
          1.183999529257435,
          0.3856430891754346,
          -0.26119581670676495,
          0.9045642887654469,
          -2.0546395471207317,
          0.49571308447610857,
          0.30788575151268355,
          0.8461911621944069,
          1.7572508576574226,
          -0.46684102667288335,
          0.0213978276901902,
          -0.22812548617914455,
          0.33387665321982846,
          1.1207365511896488,
          -0.7548904321132596,
          0.8495131759537213,
          -0.6024092649912318,
          -0.3645591543801789,
          1.4134123567488515,
          -0.7965566970465708
         ],
         "yaxis": "y15"
        },
        {
         "histfunc": "count",
         "histnorm": "",
         "marker": {
          "color": "rgba(128, 0, 128, 1.0)",
          "line": {
           "color": "#4D5663",
           "width": 1.3
          }
         },
         "name": "D",
         "nbinsx": 10,
         "opacity": 0.8,
         "orientation": "v",
         "type": "histogram",
         "x": [
          0.36755381357114664,
          1.5866634641494763,
          -0.0016882635232418383,
          0.30481516546547754,
          -1.1460579793852106,
          0.18731553992418792,
          -0.7340415243278909,
          1.4681758380718968,
          0.6109156444057225,
          0.8636566081800396,
          -1.2042896973027075,
          -0.717285088620604,
          -0.27926979285461195,
          -2.27782884292265,
          -1.1456024387434294,
          -0.1800217010084489,
          0.785832135922479,
          -2.630458514106578,
          -0.2628149102421362,
          1.0761508998209481,
          -0.6181868880517446,
          0.5644249552487409,
          0.1376512701946862,
          -1.0643470491969753,
          1.8326826957178588,
          0.08728948571471955,
          -0.9472986678785581,
          -2.188688147512093,
          -0.7094221230993478,
          -0.28614802083519075,
          -0.48367152612082537,
          -0.9609704154017971,
          0.1744627506306088,
          0.7508229866038417,
          -0.337165746033092,
          -1.5903644266779202,
          2.228907207340895,
          -0.9478162039494671,
          0.27593618307892154,
          0.46010096005631257,
          0.04756331409774407,
          1.1287002598451472,
          0.18506283525199643,
          -0.6592959249978171,
          0.4301598022789856,
          -0.011438549207886901,
          0.7132425090647524,
          -0.6744260407693818,
          -1.0462246129155746,
          0.03198300689870275,
          -1.0994408136210951,
          -1.113758931877566,
          1.530382010628822,
          0.4135996875452047,
          -0.36336300948095324,
          0.3141181281423151,
          -0.4683804485386927,
          0.883379291693893,
          -1.2366918685672104,
          -0.8887760161020599,
          1.1407716944151174,
          0.20815316548169516,
          -0.8895268304752171,
          -2.487641320009603,
          1.2669697435451026,
          -0.10918129777148618,
          -0.7291768460835901,
          -0.03115806750970858,
          0.7255449564277417,
          0.051499144496555294,
          0.1452122127315349,
          0.4713464248472897,
          0.34120215169591545,
          -0.5319128893521675,
          -0.24273195108086826,
          0.30572900353506227,
          0.7753034135589412,
          -0.7913533202524138,
          0.3192616910868719,
          -1.8917692479218562,
          1.183999529257435,
          0.3856430891754346,
          -0.26119581670676495,
          0.9045642887654469,
          -2.0546395471207317,
          0.49571308447610857,
          0.30788575151268355,
          0.8461911621944069,
          1.7572508576574226,
          -0.46684102667288335,
          0.0213978276901902,
          -0.22812548617914455,
          0.33387665321982846,
          1.1207365511896488,
          -0.7548904321132596,
          0.8495131759537213,
          -0.6024092649912318,
          -0.3645591543801789,
          1.4134123567488515,
          -0.7965566970465708
         ],
         "xaxis": "x16",
         "yaxis": "y16"
        }
       ],
       "layout": {
        "bargap": 0.02,
        "legend": {
         "bgcolor": "#F5F6F9",
         "font": {
          "color": "#4D5663"
         }
        },
        "paper_bgcolor": "#F5F6F9",
        "plot_bgcolor": "#F5F6F9",
        "showlegend": false,
        "template": {
         "data": {
          "bar": [
           {
            "error_x": {
             "color": "#2a3f5f"
            },
            "error_y": {
             "color": "#2a3f5f"
            },
            "marker": {
             "line": {
              "color": "#E5ECF6",
              "width": 0.5
             },
             "pattern": {
              "fillmode": "overlay",
              "size": 10,
              "solidity": 0.2
             }
            },
            "type": "bar"
           }
          ],
          "barpolar": [
           {
            "marker": {
             "line": {
              "color": "#E5ECF6",
              "width": 0.5
             },
             "pattern": {
              "fillmode": "overlay",
              "size": 10,
              "solidity": 0.2
             }
            },
            "type": "barpolar"
           }
          ],
          "carpet": [
           {
            "aaxis": {
             "endlinecolor": "#2a3f5f",
             "gridcolor": "white",
             "linecolor": "white",
             "minorgridcolor": "white",
             "startlinecolor": "#2a3f5f"
            },
            "baxis": {
             "endlinecolor": "#2a3f5f",
             "gridcolor": "white",
             "linecolor": "white",
             "minorgridcolor": "white",
             "startlinecolor": "#2a3f5f"
            },
            "type": "carpet"
           }
          ],
          "choropleth": [
           {
            "colorbar": {
             "outlinewidth": 0,
             "ticks": ""
            },
            "type": "choropleth"
           }
          ],
          "contour": [
           {
            "colorbar": {
             "outlinewidth": 0,
             "ticks": ""
            },
            "colorscale": [
             [
              0,
              "#0d0887"
             ],
             [
              0.1111111111111111,
              "#46039f"
             ],
             [
              0.2222222222222222,
              "#7201a8"
             ],
             [
              0.3333333333333333,
              "#9c179e"
             ],
             [
              0.4444444444444444,
              "#bd3786"
             ],
             [
              0.5555555555555556,
              "#d8576b"
             ],
             [
              0.6666666666666666,
              "#ed7953"
             ],
             [
              0.7777777777777778,
              "#fb9f3a"
             ],
             [
              0.8888888888888888,
              "#fdca26"
             ],
             [
              1,
              "#f0f921"
             ]
            ],
            "type": "contour"
           }
          ],
          "contourcarpet": [
           {
            "colorbar": {
             "outlinewidth": 0,
             "ticks": ""
            },
            "type": "contourcarpet"
           }
          ],
          "heatmap": [
           {
            "colorbar": {
             "outlinewidth": 0,
             "ticks": ""
            },
            "colorscale": [
             [
              0,
              "#0d0887"
             ],
             [
              0.1111111111111111,
              "#46039f"
             ],
             [
              0.2222222222222222,
              "#7201a8"
             ],
             [
              0.3333333333333333,
              "#9c179e"
             ],
             [
              0.4444444444444444,
              "#bd3786"
             ],
             [
              0.5555555555555556,
              "#d8576b"
             ],
             [
              0.6666666666666666,
              "#ed7953"
             ],
             [
              0.7777777777777778,
              "#fb9f3a"
             ],
             [
              0.8888888888888888,
              "#fdca26"
             ],
             [
              1,
              "#f0f921"
             ]
            ],
            "type": "heatmap"
           }
          ],
          "heatmapgl": [
           {
            "colorbar": {
             "outlinewidth": 0,
             "ticks": ""
            },
            "colorscale": [
             [
              0,
              "#0d0887"
             ],
             [
              0.1111111111111111,
              "#46039f"
             ],
             [
              0.2222222222222222,
              "#7201a8"
             ],
             [
              0.3333333333333333,
              "#9c179e"
             ],
             [
              0.4444444444444444,
              "#bd3786"
             ],
             [
              0.5555555555555556,
              "#d8576b"
             ],
             [
              0.6666666666666666,
              "#ed7953"
             ],
             [
              0.7777777777777778,
              "#fb9f3a"
             ],
             [
              0.8888888888888888,
              "#fdca26"
             ],
             [
              1,
              "#f0f921"
             ]
            ],
            "type": "heatmapgl"
           }
          ],
          "histogram": [
           {
            "marker": {
             "pattern": {
              "fillmode": "overlay",
              "size": 10,
              "solidity": 0.2
             }
            },
            "type": "histogram"
           }
          ],
          "histogram2d": [
           {
            "colorbar": {
             "outlinewidth": 0,
             "ticks": ""
            },
            "colorscale": [
             [
              0,
              "#0d0887"
             ],
             [
              0.1111111111111111,
              "#46039f"
             ],
             [
              0.2222222222222222,
              "#7201a8"
             ],
             [
              0.3333333333333333,
              "#9c179e"
             ],
             [
              0.4444444444444444,
              "#bd3786"
             ],
             [
              0.5555555555555556,
              "#d8576b"
             ],
             [
              0.6666666666666666,
              "#ed7953"
             ],
             [
              0.7777777777777778,
              "#fb9f3a"
             ],
             [
              0.8888888888888888,
              "#fdca26"
             ],
             [
              1,
              "#f0f921"
             ]
            ],
            "type": "histogram2d"
           }
          ],
          "histogram2dcontour": [
           {
            "colorbar": {
             "outlinewidth": 0,
             "ticks": ""
            },
            "colorscale": [
             [
              0,
              "#0d0887"
             ],
             [
              0.1111111111111111,
              "#46039f"
             ],
             [
              0.2222222222222222,
              "#7201a8"
             ],
             [
              0.3333333333333333,
              "#9c179e"
             ],
             [
              0.4444444444444444,
              "#bd3786"
             ],
             [
              0.5555555555555556,
              "#d8576b"
             ],
             [
              0.6666666666666666,
              "#ed7953"
             ],
             [
              0.7777777777777778,
              "#fb9f3a"
             ],
             [
              0.8888888888888888,
              "#fdca26"
             ],
             [
              1,
              "#f0f921"
             ]
            ],
            "type": "histogram2dcontour"
           }
          ],
          "mesh3d": [
           {
            "colorbar": {
             "outlinewidth": 0,
             "ticks": ""
            },
            "type": "mesh3d"
           }
          ],
          "parcoords": [
           {
            "line": {
             "colorbar": {
              "outlinewidth": 0,
              "ticks": ""
             }
            },
            "type": "parcoords"
           }
          ],
          "pie": [
           {
            "automargin": true,
            "type": "pie"
           }
          ],
          "scatter": [
           {
            "marker": {
             "colorbar": {
              "outlinewidth": 0,
              "ticks": ""
             }
            },
            "type": "scatter"
           }
          ],
          "scatter3d": [
           {
            "line": {
             "colorbar": {
              "outlinewidth": 0,
              "ticks": ""
             }
            },
            "marker": {
             "colorbar": {
              "outlinewidth": 0,
              "ticks": ""
             }
            },
            "type": "scatter3d"
           }
          ],
          "scattercarpet": [
           {
            "marker": {
             "colorbar": {
              "outlinewidth": 0,
              "ticks": ""
             }
            },
            "type": "scattercarpet"
           }
          ],
          "scattergeo": [
           {
            "marker": {
             "colorbar": {
              "outlinewidth": 0,
              "ticks": ""
             }
            },
            "type": "scattergeo"
           }
          ],
          "scattergl": [
           {
            "marker": {
             "colorbar": {
              "outlinewidth": 0,
              "ticks": ""
             }
            },
            "type": "scattergl"
           }
          ],
          "scattermapbox": [
           {
            "marker": {
             "colorbar": {
              "outlinewidth": 0,
              "ticks": ""
             }
            },
            "type": "scattermapbox"
           }
          ],
          "scatterpolar": [
           {
            "marker": {
             "colorbar": {
              "outlinewidth": 0,
              "ticks": ""
             }
            },
            "type": "scatterpolar"
           }
          ],
          "scatterpolargl": [
           {
            "marker": {
             "colorbar": {
              "outlinewidth": 0,
              "ticks": ""
             }
            },
            "type": "scatterpolargl"
           }
          ],
          "scatterternary": [
           {
            "marker": {
             "colorbar": {
              "outlinewidth": 0,
              "ticks": ""
             }
            },
            "type": "scatterternary"
           }
          ],
          "surface": [
           {
            "colorbar": {
             "outlinewidth": 0,
             "ticks": ""
            },
            "colorscale": [
             [
              0,
              "#0d0887"
             ],
             [
              0.1111111111111111,
              "#46039f"
             ],
             [
              0.2222222222222222,
              "#7201a8"
             ],
             [
              0.3333333333333333,
              "#9c179e"
             ],
             [
              0.4444444444444444,
              "#bd3786"
             ],
             [
              0.5555555555555556,
              "#d8576b"
             ],
             [
              0.6666666666666666,
              "#ed7953"
             ],
             [
              0.7777777777777778,
              "#fb9f3a"
             ],
             [
              0.8888888888888888,
              "#fdca26"
             ],
             [
              1,
              "#f0f921"
             ]
            ],
            "type": "surface"
           }
          ],
          "table": [
           {
            "cells": {
             "fill": {
              "color": "#EBF0F8"
             },
             "line": {
              "color": "white"
             }
            },
            "header": {
             "fill": {
              "color": "#C8D4E3"
             },
             "line": {
              "color": "white"
             }
            },
            "type": "table"
           }
          ]
         },
         "layout": {
          "annotationdefaults": {
           "arrowcolor": "#2a3f5f",
           "arrowhead": 0,
           "arrowwidth": 1
          },
          "autotypenumbers": "strict",
          "coloraxis": {
           "colorbar": {
            "outlinewidth": 0,
            "ticks": ""
           }
          },
          "colorscale": {
           "diverging": [
            [
             0,
             "#8e0152"
            ],
            [
             0.1,
             "#c51b7d"
            ],
            [
             0.2,
             "#de77ae"
            ],
            [
             0.3,
             "#f1b6da"
            ],
            [
             0.4,
             "#fde0ef"
            ],
            [
             0.5,
             "#f7f7f7"
            ],
            [
             0.6,
             "#e6f5d0"
            ],
            [
             0.7,
             "#b8e186"
            ],
            [
             0.8,
             "#7fbc41"
            ],
            [
             0.9,
             "#4d9221"
            ],
            [
             1,
             "#276419"
            ]
           ],
           "sequential": [
            [
             0,
             "#0d0887"
            ],
            [
             0.1111111111111111,
             "#46039f"
            ],
            [
             0.2222222222222222,
             "#7201a8"
            ],
            [
             0.3333333333333333,
             "#9c179e"
            ],
            [
             0.4444444444444444,
             "#bd3786"
            ],
            [
             0.5555555555555556,
             "#d8576b"
            ],
            [
             0.6666666666666666,
             "#ed7953"
            ],
            [
             0.7777777777777778,
             "#fb9f3a"
            ],
            [
             0.8888888888888888,
             "#fdca26"
            ],
            [
             1,
             "#f0f921"
            ]
           ],
           "sequentialminus": [
            [
             0,
             "#0d0887"
            ],
            [
             0.1111111111111111,
             "#46039f"
            ],
            [
             0.2222222222222222,
             "#7201a8"
            ],
            [
             0.3333333333333333,
             "#9c179e"
            ],
            [
             0.4444444444444444,
             "#bd3786"
            ],
            [
             0.5555555555555556,
             "#d8576b"
            ],
            [
             0.6666666666666666,
             "#ed7953"
            ],
            [
             0.7777777777777778,
             "#fb9f3a"
            ],
            [
             0.8888888888888888,
             "#fdca26"
            ],
            [
             1,
             "#f0f921"
            ]
           ]
          },
          "colorway": [
           "#636efa",
           "#EF553B",
           "#00cc96",
           "#ab63fa",
           "#FFA15A",
           "#19d3f3",
           "#FF6692",
           "#B6E880",
           "#FF97FF",
           "#FECB52"
          ],
          "font": {
           "color": "#2a3f5f"
          },
          "geo": {
           "bgcolor": "white",
           "lakecolor": "white",
           "landcolor": "#E5ECF6",
           "showlakes": true,
           "showland": true,
           "subunitcolor": "white"
          },
          "hoverlabel": {
           "align": "left"
          },
          "hovermode": "closest",
          "mapbox": {
           "style": "light"
          },
          "paper_bgcolor": "white",
          "plot_bgcolor": "#E5ECF6",
          "polar": {
           "angularaxis": {
            "gridcolor": "white",
            "linecolor": "white",
            "ticks": ""
           },
           "bgcolor": "#E5ECF6",
           "radialaxis": {
            "gridcolor": "white",
            "linecolor": "white",
            "ticks": ""
           }
          },
          "scene": {
           "xaxis": {
            "backgroundcolor": "#E5ECF6",
            "gridcolor": "white",
            "gridwidth": 2,
            "linecolor": "white",
            "showbackground": true,
            "ticks": "",
            "zerolinecolor": "white"
           },
           "yaxis": {
            "backgroundcolor": "#E5ECF6",
            "gridcolor": "white",
            "gridwidth": 2,
            "linecolor": "white",
            "showbackground": true,
            "ticks": "",
            "zerolinecolor": "white"
           },
           "zaxis": {
            "backgroundcolor": "#E5ECF6",
            "gridcolor": "white",
            "gridwidth": 2,
            "linecolor": "white",
            "showbackground": true,
            "ticks": "",
            "zerolinecolor": "white"
           }
          },
          "shapedefaults": {
           "line": {
            "color": "#2a3f5f"
           }
          },
          "ternary": {
           "aaxis": {
            "gridcolor": "white",
            "linecolor": "white",
            "ticks": ""
           },
           "baxis": {
            "gridcolor": "white",
            "linecolor": "white",
            "ticks": ""
           },
           "bgcolor": "#E5ECF6",
           "caxis": {
            "gridcolor": "white",
            "linecolor": "white",
            "ticks": ""
           }
          },
          "title": {
           "x": 0.05
          },
          "xaxis": {
           "automargin": true,
           "gridcolor": "white",
           "linecolor": "white",
           "ticks": "",
           "title": {
            "standoff": 15
           },
           "zerolinecolor": "white",
           "zerolinewidth": 2
          },
          "yaxis": {
           "automargin": true,
           "gridcolor": "white",
           "linecolor": "white",
           "ticks": "",
           "title": {
            "standoff": 15
           },
           "zerolinecolor": "white",
           "zerolinewidth": 2
          }
         }
        },
        "title": {
         "font": {
          "color": "#4D5663"
         }
        },
        "xaxis": {
         "anchor": "y",
         "domain": [
          0,
          0.2125
         ],
         "gridcolor": "#E1E5ED",
         "showgrid": false,
         "tickfont": {
          "color": "#4D5663"
         },
         "title": {
          "font": {
           "color": "#4D5663"
          },
          "text": ""
         },
         "zerolinecolor": "#E1E5ED"
        },
        "xaxis10": {
         "anchor": "y10",
         "domain": [
          0.2625,
          0.475
         ],
         "gridcolor": "#E1E5ED",
         "showgrid": false,
         "tickfont": {
          "color": "#4D5663"
         },
         "title": {
          "font": {
           "color": "#4D5663"
          },
          "text": ""
         },
         "zerolinecolor": "#E1E5ED"
        },
        "xaxis11": {
         "anchor": "y11",
         "domain": [
          0.525,
          0.7375
         ],
         "gridcolor": "#E1E5ED",
         "showgrid": false,
         "tickfont": {
          "color": "#4D5663"
         },
         "title": {
          "font": {
           "color": "#4D5663"
          },
          "text": ""
         },
         "zerolinecolor": "#E1E5ED"
        },
        "xaxis12": {
         "anchor": "y12",
         "domain": [
          0.7875,
          1
         ],
         "gridcolor": "#E1E5ED",
         "showgrid": false,
         "tickfont": {
          "color": "#4D5663"
         },
         "title": {
          "font": {
           "color": "#4D5663"
          },
          "text": ""
         },
         "zerolinecolor": "#E1E5ED"
        },
        "xaxis13": {
         "anchor": "y13",
         "domain": [
          0,
          0.2125
         ],
         "gridcolor": "#E1E5ED",
         "showgrid": false,
         "tickfont": {
          "color": "#4D5663"
         },
         "title": {
          "font": {
           "color": "#4D5663"
          },
          "text": ""
         },
         "zerolinecolor": "#E1E5ED"
        },
        "xaxis14": {
         "anchor": "y14",
         "domain": [
          0.2625,
          0.475
         ],
         "gridcolor": "#E1E5ED",
         "showgrid": false,
         "tickfont": {
          "color": "#4D5663"
         },
         "title": {
          "font": {
           "color": "#4D5663"
          },
          "text": ""
         },
         "zerolinecolor": "#E1E5ED"
        },
        "xaxis15": {
         "anchor": "y15",
         "domain": [
          0.525,
          0.7375
         ],
         "gridcolor": "#E1E5ED",
         "showgrid": false,
         "tickfont": {
          "color": "#4D5663"
         },
         "title": {
          "font": {
           "color": "#4D5663"
          },
          "text": ""
         },
         "zerolinecolor": "#E1E5ED"
        },
        "xaxis16": {
         "anchor": "y16",
         "domain": [
          0.7875,
          1
         ],
         "gridcolor": "#E1E5ED",
         "showgrid": false,
         "tickfont": {
          "color": "#4D5663"
         },
         "title": {
          "font": {
           "color": "#4D5663"
          },
          "text": ""
         },
         "zerolinecolor": "#E1E5ED"
        },
        "xaxis2": {
         "anchor": "y2",
         "domain": [
          0.2625,
          0.475
         ],
         "gridcolor": "#E1E5ED",
         "showgrid": false,
         "tickfont": {
          "color": "#4D5663"
         },
         "title": {
          "font": {
           "color": "#4D5663"
          },
          "text": ""
         },
         "zerolinecolor": "#E1E5ED"
        },
        "xaxis3": {
         "anchor": "y3",
         "domain": [
          0.525,
          0.7375
         ],
         "gridcolor": "#E1E5ED",
         "showgrid": false,
         "tickfont": {
          "color": "#4D5663"
         },
         "title": {
          "font": {
           "color": "#4D5663"
          },
          "text": ""
         },
         "zerolinecolor": "#E1E5ED"
        },
        "xaxis4": {
         "anchor": "y4",
         "domain": [
          0.7875,
          1
         ],
         "gridcolor": "#E1E5ED",
         "showgrid": false,
         "tickfont": {
          "color": "#4D5663"
         },
         "title": {
          "font": {
           "color": "#4D5663"
          },
          "text": ""
         },
         "zerolinecolor": "#E1E5ED"
        },
        "xaxis5": {
         "anchor": "y5",
         "domain": [
          0,
          0.2125
         ],
         "gridcolor": "#E1E5ED",
         "showgrid": false,
         "tickfont": {
          "color": "#4D5663"
         },
         "title": {
          "font": {
           "color": "#4D5663"
          },
          "text": ""
         },
         "zerolinecolor": "#E1E5ED"
        },
        "xaxis6": {
         "anchor": "y6",
         "domain": [
          0.2625,
          0.475
         ],
         "gridcolor": "#E1E5ED",
         "showgrid": false,
         "tickfont": {
          "color": "#4D5663"
         },
         "title": {
          "font": {
           "color": "#4D5663"
          },
          "text": ""
         },
         "zerolinecolor": "#E1E5ED"
        },
        "xaxis7": {
         "anchor": "y7",
         "domain": [
          0.525,
          0.7375
         ],
         "gridcolor": "#E1E5ED",
         "showgrid": false,
         "tickfont": {
          "color": "#4D5663"
         },
         "title": {
          "font": {
           "color": "#4D5663"
          },
          "text": ""
         },
         "zerolinecolor": "#E1E5ED"
        },
        "xaxis8": {
         "anchor": "y8",
         "domain": [
          0.7875,
          1
         ],
         "gridcolor": "#E1E5ED",
         "showgrid": false,
         "tickfont": {
          "color": "#4D5663"
         },
         "title": {
          "font": {
           "color": "#4D5663"
          },
          "text": ""
         },
         "zerolinecolor": "#E1E5ED"
        },
        "xaxis9": {
         "anchor": "y9",
         "domain": [
          0,
          0.2125
         ],
         "gridcolor": "#E1E5ED",
         "showgrid": false,
         "tickfont": {
          "color": "#4D5663"
         },
         "title": {
          "font": {
           "color": "#4D5663"
          },
          "text": ""
         },
         "zerolinecolor": "#E1E5ED"
        },
        "yaxis": {
         "anchor": "x",
         "domain": [
          0.8025,
          1
         ],
         "gridcolor": "#E1E5ED",
         "showgrid": false,
         "tickfont": {
          "color": "#4D5663"
         },
         "title": {
          "font": {
           "color": "#4D5663"
          },
          "text": ""
         },
         "zerolinecolor": "#E1E5ED"
        },
        "yaxis10": {
         "anchor": "x10",
         "domain": [
          0.2675,
          0.465
         ],
         "gridcolor": "#E1E5ED",
         "showgrid": false,
         "tickfont": {
          "color": "#4D5663"
         },
         "title": {
          "font": {
           "color": "#4D5663"
          },
          "text": ""
         },
         "zerolinecolor": "#E1E5ED"
        },
        "yaxis11": {
         "anchor": "x11",
         "domain": [
          0.2675,
          0.465
         ],
         "gridcolor": "#E1E5ED",
         "showgrid": false,
         "tickfont": {
          "color": "#4D5663"
         },
         "title": {
          "font": {
           "color": "#4D5663"
          },
          "text": ""
         },
         "zerolinecolor": "#E1E5ED"
        },
        "yaxis12": {
         "anchor": "x12",
         "domain": [
          0.2675,
          0.465
         ],
         "gridcolor": "#E1E5ED",
         "showgrid": false,
         "tickfont": {
          "color": "#4D5663"
         },
         "title": {
          "font": {
           "color": "#4D5663"
          },
          "text": ""
         },
         "zerolinecolor": "#E1E5ED"
        },
        "yaxis13": {
         "anchor": "x13",
         "domain": [
          0,
          0.1975
         ],
         "gridcolor": "#E1E5ED",
         "showgrid": false,
         "tickfont": {
          "color": "#4D5663"
         },
         "title": {
          "font": {
           "color": "#4D5663"
          },
          "text": ""
         },
         "zerolinecolor": "#E1E5ED"
        },
        "yaxis14": {
         "anchor": "x14",
         "domain": [
          0,
          0.1975
         ],
         "gridcolor": "#E1E5ED",
         "showgrid": false,
         "tickfont": {
          "color": "#4D5663"
         },
         "title": {
          "font": {
           "color": "#4D5663"
          },
          "text": ""
         },
         "zerolinecolor": "#E1E5ED"
        },
        "yaxis15": {
         "anchor": "x15",
         "domain": [
          0,
          0.1975
         ],
         "gridcolor": "#E1E5ED",
         "showgrid": false,
         "tickfont": {
          "color": "#4D5663"
         },
         "title": {
          "font": {
           "color": "#4D5663"
          },
          "text": ""
         },
         "zerolinecolor": "#E1E5ED"
        },
        "yaxis16": {
         "anchor": "x16",
         "domain": [
          0,
          0.1975
         ],
         "gridcolor": "#E1E5ED",
         "showgrid": false,
         "tickfont": {
          "color": "#4D5663"
         },
         "title": {
          "font": {
           "color": "#4D5663"
          },
          "text": ""
         },
         "zerolinecolor": "#E1E5ED"
        },
        "yaxis2": {
         "anchor": "x2",
         "domain": [
          0.8025,
          1
         ],
         "gridcolor": "#E1E5ED",
         "showgrid": false,
         "tickfont": {
          "color": "#4D5663"
         },
         "title": {
          "font": {
           "color": "#4D5663"
          },
          "text": ""
         },
         "zerolinecolor": "#E1E5ED"
        },
        "yaxis3": {
         "anchor": "x3",
         "domain": [
          0.8025,
          1
         ],
         "gridcolor": "#E1E5ED",
         "showgrid": false,
         "tickfont": {
          "color": "#4D5663"
         },
         "title": {
          "font": {
           "color": "#4D5663"
          },
          "text": ""
         },
         "zerolinecolor": "#E1E5ED"
        },
        "yaxis4": {
         "anchor": "x4",
         "domain": [
          0.8025,
          1
         ],
         "gridcolor": "#E1E5ED",
         "showgrid": false,
         "tickfont": {
          "color": "#4D5663"
         },
         "title": {
          "font": {
           "color": "#4D5663"
          },
          "text": ""
         },
         "zerolinecolor": "#E1E5ED"
        },
        "yaxis5": {
         "anchor": "x5",
         "domain": [
          0.535,
          0.7325
         ],
         "gridcolor": "#E1E5ED",
         "showgrid": false,
         "tickfont": {
          "color": "#4D5663"
         },
         "title": {
          "font": {
           "color": "#4D5663"
          },
          "text": ""
         },
         "zerolinecolor": "#E1E5ED"
        },
        "yaxis6": {
         "anchor": "x6",
         "domain": [
          0.535,
          0.7325
         ],
         "gridcolor": "#E1E5ED",
         "showgrid": false,
         "tickfont": {
          "color": "#4D5663"
         },
         "title": {
          "font": {
           "color": "#4D5663"
          },
          "text": ""
         },
         "zerolinecolor": "#E1E5ED"
        },
        "yaxis7": {
         "anchor": "x7",
         "domain": [
          0.535,
          0.7325
         ],
         "gridcolor": "#E1E5ED",
         "showgrid": false,
         "tickfont": {
          "color": "#4D5663"
         },
         "title": {
          "font": {
           "color": "#4D5663"
          },
          "text": ""
         },
         "zerolinecolor": "#E1E5ED"
        },
        "yaxis8": {
         "anchor": "x8",
         "domain": [
          0.535,
          0.7325
         ],
         "gridcolor": "#E1E5ED",
         "showgrid": false,
         "tickfont": {
          "color": "#4D5663"
         },
         "title": {
          "font": {
           "color": "#4D5663"
          },
          "text": ""
         },
         "zerolinecolor": "#E1E5ED"
        },
        "yaxis9": {
         "anchor": "x9",
         "domain": [
          0.2675,
          0.465
         ],
         "gridcolor": "#E1E5ED",
         "showgrid": false,
         "tickfont": {
          "color": "#4D5663"
         },
         "title": {
          "font": {
           "color": "#4D5663"
          },
          "text": ""
         },
         "zerolinecolor": "#E1E5ED"
        }
       }
      },
      "text/html": [
       "<div>                            <div id=\"402b3cb8-0e5c-4714-b4d0-14abdc47cc7a\" class=\"plotly-graph-div\" style=\"height:525px; width:100%;\"></div>            <script type=\"text/javascript\">                require([\"plotly\"], function(Plotly) {                    window.PLOTLYENV=window.PLOTLYENV || {};\n",
       "                    window.PLOTLYENV.BASE_URL='https://plot.ly';                                    if (document.getElementById(\"402b3cb8-0e5c-4714-b4d0-14abdc47cc7a\")) {                    Plotly.newPlot(                        \"402b3cb8-0e5c-4714-b4d0-14abdc47cc7a\",                        [{\"histfunc\":\"count\",\"histnorm\":\"\",\"marker\":{\"color\":\"rgba(255, 153, 51, 1.0)\",\"line\":{\"color\":\"#4D5663\",\"width\":1.3}},\"name\":\"A\",\"nbinsx\":10,\"opacity\":0.8,\"orientation\":\"v\",\"x\":[-2.0179175343734688,0.9233803166017815,1.0222921258112883,-1.5427079018271743,0.9534677415959142,1.6139729466741866,-0.49068513401485064,0.6406132073703192,0.18167756204418314,-0.9019463260024844,1.1277902478070898,-0.5492318874813171,0.40254477215755796,0.20456328644346478,0.8484682084553806,1.598340262193149,-0.3885036558297409,0.7669440765048724,0.5721831877604494,-0.35869921119774845,1.275872979836392,-1.5377322892971523,0.9397524846531856,1.2378549284154148,0.45562500468005257,1.9220064474824583,0.3788446677627523,-1.6272530974099786,1.548747250020298,0.35367122733264206,-1.6023537985805665,-0.2743189849606666,1.6451749536118985,0.7660625343797965,-0.6551561273192944,2.2894165994992624,-0.30049348682681154,-0.1426257921945078,-0.3509331819696133,0.8066088439981102,-0.8190431907381289,0.33839591532473734,0.029153055130530316,0.04075026670195348,0.9095559195154234,-0.45874347933067305,0.23720429403928597,1.8818167393804857,-1.226472966530045,1.0222059444120426,0.786664742156235,-0.856175743606393,-1.2967015187714002,-1.3397627343890512,-0.7740855332934843,-2.0651785264446603,-0.43263697200185763,-0.13962494342840498,1.0979198353286066,-2.5008648450355797,0.7363401239497037,-1.70332552593329,-0.3906840182946408,-0.6357483053025298,-1.9455432716535508,-0.5398111243240811,-0.567472688932623,-0.6141447633033629,0.8011189183895611,-1.2128507855740867,-0.37599186611637914,1.4623963889164369,-0.7631731022882191,-0.49931213287490084,2.2156779881392468,-0.22361959827960393,-0.18881355505333997,0.1563814679055965,-0.04432271649482479,0.8444078862992042,1.262089825064193,1.409022756908488,-0.8371506916682264,-0.19411419725649035,1.3917668500786569,-0.10654778503241351,0.5073768369051679,-2.3983216306246313,1.100498582230519,-0.8995606298174025,-0.6816405917690144,0.6642734688092117,0.3118612734468044,1.2364404904823296,1.5917519675688976,1.248130459217827,1.1785659741667693,0.7177544645767607,-1.0558469610199113,1.6382365853024183],\"xaxis\":\"x\",\"yaxis\":\"y\",\"type\":\"histogram\"},{\"line\":{\"color\":\"rgba(128, 128, 128, 1.0)\",\"dash\":\"solid\",\"shape\":\"linear\",\"width\":1.3},\"marker\":{\"size\":2,\"symbol\":\"circle\"},\"mode\":\"markers\",\"name\":\"A\",\"text\":\"\",\"x\":[2.395950167703243,0.4011665790160146,-0.5052385387154442,-0.3942371566252391,-0.21364305021911828,0.43594532497191135,0.6259224234031222,0.185412186044443,-0.6480451046733444,-0.8073701561029344,0.3086398159337038,0.40896197444841126,-0.1496317018826678,0.008520897127094368,-0.37877268064955,1.2535502967513548,-0.8177967117036561,-0.04946135797232314,-0.7183013023150779,-1.3447272277949869,0.41260120152215496,1.33359903067863,0.3671958190478347,0.8236499541071457,2.3347971433163424,-0.5771650158144527,-0.2251481350890585,-0.9435813597330984,0.8453434644325502,-0.21978075472742842,0.12090913168294705,1.3238965924999886,-1.242242230242268,-1.767118741764655,-1.039313253025596,-1.3642511383582916,2.018414865068438,0.9965547242299222,-0.19942697072610457,-1.1706562780182612,-0.5595449835820688,1.151778463952504,-1.143226604397329,-0.663554837473901,-0.3527941140626611,-0.3970287607005498,0.06988660301060044,-0.40904957810275894,1.2239473808056882,1.4503012453471353,-0.7099546586223381,0.1955292008469326,-0.9682868269540975,-0.6066626776294081,1.1271596955346652,-0.06980868330920874,1.2501046888418872,-0.7711144899188074,1.00068801591415,-0.30428583621033645,-0.5699992904635901,-1.1394997915954335,-1.3178505709741983,-0.5362050779147439,-1.0081773680965436,1.7769241713514654,-1.7573616768732496,-1.4171193570499716,1.9335299038258698,-0.08421774918244486,-0.3712113381043379,1.0037717622849058,-0.7649009639855259,0.8067863038735369,0.73994466595083,1.6230867298471527,0.36667123116095157,0.38490337507613426,-1.1667875323245254,1.1022912167479761,0.036114867420814295,0.21253242351549598,-1.0133323362101818,-0.045069781891611274,0.8566552134265603,-1.9136470404042818,1.2980627554809563,-0.359342519582086,-2.7620029335220795,-0.18996686862109757,0.01672937162273757,-0.5646206196563005,1.80341766720294,2.2834787562600174,-0.5206495440594276,0.0014904575692281095,-0.37866407377310024,-0.3283192827529023,0.48484304460629934,-0.803938936523087],\"xaxis\":\"x2\",\"y\":[-2.0179175343734688,0.9233803166017815,1.0222921258112883,-1.5427079018271743,0.9534677415959142,1.6139729466741866,-0.49068513401485064,0.6406132073703192,0.18167756204418314,-0.9019463260024844,1.1277902478070898,-0.5492318874813171,0.40254477215755796,0.20456328644346478,0.8484682084553806,1.598340262193149,-0.3885036558297409,0.7669440765048724,0.5721831877604494,-0.35869921119774845,1.275872979836392,-1.5377322892971523,0.9397524846531856,1.2378549284154148,0.45562500468005257,1.9220064474824583,0.3788446677627523,-1.6272530974099786,1.548747250020298,0.35367122733264206,-1.6023537985805665,-0.2743189849606666,1.6451749536118985,0.7660625343797965,-0.6551561273192944,2.2894165994992624,-0.30049348682681154,-0.1426257921945078,-0.3509331819696133,0.8066088439981102,-0.8190431907381289,0.33839591532473734,0.029153055130530316,0.04075026670195348,0.9095559195154234,-0.45874347933067305,0.23720429403928597,1.8818167393804857,-1.226472966530045,1.0222059444120426,0.786664742156235,-0.856175743606393,-1.2967015187714002,-1.3397627343890512,-0.7740855332934843,-2.0651785264446603,-0.43263697200185763,-0.13962494342840498,1.0979198353286066,-2.5008648450355797,0.7363401239497037,-1.70332552593329,-0.3906840182946408,-0.6357483053025298,-1.9455432716535508,-0.5398111243240811,-0.567472688932623,-0.6141447633033629,0.8011189183895611,-1.2128507855740867,-0.37599186611637914,1.4623963889164369,-0.7631731022882191,-0.49931213287490084,2.2156779881392468,-0.22361959827960393,-0.18881355505333997,0.1563814679055965,-0.04432271649482479,0.8444078862992042,1.262089825064193,1.409022756908488,-0.8371506916682264,-0.19411419725649035,1.3917668500786569,-0.10654778503241351,0.5073768369051679,-2.3983216306246313,1.100498582230519,-0.8995606298174025,-0.6816405917690144,0.6642734688092117,0.3118612734468044,1.2364404904823296,1.5917519675688976,1.248130459217827,1.1785659741667693,0.7177544645767607,-1.0558469610199113,1.6382365853024183],\"yaxis\":\"y2\",\"type\":\"scatter\"},{\"line\":{\"color\":\"rgba(128, 128, 128, 1.0)\",\"dash\":\"solid\",\"shape\":\"linear\",\"width\":1.3},\"marker\":{\"size\":2,\"symbol\":\"circle\"},\"mode\":\"markers\",\"name\":\"A\",\"text\":\"\",\"x\":[-0.6976331963008978,0.4427226738215899,-0.5278849581553196,0.08357712350404232,0.2985644766584697,-1.168236300018726,-0.07975759208579772,2.605684681915098,0.23237882392158934,-1.5010257824011846,-1.0082510510416975,-0.6900419533536168,-1.259611906566042,0.6334244622734533,2.049644540477798,-0.4125152045772619,-0.08379527165547741,1.3461944975135538,0.07312282676592445,0.09608911388057328,-1.3379481423112967,-0.7105355161950182,0.8201289575427168,-1.650388692143229,-0.2648817286449447,-0.7452691095063751,1.7868926892834924,-0.8814503346799827,-0.06151876483423875,0.9779962985757222,-0.9626365512082998,-1.8684057658078863,-0.4985095156624019,0.09801251739717784,-0.9048087424806065,0.39923318225585497,0.8007870834966261,0.04492687871960958,-0.13447093178177616,0.6955513931404235,-1.6664237297318127,-0.06878796517969679,-2.0271677100118843,1.0054649423548643,-0.935485681989698,-0.4877090511885543,-2.1691727226848325,1.8730951291540747,1.9701291532645244,-0.6072367365041451,-0.20267812348350753,0.419520074747097,-1.3698630814147639,0.5457179722128258,0.5400887042208458,-0.8401643575269793,-1.7852954133027419,-0.015127204278471754,-0.5126761205353862,-1.9392192246740192,-0.9348399242998332,0.13475405165976082,0.3226933637818872,0.2518508135816996,0.6187654522995018,0.34584991996916925,0.19827494158896725,1.3154777020915707,1.0843443180742538,-1.7842726344419373,-0.7368681730249035,0.29982786449948673,0.055325129415402484,-0.22555181039210734,0.3253537214948485,-0.972508311987855,1.5216907051621416,-0.8303815536215513,2.2176797823958276,0.6706758843386869,0.7922588968759959,-0.6679061378549241,-1.9957141479041003,-0.16551075387272368,-0.42521296568309397,0.12230529593625743,-0.737934123468278,-0.41227840363982143,0.022578301223580156,0.09629241133641168,-0.29384242359572504,0.48098038536471205,-0.6579014706607186,0.8300898029984877,0.7520766490943627,-0.4047989014015041,-0.7405663749500524,1.300275639607767,0.0621476170640035,0.9914132099459558],\"xaxis\":\"x3\",\"y\":[-2.0179175343734688,0.9233803166017815,1.0222921258112883,-1.5427079018271743,0.9534677415959142,1.6139729466741866,-0.49068513401485064,0.6406132073703192,0.18167756204418314,-0.9019463260024844,1.1277902478070898,-0.5492318874813171,0.40254477215755796,0.20456328644346478,0.8484682084553806,1.598340262193149,-0.3885036558297409,0.7669440765048724,0.5721831877604494,-0.35869921119774845,1.275872979836392,-1.5377322892971523,0.9397524846531856,1.2378549284154148,0.45562500468005257,1.9220064474824583,0.3788446677627523,-1.6272530974099786,1.548747250020298,0.35367122733264206,-1.6023537985805665,-0.2743189849606666,1.6451749536118985,0.7660625343797965,-0.6551561273192944,2.2894165994992624,-0.30049348682681154,-0.1426257921945078,-0.3509331819696133,0.8066088439981102,-0.8190431907381289,0.33839591532473734,0.029153055130530316,0.04075026670195348,0.9095559195154234,-0.45874347933067305,0.23720429403928597,1.8818167393804857,-1.226472966530045,1.0222059444120426,0.786664742156235,-0.856175743606393,-1.2967015187714002,-1.3397627343890512,-0.7740855332934843,-2.0651785264446603,-0.43263697200185763,-0.13962494342840498,1.0979198353286066,-2.5008648450355797,0.7363401239497037,-1.70332552593329,-0.3906840182946408,-0.6357483053025298,-1.9455432716535508,-0.5398111243240811,-0.567472688932623,-0.6141447633033629,0.8011189183895611,-1.2128507855740867,-0.37599186611637914,1.4623963889164369,-0.7631731022882191,-0.49931213287490084,2.2156779881392468,-0.22361959827960393,-0.18881355505333997,0.1563814679055965,-0.04432271649482479,0.8444078862992042,1.262089825064193,1.409022756908488,-0.8371506916682264,-0.19411419725649035,1.3917668500786569,-0.10654778503241351,0.5073768369051679,-2.3983216306246313,1.100498582230519,-0.8995606298174025,-0.6816405917690144,0.6642734688092117,0.3118612734468044,1.2364404904823296,1.5917519675688976,1.248130459217827,1.1785659741667693,0.7177544645767607,-1.0558469610199113,1.6382365853024183],\"yaxis\":\"y3\",\"type\":\"scatter\"},{\"line\":{\"color\":\"rgba(128, 128, 128, 1.0)\",\"dash\":\"solid\",\"shape\":\"linear\",\"width\":1.3},\"marker\":{\"size\":2,\"symbol\":\"circle\"},\"mode\":\"markers\",\"name\":\"A\",\"text\":\"\",\"x\":[0.36755381357114664,1.5866634641494763,-0.0016882635232418383,0.30481516546547754,-1.1460579793852106,0.18731553992418792,-0.7340415243278909,1.4681758380718968,0.6109156444057225,0.8636566081800396,-1.2042896973027075,-0.717285088620604,-0.27926979285461195,-2.27782884292265,-1.1456024387434294,-0.1800217010084489,0.785832135922479,-2.630458514106578,-0.2628149102421362,1.0761508998209481,-0.6181868880517446,0.5644249552487409,0.1376512701946862,-1.0643470491969753,1.8326826957178588,0.08728948571471955,-0.9472986678785581,-2.188688147512093,-0.7094221230993478,-0.28614802083519075,-0.48367152612082537,-0.9609704154017971,0.1744627506306088,0.7508229866038417,-0.337165746033092,-1.5903644266779202,2.228907207340895,-0.9478162039494671,0.27593618307892154,0.46010096005631257,0.04756331409774407,1.1287002598451472,0.18506283525199643,-0.6592959249978171,0.4301598022789856,-0.011438549207886901,0.7132425090647524,-0.6744260407693818,-1.0462246129155746,0.03198300689870275,-1.0994408136210951,-1.113758931877566,1.530382010628822,0.4135996875452047,-0.36336300948095324,0.3141181281423151,-0.4683804485386927,0.883379291693893,-1.2366918685672104,-0.8887760161020599,1.1407716944151174,0.20815316548169516,-0.8895268304752171,-2.487641320009603,1.2669697435451026,-0.10918129777148618,-0.7291768460835901,-0.03115806750970858,0.7255449564277417,0.051499144496555294,0.1452122127315349,0.4713464248472897,0.34120215169591545,-0.5319128893521675,-0.24273195108086826,0.30572900353506227,0.7753034135589412,-0.7913533202524138,0.3192616910868719,-1.8917692479218562,1.183999529257435,0.3856430891754346,-0.26119581670676495,0.9045642887654469,-2.0546395471207317,0.49571308447610857,0.30788575151268355,0.8461911621944069,1.7572508576574226,-0.46684102667288335,0.0213978276901902,-0.22812548617914455,0.33387665321982846,1.1207365511896488,-0.7548904321132596,0.8495131759537213,-0.6024092649912318,-0.3645591543801789,1.4134123567488515,-0.7965566970465708],\"xaxis\":\"x4\",\"y\":[-2.0179175343734688,0.9233803166017815,1.0222921258112883,-1.5427079018271743,0.9534677415959142,1.6139729466741866,-0.49068513401485064,0.6406132073703192,0.18167756204418314,-0.9019463260024844,1.1277902478070898,-0.5492318874813171,0.40254477215755796,0.20456328644346478,0.8484682084553806,1.598340262193149,-0.3885036558297409,0.7669440765048724,0.5721831877604494,-0.35869921119774845,1.275872979836392,-1.5377322892971523,0.9397524846531856,1.2378549284154148,0.45562500468005257,1.9220064474824583,0.3788446677627523,-1.6272530974099786,1.548747250020298,0.35367122733264206,-1.6023537985805665,-0.2743189849606666,1.6451749536118985,0.7660625343797965,-0.6551561273192944,2.2894165994992624,-0.30049348682681154,-0.1426257921945078,-0.3509331819696133,0.8066088439981102,-0.8190431907381289,0.33839591532473734,0.029153055130530316,0.04075026670195348,0.9095559195154234,-0.45874347933067305,0.23720429403928597,1.8818167393804857,-1.226472966530045,1.0222059444120426,0.786664742156235,-0.856175743606393,-1.2967015187714002,-1.3397627343890512,-0.7740855332934843,-2.0651785264446603,-0.43263697200185763,-0.13962494342840498,1.0979198353286066,-2.5008648450355797,0.7363401239497037,-1.70332552593329,-0.3906840182946408,-0.6357483053025298,-1.9455432716535508,-0.5398111243240811,-0.567472688932623,-0.6141447633033629,0.8011189183895611,-1.2128507855740867,-0.37599186611637914,1.4623963889164369,-0.7631731022882191,-0.49931213287490084,2.2156779881392468,-0.22361959827960393,-0.18881355505333997,0.1563814679055965,-0.04432271649482479,0.8444078862992042,1.262089825064193,1.409022756908488,-0.8371506916682264,-0.19411419725649035,1.3917668500786569,-0.10654778503241351,0.5073768369051679,-2.3983216306246313,1.100498582230519,-0.8995606298174025,-0.6816405917690144,0.6642734688092117,0.3118612734468044,1.2364404904823296,1.5917519675688976,1.248130459217827,1.1785659741667693,0.7177544645767607,-1.0558469610199113,1.6382365853024183],\"yaxis\":\"y4\",\"type\":\"scatter\"},{\"line\":{\"color\":\"rgba(128, 128, 128, 1.0)\",\"dash\":\"solid\",\"shape\":\"linear\",\"width\":1.3},\"marker\":{\"size\":2,\"symbol\":\"circle\"},\"mode\":\"markers\",\"name\":\"B\",\"text\":\"\",\"x\":[-2.0179175343734688,0.9233803166017815,1.0222921258112883,-1.5427079018271743,0.9534677415959142,1.6139729466741866,-0.49068513401485064,0.6406132073703192,0.18167756204418314,-0.9019463260024844,1.1277902478070898,-0.5492318874813171,0.40254477215755796,0.20456328644346478,0.8484682084553806,1.598340262193149,-0.3885036558297409,0.7669440765048724,0.5721831877604494,-0.35869921119774845,1.275872979836392,-1.5377322892971523,0.9397524846531856,1.2378549284154148,0.45562500468005257,1.9220064474824583,0.3788446677627523,-1.6272530974099786,1.548747250020298,0.35367122733264206,-1.6023537985805665,-0.2743189849606666,1.6451749536118985,0.7660625343797965,-0.6551561273192944,2.2894165994992624,-0.30049348682681154,-0.1426257921945078,-0.3509331819696133,0.8066088439981102,-0.8190431907381289,0.33839591532473734,0.029153055130530316,0.04075026670195348,0.9095559195154234,-0.45874347933067305,0.23720429403928597,1.8818167393804857,-1.226472966530045,1.0222059444120426,0.786664742156235,-0.856175743606393,-1.2967015187714002,-1.3397627343890512,-0.7740855332934843,-2.0651785264446603,-0.43263697200185763,-0.13962494342840498,1.0979198353286066,-2.5008648450355797,0.7363401239497037,-1.70332552593329,-0.3906840182946408,-0.6357483053025298,-1.9455432716535508,-0.5398111243240811,-0.567472688932623,-0.6141447633033629,0.8011189183895611,-1.2128507855740867,-0.37599186611637914,1.4623963889164369,-0.7631731022882191,-0.49931213287490084,2.2156779881392468,-0.22361959827960393,-0.18881355505333997,0.1563814679055965,-0.04432271649482479,0.8444078862992042,1.262089825064193,1.409022756908488,-0.8371506916682264,-0.19411419725649035,1.3917668500786569,-0.10654778503241351,0.5073768369051679,-2.3983216306246313,1.100498582230519,-0.8995606298174025,-0.6816405917690144,0.6642734688092117,0.3118612734468044,1.2364404904823296,1.5917519675688976,1.248130459217827,1.1785659741667693,0.7177544645767607,-1.0558469610199113,1.6382365853024183],\"xaxis\":\"x5\",\"y\":[2.395950167703243,0.4011665790160146,-0.5052385387154442,-0.3942371566252391,-0.21364305021911828,0.43594532497191135,0.6259224234031222,0.185412186044443,-0.6480451046733444,-0.8073701561029344,0.3086398159337038,0.40896197444841126,-0.1496317018826678,0.008520897127094368,-0.37877268064955,1.2535502967513548,-0.8177967117036561,-0.04946135797232314,-0.7183013023150779,-1.3447272277949869,0.41260120152215496,1.33359903067863,0.3671958190478347,0.8236499541071457,2.3347971433163424,-0.5771650158144527,-0.2251481350890585,-0.9435813597330984,0.8453434644325502,-0.21978075472742842,0.12090913168294705,1.3238965924999886,-1.242242230242268,-1.767118741764655,-1.039313253025596,-1.3642511383582916,2.018414865068438,0.9965547242299222,-0.19942697072610457,-1.1706562780182612,-0.5595449835820688,1.151778463952504,-1.143226604397329,-0.663554837473901,-0.3527941140626611,-0.3970287607005498,0.06988660301060044,-0.40904957810275894,1.2239473808056882,1.4503012453471353,-0.7099546586223381,0.1955292008469326,-0.9682868269540975,-0.6066626776294081,1.1271596955346652,-0.06980868330920874,1.2501046888418872,-0.7711144899188074,1.00068801591415,-0.30428583621033645,-0.5699992904635901,-1.1394997915954335,-1.3178505709741983,-0.5362050779147439,-1.0081773680965436,1.7769241713514654,-1.7573616768732496,-1.4171193570499716,1.9335299038258698,-0.08421774918244486,-0.3712113381043379,1.0037717622849058,-0.7649009639855259,0.8067863038735369,0.73994466595083,1.6230867298471527,0.36667123116095157,0.38490337507613426,-1.1667875323245254,1.1022912167479761,0.036114867420814295,0.21253242351549598,-1.0133323362101818,-0.045069781891611274,0.8566552134265603,-1.9136470404042818,1.2980627554809563,-0.359342519582086,-2.7620029335220795,-0.18996686862109757,0.01672937162273757,-0.5646206196563005,1.80341766720294,2.2834787562600174,-0.5206495440594276,0.0014904575692281095,-0.37866407377310024,-0.3283192827529023,0.48484304460629934,-0.803938936523087],\"yaxis\":\"y5\",\"type\":\"scatter\"},{\"histfunc\":\"count\",\"histnorm\":\"\",\"marker\":{\"color\":\"rgba(55, 128, 191, 1.0)\",\"line\":{\"color\":\"#4D5663\",\"width\":1.3}},\"name\":\"B\",\"nbinsx\":10,\"opacity\":0.8,\"orientation\":\"v\",\"x\":[2.395950167703243,0.4011665790160146,-0.5052385387154442,-0.3942371566252391,-0.21364305021911828,0.43594532497191135,0.6259224234031222,0.185412186044443,-0.6480451046733444,-0.8073701561029344,0.3086398159337038,0.40896197444841126,-0.1496317018826678,0.008520897127094368,-0.37877268064955,1.2535502967513548,-0.8177967117036561,-0.04946135797232314,-0.7183013023150779,-1.3447272277949869,0.41260120152215496,1.33359903067863,0.3671958190478347,0.8236499541071457,2.3347971433163424,-0.5771650158144527,-0.2251481350890585,-0.9435813597330984,0.8453434644325502,-0.21978075472742842,0.12090913168294705,1.3238965924999886,-1.242242230242268,-1.767118741764655,-1.039313253025596,-1.3642511383582916,2.018414865068438,0.9965547242299222,-0.19942697072610457,-1.1706562780182612,-0.5595449835820688,1.151778463952504,-1.143226604397329,-0.663554837473901,-0.3527941140626611,-0.3970287607005498,0.06988660301060044,-0.40904957810275894,1.2239473808056882,1.4503012453471353,-0.7099546586223381,0.1955292008469326,-0.9682868269540975,-0.6066626776294081,1.1271596955346652,-0.06980868330920874,1.2501046888418872,-0.7711144899188074,1.00068801591415,-0.30428583621033645,-0.5699992904635901,-1.1394997915954335,-1.3178505709741983,-0.5362050779147439,-1.0081773680965436,1.7769241713514654,-1.7573616768732496,-1.4171193570499716,1.9335299038258698,-0.08421774918244486,-0.3712113381043379,1.0037717622849058,-0.7649009639855259,0.8067863038735369,0.73994466595083,1.6230867298471527,0.36667123116095157,0.38490337507613426,-1.1667875323245254,1.1022912167479761,0.036114867420814295,0.21253242351549598,-1.0133323362101818,-0.045069781891611274,0.8566552134265603,-1.9136470404042818,1.2980627554809563,-0.359342519582086,-2.7620029335220795,-0.18996686862109757,0.01672937162273757,-0.5646206196563005,1.80341766720294,2.2834787562600174,-0.5206495440594276,0.0014904575692281095,-0.37866407377310024,-0.3283192827529023,0.48484304460629934,-0.803938936523087],\"xaxis\":\"x6\",\"yaxis\":\"y6\",\"type\":\"histogram\"},{\"line\":{\"color\":\"rgba(128, 128, 128, 1.0)\",\"dash\":\"solid\",\"shape\":\"linear\",\"width\":1.3},\"marker\":{\"size\":2,\"symbol\":\"circle\"},\"mode\":\"markers\",\"name\":\"B\",\"text\":\"\",\"x\":[-0.6976331963008978,0.4427226738215899,-0.5278849581553196,0.08357712350404232,0.2985644766584697,-1.168236300018726,-0.07975759208579772,2.605684681915098,0.23237882392158934,-1.5010257824011846,-1.0082510510416975,-0.6900419533536168,-1.259611906566042,0.6334244622734533,2.049644540477798,-0.4125152045772619,-0.08379527165547741,1.3461944975135538,0.07312282676592445,0.09608911388057328,-1.3379481423112967,-0.7105355161950182,0.8201289575427168,-1.650388692143229,-0.2648817286449447,-0.7452691095063751,1.7868926892834924,-0.8814503346799827,-0.06151876483423875,0.9779962985757222,-0.9626365512082998,-1.8684057658078863,-0.4985095156624019,0.09801251739717784,-0.9048087424806065,0.39923318225585497,0.8007870834966261,0.04492687871960958,-0.13447093178177616,0.6955513931404235,-1.6664237297318127,-0.06878796517969679,-2.0271677100118843,1.0054649423548643,-0.935485681989698,-0.4877090511885543,-2.1691727226848325,1.8730951291540747,1.9701291532645244,-0.6072367365041451,-0.20267812348350753,0.419520074747097,-1.3698630814147639,0.5457179722128258,0.5400887042208458,-0.8401643575269793,-1.7852954133027419,-0.015127204278471754,-0.5126761205353862,-1.9392192246740192,-0.9348399242998332,0.13475405165976082,0.3226933637818872,0.2518508135816996,0.6187654522995018,0.34584991996916925,0.19827494158896725,1.3154777020915707,1.0843443180742538,-1.7842726344419373,-0.7368681730249035,0.29982786449948673,0.055325129415402484,-0.22555181039210734,0.3253537214948485,-0.972508311987855,1.5216907051621416,-0.8303815536215513,2.2176797823958276,0.6706758843386869,0.7922588968759959,-0.6679061378549241,-1.9957141479041003,-0.16551075387272368,-0.42521296568309397,0.12230529593625743,-0.737934123468278,-0.41227840363982143,0.022578301223580156,0.09629241133641168,-0.29384242359572504,0.48098038536471205,-0.6579014706607186,0.8300898029984877,0.7520766490943627,-0.4047989014015041,-0.7405663749500524,1.300275639607767,0.0621476170640035,0.9914132099459558],\"xaxis\":\"x7\",\"y\":[2.395950167703243,0.4011665790160146,-0.5052385387154442,-0.3942371566252391,-0.21364305021911828,0.43594532497191135,0.6259224234031222,0.185412186044443,-0.6480451046733444,-0.8073701561029344,0.3086398159337038,0.40896197444841126,-0.1496317018826678,0.008520897127094368,-0.37877268064955,1.2535502967513548,-0.8177967117036561,-0.04946135797232314,-0.7183013023150779,-1.3447272277949869,0.41260120152215496,1.33359903067863,0.3671958190478347,0.8236499541071457,2.3347971433163424,-0.5771650158144527,-0.2251481350890585,-0.9435813597330984,0.8453434644325502,-0.21978075472742842,0.12090913168294705,1.3238965924999886,-1.242242230242268,-1.767118741764655,-1.039313253025596,-1.3642511383582916,2.018414865068438,0.9965547242299222,-0.19942697072610457,-1.1706562780182612,-0.5595449835820688,1.151778463952504,-1.143226604397329,-0.663554837473901,-0.3527941140626611,-0.3970287607005498,0.06988660301060044,-0.40904957810275894,1.2239473808056882,1.4503012453471353,-0.7099546586223381,0.1955292008469326,-0.9682868269540975,-0.6066626776294081,1.1271596955346652,-0.06980868330920874,1.2501046888418872,-0.7711144899188074,1.00068801591415,-0.30428583621033645,-0.5699992904635901,-1.1394997915954335,-1.3178505709741983,-0.5362050779147439,-1.0081773680965436,1.7769241713514654,-1.7573616768732496,-1.4171193570499716,1.9335299038258698,-0.08421774918244486,-0.3712113381043379,1.0037717622849058,-0.7649009639855259,0.8067863038735369,0.73994466595083,1.6230867298471527,0.36667123116095157,0.38490337507613426,-1.1667875323245254,1.1022912167479761,0.036114867420814295,0.21253242351549598,-1.0133323362101818,-0.045069781891611274,0.8566552134265603,-1.9136470404042818,1.2980627554809563,-0.359342519582086,-2.7620029335220795,-0.18996686862109757,0.01672937162273757,-0.5646206196563005,1.80341766720294,2.2834787562600174,-0.5206495440594276,0.0014904575692281095,-0.37866407377310024,-0.3283192827529023,0.48484304460629934,-0.803938936523087],\"yaxis\":\"y7\",\"type\":\"scatter\"},{\"line\":{\"color\":\"rgba(128, 128, 128, 1.0)\",\"dash\":\"solid\",\"shape\":\"linear\",\"width\":1.3},\"marker\":{\"size\":2,\"symbol\":\"circle\"},\"mode\":\"markers\",\"name\":\"B\",\"text\":\"\",\"x\":[0.36755381357114664,1.5866634641494763,-0.0016882635232418383,0.30481516546547754,-1.1460579793852106,0.18731553992418792,-0.7340415243278909,1.4681758380718968,0.6109156444057225,0.8636566081800396,-1.2042896973027075,-0.717285088620604,-0.27926979285461195,-2.27782884292265,-1.1456024387434294,-0.1800217010084489,0.785832135922479,-2.630458514106578,-0.2628149102421362,1.0761508998209481,-0.6181868880517446,0.5644249552487409,0.1376512701946862,-1.0643470491969753,1.8326826957178588,0.08728948571471955,-0.9472986678785581,-2.188688147512093,-0.7094221230993478,-0.28614802083519075,-0.48367152612082537,-0.9609704154017971,0.1744627506306088,0.7508229866038417,-0.337165746033092,-1.5903644266779202,2.228907207340895,-0.9478162039494671,0.27593618307892154,0.46010096005631257,0.04756331409774407,1.1287002598451472,0.18506283525199643,-0.6592959249978171,0.4301598022789856,-0.011438549207886901,0.7132425090647524,-0.6744260407693818,-1.0462246129155746,0.03198300689870275,-1.0994408136210951,-1.113758931877566,1.530382010628822,0.4135996875452047,-0.36336300948095324,0.3141181281423151,-0.4683804485386927,0.883379291693893,-1.2366918685672104,-0.8887760161020599,1.1407716944151174,0.20815316548169516,-0.8895268304752171,-2.487641320009603,1.2669697435451026,-0.10918129777148618,-0.7291768460835901,-0.03115806750970858,0.7255449564277417,0.051499144496555294,0.1452122127315349,0.4713464248472897,0.34120215169591545,-0.5319128893521675,-0.24273195108086826,0.30572900353506227,0.7753034135589412,-0.7913533202524138,0.3192616910868719,-1.8917692479218562,1.183999529257435,0.3856430891754346,-0.26119581670676495,0.9045642887654469,-2.0546395471207317,0.49571308447610857,0.30788575151268355,0.8461911621944069,1.7572508576574226,-0.46684102667288335,0.0213978276901902,-0.22812548617914455,0.33387665321982846,1.1207365511896488,-0.7548904321132596,0.8495131759537213,-0.6024092649912318,-0.3645591543801789,1.4134123567488515,-0.7965566970465708],\"xaxis\":\"x8\",\"y\":[2.395950167703243,0.4011665790160146,-0.5052385387154442,-0.3942371566252391,-0.21364305021911828,0.43594532497191135,0.6259224234031222,0.185412186044443,-0.6480451046733444,-0.8073701561029344,0.3086398159337038,0.40896197444841126,-0.1496317018826678,0.008520897127094368,-0.37877268064955,1.2535502967513548,-0.8177967117036561,-0.04946135797232314,-0.7183013023150779,-1.3447272277949869,0.41260120152215496,1.33359903067863,0.3671958190478347,0.8236499541071457,2.3347971433163424,-0.5771650158144527,-0.2251481350890585,-0.9435813597330984,0.8453434644325502,-0.21978075472742842,0.12090913168294705,1.3238965924999886,-1.242242230242268,-1.767118741764655,-1.039313253025596,-1.3642511383582916,2.018414865068438,0.9965547242299222,-0.19942697072610457,-1.1706562780182612,-0.5595449835820688,1.151778463952504,-1.143226604397329,-0.663554837473901,-0.3527941140626611,-0.3970287607005498,0.06988660301060044,-0.40904957810275894,1.2239473808056882,1.4503012453471353,-0.7099546586223381,0.1955292008469326,-0.9682868269540975,-0.6066626776294081,1.1271596955346652,-0.06980868330920874,1.2501046888418872,-0.7711144899188074,1.00068801591415,-0.30428583621033645,-0.5699992904635901,-1.1394997915954335,-1.3178505709741983,-0.5362050779147439,-1.0081773680965436,1.7769241713514654,-1.7573616768732496,-1.4171193570499716,1.9335299038258698,-0.08421774918244486,-0.3712113381043379,1.0037717622849058,-0.7649009639855259,0.8067863038735369,0.73994466595083,1.6230867298471527,0.36667123116095157,0.38490337507613426,-1.1667875323245254,1.1022912167479761,0.036114867420814295,0.21253242351549598,-1.0133323362101818,-0.045069781891611274,0.8566552134265603,-1.9136470404042818,1.2980627554809563,-0.359342519582086,-2.7620029335220795,-0.18996686862109757,0.01672937162273757,-0.5646206196563005,1.80341766720294,2.2834787562600174,-0.5206495440594276,0.0014904575692281095,-0.37866407377310024,-0.3283192827529023,0.48484304460629934,-0.803938936523087],\"yaxis\":\"y8\",\"type\":\"scatter\"},{\"line\":{\"color\":\"rgba(128, 128, 128, 1.0)\",\"dash\":\"solid\",\"shape\":\"linear\",\"width\":1.3},\"marker\":{\"size\":2,\"symbol\":\"circle\"},\"mode\":\"markers\",\"name\":\"C\",\"text\":\"\",\"x\":[-2.0179175343734688,0.9233803166017815,1.0222921258112883,-1.5427079018271743,0.9534677415959142,1.6139729466741866,-0.49068513401485064,0.6406132073703192,0.18167756204418314,-0.9019463260024844,1.1277902478070898,-0.5492318874813171,0.40254477215755796,0.20456328644346478,0.8484682084553806,1.598340262193149,-0.3885036558297409,0.7669440765048724,0.5721831877604494,-0.35869921119774845,1.275872979836392,-1.5377322892971523,0.9397524846531856,1.2378549284154148,0.45562500468005257,1.9220064474824583,0.3788446677627523,-1.6272530974099786,1.548747250020298,0.35367122733264206,-1.6023537985805665,-0.2743189849606666,1.6451749536118985,0.7660625343797965,-0.6551561273192944,2.2894165994992624,-0.30049348682681154,-0.1426257921945078,-0.3509331819696133,0.8066088439981102,-0.8190431907381289,0.33839591532473734,0.029153055130530316,0.04075026670195348,0.9095559195154234,-0.45874347933067305,0.23720429403928597,1.8818167393804857,-1.226472966530045,1.0222059444120426,0.786664742156235,-0.856175743606393,-1.2967015187714002,-1.3397627343890512,-0.7740855332934843,-2.0651785264446603,-0.43263697200185763,-0.13962494342840498,1.0979198353286066,-2.5008648450355797,0.7363401239497037,-1.70332552593329,-0.3906840182946408,-0.6357483053025298,-1.9455432716535508,-0.5398111243240811,-0.567472688932623,-0.6141447633033629,0.8011189183895611,-1.2128507855740867,-0.37599186611637914,1.4623963889164369,-0.7631731022882191,-0.49931213287490084,2.2156779881392468,-0.22361959827960393,-0.18881355505333997,0.1563814679055965,-0.04432271649482479,0.8444078862992042,1.262089825064193,1.409022756908488,-0.8371506916682264,-0.19411419725649035,1.3917668500786569,-0.10654778503241351,0.5073768369051679,-2.3983216306246313,1.100498582230519,-0.8995606298174025,-0.6816405917690144,0.6642734688092117,0.3118612734468044,1.2364404904823296,1.5917519675688976,1.248130459217827,1.1785659741667693,0.7177544645767607,-1.0558469610199113,1.6382365853024183],\"xaxis\":\"x9\",\"y\":[-0.6976331963008978,0.4427226738215899,-0.5278849581553196,0.08357712350404232,0.2985644766584697,-1.168236300018726,-0.07975759208579772,2.605684681915098,0.23237882392158934,-1.5010257824011846,-1.0082510510416975,-0.6900419533536168,-1.259611906566042,0.6334244622734533,2.049644540477798,-0.4125152045772619,-0.08379527165547741,1.3461944975135538,0.07312282676592445,0.09608911388057328,-1.3379481423112967,-0.7105355161950182,0.8201289575427168,-1.650388692143229,-0.2648817286449447,-0.7452691095063751,1.7868926892834924,-0.8814503346799827,-0.06151876483423875,0.9779962985757222,-0.9626365512082998,-1.8684057658078863,-0.4985095156624019,0.09801251739717784,-0.9048087424806065,0.39923318225585497,0.8007870834966261,0.04492687871960958,-0.13447093178177616,0.6955513931404235,-1.6664237297318127,-0.06878796517969679,-2.0271677100118843,1.0054649423548643,-0.935485681989698,-0.4877090511885543,-2.1691727226848325,1.8730951291540747,1.9701291532645244,-0.6072367365041451,-0.20267812348350753,0.419520074747097,-1.3698630814147639,0.5457179722128258,0.5400887042208458,-0.8401643575269793,-1.7852954133027419,-0.015127204278471754,-0.5126761205353862,-1.9392192246740192,-0.9348399242998332,0.13475405165976082,0.3226933637818872,0.2518508135816996,0.6187654522995018,0.34584991996916925,0.19827494158896725,1.3154777020915707,1.0843443180742538,-1.7842726344419373,-0.7368681730249035,0.29982786449948673,0.055325129415402484,-0.22555181039210734,0.3253537214948485,-0.972508311987855,1.5216907051621416,-0.8303815536215513,2.2176797823958276,0.6706758843386869,0.7922588968759959,-0.6679061378549241,-1.9957141479041003,-0.16551075387272368,-0.42521296568309397,0.12230529593625743,-0.737934123468278,-0.41227840363982143,0.022578301223580156,0.09629241133641168,-0.29384242359572504,0.48098038536471205,-0.6579014706607186,0.8300898029984877,0.7520766490943627,-0.4047989014015041,-0.7405663749500524,1.300275639607767,0.0621476170640035,0.9914132099459558],\"yaxis\":\"y9\",\"type\":\"scatter\"},{\"line\":{\"color\":\"rgba(128, 128, 128, 1.0)\",\"dash\":\"solid\",\"shape\":\"linear\",\"width\":1.3},\"marker\":{\"size\":2,\"symbol\":\"circle\"},\"mode\":\"markers\",\"name\":\"C\",\"text\":\"\",\"x\":[2.395950167703243,0.4011665790160146,-0.5052385387154442,-0.3942371566252391,-0.21364305021911828,0.43594532497191135,0.6259224234031222,0.185412186044443,-0.6480451046733444,-0.8073701561029344,0.3086398159337038,0.40896197444841126,-0.1496317018826678,0.008520897127094368,-0.37877268064955,1.2535502967513548,-0.8177967117036561,-0.04946135797232314,-0.7183013023150779,-1.3447272277949869,0.41260120152215496,1.33359903067863,0.3671958190478347,0.8236499541071457,2.3347971433163424,-0.5771650158144527,-0.2251481350890585,-0.9435813597330984,0.8453434644325502,-0.21978075472742842,0.12090913168294705,1.3238965924999886,-1.242242230242268,-1.767118741764655,-1.039313253025596,-1.3642511383582916,2.018414865068438,0.9965547242299222,-0.19942697072610457,-1.1706562780182612,-0.5595449835820688,1.151778463952504,-1.143226604397329,-0.663554837473901,-0.3527941140626611,-0.3970287607005498,0.06988660301060044,-0.40904957810275894,1.2239473808056882,1.4503012453471353,-0.7099546586223381,0.1955292008469326,-0.9682868269540975,-0.6066626776294081,1.1271596955346652,-0.06980868330920874,1.2501046888418872,-0.7711144899188074,1.00068801591415,-0.30428583621033645,-0.5699992904635901,-1.1394997915954335,-1.3178505709741983,-0.5362050779147439,-1.0081773680965436,1.7769241713514654,-1.7573616768732496,-1.4171193570499716,1.9335299038258698,-0.08421774918244486,-0.3712113381043379,1.0037717622849058,-0.7649009639855259,0.8067863038735369,0.73994466595083,1.6230867298471527,0.36667123116095157,0.38490337507613426,-1.1667875323245254,1.1022912167479761,0.036114867420814295,0.21253242351549598,-1.0133323362101818,-0.045069781891611274,0.8566552134265603,-1.9136470404042818,1.2980627554809563,-0.359342519582086,-2.7620029335220795,-0.18996686862109757,0.01672937162273757,-0.5646206196563005,1.80341766720294,2.2834787562600174,-0.5206495440594276,0.0014904575692281095,-0.37866407377310024,-0.3283192827529023,0.48484304460629934,-0.803938936523087],\"xaxis\":\"x10\",\"y\":[-0.6976331963008978,0.4427226738215899,-0.5278849581553196,0.08357712350404232,0.2985644766584697,-1.168236300018726,-0.07975759208579772,2.605684681915098,0.23237882392158934,-1.5010257824011846,-1.0082510510416975,-0.6900419533536168,-1.259611906566042,0.6334244622734533,2.049644540477798,-0.4125152045772619,-0.08379527165547741,1.3461944975135538,0.07312282676592445,0.09608911388057328,-1.3379481423112967,-0.7105355161950182,0.8201289575427168,-1.650388692143229,-0.2648817286449447,-0.7452691095063751,1.7868926892834924,-0.8814503346799827,-0.06151876483423875,0.9779962985757222,-0.9626365512082998,-1.8684057658078863,-0.4985095156624019,0.09801251739717784,-0.9048087424806065,0.39923318225585497,0.8007870834966261,0.04492687871960958,-0.13447093178177616,0.6955513931404235,-1.6664237297318127,-0.06878796517969679,-2.0271677100118843,1.0054649423548643,-0.935485681989698,-0.4877090511885543,-2.1691727226848325,1.8730951291540747,1.9701291532645244,-0.6072367365041451,-0.20267812348350753,0.419520074747097,-1.3698630814147639,0.5457179722128258,0.5400887042208458,-0.8401643575269793,-1.7852954133027419,-0.015127204278471754,-0.5126761205353862,-1.9392192246740192,-0.9348399242998332,0.13475405165976082,0.3226933637818872,0.2518508135816996,0.6187654522995018,0.34584991996916925,0.19827494158896725,1.3154777020915707,1.0843443180742538,-1.7842726344419373,-0.7368681730249035,0.29982786449948673,0.055325129415402484,-0.22555181039210734,0.3253537214948485,-0.972508311987855,1.5216907051621416,-0.8303815536215513,2.2176797823958276,0.6706758843386869,0.7922588968759959,-0.6679061378549241,-1.9957141479041003,-0.16551075387272368,-0.42521296568309397,0.12230529593625743,-0.737934123468278,-0.41227840363982143,0.022578301223580156,0.09629241133641168,-0.29384242359572504,0.48098038536471205,-0.6579014706607186,0.8300898029984877,0.7520766490943627,-0.4047989014015041,-0.7405663749500524,1.300275639607767,0.0621476170640035,0.9914132099459558],\"yaxis\":\"y10\",\"type\":\"scatter\"},{\"histfunc\":\"count\",\"histnorm\":\"\",\"marker\":{\"color\":\"rgba(50, 171, 96, 1.0)\",\"line\":{\"color\":\"#4D5663\",\"width\":1.3}},\"name\":\"C\",\"nbinsx\":10,\"opacity\":0.8,\"orientation\":\"v\",\"x\":[-0.6976331963008978,0.4427226738215899,-0.5278849581553196,0.08357712350404232,0.2985644766584697,-1.168236300018726,-0.07975759208579772,2.605684681915098,0.23237882392158934,-1.5010257824011846,-1.0082510510416975,-0.6900419533536168,-1.259611906566042,0.6334244622734533,2.049644540477798,-0.4125152045772619,-0.08379527165547741,1.3461944975135538,0.07312282676592445,0.09608911388057328,-1.3379481423112967,-0.7105355161950182,0.8201289575427168,-1.650388692143229,-0.2648817286449447,-0.7452691095063751,1.7868926892834924,-0.8814503346799827,-0.06151876483423875,0.9779962985757222,-0.9626365512082998,-1.8684057658078863,-0.4985095156624019,0.09801251739717784,-0.9048087424806065,0.39923318225585497,0.8007870834966261,0.04492687871960958,-0.13447093178177616,0.6955513931404235,-1.6664237297318127,-0.06878796517969679,-2.0271677100118843,1.0054649423548643,-0.935485681989698,-0.4877090511885543,-2.1691727226848325,1.8730951291540747,1.9701291532645244,-0.6072367365041451,-0.20267812348350753,0.419520074747097,-1.3698630814147639,0.5457179722128258,0.5400887042208458,-0.8401643575269793,-1.7852954133027419,-0.015127204278471754,-0.5126761205353862,-1.9392192246740192,-0.9348399242998332,0.13475405165976082,0.3226933637818872,0.2518508135816996,0.6187654522995018,0.34584991996916925,0.19827494158896725,1.3154777020915707,1.0843443180742538,-1.7842726344419373,-0.7368681730249035,0.29982786449948673,0.055325129415402484,-0.22555181039210734,0.3253537214948485,-0.972508311987855,1.5216907051621416,-0.8303815536215513,2.2176797823958276,0.6706758843386869,0.7922588968759959,-0.6679061378549241,-1.9957141479041003,-0.16551075387272368,-0.42521296568309397,0.12230529593625743,-0.737934123468278,-0.41227840363982143,0.022578301223580156,0.09629241133641168,-0.29384242359572504,0.48098038536471205,-0.6579014706607186,0.8300898029984877,0.7520766490943627,-0.4047989014015041,-0.7405663749500524,1.300275639607767,0.0621476170640035,0.9914132099459558],\"xaxis\":\"x11\",\"yaxis\":\"y11\",\"type\":\"histogram\"},{\"line\":{\"color\":\"rgba(128, 128, 128, 1.0)\",\"dash\":\"solid\",\"shape\":\"linear\",\"width\":1.3},\"marker\":{\"size\":2,\"symbol\":\"circle\"},\"mode\":\"markers\",\"name\":\"C\",\"text\":\"\",\"x\":[0.36755381357114664,1.5866634641494763,-0.0016882635232418383,0.30481516546547754,-1.1460579793852106,0.18731553992418792,-0.7340415243278909,1.4681758380718968,0.6109156444057225,0.8636566081800396,-1.2042896973027075,-0.717285088620604,-0.27926979285461195,-2.27782884292265,-1.1456024387434294,-0.1800217010084489,0.785832135922479,-2.630458514106578,-0.2628149102421362,1.0761508998209481,-0.6181868880517446,0.5644249552487409,0.1376512701946862,-1.0643470491969753,1.8326826957178588,0.08728948571471955,-0.9472986678785581,-2.188688147512093,-0.7094221230993478,-0.28614802083519075,-0.48367152612082537,-0.9609704154017971,0.1744627506306088,0.7508229866038417,-0.337165746033092,-1.5903644266779202,2.228907207340895,-0.9478162039494671,0.27593618307892154,0.46010096005631257,0.04756331409774407,1.1287002598451472,0.18506283525199643,-0.6592959249978171,0.4301598022789856,-0.011438549207886901,0.7132425090647524,-0.6744260407693818,-1.0462246129155746,0.03198300689870275,-1.0994408136210951,-1.113758931877566,1.530382010628822,0.4135996875452047,-0.36336300948095324,0.3141181281423151,-0.4683804485386927,0.883379291693893,-1.2366918685672104,-0.8887760161020599,1.1407716944151174,0.20815316548169516,-0.8895268304752171,-2.487641320009603,1.2669697435451026,-0.10918129777148618,-0.7291768460835901,-0.03115806750970858,0.7255449564277417,0.051499144496555294,0.1452122127315349,0.4713464248472897,0.34120215169591545,-0.5319128893521675,-0.24273195108086826,0.30572900353506227,0.7753034135589412,-0.7913533202524138,0.3192616910868719,-1.8917692479218562,1.183999529257435,0.3856430891754346,-0.26119581670676495,0.9045642887654469,-2.0546395471207317,0.49571308447610857,0.30788575151268355,0.8461911621944069,1.7572508576574226,-0.46684102667288335,0.0213978276901902,-0.22812548617914455,0.33387665321982846,1.1207365511896488,-0.7548904321132596,0.8495131759537213,-0.6024092649912318,-0.3645591543801789,1.4134123567488515,-0.7965566970465708],\"xaxis\":\"x12\",\"y\":[-0.6976331963008978,0.4427226738215899,-0.5278849581553196,0.08357712350404232,0.2985644766584697,-1.168236300018726,-0.07975759208579772,2.605684681915098,0.23237882392158934,-1.5010257824011846,-1.0082510510416975,-0.6900419533536168,-1.259611906566042,0.6334244622734533,2.049644540477798,-0.4125152045772619,-0.08379527165547741,1.3461944975135538,0.07312282676592445,0.09608911388057328,-1.3379481423112967,-0.7105355161950182,0.8201289575427168,-1.650388692143229,-0.2648817286449447,-0.7452691095063751,1.7868926892834924,-0.8814503346799827,-0.06151876483423875,0.9779962985757222,-0.9626365512082998,-1.8684057658078863,-0.4985095156624019,0.09801251739717784,-0.9048087424806065,0.39923318225585497,0.8007870834966261,0.04492687871960958,-0.13447093178177616,0.6955513931404235,-1.6664237297318127,-0.06878796517969679,-2.0271677100118843,1.0054649423548643,-0.935485681989698,-0.4877090511885543,-2.1691727226848325,1.8730951291540747,1.9701291532645244,-0.6072367365041451,-0.20267812348350753,0.419520074747097,-1.3698630814147639,0.5457179722128258,0.5400887042208458,-0.8401643575269793,-1.7852954133027419,-0.015127204278471754,-0.5126761205353862,-1.9392192246740192,-0.9348399242998332,0.13475405165976082,0.3226933637818872,0.2518508135816996,0.6187654522995018,0.34584991996916925,0.19827494158896725,1.3154777020915707,1.0843443180742538,-1.7842726344419373,-0.7368681730249035,0.29982786449948673,0.055325129415402484,-0.22555181039210734,0.3253537214948485,-0.972508311987855,1.5216907051621416,-0.8303815536215513,2.2176797823958276,0.6706758843386869,0.7922588968759959,-0.6679061378549241,-1.9957141479041003,-0.16551075387272368,-0.42521296568309397,0.12230529593625743,-0.737934123468278,-0.41227840363982143,0.022578301223580156,0.09629241133641168,-0.29384242359572504,0.48098038536471205,-0.6579014706607186,0.8300898029984877,0.7520766490943627,-0.4047989014015041,-0.7405663749500524,1.300275639607767,0.0621476170640035,0.9914132099459558],\"yaxis\":\"y12\",\"type\":\"scatter\"},{\"line\":{\"color\":\"rgba(128, 128, 128, 1.0)\",\"dash\":\"solid\",\"shape\":\"linear\",\"width\":1.3},\"marker\":{\"size\":2,\"symbol\":\"circle\"},\"mode\":\"markers\",\"name\":\"D\",\"text\":\"\",\"x\":[-2.0179175343734688,0.9233803166017815,1.0222921258112883,-1.5427079018271743,0.9534677415959142,1.6139729466741866,-0.49068513401485064,0.6406132073703192,0.18167756204418314,-0.9019463260024844,1.1277902478070898,-0.5492318874813171,0.40254477215755796,0.20456328644346478,0.8484682084553806,1.598340262193149,-0.3885036558297409,0.7669440765048724,0.5721831877604494,-0.35869921119774845,1.275872979836392,-1.5377322892971523,0.9397524846531856,1.2378549284154148,0.45562500468005257,1.9220064474824583,0.3788446677627523,-1.6272530974099786,1.548747250020298,0.35367122733264206,-1.6023537985805665,-0.2743189849606666,1.6451749536118985,0.7660625343797965,-0.6551561273192944,2.2894165994992624,-0.30049348682681154,-0.1426257921945078,-0.3509331819696133,0.8066088439981102,-0.8190431907381289,0.33839591532473734,0.029153055130530316,0.04075026670195348,0.9095559195154234,-0.45874347933067305,0.23720429403928597,1.8818167393804857,-1.226472966530045,1.0222059444120426,0.786664742156235,-0.856175743606393,-1.2967015187714002,-1.3397627343890512,-0.7740855332934843,-2.0651785264446603,-0.43263697200185763,-0.13962494342840498,1.0979198353286066,-2.5008648450355797,0.7363401239497037,-1.70332552593329,-0.3906840182946408,-0.6357483053025298,-1.9455432716535508,-0.5398111243240811,-0.567472688932623,-0.6141447633033629,0.8011189183895611,-1.2128507855740867,-0.37599186611637914,1.4623963889164369,-0.7631731022882191,-0.49931213287490084,2.2156779881392468,-0.22361959827960393,-0.18881355505333997,0.1563814679055965,-0.04432271649482479,0.8444078862992042,1.262089825064193,1.409022756908488,-0.8371506916682264,-0.19411419725649035,1.3917668500786569,-0.10654778503241351,0.5073768369051679,-2.3983216306246313,1.100498582230519,-0.8995606298174025,-0.6816405917690144,0.6642734688092117,0.3118612734468044,1.2364404904823296,1.5917519675688976,1.248130459217827,1.1785659741667693,0.7177544645767607,-1.0558469610199113,1.6382365853024183],\"xaxis\":\"x13\",\"y\":[0.36755381357114664,1.5866634641494763,-0.0016882635232418383,0.30481516546547754,-1.1460579793852106,0.18731553992418792,-0.7340415243278909,1.4681758380718968,0.6109156444057225,0.8636566081800396,-1.2042896973027075,-0.717285088620604,-0.27926979285461195,-2.27782884292265,-1.1456024387434294,-0.1800217010084489,0.785832135922479,-2.630458514106578,-0.2628149102421362,1.0761508998209481,-0.6181868880517446,0.5644249552487409,0.1376512701946862,-1.0643470491969753,1.8326826957178588,0.08728948571471955,-0.9472986678785581,-2.188688147512093,-0.7094221230993478,-0.28614802083519075,-0.48367152612082537,-0.9609704154017971,0.1744627506306088,0.7508229866038417,-0.337165746033092,-1.5903644266779202,2.228907207340895,-0.9478162039494671,0.27593618307892154,0.46010096005631257,0.04756331409774407,1.1287002598451472,0.18506283525199643,-0.6592959249978171,0.4301598022789856,-0.011438549207886901,0.7132425090647524,-0.6744260407693818,-1.0462246129155746,0.03198300689870275,-1.0994408136210951,-1.113758931877566,1.530382010628822,0.4135996875452047,-0.36336300948095324,0.3141181281423151,-0.4683804485386927,0.883379291693893,-1.2366918685672104,-0.8887760161020599,1.1407716944151174,0.20815316548169516,-0.8895268304752171,-2.487641320009603,1.2669697435451026,-0.10918129777148618,-0.7291768460835901,-0.03115806750970858,0.7255449564277417,0.051499144496555294,0.1452122127315349,0.4713464248472897,0.34120215169591545,-0.5319128893521675,-0.24273195108086826,0.30572900353506227,0.7753034135589412,-0.7913533202524138,0.3192616910868719,-1.8917692479218562,1.183999529257435,0.3856430891754346,-0.26119581670676495,0.9045642887654469,-2.0546395471207317,0.49571308447610857,0.30788575151268355,0.8461911621944069,1.7572508576574226,-0.46684102667288335,0.0213978276901902,-0.22812548617914455,0.33387665321982846,1.1207365511896488,-0.7548904321132596,0.8495131759537213,-0.6024092649912318,-0.3645591543801789,1.4134123567488515,-0.7965566970465708],\"yaxis\":\"y13\",\"type\":\"scatter\"},{\"line\":{\"color\":\"rgba(128, 128, 128, 1.0)\",\"dash\":\"solid\",\"shape\":\"linear\",\"width\":1.3},\"marker\":{\"size\":2,\"symbol\":\"circle\"},\"mode\":\"markers\",\"name\":\"D\",\"text\":\"\",\"x\":[2.395950167703243,0.4011665790160146,-0.5052385387154442,-0.3942371566252391,-0.21364305021911828,0.43594532497191135,0.6259224234031222,0.185412186044443,-0.6480451046733444,-0.8073701561029344,0.3086398159337038,0.40896197444841126,-0.1496317018826678,0.008520897127094368,-0.37877268064955,1.2535502967513548,-0.8177967117036561,-0.04946135797232314,-0.7183013023150779,-1.3447272277949869,0.41260120152215496,1.33359903067863,0.3671958190478347,0.8236499541071457,2.3347971433163424,-0.5771650158144527,-0.2251481350890585,-0.9435813597330984,0.8453434644325502,-0.21978075472742842,0.12090913168294705,1.3238965924999886,-1.242242230242268,-1.767118741764655,-1.039313253025596,-1.3642511383582916,2.018414865068438,0.9965547242299222,-0.19942697072610457,-1.1706562780182612,-0.5595449835820688,1.151778463952504,-1.143226604397329,-0.663554837473901,-0.3527941140626611,-0.3970287607005498,0.06988660301060044,-0.40904957810275894,1.2239473808056882,1.4503012453471353,-0.7099546586223381,0.1955292008469326,-0.9682868269540975,-0.6066626776294081,1.1271596955346652,-0.06980868330920874,1.2501046888418872,-0.7711144899188074,1.00068801591415,-0.30428583621033645,-0.5699992904635901,-1.1394997915954335,-1.3178505709741983,-0.5362050779147439,-1.0081773680965436,1.7769241713514654,-1.7573616768732496,-1.4171193570499716,1.9335299038258698,-0.08421774918244486,-0.3712113381043379,1.0037717622849058,-0.7649009639855259,0.8067863038735369,0.73994466595083,1.6230867298471527,0.36667123116095157,0.38490337507613426,-1.1667875323245254,1.1022912167479761,0.036114867420814295,0.21253242351549598,-1.0133323362101818,-0.045069781891611274,0.8566552134265603,-1.9136470404042818,1.2980627554809563,-0.359342519582086,-2.7620029335220795,-0.18996686862109757,0.01672937162273757,-0.5646206196563005,1.80341766720294,2.2834787562600174,-0.5206495440594276,0.0014904575692281095,-0.37866407377310024,-0.3283192827529023,0.48484304460629934,-0.803938936523087],\"xaxis\":\"x14\",\"y\":[0.36755381357114664,1.5866634641494763,-0.0016882635232418383,0.30481516546547754,-1.1460579793852106,0.18731553992418792,-0.7340415243278909,1.4681758380718968,0.6109156444057225,0.8636566081800396,-1.2042896973027075,-0.717285088620604,-0.27926979285461195,-2.27782884292265,-1.1456024387434294,-0.1800217010084489,0.785832135922479,-2.630458514106578,-0.2628149102421362,1.0761508998209481,-0.6181868880517446,0.5644249552487409,0.1376512701946862,-1.0643470491969753,1.8326826957178588,0.08728948571471955,-0.9472986678785581,-2.188688147512093,-0.7094221230993478,-0.28614802083519075,-0.48367152612082537,-0.9609704154017971,0.1744627506306088,0.7508229866038417,-0.337165746033092,-1.5903644266779202,2.228907207340895,-0.9478162039494671,0.27593618307892154,0.46010096005631257,0.04756331409774407,1.1287002598451472,0.18506283525199643,-0.6592959249978171,0.4301598022789856,-0.011438549207886901,0.7132425090647524,-0.6744260407693818,-1.0462246129155746,0.03198300689870275,-1.0994408136210951,-1.113758931877566,1.530382010628822,0.4135996875452047,-0.36336300948095324,0.3141181281423151,-0.4683804485386927,0.883379291693893,-1.2366918685672104,-0.8887760161020599,1.1407716944151174,0.20815316548169516,-0.8895268304752171,-2.487641320009603,1.2669697435451026,-0.10918129777148618,-0.7291768460835901,-0.03115806750970858,0.7255449564277417,0.051499144496555294,0.1452122127315349,0.4713464248472897,0.34120215169591545,-0.5319128893521675,-0.24273195108086826,0.30572900353506227,0.7753034135589412,-0.7913533202524138,0.3192616910868719,-1.8917692479218562,1.183999529257435,0.3856430891754346,-0.26119581670676495,0.9045642887654469,-2.0546395471207317,0.49571308447610857,0.30788575151268355,0.8461911621944069,1.7572508576574226,-0.46684102667288335,0.0213978276901902,-0.22812548617914455,0.33387665321982846,1.1207365511896488,-0.7548904321132596,0.8495131759537213,-0.6024092649912318,-0.3645591543801789,1.4134123567488515,-0.7965566970465708],\"yaxis\":\"y14\",\"type\":\"scatter\"},{\"line\":{\"color\":\"rgba(128, 128, 128, 1.0)\",\"dash\":\"solid\",\"shape\":\"linear\",\"width\":1.3},\"marker\":{\"size\":2,\"symbol\":\"circle\"},\"mode\":\"markers\",\"name\":\"D\",\"text\":\"\",\"x\":[-0.6976331963008978,0.4427226738215899,-0.5278849581553196,0.08357712350404232,0.2985644766584697,-1.168236300018726,-0.07975759208579772,2.605684681915098,0.23237882392158934,-1.5010257824011846,-1.0082510510416975,-0.6900419533536168,-1.259611906566042,0.6334244622734533,2.049644540477798,-0.4125152045772619,-0.08379527165547741,1.3461944975135538,0.07312282676592445,0.09608911388057328,-1.3379481423112967,-0.7105355161950182,0.8201289575427168,-1.650388692143229,-0.2648817286449447,-0.7452691095063751,1.7868926892834924,-0.8814503346799827,-0.06151876483423875,0.9779962985757222,-0.9626365512082998,-1.8684057658078863,-0.4985095156624019,0.09801251739717784,-0.9048087424806065,0.39923318225585497,0.8007870834966261,0.04492687871960958,-0.13447093178177616,0.6955513931404235,-1.6664237297318127,-0.06878796517969679,-2.0271677100118843,1.0054649423548643,-0.935485681989698,-0.4877090511885543,-2.1691727226848325,1.8730951291540747,1.9701291532645244,-0.6072367365041451,-0.20267812348350753,0.419520074747097,-1.3698630814147639,0.5457179722128258,0.5400887042208458,-0.8401643575269793,-1.7852954133027419,-0.015127204278471754,-0.5126761205353862,-1.9392192246740192,-0.9348399242998332,0.13475405165976082,0.3226933637818872,0.2518508135816996,0.6187654522995018,0.34584991996916925,0.19827494158896725,1.3154777020915707,1.0843443180742538,-1.7842726344419373,-0.7368681730249035,0.29982786449948673,0.055325129415402484,-0.22555181039210734,0.3253537214948485,-0.972508311987855,1.5216907051621416,-0.8303815536215513,2.2176797823958276,0.6706758843386869,0.7922588968759959,-0.6679061378549241,-1.9957141479041003,-0.16551075387272368,-0.42521296568309397,0.12230529593625743,-0.737934123468278,-0.41227840363982143,0.022578301223580156,0.09629241133641168,-0.29384242359572504,0.48098038536471205,-0.6579014706607186,0.8300898029984877,0.7520766490943627,-0.4047989014015041,-0.7405663749500524,1.300275639607767,0.0621476170640035,0.9914132099459558],\"xaxis\":\"x15\",\"y\":[0.36755381357114664,1.5866634641494763,-0.0016882635232418383,0.30481516546547754,-1.1460579793852106,0.18731553992418792,-0.7340415243278909,1.4681758380718968,0.6109156444057225,0.8636566081800396,-1.2042896973027075,-0.717285088620604,-0.27926979285461195,-2.27782884292265,-1.1456024387434294,-0.1800217010084489,0.785832135922479,-2.630458514106578,-0.2628149102421362,1.0761508998209481,-0.6181868880517446,0.5644249552487409,0.1376512701946862,-1.0643470491969753,1.8326826957178588,0.08728948571471955,-0.9472986678785581,-2.188688147512093,-0.7094221230993478,-0.28614802083519075,-0.48367152612082537,-0.9609704154017971,0.1744627506306088,0.7508229866038417,-0.337165746033092,-1.5903644266779202,2.228907207340895,-0.9478162039494671,0.27593618307892154,0.46010096005631257,0.04756331409774407,1.1287002598451472,0.18506283525199643,-0.6592959249978171,0.4301598022789856,-0.011438549207886901,0.7132425090647524,-0.6744260407693818,-1.0462246129155746,0.03198300689870275,-1.0994408136210951,-1.113758931877566,1.530382010628822,0.4135996875452047,-0.36336300948095324,0.3141181281423151,-0.4683804485386927,0.883379291693893,-1.2366918685672104,-0.8887760161020599,1.1407716944151174,0.20815316548169516,-0.8895268304752171,-2.487641320009603,1.2669697435451026,-0.10918129777148618,-0.7291768460835901,-0.03115806750970858,0.7255449564277417,0.051499144496555294,0.1452122127315349,0.4713464248472897,0.34120215169591545,-0.5319128893521675,-0.24273195108086826,0.30572900353506227,0.7753034135589412,-0.7913533202524138,0.3192616910868719,-1.8917692479218562,1.183999529257435,0.3856430891754346,-0.26119581670676495,0.9045642887654469,-2.0546395471207317,0.49571308447610857,0.30788575151268355,0.8461911621944069,1.7572508576574226,-0.46684102667288335,0.0213978276901902,-0.22812548617914455,0.33387665321982846,1.1207365511896488,-0.7548904321132596,0.8495131759537213,-0.6024092649912318,-0.3645591543801789,1.4134123567488515,-0.7965566970465708],\"yaxis\":\"y15\",\"type\":\"scatter\"},{\"histfunc\":\"count\",\"histnorm\":\"\",\"marker\":{\"color\":\"rgba(128, 0, 128, 1.0)\",\"line\":{\"color\":\"#4D5663\",\"width\":1.3}},\"name\":\"D\",\"nbinsx\":10,\"opacity\":0.8,\"orientation\":\"v\",\"x\":[0.36755381357114664,1.5866634641494763,-0.0016882635232418383,0.30481516546547754,-1.1460579793852106,0.18731553992418792,-0.7340415243278909,1.4681758380718968,0.6109156444057225,0.8636566081800396,-1.2042896973027075,-0.717285088620604,-0.27926979285461195,-2.27782884292265,-1.1456024387434294,-0.1800217010084489,0.785832135922479,-2.630458514106578,-0.2628149102421362,1.0761508998209481,-0.6181868880517446,0.5644249552487409,0.1376512701946862,-1.0643470491969753,1.8326826957178588,0.08728948571471955,-0.9472986678785581,-2.188688147512093,-0.7094221230993478,-0.28614802083519075,-0.48367152612082537,-0.9609704154017971,0.1744627506306088,0.7508229866038417,-0.337165746033092,-1.5903644266779202,2.228907207340895,-0.9478162039494671,0.27593618307892154,0.46010096005631257,0.04756331409774407,1.1287002598451472,0.18506283525199643,-0.6592959249978171,0.4301598022789856,-0.011438549207886901,0.7132425090647524,-0.6744260407693818,-1.0462246129155746,0.03198300689870275,-1.0994408136210951,-1.113758931877566,1.530382010628822,0.4135996875452047,-0.36336300948095324,0.3141181281423151,-0.4683804485386927,0.883379291693893,-1.2366918685672104,-0.8887760161020599,1.1407716944151174,0.20815316548169516,-0.8895268304752171,-2.487641320009603,1.2669697435451026,-0.10918129777148618,-0.7291768460835901,-0.03115806750970858,0.7255449564277417,0.051499144496555294,0.1452122127315349,0.4713464248472897,0.34120215169591545,-0.5319128893521675,-0.24273195108086826,0.30572900353506227,0.7753034135589412,-0.7913533202524138,0.3192616910868719,-1.8917692479218562,1.183999529257435,0.3856430891754346,-0.26119581670676495,0.9045642887654469,-2.0546395471207317,0.49571308447610857,0.30788575151268355,0.8461911621944069,1.7572508576574226,-0.46684102667288335,0.0213978276901902,-0.22812548617914455,0.33387665321982846,1.1207365511896488,-0.7548904321132596,0.8495131759537213,-0.6024092649912318,-0.3645591543801789,1.4134123567488515,-0.7965566970465708],\"xaxis\":\"x16\",\"yaxis\":\"y16\",\"type\":\"histogram\"}],                        {\"bargap\":0.02,\"legend\":{\"bgcolor\":\"#F5F6F9\",\"font\":{\"color\":\"#4D5663\"}},\"paper_bgcolor\":\"#F5F6F9\",\"plot_bgcolor\":\"#F5F6F9\",\"showlegend\":false,\"template\":{\"data\":{\"barpolar\":[{\"marker\":{\"line\":{\"color\":\"#E5ECF6\",\"width\":0.5},\"pattern\":{\"fillmode\":\"overlay\",\"size\":10,\"solidity\":0.2}},\"type\":\"barpolar\"}],\"bar\":[{\"error_x\":{\"color\":\"#2a3f5f\"},\"error_y\":{\"color\":\"#2a3f5f\"},\"marker\":{\"line\":{\"color\":\"#E5ECF6\",\"width\":0.5},\"pattern\":{\"fillmode\":\"overlay\",\"size\":10,\"solidity\":0.2}},\"type\":\"bar\"}],\"carpet\":[{\"aaxis\":{\"endlinecolor\":\"#2a3f5f\",\"gridcolor\":\"white\",\"linecolor\":\"white\",\"minorgridcolor\":\"white\",\"startlinecolor\":\"#2a3f5f\"},\"baxis\":{\"endlinecolor\":\"#2a3f5f\",\"gridcolor\":\"white\",\"linecolor\":\"white\",\"minorgridcolor\":\"white\",\"startlinecolor\":\"#2a3f5f\"},\"type\":\"carpet\"}],\"choropleth\":[{\"colorbar\":{\"outlinewidth\":0,\"ticks\":\"\"},\"type\":\"choropleth\"}],\"contourcarpet\":[{\"colorbar\":{\"outlinewidth\":0,\"ticks\":\"\"},\"type\":\"contourcarpet\"}],\"contour\":[{\"colorbar\":{\"outlinewidth\":0,\"ticks\":\"\"},\"colorscale\":[[0.0,\"#0d0887\"],[0.1111111111111111,\"#46039f\"],[0.2222222222222222,\"#7201a8\"],[0.3333333333333333,\"#9c179e\"],[0.4444444444444444,\"#bd3786\"],[0.5555555555555556,\"#d8576b\"],[0.6666666666666666,\"#ed7953\"],[0.7777777777777778,\"#fb9f3a\"],[0.8888888888888888,\"#fdca26\"],[1.0,\"#f0f921\"]],\"type\":\"contour\"}],\"heatmapgl\":[{\"colorbar\":{\"outlinewidth\":0,\"ticks\":\"\"},\"colorscale\":[[0.0,\"#0d0887\"],[0.1111111111111111,\"#46039f\"],[0.2222222222222222,\"#7201a8\"],[0.3333333333333333,\"#9c179e\"],[0.4444444444444444,\"#bd3786\"],[0.5555555555555556,\"#d8576b\"],[0.6666666666666666,\"#ed7953\"],[0.7777777777777778,\"#fb9f3a\"],[0.8888888888888888,\"#fdca26\"],[1.0,\"#f0f921\"]],\"type\":\"heatmapgl\"}],\"heatmap\":[{\"colorbar\":{\"outlinewidth\":0,\"ticks\":\"\"},\"colorscale\":[[0.0,\"#0d0887\"],[0.1111111111111111,\"#46039f\"],[0.2222222222222222,\"#7201a8\"],[0.3333333333333333,\"#9c179e\"],[0.4444444444444444,\"#bd3786\"],[0.5555555555555556,\"#d8576b\"],[0.6666666666666666,\"#ed7953\"],[0.7777777777777778,\"#fb9f3a\"],[0.8888888888888888,\"#fdca26\"],[1.0,\"#f0f921\"]],\"type\":\"heatmap\"}],\"histogram2dcontour\":[{\"colorbar\":{\"outlinewidth\":0,\"ticks\":\"\"},\"colorscale\":[[0.0,\"#0d0887\"],[0.1111111111111111,\"#46039f\"],[0.2222222222222222,\"#7201a8\"],[0.3333333333333333,\"#9c179e\"],[0.4444444444444444,\"#bd3786\"],[0.5555555555555556,\"#d8576b\"],[0.6666666666666666,\"#ed7953\"],[0.7777777777777778,\"#fb9f3a\"],[0.8888888888888888,\"#fdca26\"],[1.0,\"#f0f921\"]],\"type\":\"histogram2dcontour\"}],\"histogram2d\":[{\"colorbar\":{\"outlinewidth\":0,\"ticks\":\"\"},\"colorscale\":[[0.0,\"#0d0887\"],[0.1111111111111111,\"#46039f\"],[0.2222222222222222,\"#7201a8\"],[0.3333333333333333,\"#9c179e\"],[0.4444444444444444,\"#bd3786\"],[0.5555555555555556,\"#d8576b\"],[0.6666666666666666,\"#ed7953\"],[0.7777777777777778,\"#fb9f3a\"],[0.8888888888888888,\"#fdca26\"],[1.0,\"#f0f921\"]],\"type\":\"histogram2d\"}],\"histogram\":[{\"marker\":{\"pattern\":{\"fillmode\":\"overlay\",\"size\":10,\"solidity\":0.2}},\"type\":\"histogram\"}],\"mesh3d\":[{\"colorbar\":{\"outlinewidth\":0,\"ticks\":\"\"},\"type\":\"mesh3d\"}],\"parcoords\":[{\"line\":{\"colorbar\":{\"outlinewidth\":0,\"ticks\":\"\"}},\"type\":\"parcoords\"}],\"pie\":[{\"automargin\":true,\"type\":\"pie\"}],\"scatter3d\":[{\"line\":{\"colorbar\":{\"outlinewidth\":0,\"ticks\":\"\"}},\"marker\":{\"colorbar\":{\"outlinewidth\":0,\"ticks\":\"\"}},\"type\":\"scatter3d\"}],\"scattercarpet\":[{\"marker\":{\"colorbar\":{\"outlinewidth\":0,\"ticks\":\"\"}},\"type\":\"scattercarpet\"}],\"scattergeo\":[{\"marker\":{\"colorbar\":{\"outlinewidth\":0,\"ticks\":\"\"}},\"type\":\"scattergeo\"}],\"scattergl\":[{\"marker\":{\"colorbar\":{\"outlinewidth\":0,\"ticks\":\"\"}},\"type\":\"scattergl\"}],\"scattermapbox\":[{\"marker\":{\"colorbar\":{\"outlinewidth\":0,\"ticks\":\"\"}},\"type\":\"scattermapbox\"}],\"scatterpolargl\":[{\"marker\":{\"colorbar\":{\"outlinewidth\":0,\"ticks\":\"\"}},\"type\":\"scatterpolargl\"}],\"scatterpolar\":[{\"marker\":{\"colorbar\":{\"outlinewidth\":0,\"ticks\":\"\"}},\"type\":\"scatterpolar\"}],\"scatter\":[{\"marker\":{\"colorbar\":{\"outlinewidth\":0,\"ticks\":\"\"}},\"type\":\"scatter\"}],\"scatterternary\":[{\"marker\":{\"colorbar\":{\"outlinewidth\":0,\"ticks\":\"\"}},\"type\":\"scatterternary\"}],\"surface\":[{\"colorbar\":{\"outlinewidth\":0,\"ticks\":\"\"},\"colorscale\":[[0.0,\"#0d0887\"],[0.1111111111111111,\"#46039f\"],[0.2222222222222222,\"#7201a8\"],[0.3333333333333333,\"#9c179e\"],[0.4444444444444444,\"#bd3786\"],[0.5555555555555556,\"#d8576b\"],[0.6666666666666666,\"#ed7953\"],[0.7777777777777778,\"#fb9f3a\"],[0.8888888888888888,\"#fdca26\"],[1.0,\"#f0f921\"]],\"type\":\"surface\"}],\"table\":[{\"cells\":{\"fill\":{\"color\":\"#EBF0F8\"},\"line\":{\"color\":\"white\"}},\"header\":{\"fill\":{\"color\":\"#C8D4E3\"},\"line\":{\"color\":\"white\"}},\"type\":\"table\"}]},\"layout\":{\"annotationdefaults\":{\"arrowcolor\":\"#2a3f5f\",\"arrowhead\":0,\"arrowwidth\":1},\"autotypenumbers\":\"strict\",\"coloraxis\":{\"colorbar\":{\"outlinewidth\":0,\"ticks\":\"\"}},\"colorscale\":{\"diverging\":[[0,\"#8e0152\"],[0.1,\"#c51b7d\"],[0.2,\"#de77ae\"],[0.3,\"#f1b6da\"],[0.4,\"#fde0ef\"],[0.5,\"#f7f7f7\"],[0.6,\"#e6f5d0\"],[0.7,\"#b8e186\"],[0.8,\"#7fbc41\"],[0.9,\"#4d9221\"],[1,\"#276419\"]],\"sequential\":[[0.0,\"#0d0887\"],[0.1111111111111111,\"#46039f\"],[0.2222222222222222,\"#7201a8\"],[0.3333333333333333,\"#9c179e\"],[0.4444444444444444,\"#bd3786\"],[0.5555555555555556,\"#d8576b\"],[0.6666666666666666,\"#ed7953\"],[0.7777777777777778,\"#fb9f3a\"],[0.8888888888888888,\"#fdca26\"],[1.0,\"#f0f921\"]],\"sequentialminus\":[[0.0,\"#0d0887\"],[0.1111111111111111,\"#46039f\"],[0.2222222222222222,\"#7201a8\"],[0.3333333333333333,\"#9c179e\"],[0.4444444444444444,\"#bd3786\"],[0.5555555555555556,\"#d8576b\"],[0.6666666666666666,\"#ed7953\"],[0.7777777777777778,\"#fb9f3a\"],[0.8888888888888888,\"#fdca26\"],[1.0,\"#f0f921\"]]},\"colorway\":[\"#636efa\",\"#EF553B\",\"#00cc96\",\"#ab63fa\",\"#FFA15A\",\"#19d3f3\",\"#FF6692\",\"#B6E880\",\"#FF97FF\",\"#FECB52\"],\"font\":{\"color\":\"#2a3f5f\"},\"geo\":{\"bgcolor\":\"white\",\"lakecolor\":\"white\",\"landcolor\":\"#E5ECF6\",\"showlakes\":true,\"showland\":true,\"subunitcolor\":\"white\"},\"hoverlabel\":{\"align\":\"left\"},\"hovermode\":\"closest\",\"mapbox\":{\"style\":\"light\"},\"paper_bgcolor\":\"white\",\"plot_bgcolor\":\"#E5ECF6\",\"polar\":{\"angularaxis\":{\"gridcolor\":\"white\",\"linecolor\":\"white\",\"ticks\":\"\"},\"bgcolor\":\"#E5ECF6\",\"radialaxis\":{\"gridcolor\":\"white\",\"linecolor\":\"white\",\"ticks\":\"\"}},\"scene\":{\"xaxis\":{\"backgroundcolor\":\"#E5ECF6\",\"gridcolor\":\"white\",\"gridwidth\":2,\"linecolor\":\"white\",\"showbackground\":true,\"ticks\":\"\",\"zerolinecolor\":\"white\"},\"yaxis\":{\"backgroundcolor\":\"#E5ECF6\",\"gridcolor\":\"white\",\"gridwidth\":2,\"linecolor\":\"white\",\"showbackground\":true,\"ticks\":\"\",\"zerolinecolor\":\"white\"},\"zaxis\":{\"backgroundcolor\":\"#E5ECF6\",\"gridcolor\":\"white\",\"gridwidth\":2,\"linecolor\":\"white\",\"showbackground\":true,\"ticks\":\"\",\"zerolinecolor\":\"white\"}},\"shapedefaults\":{\"line\":{\"color\":\"#2a3f5f\"}},\"ternary\":{\"aaxis\":{\"gridcolor\":\"white\",\"linecolor\":\"white\",\"ticks\":\"\"},\"baxis\":{\"gridcolor\":\"white\",\"linecolor\":\"white\",\"ticks\":\"\"},\"bgcolor\":\"#E5ECF6\",\"caxis\":{\"gridcolor\":\"white\",\"linecolor\":\"white\",\"ticks\":\"\"}},\"title\":{\"x\":0.05},\"xaxis\":{\"automargin\":true,\"gridcolor\":\"white\",\"linecolor\":\"white\",\"ticks\":\"\",\"title\":{\"standoff\":15},\"zerolinecolor\":\"white\",\"zerolinewidth\":2},\"yaxis\":{\"automargin\":true,\"gridcolor\":\"white\",\"linecolor\":\"white\",\"ticks\":\"\",\"title\":{\"standoff\":15},\"zerolinecolor\":\"white\",\"zerolinewidth\":2}}},\"title\":{\"font\":{\"color\":\"#4D5663\"}},\"xaxis\":{\"anchor\":\"y\",\"domain\":[0.0,0.2125],\"gridcolor\":\"#E1E5ED\",\"showgrid\":false,\"tickfont\":{\"color\":\"#4D5663\"},\"title\":{\"font\":{\"color\":\"#4D5663\"},\"text\":\"\"},\"zerolinecolor\":\"#E1E5ED\"},\"yaxis\":{\"anchor\":\"x\",\"domain\":[0.8025,1.0],\"gridcolor\":\"#E1E5ED\",\"showgrid\":false,\"tickfont\":{\"color\":\"#4D5663\"},\"title\":{\"font\":{\"color\":\"#4D5663\"},\"text\":\"\"},\"zerolinecolor\":\"#E1E5ED\"},\"xaxis2\":{\"anchor\":\"y2\",\"domain\":[0.2625,0.475],\"gridcolor\":\"#E1E5ED\",\"showgrid\":false,\"tickfont\":{\"color\":\"#4D5663\"},\"title\":{\"font\":{\"color\":\"#4D5663\"},\"text\":\"\"},\"zerolinecolor\":\"#E1E5ED\"},\"yaxis2\":{\"anchor\":\"x2\",\"domain\":[0.8025,1.0],\"gridcolor\":\"#E1E5ED\",\"showgrid\":false,\"tickfont\":{\"color\":\"#4D5663\"},\"title\":{\"font\":{\"color\":\"#4D5663\"},\"text\":\"\"},\"zerolinecolor\":\"#E1E5ED\"},\"xaxis3\":{\"anchor\":\"y3\",\"domain\":[0.525,0.7375],\"gridcolor\":\"#E1E5ED\",\"showgrid\":false,\"tickfont\":{\"color\":\"#4D5663\"},\"title\":{\"font\":{\"color\":\"#4D5663\"},\"text\":\"\"},\"zerolinecolor\":\"#E1E5ED\"},\"yaxis3\":{\"anchor\":\"x3\",\"domain\":[0.8025,1.0],\"gridcolor\":\"#E1E5ED\",\"showgrid\":false,\"tickfont\":{\"color\":\"#4D5663\"},\"title\":{\"font\":{\"color\":\"#4D5663\"},\"text\":\"\"},\"zerolinecolor\":\"#E1E5ED\"},\"xaxis4\":{\"anchor\":\"y4\",\"domain\":[0.7875,1.0],\"gridcolor\":\"#E1E5ED\",\"showgrid\":false,\"tickfont\":{\"color\":\"#4D5663\"},\"title\":{\"font\":{\"color\":\"#4D5663\"},\"text\":\"\"},\"zerolinecolor\":\"#E1E5ED\"},\"yaxis4\":{\"anchor\":\"x4\",\"domain\":[0.8025,1.0],\"gridcolor\":\"#E1E5ED\",\"showgrid\":false,\"tickfont\":{\"color\":\"#4D5663\"},\"title\":{\"font\":{\"color\":\"#4D5663\"},\"text\":\"\"},\"zerolinecolor\":\"#E1E5ED\"},\"xaxis5\":{\"anchor\":\"y5\",\"domain\":[0.0,0.2125],\"gridcolor\":\"#E1E5ED\",\"showgrid\":false,\"tickfont\":{\"color\":\"#4D5663\"},\"title\":{\"font\":{\"color\":\"#4D5663\"},\"text\":\"\"},\"zerolinecolor\":\"#E1E5ED\"},\"yaxis5\":{\"anchor\":\"x5\",\"domain\":[0.535,0.7325],\"gridcolor\":\"#E1E5ED\",\"showgrid\":false,\"tickfont\":{\"color\":\"#4D5663\"},\"title\":{\"font\":{\"color\":\"#4D5663\"},\"text\":\"\"},\"zerolinecolor\":\"#E1E5ED\"},\"xaxis6\":{\"anchor\":\"y6\",\"domain\":[0.2625,0.475],\"gridcolor\":\"#E1E5ED\",\"showgrid\":false,\"tickfont\":{\"color\":\"#4D5663\"},\"title\":{\"font\":{\"color\":\"#4D5663\"},\"text\":\"\"},\"zerolinecolor\":\"#E1E5ED\"},\"yaxis6\":{\"anchor\":\"x6\",\"domain\":[0.535,0.7325],\"gridcolor\":\"#E1E5ED\",\"showgrid\":false,\"tickfont\":{\"color\":\"#4D5663\"},\"title\":{\"font\":{\"color\":\"#4D5663\"},\"text\":\"\"},\"zerolinecolor\":\"#E1E5ED\"},\"xaxis7\":{\"anchor\":\"y7\",\"domain\":[0.525,0.7375],\"gridcolor\":\"#E1E5ED\",\"showgrid\":false,\"tickfont\":{\"color\":\"#4D5663\"},\"title\":{\"font\":{\"color\":\"#4D5663\"},\"text\":\"\"},\"zerolinecolor\":\"#E1E5ED\"},\"yaxis7\":{\"anchor\":\"x7\",\"domain\":[0.535,0.7325],\"gridcolor\":\"#E1E5ED\",\"showgrid\":false,\"tickfont\":{\"color\":\"#4D5663\"},\"title\":{\"font\":{\"color\":\"#4D5663\"},\"text\":\"\"},\"zerolinecolor\":\"#E1E5ED\"},\"xaxis8\":{\"anchor\":\"y8\",\"domain\":[0.7875,1.0],\"gridcolor\":\"#E1E5ED\",\"showgrid\":false,\"tickfont\":{\"color\":\"#4D5663\"},\"title\":{\"font\":{\"color\":\"#4D5663\"},\"text\":\"\"},\"zerolinecolor\":\"#E1E5ED\"},\"yaxis8\":{\"anchor\":\"x8\",\"domain\":[0.535,0.7325],\"gridcolor\":\"#E1E5ED\",\"showgrid\":false,\"tickfont\":{\"color\":\"#4D5663\"},\"title\":{\"font\":{\"color\":\"#4D5663\"},\"text\":\"\"},\"zerolinecolor\":\"#E1E5ED\"},\"xaxis9\":{\"anchor\":\"y9\",\"domain\":[0.0,0.2125],\"gridcolor\":\"#E1E5ED\",\"showgrid\":false,\"tickfont\":{\"color\":\"#4D5663\"},\"title\":{\"font\":{\"color\":\"#4D5663\"},\"text\":\"\"},\"zerolinecolor\":\"#E1E5ED\"},\"yaxis9\":{\"anchor\":\"x9\",\"domain\":[0.2675,0.465],\"gridcolor\":\"#E1E5ED\",\"showgrid\":false,\"tickfont\":{\"color\":\"#4D5663\"},\"title\":{\"font\":{\"color\":\"#4D5663\"},\"text\":\"\"},\"zerolinecolor\":\"#E1E5ED\"},\"xaxis10\":{\"anchor\":\"y10\",\"domain\":[0.2625,0.475],\"gridcolor\":\"#E1E5ED\",\"showgrid\":false,\"tickfont\":{\"color\":\"#4D5663\"},\"title\":{\"font\":{\"color\":\"#4D5663\"},\"text\":\"\"},\"zerolinecolor\":\"#E1E5ED\"},\"yaxis10\":{\"anchor\":\"x10\",\"domain\":[0.2675,0.465],\"gridcolor\":\"#E1E5ED\",\"showgrid\":false,\"tickfont\":{\"color\":\"#4D5663\"},\"title\":{\"font\":{\"color\":\"#4D5663\"},\"text\":\"\"},\"zerolinecolor\":\"#E1E5ED\"},\"xaxis11\":{\"anchor\":\"y11\",\"domain\":[0.525,0.7375],\"gridcolor\":\"#E1E5ED\",\"showgrid\":false,\"tickfont\":{\"color\":\"#4D5663\"},\"title\":{\"font\":{\"color\":\"#4D5663\"},\"text\":\"\"},\"zerolinecolor\":\"#E1E5ED\"},\"yaxis11\":{\"anchor\":\"x11\",\"domain\":[0.2675,0.465],\"gridcolor\":\"#E1E5ED\",\"showgrid\":false,\"tickfont\":{\"color\":\"#4D5663\"},\"title\":{\"font\":{\"color\":\"#4D5663\"},\"text\":\"\"},\"zerolinecolor\":\"#E1E5ED\"},\"xaxis12\":{\"anchor\":\"y12\",\"domain\":[0.7875,1.0],\"gridcolor\":\"#E1E5ED\",\"showgrid\":false,\"tickfont\":{\"color\":\"#4D5663\"},\"title\":{\"font\":{\"color\":\"#4D5663\"},\"text\":\"\"},\"zerolinecolor\":\"#E1E5ED\"},\"yaxis12\":{\"anchor\":\"x12\",\"domain\":[0.2675,0.465],\"gridcolor\":\"#E1E5ED\",\"showgrid\":false,\"tickfont\":{\"color\":\"#4D5663\"},\"title\":{\"font\":{\"color\":\"#4D5663\"},\"text\":\"\"},\"zerolinecolor\":\"#E1E5ED\"},\"xaxis13\":{\"anchor\":\"y13\",\"domain\":[0.0,0.2125],\"gridcolor\":\"#E1E5ED\",\"showgrid\":false,\"tickfont\":{\"color\":\"#4D5663\"},\"title\":{\"font\":{\"color\":\"#4D5663\"},\"text\":\"\"},\"zerolinecolor\":\"#E1E5ED\"},\"yaxis13\":{\"anchor\":\"x13\",\"domain\":[0.0,0.1975],\"gridcolor\":\"#E1E5ED\",\"showgrid\":false,\"tickfont\":{\"color\":\"#4D5663\"},\"title\":{\"font\":{\"color\":\"#4D5663\"},\"text\":\"\"},\"zerolinecolor\":\"#E1E5ED\"},\"xaxis14\":{\"anchor\":\"y14\",\"domain\":[0.2625,0.475],\"gridcolor\":\"#E1E5ED\",\"showgrid\":false,\"tickfont\":{\"color\":\"#4D5663\"},\"title\":{\"font\":{\"color\":\"#4D5663\"},\"text\":\"\"},\"zerolinecolor\":\"#E1E5ED\"},\"yaxis14\":{\"anchor\":\"x14\",\"domain\":[0.0,0.1975],\"gridcolor\":\"#E1E5ED\",\"showgrid\":false,\"tickfont\":{\"color\":\"#4D5663\"},\"title\":{\"font\":{\"color\":\"#4D5663\"},\"text\":\"\"},\"zerolinecolor\":\"#E1E5ED\"},\"xaxis15\":{\"anchor\":\"y15\",\"domain\":[0.525,0.7375],\"gridcolor\":\"#E1E5ED\",\"showgrid\":false,\"tickfont\":{\"color\":\"#4D5663\"},\"title\":{\"font\":{\"color\":\"#4D5663\"},\"text\":\"\"},\"zerolinecolor\":\"#E1E5ED\"},\"yaxis15\":{\"anchor\":\"x15\",\"domain\":[0.0,0.1975],\"gridcolor\":\"#E1E5ED\",\"showgrid\":false,\"tickfont\":{\"color\":\"#4D5663\"},\"title\":{\"font\":{\"color\":\"#4D5663\"},\"text\":\"\"},\"zerolinecolor\":\"#E1E5ED\"},\"xaxis16\":{\"anchor\":\"y16\",\"domain\":[0.7875,1.0],\"gridcolor\":\"#E1E5ED\",\"showgrid\":false,\"tickfont\":{\"color\":\"#4D5663\"},\"title\":{\"font\":{\"color\":\"#4D5663\"},\"text\":\"\"},\"zerolinecolor\":\"#E1E5ED\"},\"yaxis16\":{\"anchor\":\"x16\",\"domain\":[0.0,0.1975],\"gridcolor\":\"#E1E5ED\",\"showgrid\":false,\"tickfont\":{\"color\":\"#4D5663\"},\"title\":{\"font\":{\"color\":\"#4D5663\"},\"text\":\"\"},\"zerolinecolor\":\"#E1E5ED\"}},                        {\"showLink\": true, \"linkText\": \"Export to plot.ly\", \"plotlyServerURL\": \"https://plot.ly\", \"responsive\": true}                    ).then(function(){\n",
       "                            \n",
       "var gd = document.getElementById('402b3cb8-0e5c-4714-b4d0-14abdc47cc7a');\n",
       "var x = new MutationObserver(function (mutations, observer) {{\n",
       "        var display = window.getComputedStyle(gd).display;\n",
       "        if (!display || display === 'none') {{\n",
       "            console.log([gd, 'removed!']);\n",
       "            Plotly.purge(gd);\n",
       "            observer.disconnect();\n",
       "        }}\n",
       "}});\n",
       "\n",
       "// Listen for the removal of the full notebook cells\n",
       "var notebookContainer = gd.closest('#notebook-container');\n",
       "if (notebookContainer) {{\n",
       "    x.observe(notebookContainer, {childList: true});\n",
       "}}\n",
       "\n",
       "// Listen for the clearing of the current output cell\n",
       "var outputEl = gd.closest('.output');\n",
       "if (outputEl) {{\n",
       "    x.observe(outputEl, {childList: true});\n",
       "}}\n",
       "\n",
       "                        })                };                });            </script>        </div>"
      ]
     },
     "metadata": {},
     "output_type": "display_data"
    }
   ],
   "source": [
    "df1.scatter_matrix()"
   ]
  },
  {
   "cell_type": "code",
   "execution_count": null,
   "id": "b527b52d",
   "metadata": {},
   "outputs": [],
   "source": []
  }
 ],
 "metadata": {
  "kernelspec": {
   "display_name": "Python 3",
   "language": "python",
   "name": "python3"
  },
  "language_info": {
   "codemirror_mode": {
    "name": "ipython",
    "version": 3
   },
   "file_extension": ".py",
   "mimetype": "text/x-python",
   "name": "python",
   "nbconvert_exporter": "python",
   "pygments_lexer": "ipython3",
   "version": "3.8.8"
  }
 },
 "nbformat": 4,
 "nbformat_minor": 5
}
